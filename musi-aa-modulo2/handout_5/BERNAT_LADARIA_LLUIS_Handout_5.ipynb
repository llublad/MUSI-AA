{
 "cells": [
  {
   "cell_type": "markdown",
   "id": "0d8b8248-f384-4f51-bc5a-5bab117cb6b1",
   "metadata": {},
   "source": [
    "# Handout #5: Unsupervised Learning (optimization-based clustering)"
   ]
  },
  {
   "cell_type": "markdown",
   "id": "e88ccf29-e292-48c3-b2ba-038f9f58edd7",
   "metadata": {
    "tags": []
   },
   "source": [
    "## Problem 7"
   ]
  },
  {
   "cell_type": "markdown",
   "id": "3556520a-1a81-4906-8235-b1353ce5a717",
   "metadata": {},
   "source": [
    "### Definition of the crisp clustering function"
   ]
  },
  {
   "cell_type": "code",
   "execution_count": 22,
   "id": "d587400d-ca7a-4375-9796-0bd68cdd5996",
   "metadata": {},
   "outputs": [],
   "source": [
    "import numpy as np\n",
    "import random\n",
    "\n",
    "\n",
    "def proximity_sense():\n",
    "    # if the proximity function is a \n",
    "    # - dissimilarity metric (DM), must return the minimum function\n",
    "    # - simillarity metric (SM), must return the maximum function\n",
    "    \n",
    "    # we are working with a distance, \n",
    "    # so a dissimilarity metric must be assumed => min\n",
    "    \n",
    "    return min\n",
    "\n",
    "\n",
    "def get_best_cost_value(vector: np.ndarray) -> float:\n",
    "    # returns the best cost value from 'cost_list'\n",
    "    \n",
    "    # will get the minimum or maximum value\n",
    "    \n",
    "    sense_func = proximity_sense()\n",
    "    best_cost_value = sense_func(vector)\n",
    "    \n",
    "    return best_cost_value\n",
    "\n",
    "\n",
    "def get_best_cost_index_from(vector: np.ndarray) -> int:\n",
    "    # returns the position (zero indexed) of \n",
    "    # the minimum value or maximum value\n",
    "    # that cotains 'values_list'\n",
    "    \n",
    "    best_position = vector.index(get_best_cost_value(vector))\n",
    "    \n",
    "    return best_position\n",
    "    \n",
    "    \n",
    "def get_space_dimensions(X: np.ndarray) -> int:\n",
    "    # returns the numbers of components of the datapoints\n",
    "    # to classify\n",
    "    \n",
    "    if len(X.shape) == 2:\n",
    "        n_dimensions = X.shape[1]\n",
    "    else:\n",
    "        raise TypeError(\"'X' must be a 2 dimension array\")\n",
    "    return n_dimensions\n",
    "\n",
    "\n",
    "def get_initial_thetas(X: np.ndarray, M: int) -> np.ndarray:\n",
    "    # returns a random matrix of cluster centroids\n",
    "    #\n",
    "    # the matrix shape is M-rows x L-cols\n",
    "    # where M is the number of desired clusters\n",
    "    # and L is the datapoints dimensionality\n",
    "    \n",
    "    n_dimensions = get_space_dimensions(X=X)\n",
    "    \n",
    "    # define a zeroed array (to be populated)\n",
    "    thetas_array = np.zeros((M, n_dimensions), dtype=float)\n",
    "    \n",
    "    for j in range(n_dimensions):\n",
    "        x_min = min(X[:, j])\n",
    "        x_max = max(X[:, j])\n",
    "        for i in range(M):\n",
    "            thetas_array[i, j] = random.uniform(x_min, x_max)\n",
    "    \n",
    "    return thetas_array\n",
    "\n",
    "\n",
    "def proximity_func():\n",
    "    pass\n",
    "\n",
    "\n",
    "def proximity_partial():\n",
    "    pass\n",
    "\n",
    "\n",
    "def calc_membership(func, X: np.ndarray, thetas: np.ndarray) -> np.ndarray:\n",
    "    pass\n",
    "\n",
    "\n",
    "def calc_thetas(func, X: np.ndarray, membership: np.ndarray) -> np.ndarray:\n",
    "    \n",
    "    return get_initial_thetas(X, 3)  # TODO\n",
    "\n",
    "\n",
    "def calc_thetas_distance(new_thetas: np.ndarray, old_thetas: np.ndarray) -> float:\n",
    "    # return the euclidean distance between thetas vectors\n",
    "    #\n",
    "    thetas_delta = (new_thetas - old_thetas)\n",
    "    distance = np.linalg.norm(thetas_delta)\n",
    "    \n",
    "    return distance\n",
    "\n",
    "\n",
    "def calc_cost_value(X: np.ndarray, membership: np.ndarray, thetas: np.ndarray) -> float:\n",
    "    # return the cost function value\n",
    "    #\n",
    "    \n",
    "    cost_value = np.random.random(1)\n",
    "    \n",
    "    return cost_value\n",
    "\n",
    "\n",
    "def get_cluster_labels(thetas: np.ndarray) -> np.ndarray:\n",
    "    pass\n",
    "\n",
    "\n",
    "def do_crisp_clust(X: np.ndarray, M: int, n_iter: int , n_attempts: int, eps: float) -> list:\n",
    "    # X: datapoints to classify\n",
    "    # M: number of desired clusters\n",
    "    # n_iter: maximum number of iterations per attempt\n",
    "    # n_attempts: maximum number of attempts\n",
    "    # eps: stopping delta value\n",
    "    #\n",
    "    # returns the best clusters labels list,\n",
    "    # the best cluster theta vector and\n",
    "    # the best cost value history\n",
    "    # from the best attempt\n",
    "    \n",
    "    # CONSTANTS\n",
    "    #\n",
    "    LABELS_FIELD = 'cluster_labels'\n",
    "    THETAS_FIELD = 'theta_vector'\n",
    "    COST_HIST_FIELD = 'cost_history'\n",
    "    BEST_COST_FIELD = 'best_cost'\n",
    "    \n",
    "    # VARIABLES\n",
    "    #\n",
    "    \n",
    "    # an empty list to store each attempt\n",
    "    #\n",
    "    attempt_list = list()\n",
    "    \n",
    "    # what is the cluster dimensionality\n",
    "    #\n",
    "    n_dimensions = get_space_dimensions(X=X)\n",
    "    \n",
    "    for attempt in range(n_attempts):\n",
    "        \n",
    "        # theta values initialization\n",
    "        #\n",
    "        thetas = get_initial_thetas(X=X, M=M)\n",
    "        \n",
    "        # cost function value history vector\n",
    "        #\n",
    "        cost_value_history = np.empty(0, dtype=float)\n",
    "        \n",
    "        # delta criteria finalization\n",
    "        #\n",
    "        delta = eps\n",
    "\n",
    "        # iterations counter\n",
    "        #\n",
    "        it = 0\n",
    "\n",
    "        # will iterate until n_iterations are exhausted or \n",
    "        # cost function value variation is above epsilon value\n",
    "        #\n",
    "        while it < n_iter and delta >= eps:\n",
    "            \n",
    "            # calc membership matrix\n",
    "            #\n",
    "            membership = calc_membership(\n",
    "                func=proximity_func, \n",
    "                X=X, \n",
    "                thetas=thetas)\n",
    "            \n",
    "            # calculate next clusters centroids\n",
    "            #\n",
    "            old_thetas = thetas\n",
    "            thetas = calc_thetas(\n",
    "                func=proximity_partial, \n",
    "                X=X, \n",
    "                membership=membership)\n",
    "            \n",
    "            # calculate thetas delta\n",
    "            #\n",
    "            delta = calc_thetas_distance(\n",
    "                new_thetas=thetas, \n",
    "                old_thetas=old_thetas)\n",
    "            \n",
    "            # calculate cost function value\n",
    "            #\n",
    "            cost_value = calc_cost_value(\n",
    "                X=X, \n",
    "                membership=membership, \n",
    "                thetas=thetas)\n",
    "            \n",
    "            cost_value_history = np.append(\n",
    "                cost_value_history, cost_value)\n",
    "            \n",
    "            # go to next try\n",
    "            #\n",
    "            it += 1\n",
    "        \n",
    "        # save results\n",
    "        #\n",
    "        best_cost_value = get_best_cost_value(\n",
    "            vector=cost_value_history)\n",
    "        \n",
    "        cluster_labels = get_cluster_labels(thetas=thetas)\n",
    "        \n",
    "        new_entry = {\n",
    "            LABELS_FIELD: cluster_labels,\n",
    "            THETAS_FIELD: thetas,\n",
    "            COST_HIST_FIELD: cost_value_history,\n",
    "            BEST_COST_FIELD: best_cost_value\n",
    "        }\n",
    "        \n",
    "        attempt_list.append(new_entry)\n",
    "        \n",
    "    # Select the best attempt\n",
    "    #\n",
    "    best_cost_value = None\n",
    "    for attempt_entry in attempt_list:\n",
    "        if best_cost_value is None or get_best_cost_index_from([attempt_entry[BEST_COST_FIELD], best_cost_value]) == 0:\n",
    "            \n",
    "            best_cluster_labels = attempt_entry[LABELS_FIELD]\n",
    "            best_theta_vector = attempt_entry[THETAS_FIELD]\n",
    "            best_cost_value_history = attempt_entry[COST_HIST_FIELD]\n",
    "            best_cost_value = attempt_entry[BEST_COST_FIELD]\n",
    "            \n",
    "    return best_cluster_labels, best_theta_vector, best_cost_value_history"
   ]
  },
  {
   "cell_type": "markdown",
   "id": "64be1a49-640e-4c02-8927-bc0039e57f6f",
   "metadata": {},
   "source": [
    "Load needed libraries"
   ]
  },
  {
   "cell_type": "code",
   "execution_count": 2,
   "id": "7dd342d5-2831-4289-a418-9b925b4f4465",
   "metadata": {},
   "outputs": [],
   "source": [
    "import numpy as np"
   ]
  },
  {
   "cell_type": "markdown",
   "id": "f37b8ea6-e216-4836-95ee-b148732db429",
   "metadata": {
    "tags": []
   },
   "source": [
    "### Load the *dataset*"
   ]
  },
  {
   "cell_type": "markdown",
   "id": "53229836-898f-4c02-943e-b148b46474fa",
   "metadata": {},
   "source": [
    "Our group is '01'"
   ]
  },
  {
   "cell_type": "code",
   "execution_count": 3,
   "id": "9ee66ec8-16c8-4f94-8ed0-672dac4c9212",
   "metadata": {},
   "outputs": [],
   "source": [
    "group = '01'  # BERNAT LADARIA, Lluís\n",
    "ds = 7"
   ]
  },
  {
   "cell_type": "markdown",
   "id": "4b23aec9-8e96-4a38-9ae4-773b02e20e7f",
   "metadata": {
    "tags": []
   },
   "source": [
    "Load vectors from file"
   ]
  },
  {
   "cell_type": "code",
   "execution_count": 4,
   "id": "429df42c-4efc-4a77-ae3a-85eb875865a0",
   "metadata": {},
   "outputs": [],
   "source": [
    "data = np.loadtxt('ds'+group+str(ds)+'.txt')"
   ]
  },
  {
   "cell_type": "markdown",
   "id": "4ee3e667-1ef5-497b-932a-7ffb3b66b1ea",
   "metadata": {},
   "source": [
    "Split data and labels"
   ]
  },
  {
   "cell_type": "code",
   "execution_count": 5,
   "id": "9d203342-e669-4b7b-bc56-f02be83287c7",
   "metadata": {},
   "outputs": [],
   "source": [
    "X = data[:, 0:2]\n",
    "y = data[:, 2]"
   ]
  },
  {
   "cell_type": "markdown",
   "id": "f28b55fc-019c-4053-bacc-dba2ed095dbb",
   "metadata": {},
   "source": [
    "How many vectors we have to classify?"
   ]
  },
  {
   "cell_type": "code",
   "execution_count": 6,
   "id": "7af55de9-3095-4e8c-a22a-13a960798136",
   "metadata": {},
   "outputs": [
    {
     "data": {
      "text/plain": [
       "(300, 2)"
      ]
     },
     "execution_count": 6,
     "metadata": {},
     "output_type": "execute_result"
    }
   ],
   "source": [
    "X.shape"
   ]
  },
  {
   "cell_type": "markdown",
   "id": "650be5ed-7ad2-43d6-94f4-3d911efb52a7",
   "metadata": {},
   "source": [
    "How many classes?"
   ]
  },
  {
   "cell_type": "code",
   "execution_count": 7,
   "id": "80fba1bd-b936-4caa-b42b-5a56cda42760",
   "metadata": {},
   "outputs": [
    {
     "data": {
      "text/plain": [
       "array([0., 1., 2.])"
      ]
     },
     "execution_count": 7,
     "metadata": {},
     "output_type": "execute_result"
    }
   ],
   "source": [
    "y_classes = np.unique(y)\n",
    "y_classes"
   ]
  },
  {
   "cell_type": "markdown",
   "id": "e8390d04-1ff9-4e8b-9170-56a6620cae01",
   "metadata": {},
   "source": [
    "We have a 3 classes classification problem"
   ]
  },
  {
   "cell_type": "markdown",
   "id": "60bf60b4-db3b-4c65-b94e-b1351a7e7918",
   "metadata": {},
   "source": [
    "### Cluster the data"
   ]
  },
  {
   "cell_type": "markdown",
   "id": "ed0c25dd-8173-463b-a3f8-8bbfb03fe8f4",
   "metadata": {
    "tags": []
   },
   "source": [
    "Import necessary functions and classes"
   ]
  },
  {
   "cell_type": "code",
   "execution_count": 8,
   "id": "80cdbbca-ead4-4138-b0ac-b76a9d19846f",
   "metadata": {},
   "outputs": [],
   "source": [
    "from sklearn.metrics import v_measure_score\n",
    "from sklearn.metrics.cluster import contingency_matrix"
   ]
  },
  {
   "cell_type": "code",
   "execution_count": 9,
   "id": "72938a6e-c411-4515-bbea-cb5071a61cde",
   "metadata": {},
   "outputs": [],
   "source": [
    "import itertools\n",
    "import matplotlib.pyplot as plt\n",
    "import matplotlib.colors as col"
   ]
  },
  {
   "cell_type": "markdown",
   "id": "958551c5-d7d0-4561-9509-18c52be230f2",
   "metadata": {},
   "source": [
    "Initialization"
   ]
  },
  {
   "cell_type": "code",
   "execution_count": 10,
   "id": "4c0e0624-5186-4f76-8255-8cdff0ac8269",
   "metadata": {},
   "outputs": [],
   "source": [
    "M = 3\n",
    "n_iter = 20\n",
    "n_attempts = 5\n",
    "eps = 1e-3"
   ]
  },
  {
   "cell_type": "markdown",
   "id": "1875cb10-b2e9-4a14-a0e8-c26fb4085b2d",
   "metadata": {
    "tags": []
   },
   "source": [
    "Cluster it!"
   ]
  },
  {
   "cell_type": "code",
   "execution_count": 23,
   "id": "9759a551-80d6-4a9f-b334-b4746d288ec7",
   "metadata": {},
   "outputs": [],
   "source": [
    "random.seed(42)\n",
    "\n",
    "[best_cluster_labels, best_theta_vector, cost_value_history] = \\\n",
    "    do_crisp_clust(X=X, M=M, n_iter=n_iter, n_attempts=n_attempts, eps=eps)"
   ]
  },
  {
   "cell_type": "code",
   "execution_count": 24,
   "id": "81147799-fada-49f3-a91a-2dc136270c1e",
   "metadata": {},
   "outputs": [
    {
     "data": {
      "text/plain": [
       "[<matplotlib.lines.Line2D at 0x7f021eedad50>]"
      ]
     },
     "execution_count": 24,
     "metadata": {},
     "output_type": "execute_result"
    },
    {
     "data": {
      "image/png": "[encoded data removed]",
      "text/plain": [
       "<Figure size 432x288 with 1 Axes>"
      ]
     },
     "metadata": {
      "needs_background": "light"
     },
     "output_type": "display_data"
    }
   ],
   "source": [
    "plt.title(\"Best attempt, cost function history\")\n",
    "plt.xlabel(\"Iteration\")\n",
    "plt.ylabel(\"Cost function value\")\n",
    "xticks_list = range(0, n_iter, 5)\n",
    "plt.xticks(xticks_list)\n",
    "plt.plot(cost_value_history)"
   ]
  },
  {
   "cell_type": "code",
   "execution_count": null,
   "id": "3cba9868-c017-4793-9b9f-88f359e5f3b2",
   "metadata": {},
   "outputs": [],
   "source": []
  }
 ],
 "metadata": {
  "kernelspec": {
   "display_name": "musi-aa",
   "language": "python",
   "name": "musi-aa"
  },
  "language_info": {
   "codemirror_mode": {
    "name": "ipython",
    "version": 3
   },
   "file_extension": ".py",
   "mimetype": "text/x-python",
   "name": "python",
   "nbconvert_exporter": "python",
   "pygments_lexer": "ipython3",
   "version": "3.7.11"
  }
 },
 "nbformat": 4,
 "nbformat_minor": 5
}
