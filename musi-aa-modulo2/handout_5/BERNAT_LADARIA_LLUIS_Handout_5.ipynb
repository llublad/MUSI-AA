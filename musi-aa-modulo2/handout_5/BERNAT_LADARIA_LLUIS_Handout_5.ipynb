{
 "cells": [
  {
   "cell_type": "markdown",
   "id": "0d8b8248-f384-4f51-bc5a-5bab117cb6b1",
   "metadata": {},
   "source": [
    "# Handout #5: Unsupervised Learning (optimization-based clustering)"
   ]
  },
  {
   "cell_type": "markdown",
   "id": "e88ccf29-e292-48c3-b2ba-038f9f58edd7",
   "metadata": {
    "tags": []
   },
   "source": [
    "## Problem 7"
   ]
  },
  {
   "cell_type": "markdown",
   "id": "3556520a-1a81-4906-8235-b1353ce5a717",
   "metadata": {},
   "source": [
    "### Definition of the clustering function"
   ]
  },
  {
   "cell_type": "markdown",
   "id": "b4d33475-aeb2-45b2-b7a6-9a21acc5df13",
   "metadata": {},
   "source": [
    "We will develop two clustering functions. \n",
    "One for *crisp* and other for *fuzzy* clustering."
   ]
  },
  {
   "cell_type": "code",
   "execution_count": 1,
   "id": "0c72c1a1-b91a-46f7-b289-1725cdf0d67c",
   "metadata": {},
   "outputs": [],
   "source": [
    "import numpy as np\n",
    "import random\n",
    "\n",
    "\n",
    "def proximity_sense():\n",
    "    # if the proximity function is a \n",
    "    # - dissimilarity metric (DM), must return the minimum function\n",
    "    # - simillarity metric (SM), must return the maximum function\n",
    "    \n",
    "    # we are working with a distance, \n",
    "    # so a dissimilarity metric must be assumed and \n",
    "    # return the min() function\n",
    "    \n",
    "    return min\n",
    "\n",
    "\n",
    "def get_best_value(vector: np.ndarray) -> float:\n",
    "    # returns the best value from 'vector'\n",
    "    \n",
    "    # will get the minimum or maximum value \n",
    "    # according to the DM or SM\n",
    "    #\n",
    "    sense_func = proximity_sense()\n",
    "    best_value = sense_func(vector)\n",
    "    \n",
    "    return best_value\n",
    "\n",
    "\n",
    "def get_best_index_from(vector: np.ndarray) -> int:\n",
    "    # returns the position (zero indexed) of \n",
    "    # the minimum value or maximum value\n",
    "    # that cotains 'vector' array\n",
    "    \n",
    "    if type(vector) != np.ndarray: \n",
    "        raise TypeError(\"'vector' must be a numpy array\")\n",
    "        \n",
    "    best_position = np.where(vector == get_best_value(vector))[0][0]\n",
    "    \n",
    "    return best_position\n",
    "    \n",
    "    \n",
    "def get_initial_thetas(X: np.ndarray, M: int) -> np.ndarray:\n",
    "    # returns a random matrix of cluster definitions\n",
    "    \n",
    "    # test if we have sufficient datapoints\n",
    "    #\n",
    "    n_datapoints = len(X)\n",
    "    \n",
    "    if n_datapoints < M:\n",
    "        raise ValueError(\"Insufficient number of datapoints\")\n",
    "    \n",
    "    \n",
    "    # as we can define the cluster by its radius, \n",
    "    # the matrix shape is M x 1\n",
    "    # where M is the number of desired clusters\n",
    "    #\n",
    "    # to select the cluster's radius, \n",
    "    # will select M random datapoints and use \n",
    "    # its radius as the cluster one\n",
    "    # \n",
    "    # we think its a very fast initialization method, \n",
    "    # but the drawback is that is not assured that\n",
    "    # the M selected values have an uniform distribution\n",
    "    # over the radius value space\n",
    "    # we also verify that there aren't repeated values\n",
    "    #\n",
    "    radius_list = list()\n",
    "    \n",
    "    for j in range(M):\n",
    "        rand_index = random.randint(a=0, b=n_datapoints - 1)\n",
    "        radius = np.linalg.norm(X[rand_index])\n",
    "        while radius in radius_list:\n",
    "            rand_index = random.randint(a=0, b=n_datapoints - 1)\n",
    "            radius = np.linalg.norm(X[rand_index])\n",
    "        radius_list.append([radius])\n",
    "    \n",
    "    # sort list to try to get clusters ordered by their radius\n",
    "    radius_list.sort()\n",
    "    \n",
    "    thetas = np.array(radius_list, dtype=float)\n",
    "    \n",
    "    return thetas\n",
    "\n",
    "\n",
    "def proximity_func(datapoint: np.ndarray, theta: np.ndarray) -> float:\n",
    "    # return the squared distance between \n",
    "    # 'datapoint' and cluster radius\n",
    "    #\n",
    "    # 'theta' is a ... say 'one dimension vector' \n",
    "    # containing cluster radius,\n",
    "    # cause only the radius is needed to describe the cluster\n",
    "    # due to it's centered at axes origin\n",
    "    \n",
    "    datapoint_norm = np.linalg.norm(datapoint)\n",
    "    \n",
    "    distance1 = datapoint_norm - theta[0]\n",
    "    distance2 = distance1 * distance1 \n",
    "    \n",
    "    return distance2\n",
    "\n",
    "\n",
    "def calc_membership_at(method: str, cluster_num: int, vector: np.ndarray) -> float:\n",
    "    # return membership level of a datapoint to 'cluster_num'\n",
    "    # according to the proximity values that 'vector' cotains\n",
    "\n",
    "    if method == 'crisp':\n",
    "        value = get_best_value(vector)\n",
    "        if cluster_num == np.where(vector == value)[0][0]:\n",
    "            level = 1.\n",
    "        else:\n",
    "            level = 0.\n",
    "    elif method == 'fuzzy':\n",
    "        level = 1.\n",
    "        # TODO\n",
    "    else:\n",
    "        raise ValueError(\"only 'crisp' or 'fuzzy' clustering modes supported\")\n",
    "    \n",
    "    return level\n",
    "\n",
    "\n",
    "def calc_membership(method: str, func, X: np.ndarray, thetas: np.ndarray) -> np.ndarray:\n",
    "    # return membership array\n",
    "    #\n",
    "    \n",
    "    n_datapoints = len(X)\n",
    "    n_clusters = len(thetas)\n",
    "    \n",
    "    membership = np.empty((n_datapoints, n_clusters), dtype=int)\n",
    "    \n",
    "    for i in range(n_datapoints):\n",
    "        \n",
    "        proximity_vector = np.empty(n_clusters, dtype=float)\n",
    "        \n",
    "        # populate proximity_vector\n",
    "        #\n",
    "        for j in range(n_clusters):\n",
    "            proximity_vector[j] = proximity_func(X[i], thetas[j])\n",
    "        \n",
    "        # compute membership\n",
    "        #\n",
    "        for j in range(n_clusters):\n",
    "            membership[i, j] = calc_membership_at(\n",
    "                method=method,\n",
    "                cluster_num=j, \n",
    "                vector=proximity_vector)\n",
    "    \n",
    "    return membership\n",
    "    \n",
    "\n",
    "def calc_cluster_radius(cluster_num: int, X: np.ndarray, U: np.ndarray) -> float:\n",
    "    # return the (next) cluster radius\n",
    "    #\n",
    "    \n",
    "    n_datapoints = len(X)\n",
    "    \n",
    "    momentum = 0.\n",
    "    weight = 0.\n",
    "        \n",
    "    for i in range(n_datapoints):\n",
    "            \n",
    "        u_ij = U[i, cluster_num]\n",
    "        x_i = X[i]\n",
    "        x_i_norm = np.linalg.norm(x_i)\n",
    "        momentum += u_ij * x_i_norm\n",
    "        weight += u_ij\n",
    "            \n",
    "    radius = momentum / weight\n",
    "    \n",
    "    return radius\n",
    "\n",
    "\n",
    "def calc_thetas(X: np.ndarray, M: int, U: np.ndarray) -> np.ndarray:\n",
    "    # return new clusters definition array (thetas)\n",
    "    # based on actual membership values\n",
    "    \n",
    "    n_datapoints = len(X)\n",
    "    theta_list = list()\n",
    "    \n",
    "    for j in range(M):\n",
    "        \n",
    "        radius = calc_cluster_radius(\n",
    "            cluster_num=j, X=X, U=U)\n",
    "\n",
    "        theta_list.append([radius])\n",
    "    \n",
    "    thetas = np.array(theta_list, dtype=float)\n",
    "                    \n",
    "    return thetas\n",
    "\n",
    "\n",
    "def calc_thetas_distance(new_thetas: np.ndarray, old_thetas: np.ndarray) -> float:\n",
    "    # return the euclidean distance between \n",
    "    # cluster definition vectors \n",
    "    # (the theta vectors)\n",
    "    #\n",
    "    \n",
    "    thetas_delta = (new_thetas - old_thetas)\n",
    "    distance = np.linalg.norm(thetas_delta)\n",
    "    \n",
    "    return distance\n",
    "\n",
    "\n",
    "def calc_cost_value(X: np.ndarray, M:int, U: np.ndarray, thetas: np.ndarray) -> float:\n",
    "    # return the cost function value\n",
    "    #\n",
    "    \n",
    "    n_datapoints = len(X)\n",
    "    \n",
    "    cost_value = 0.\n",
    "    \n",
    "    for i in range(n_datapoints):\n",
    "        \n",
    "        for j in range(M):\n",
    "            \n",
    "            u_ij = U[i, j]\n",
    "            proximity = proximity_func(X[i], thetas[j])\n",
    "            cost_value += u_ij * proximity\n",
    "    \n",
    "    return cost_value\n",
    "\n",
    "\n",
    "def get_cluster_labels(U: np.ndarray) -> np.ndarray:\n",
    "    # return the obtained clustering labels\n",
    "    #\n",
    "\n",
    "    labels_list = list()\n",
    "    \n",
    "    for tupl in U:\n",
    "        \n",
    "        label = np.argmax(tupl)\n",
    "        labels_list.append(label)\n",
    "        \n",
    "    labels = np.array(labels_list, dtype=int)\n",
    "    \n",
    "    return labels"
   ]
  },
  {
   "cell_type": "code",
   "execution_count": 2,
   "id": "7df5a72e-77f3-4d43-a9cb-5de6b46ebc6c",
   "metadata": {},
   "outputs": [],
   "source": [
    "def do_clustering(X: np.ndarray, M: int, n_iter: int , n_attempts: int, eps: float, \n",
    "                  method: str='crisp', q: float=1.0) -> list:\n",
    "    # X: datapoints to classify\n",
    "    # M: number of desired clusters\n",
    "    # n_iter: maximum number of iterations per attempt\n",
    "    # n_attempts: maximum number of attempts\n",
    "    # eps: stopping delta value\n",
    "    # method: the desired methodology, \n",
    "    #     valid values are  'crisp' and 'fuzzy'\n",
    "    # q: the fuzzifier coeficient (in case 'fuzzy' method is selected)\n",
    "    #\n",
    "    # returns the best clusters labels list,\n",
    "    # the best cluster theta vector and\n",
    "    # the best cost value history\n",
    "    # from the best attempt\n",
    "    \n",
    "    # CONSTANTS\n",
    "    #\n",
    "    LABELS_FIELD = 'cluster_labels'\n",
    "    THETAS_FIELD = 'theta_vector'\n",
    "    COST_HIST_FIELD = 'cost_history'\n",
    "    BEST_COST_FIELD = 'best_cost'\n",
    "    \n",
    "    # VARIABLES\n",
    "    #\n",
    "    \n",
    "    # an empty list to store each attempt\n",
    "    #\n",
    "    attempt_list = list()\n",
    "    \n",
    "    for attempt in range(n_attempts):\n",
    "        \n",
    "        # theta values initialization\n",
    "        #\n",
    "        thetas = get_initial_thetas(X=X, M=M)\n",
    "        \n",
    "        # cost function value history vector\n",
    "        #\n",
    "        cost_value_history = np.empty(0, dtype=float)\n",
    "        \n",
    "        # delta criteria finalization\n",
    "        #\n",
    "        delta = eps\n",
    "\n",
    "        # iterations counter\n",
    "        #\n",
    "        it = 0\n",
    "\n",
    "        # will iterate until n_iterations are exhausted or \n",
    "        # cost function value variation is above epsilon value\n",
    "        #\n",
    "        while it < n_iter and delta >= eps:\n",
    "            \n",
    "            # calc membership matrix\n",
    "            #\n",
    "            U = calc_membership(\n",
    "                method=method,\n",
    "                func=proximity_func, \n",
    "                X=X, \n",
    "                thetas=thetas)\n",
    "            \n",
    "            # calculate next clusters centroids\n",
    "            #\n",
    "            old_thetas = thetas\n",
    "            thetas = calc_thetas(\n",
    "                X=X, M=M, U=U)\n",
    "            \n",
    "            # calculate thetas delta\n",
    "            #\n",
    "            delta = calc_thetas_distance(\n",
    "                new_thetas=thetas, \n",
    "                old_thetas=old_thetas)\n",
    "            \n",
    "            # calculate cost function value\n",
    "            #\n",
    "            cost_value = calc_cost_value(\n",
    "                X=X, M=M, U=U, thetas=thetas)\n",
    "            \n",
    "            cost_value_history = np.append(\n",
    "                cost_value_history, cost_value)\n",
    "            \n",
    "            # go to next try\n",
    "            #\n",
    "            it += 1\n",
    "        \n",
    "        # save results\n",
    "        #\n",
    "        best_cost_value = get_best_value(\n",
    "            vector=cost_value_history)\n",
    "        \n",
    "        cluster_labels = get_cluster_labels(U=U)\n",
    "        \n",
    "        new_entry = {\n",
    "            LABELS_FIELD: cluster_labels,\n",
    "            THETAS_FIELD: thetas,\n",
    "            COST_HIST_FIELD: cost_value_history,\n",
    "            BEST_COST_FIELD: best_cost_value\n",
    "        }\n",
    "        \n",
    "        attempt_list.append(new_entry)\n",
    "        \n",
    "    # Select the best attempt\n",
    "    #\n",
    "    best_cost_value = None\n",
    "    for attempt_entry in attempt_list:\n",
    "        if best_cost_value is None or get_best_index_from(np.array([attempt_entry[BEST_COST_FIELD], best_cost_value])) == 0:\n",
    "            \n",
    "            best_cluster_labels = attempt_entry[LABELS_FIELD]\n",
    "            best_theta_vector = attempt_entry[THETAS_FIELD]\n",
    "            best_cost_value_history = attempt_entry[COST_HIST_FIELD]\n",
    "            best_cost_value = attempt_entry[BEST_COST_FIELD]\n",
    "            \n",
    "    return best_cluster_labels, best_theta_vector, best_cost_value_history"
   ]
  },
  {
   "cell_type": "code",
   "execution_count": 3,
   "id": "4a8de620-7ed6-4c8e-880d-cbf9df906dab",
   "metadata": {},
   "outputs": [],
   "source": [
    "def do_crisp_clust(X: np.ndarray, M: int, n_iter: int, n_attempts: int, eps: float) -> list:\n",
    "    # X: datapoints to classify\n",
    "    # M: number of desired clusters\n",
    "    # n_iter: maximum number of iterations per attempt\n",
    "    # n_attempts: maximum number of attempts\n",
    "    # eps: stopping delta value\n",
    "    #\n",
    "    # returns the best clusters labels list,\n",
    "    # the best cluster theta vector and\n",
    "    # the best cost value history\n",
    "    # from the best attempt\n",
    "    \n",
    "    li = do_clustering(\n",
    "        X=X, M=M, n_iter=n_iter, n_attempts=n_attempts, eps=eps, \n",
    "        method='crisp')\n",
    "    \n",
    "    return li"
   ]
  },
  {
   "cell_type": "code",
   "execution_count": 4,
   "id": "850d5504-cc1f-48e0-95eb-e4baeba11185",
   "metadata": {},
   "outputs": [],
   "source": [
    "def do_fuzzy_clust(X: np.ndarray, M: int, n_iter: int, n_attempts: int, eps: float, q: float) -> list:\n",
    "    # X: datapoints to classify\n",
    "    # M: number of desired clusters\n",
    "    # n_iter: maximum number of iterations per attempt\n",
    "    # n_attempts: maximum number of attempts\n",
    "    # eps: stopping delta value\n",
    "    # q: the fuzzifier coeficient\n",
    "    #\n",
    "    # returns the best clusters labels list,\n",
    "    # the best cluster theta vector and\n",
    "    # the best cost value history\n",
    "    # from the best attempt\n",
    "    # using Fuzzy c-Means algorithm\n",
    "    \n",
    "    li = do_clustering(\n",
    "        X=X, M=M, n_iter=n_iter, n_attempts=n_attempts, eps=eps, \n",
    "        method='fuzzy', q=q)\n",
    "    \n",
    "    return li"
   ]
  },
  {
   "cell_type": "markdown",
   "id": "64be1a49-640e-4c02-8927-bc0039e57f6f",
   "metadata": {},
   "source": [
    "Load needed libraries"
   ]
  },
  {
   "cell_type": "code",
   "execution_count": 5,
   "id": "7dd342d5-2831-4289-a418-9b925b4f4465",
   "metadata": {},
   "outputs": [],
   "source": [
    "import numpy as np"
   ]
  },
  {
   "cell_type": "markdown",
   "id": "f37b8ea6-e216-4836-95ee-b148732db429",
   "metadata": {
    "tags": []
   },
   "source": [
    "### Load the *dataset*"
   ]
  },
  {
   "cell_type": "markdown",
   "id": "53229836-898f-4c02-943e-b148b46474fa",
   "metadata": {},
   "source": [
    "Our group is '01'"
   ]
  },
  {
   "cell_type": "code",
   "execution_count": 6,
   "id": "9ee66ec8-16c8-4f94-8ed0-672dac4c9212",
   "metadata": {},
   "outputs": [],
   "source": [
    "group = '01'  # BERNAT LADARIA, Lluís\n",
    "ds = 7"
   ]
  },
  {
   "cell_type": "markdown",
   "id": "4b23aec9-8e96-4a38-9ae4-773b02e20e7f",
   "metadata": {
    "tags": []
   },
   "source": [
    "Load vectors from file"
   ]
  },
  {
   "cell_type": "code",
   "execution_count": 7,
   "id": "429df42c-4efc-4a77-ae3a-85eb875865a0",
   "metadata": {},
   "outputs": [],
   "source": [
    "data = np.loadtxt('ds'+group+str(ds)+'.txt')"
   ]
  },
  {
   "cell_type": "markdown",
   "id": "4ee3e667-1ef5-497b-932a-7ffb3b66b1ea",
   "metadata": {},
   "source": [
    "Split data and labels"
   ]
  },
  {
   "cell_type": "code",
   "execution_count": 8,
   "id": "9d203342-e669-4b7b-bc56-f02be83287c7",
   "metadata": {},
   "outputs": [],
   "source": [
    "X = data[:, 0:2]\n",
    "y = data[:, 2]"
   ]
  },
  {
   "cell_type": "markdown",
   "id": "f28b55fc-019c-4053-bacc-dba2ed095dbb",
   "metadata": {},
   "source": [
    "How many vectors we have to classify?"
   ]
  },
  {
   "cell_type": "code",
   "execution_count": 9,
   "id": "7af55de9-3095-4e8c-a22a-13a960798136",
   "metadata": {},
   "outputs": [
    {
     "data": {
      "text/plain": [
       "(300, 2)"
      ]
     },
     "execution_count": 9,
     "metadata": {},
     "output_type": "execute_result"
    }
   ],
   "source": [
    "X.shape"
   ]
  },
  {
   "cell_type": "markdown",
   "id": "650be5ed-7ad2-43d6-94f4-3d911efb52a7",
   "metadata": {},
   "source": [
    "How many classes?"
   ]
  },
  {
   "cell_type": "code",
   "execution_count": 10,
   "id": "80fba1bd-b936-4caa-b42b-5a56cda42760",
   "metadata": {},
   "outputs": [
    {
     "data": {
      "text/plain": [
       "array([0., 1., 2.])"
      ]
     },
     "execution_count": 10,
     "metadata": {},
     "output_type": "execute_result"
    }
   ],
   "source": [
    "y_classes = np.unique(y)\n",
    "y_classes"
   ]
  },
  {
   "cell_type": "markdown",
   "id": "e8390d04-1ff9-4e8b-9170-56a6620cae01",
   "metadata": {},
   "source": [
    "We have a 3 classes classification problem"
   ]
  },
  {
   "cell_type": "markdown",
   "id": "60bf60b4-db3b-4c65-b94e-b1351a7e7918",
   "metadata": {},
   "source": [
    "### Cluster the data"
   ]
  },
  {
   "cell_type": "markdown",
   "id": "ed0c25dd-8173-463b-a3f8-8bbfb03fe8f4",
   "metadata": {
    "tags": []
   },
   "source": [
    "Import necessary functions and classes"
   ]
  },
  {
   "cell_type": "code",
   "execution_count": 11,
   "id": "80cdbbca-ead4-4138-b0ac-b76a9d19846f",
   "metadata": {},
   "outputs": [],
   "source": [
    "from sklearn.metrics import v_measure_score\n",
    "from sklearn.metrics.cluster import contingency_matrix"
   ]
  },
  {
   "cell_type": "code",
   "execution_count": 12,
   "id": "72938a6e-c411-4515-bbea-cb5071a61cde",
   "metadata": {},
   "outputs": [],
   "source": [
    "import itertools\n",
    "import matplotlib.pyplot as plt\n",
    "import matplotlib.colors as col"
   ]
  },
  {
   "cell_type": "markdown",
   "id": "958551c5-d7d0-4561-9509-18c52be230f2",
   "metadata": {},
   "source": [
    "Initialization"
   ]
  },
  {
   "cell_type": "code",
   "execution_count": 13,
   "id": "4c0e0624-5186-4f76-8255-8cdff0ac8269",
   "metadata": {},
   "outputs": [],
   "source": [
    "M = 3\n",
    "n_iter = 20\n",
    "n_attempts = 5\n",
    "eps = 1e-3"
   ]
  },
  {
   "cell_type": "markdown",
   "id": "1875cb10-b2e9-4a14-a0e8-c26fb4085b2d",
   "metadata": {
    "tags": []
   },
   "source": [
    "Cluster it!"
   ]
  },
  {
   "cell_type": "code",
   "execution_count": 14,
   "id": "9759a551-80d6-4a9f-b334-b4746d288ec7",
   "metadata": {},
   "outputs": [],
   "source": [
    "random.seed(1122)\n",
    "\n",
    "[best_cluster_labels, best_theta_vector, cost_value_history] = \\\n",
    "    do_crisp_clust(X=X, M=M, n_iter=n_iter, n_attempts=n_attempts, eps=eps)"
   ]
  },
  {
   "cell_type": "code",
   "execution_count": 15,
   "id": "81147799-fada-49f3-a91a-2dc136270c1e",
   "metadata": {},
   "outputs": [
    {
     "data": {
      "text/plain": [
       "[<matplotlib.lines.Line2D at 0x7fb2e3806b10>]"
      ]
     },
     "execution_count": 15,
     "metadata": {},
     "output_type": "execute_result"
    },
    {
     "data": {
      "image/png": "[encoded data removed]",
      "text/plain": [
       "<Figure size 432x288 with 1 Axes>"
      ]
     },
     "metadata": {
      "needs_background": "light"
     },
     "output_type": "display_data"
    }
   ],
   "source": [
    "plt.title(\"Best attempt, cost function history\")\n",
    "plt.xlabel(\"Iteration\")\n",
    "plt.ylabel(\"Cost function value\")\n",
    "xticks_list = range(0, n_iter, 1)\n",
    "plt.xticks(xticks_list)\n",
    "plt.plot(cost_value_history)"
   ]
  },
  {
   "cell_type": "code",
   "execution_count": 16,
   "id": "9cbee088-9a36-4131-98b0-816d0572854d",
   "metadata": {},
   "outputs": [],
   "source": [
    "paleta = col.LinearSegmentedColormap.from_list(\n",
    "        'my_colors', ['#ff0000', '#00ff00', '#0000ff'])"
   ]
  },
  {
   "cell_type": "code",
   "execution_count": 17,
   "id": "f22a1965-2268-4310-a8e1-8fffb1168bbb",
   "metadata": {},
   "outputs": [
    {
     "data": {
      "text/plain": [
       "<matplotlib.legend.Legend at 0x7fb2e36b4390>"
      ]
     },
     "execution_count": 17,
     "metadata": {},
     "output_type": "execute_result"
    },
    {
     "data": {
      "image/png": "[encoded data removed]",
      "text/plain": [
       "<Figure size 1152x576 with 2 Axes>"
      ]
     },
     "metadata": {
      "needs_background": "light"
     },
     "output_type": "display_data"
    }
   ],
   "source": [
    "_, ax = plt.subplots(nrows=1, ncols=2, figsize=(16,8))\n",
    "plt.subplot(1, 2, 1)\n",
    "scatter = ax[0].scatter(x=X[:,0], y=X[:,1], c=y, alpha=0.5, cmap=paleta)\n",
    "my_legend = ax[0].legend(*scatter.legend_elements(), loc=\"upper right\", title=\"Class\")\n",
    "ax[0].add_artist(my_legend)\n",
    "plt.subplot(1, 2, 2)\n",
    "scatter = ax[1].scatter(x=X[:,0], y=X[:,1], c=best_cluster_labels, alpha=0.5, cmap=paleta)\n",
    "my_legend = ax[1].legend(*scatter.legend_elements(), loc=\"upper right\", title=\"Cluster\")\n",
    "ax[1].add_artist(my_legend)"
   ]
  },
  {
   "cell_type": "markdown",
   "id": "09c7a93a-2ba8-4c7a-a0f8-4e5119200ab5",
   "metadata": {},
   "source": [
    "It seems that we have a perfect clustering. \n",
    "The contingency table will tell us more details"
   ]
  },
  {
   "cell_type": "code",
   "execution_count": 18,
   "id": "e53bdc7a-d890-4d84-9155-3a0036865591",
   "metadata": {},
   "outputs": [
    {
     "data": {
      "text/plain": [
       "array([[100,   0,   0],\n",
       "       [  0, 100,   0],\n",
       "       [  0,   0, 100]])"
      ]
     },
     "execution_count": 18,
     "metadata": {},
     "output_type": "execute_result"
    }
   ],
   "source": [
    "best_contingency_matrix = contingency_matrix(labels_true=y, labels_pred=best_cluster_labels)\n",
    "best_contingency_matrix"
   ]
  },
  {
   "cell_type": "code",
   "execution_count": 19,
   "id": "43fc917e-9397-4c66-adf3-a90faf302cab",
   "metadata": {},
   "outputs": [],
   "source": [
    "def pretty_print_cm(cm: np.ndarray, true_classes: list):\n",
    "    line = '          '\n",
    "    for j in range(0, cm.shape[1]):\n",
    "        line = line + (' Cluster {:2}'.format(j))\n",
    "    print(line)\n",
    "    for i, row in enumerate(cm):\n",
    "        line = 'Class {:2}: '.format(int(true_classes[i])) + ''.join(''.join(['{:11}'.format(element) for element in row]))\n",
    "        print(line)"
   ]
  },
  {
   "cell_type": "code",
   "execution_count": 20,
   "id": "6fa857a0-24a7-4542-ae63-245fc9e8bfce",
   "metadata": {},
   "outputs": [
    {
     "name": "stdout",
     "output_type": "stream",
     "text": [
      "           Cluster  0 Cluster  1 Cluster  2\n",
      "Class  0:         100          0          0\n",
      "Class  1:           0        100          0\n",
      "Class  2:           0          0        100\n"
     ]
    }
   ],
   "source": [
    "pretty_print_cm(cm=best_contingency_matrix, true_classes=y_classes)"
   ]
  },
  {
   "cell_type": "markdown",
   "id": "85c3de87-b42e-49c8-a029-256fcb62882c",
   "metadata": {},
   "source": [
    "It seems that there are not misclassified samples... hip, hip, hurra!"
   ]
  },
  {
   "cell_type": "code",
   "execution_count": 21,
   "id": "5c0b1bb7-f729-42d1-a3d8-8fe90e66ccf5",
   "metadata": {},
   "outputs": [
    {
     "data": {
      "text/plain": [
       "1.0"
      ]
     },
     "execution_count": 21,
     "metadata": {},
     "output_type": "execute_result"
    }
   ],
   "source": [
    "best_v_measure = v_measure_score(labels_true=y, labels_pred=best_cluster_labels)\n",
    "best_v_measure"
   ]
  },
  {
   "cell_type": "markdown",
   "id": "8b9856d7-f18d-41b0-b732-41f795a338c5",
   "metadata": {},
   "source": [
    "### Conclusions"
   ]
  },
  {
   "cell_type": "markdown",
   "id": "731e62e9-db58-43da-936b-a9664057a7c7",
   "metadata": {},
   "source": [
    "Bla, bla, ..."
   ]
  }
 ],
 "metadata": {
  "kernelspec": {
   "display_name": "musi-aa",
   "language": "python",
   "name": "musi-aa"
  },
  "language_info": {
   "codemirror_mode": {
    "name": "ipython",
    "version": 3
   },
   "file_extension": ".py",
   "mimetype": "text/x-python",
   "name": "python",
   "nbconvert_exporter": "python",
   "pygments_lexer": "ipython3",
   "version": "3.7.11"
  }
 },
 "nbformat": 4,
 "nbformat_minor": 5
}
