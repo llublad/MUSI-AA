{
 "cells": [
  {
   "cell_type": "markdown",
   "id": "0d8b8248-f384-4f51-bc5a-5bab117cb6b1",
   "metadata": {},
   "source": [
    "# Handout #5: Unsupervised Learning (optimization-based clustering)"
   ]
  },
  {
   "cell_type": "markdown",
   "id": "e88ccf29-e292-48c3-b2ba-038f9f58edd7",
   "metadata": {
    "tags": []
   },
   "source": [
    "## Problem 7"
   ]
  },
  {
   "cell_type": "markdown",
   "id": "3556520a-1a81-4906-8235-b1353ce5a717",
   "metadata": {},
   "source": [
    "### Definition of the crisp clustering function"
   ]
  },
  {
   "cell_type": "code",
   "execution_count": 22,
   "id": "d587400d-ca7a-4375-9796-0bd68cdd5996",
   "metadata": {},
   "outputs": [],
   "source": [
    "import numpy as np\n",
    "import random\n",
    "\n",
    "\n",
    "def proximity_sense():\n",
    "    # if the proximity function is a \n",
    "    # - dissimilarity metric (DM), must return the minimum function\n",
    "    # - simillarity metric (SM), must return the maximum function\n",
    "    \n",
    "    # we are working with a distance, \n",
    "    # so a dissimilarity metric must be assumed and \n",
    "    # return the min() function\n",
    "    \n",
    "    return min\n",
    "\n",
    "\n",
    "def get_best_cost_value(vector: np.ndarray) -> float:\n",
    "    # returns the best cost value from 'cost_list'\n",
    "    \n",
    "    # will get the minimum or maximum value\n",
    "    #\n",
    "    sense_func = proximity_sense()\n",
    "    best_cost_value = sense_func(vector)\n",
    "    \n",
    "    return best_cost_value\n",
    "\n",
    "\n",
    "def get_best_cost_index_from(vector: np.ndarray) -> int:\n",
    "    # returns the position (zero indexed) of \n",
    "    # the minimum value or maximum value\n",
    "    # that cotains 'values_list'\n",
    "    \n",
    "    best_position = vector.index(get_best_cost_value(vector))\n",
    "    \n",
    "    return best_position\n",
    "    \n",
    "    \n",
    "def get_initial_thetas(X: np.ndarray, M: int) -> np.ndarray:\n",
    "    # returns a random matrix of cluster definitions\n",
    "    \n",
    "    # test if we have sufficient datapoints\n",
    "    #\n",
    "    n_datapoints = len(X)\n",
    "    \n",
    "    if n_datapoints < M:\n",
    "        raise ValueError(\"Insufficient number of datapoints\")\n",
    "    \n",
    "    \n",
    "    # as we can define the cluster by its radius, \n",
    "    # the matrix shape is M x 1\n",
    "    # where M is the number of desired clusters\n",
    "    #\n",
    "    # to select the cluster's radius, \n",
    "    # will select M random datapoints and use \n",
    "    # its radius as the cluster one\n",
    "    # \n",
    "    # we think its a very fast initialization method, \n",
    "    # but the drawback is that is not assured that\n",
    "    # the M selected values have an uniform distribution\n",
    "    # over the radius value space\n",
    "    # we also verify that there aren't repeated values\n",
    "    #\n",
    "    radius_list = list()\n",
    "    \n",
    "    for i in range(M):\n",
    "        rand_index = random.randint(a=0, b=n_datapoints - 1)\n",
    "        radius = np.linalg.norm(X[rand_index])\n",
    "        while radius in radius_list:\n",
    "            rand_index = random.randint(a=0, b=n_datapoints - 1)\n",
    "            radius = np.linalg.norm(X[rand_index])\n",
    "        radius_list.append([radius])\n",
    "    \n",
    "    # sort list to try to get clusters ordered by their radius\n",
    "    radius_list.sort()\n",
    "    \n",
    "    thetas = np.array(radius_list, dtype=float)\n",
    "    \n",
    "    return thetas\n",
    "\n",
    "\n",
    "def proximity_func():\n",
    "    \n",
    "    return random.random()\n",
    "\n",
    "\n",
    "def proximity_partial():\n",
    "    pass\n",
    "\n",
    "\n",
    "def calc_membership_at(mode: str, cluster_num: int, vector: np.ndarray) -> float:\n",
    "    # return membership level of a datapoint to 'cluster_num'\n",
    "    # according to the proximity values that 'vector' cotains\n",
    "    #\n",
    "    \n",
    "    # select min or max\n",
    "    #\n",
    "    sense_func = proximity_sense()\n",
    "    \n",
    "    if mode == 'crisp':\n",
    "        if cluster_num == vector.index(sense_func(vector)):\n",
    "            level = 1\n",
    "        else:\n",
    "            level = 0\n",
    "    elif mode == 'fuzzy':\n",
    "        level = 1\n",
    "    else:\n",
    "        raise ValueError(\"only 'crisp' or 'fuzzy' clustering modes supported\")\n",
    "    \n",
    "    return level\n",
    "\n",
    "\n",
    "def calc_membership(mode: str, func, X: np.ndarray, thetas: np.ndarray) -> np.ndarray:\n",
    "    # return crisp membership array\n",
    "    #\n",
    "    n_datapoints = len(X)\n",
    "    n_clusters = len(thetas)\n",
    "    \n",
    "    membership = np.empty((n_datapoints, n_clusters), dtype=int)\n",
    "    \n",
    "    for i in range(n_datapoints):\n",
    "        \n",
    "        proximity_vector = np.empty(n_clusters, dtype=float)\n",
    "        \n",
    "        # populate proximity_vector\n",
    "        #\n",
    "        for j in range(n_clusters):\n",
    "            proximity_vector[j] = proximity_func()\n",
    "        \n",
    "        # compute membership\n",
    "        #\n",
    "        for j in range(n_clusters):\n",
    "            membership[i, j] = calc_membership_at(\n",
    "                mode=mode, \n",
    "                cluster_num=j, \n",
    "                vector=proximity_vector)\n",
    "    \n",
    "    return membership\n",
    "    \n",
    "\n",
    "def calc_thetas(func, X: np.ndarray, membership: np.ndarray) -> np.ndarray:\n",
    "    \n",
    "    return get_initial_thetas(X, 3)  # TODO\n",
    "\n",
    "\n",
    "def calc_thetas_distance(new_thetas: np.ndarray, old_thetas: np.ndarray) -> float:\n",
    "    # return the euclidean distance between thetas vectors\n",
    "    #\n",
    "    thetas_delta = (new_thetas - old_thetas)\n",
    "    distance = np.linalg.norm(thetas_delta)\n",
    "    \n",
    "    return distance\n",
    "\n",
    "\n",
    "def calc_cost_value(X: np.ndarray, membership: np.ndarray, thetas: np.ndarray) -> float:\n",
    "    # return the cost function value\n",
    "    #\n",
    "    cost_value = np.random.random(1)\n",
    "    \n",
    "    return cost_value\n",
    "\n",
    "\n",
    "def get_cluster_labels(thetas: np.ndarray) -> np.ndarray:\n",
    "    pass\n",
    "\n",
    "\n",
    "def do_crisp_clust(X: np.ndarray, M: int, n_iter: int , n_attempts: int, eps: float) -> list:\n",
    "    # X: datapoints to classify\n",
    "    # M: number of desired clusters\n",
    "    # n_iter: maximum number of iterations per attempt\n",
    "    # n_attempts: maximum number of attempts\n",
    "    # eps: stopping delta value\n",
    "    #\n",
    "    # returns the best clusters labels list,\n",
    "    # the best cluster theta vector and\n",
    "    # the best cost value history\n",
    "    # from the best attempt\n",
    "    \n",
    "    # CONSTANTS\n",
    "    #\n",
    "    LABELS_FIELD = 'cluster_labels'\n",
    "    THETAS_FIELD = 'theta_vector'\n",
    "    COST_HIST_FIELD = 'cost_history'\n",
    "    BEST_COST_FIELD = 'best_cost'\n",
    "    \n",
    "    # VARIABLES\n",
    "    #\n",
    "    \n",
    "    # an empty list to store each attempt\n",
    "    #\n",
    "    attempt_list = list()\n",
    "    \n",
    "    for attempt in range(n_attempts):\n",
    "        \n",
    "        # theta values initialization\n",
    "        #\n",
    "        thetas = get_initial_thetas(X=X, M=M)\n",
    "        \n",
    "        # cost function value history vector\n",
    "        #\n",
    "        cost_value_history = np.empty(0, dtype=float)\n",
    "        \n",
    "        # delta criteria finalization\n",
    "        #\n",
    "        delta = eps\n",
    "\n",
    "        # iterations counter\n",
    "        #\n",
    "        it = 0\n",
    "\n",
    "        # will iterate until n_iterations are exhausted or \n",
    "        # cost function value variation is above epsilon value\n",
    "        #\n",
    "        while it < n_iter and delta >= eps:\n",
    "            \n",
    "            # calc membership matrix\n",
    "            #\n",
    "            membership = calc_membership(\n",
    "                mode='crisp',\n",
    "                func=proximity_func, \n",
    "                X=X, \n",
    "                thetas=thetas)\n",
    "            \n",
    "            # calculate next clusters centroids\n",
    "            #\n",
    "            old_thetas = thetas\n",
    "            thetas = calc_thetas(\n",
    "                func=proximity_partial, \n",
    "                X=X, \n",
    "                membership=membership)\n",
    "            \n",
    "            # calculate thetas delta\n",
    "            #\n",
    "            delta = calc_thetas_distance(\n",
    "                new_thetas=thetas, \n",
    "                old_thetas=old_thetas)\n",
    "            \n",
    "            # calculate cost function value\n",
    "            #\n",
    "            cost_value = calc_cost_value(\n",
    "                X=X, \n",
    "                membership=membership, \n",
    "                thetas=thetas)\n",
    "            \n",
    "            cost_value_history = np.append(\n",
    "                cost_value_history, cost_value)\n",
    "            \n",
    "            # go to next try\n",
    "            #\n",
    "            it += 1\n",
    "        \n",
    "        # save results\n",
    "        #\n",
    "        best_cost_value = get_best_cost_value(\n",
    "            vector=cost_value_history)\n",
    "        \n",
    "        cluster_labels = get_cluster_labels(thetas=thetas)\n",
    "        \n",
    "        new_entry = {\n",
    "            LABELS_FIELD: cluster_labels,\n",
    "            THETAS_FIELD: thetas,\n",
    "            COST_HIST_FIELD: cost_value_history,\n",
    "            BEST_COST_FIELD: best_cost_value\n",
    "        }\n",
    "        \n",
    "        attempt_list.append(new_entry)\n",
    "        \n",
    "    # Select the best attempt\n",
    "    #\n",
    "    best_cost_value = None\n",
    "    for attempt_entry in attempt_list:\n",
    "        if best_cost_value is None or get_best_cost_index_from([attempt_entry[BEST_COST_FIELD], best_cost_value]) == 0:\n",
    "            \n",
    "            best_cluster_labels = attempt_entry[LABELS_FIELD]\n",
    "            best_theta_vector = attempt_entry[THETAS_FIELD]\n",
    "            best_cost_value_history = attempt_entry[COST_HIST_FIELD]\n",
    "            best_cost_value = attempt_entry[BEST_COST_FIELD]\n",
    "            \n",
    "    return best_cluster_labels, best_theta_vector, best_cost_value_history"
   ]
  },
  {
   "cell_type": "markdown",
   "id": "64be1a49-640e-4c02-8927-bc0039e57f6f",
   "metadata": {},
   "source": [
    "Load needed libraries"
   ]
  },
  {
   "cell_type": "code",
   "execution_count": 2,
   "id": "7dd342d5-2831-4289-a418-9b925b4f4465",
   "metadata": {},
   "outputs": [],
   "source": [
    "import numpy as np"
   ]
  },
  {
   "cell_type": "markdown",
   "id": "f37b8ea6-e216-4836-95ee-b148732db429",
   "metadata": {
    "tags": []
   },
   "source": [
    "### Load the *dataset*"
   ]
  },
  {
   "cell_type": "markdown",
   "id": "53229836-898f-4c02-943e-b148b46474fa",
   "metadata": {},
   "source": [
    "Our group is '01'"
   ]
  },
  {
   "cell_type": "code",
   "execution_count": 3,
   "id": "9ee66ec8-16c8-4f94-8ed0-672dac4c9212",
   "metadata": {},
   "outputs": [],
   "source": [
    "group = '01'  # BERNAT LADARIA, Lluís\n",
    "ds = 7"
   ]
  },
  {
   "cell_type": "markdown",
   "id": "4b23aec9-8e96-4a38-9ae4-773b02e20e7f",
   "metadata": {
    "tags": []
   },
   "source": [
    "Load vectors from file"
   ]
  },
  {
   "cell_type": "code",
   "execution_count": 4,
   "id": "429df42c-4efc-4a77-ae3a-85eb875865a0",
   "metadata": {},
   "outputs": [],
   "source": [
    "data = np.loadtxt('ds'+group+str(ds)+'.txt')"
   ]
  },
  {
   "cell_type": "markdown",
   "id": "4ee3e667-1ef5-497b-932a-7ffb3b66b1ea",
   "metadata": {},
   "source": [
    "Split data and labels"
   ]
  },
  {
   "cell_type": "code",
   "execution_count": 5,
   "id": "9d203342-e669-4b7b-bc56-f02be83287c7",
   "metadata": {},
   "outputs": [],
   "source": [
    "X = data[:, 0:2]\n",
    "y = data[:, 2]"
   ]
  },
  {
   "cell_type": "markdown",
   "id": "f28b55fc-019c-4053-bacc-dba2ed095dbb",
   "metadata": {},
   "source": [
    "How many vectors we have to classify?"
   ]
  },
  {
   "cell_type": "code",
   "execution_count": 6,
   "id": "7af55de9-3095-4e8c-a22a-13a960798136",
   "metadata": {},
   "outputs": [
    {
     "data": {
      "text/plain": [
       "(300, 2)"
      ]
     },
     "execution_count": 6,
     "metadata": {},
     "output_type": "execute_result"
    }
   ],
   "source": [
    "X.shape"
   ]
  },
  {
   "cell_type": "markdown",
   "id": "650be5ed-7ad2-43d6-94f4-3d911efb52a7",
   "metadata": {},
   "source": [
    "How many classes?"
   ]
  },
  {
   "cell_type": "code",
   "execution_count": 7,
   "id": "80fba1bd-b936-4caa-b42b-5a56cda42760",
   "metadata": {},
   "outputs": [
    {
     "data": {
      "text/plain": [
       "array([0., 1., 2.])"
      ]
     },
     "execution_count": 7,
     "metadata": {},
     "output_type": "execute_result"
    }
   ],
   "source": [
    "y_classes = np.unique(y)\n",
    "y_classes"
   ]
  },
  {
   "cell_type": "markdown",
   "id": "e8390d04-1ff9-4e8b-9170-56a6620cae01",
   "metadata": {},
   "source": [
    "We have a 3 classes classification problem"
   ]
  },
  {
   "cell_type": "markdown",
   "id": "60bf60b4-db3b-4c65-b94e-b1351a7e7918",
   "metadata": {},
   "source": [
    "### Cluster the data"
   ]
  },
  {
   "cell_type": "markdown",
   "id": "ed0c25dd-8173-463b-a3f8-8bbfb03fe8f4",
   "metadata": {
    "tags": []
   },
   "source": [
    "Import necessary functions and classes"
   ]
  },
  {
   "cell_type": "code",
   "execution_count": 8,
   "id": "80cdbbca-ead4-4138-b0ac-b76a9d19846f",
   "metadata": {},
   "outputs": [],
   "source": [
    "from sklearn.metrics import v_measure_score\n",
    "from sklearn.metrics.cluster import contingency_matrix"
   ]
  },
  {
   "cell_type": "code",
   "execution_count": 9,
   "id": "72938a6e-c411-4515-bbea-cb5071a61cde",
   "metadata": {},
   "outputs": [],
   "source": [
    "import itertools\n",
    "import matplotlib.pyplot as plt\n",
    "import matplotlib.colors as col"
   ]
  },
  {
   "cell_type": "markdown",
   "id": "958551c5-d7d0-4561-9509-18c52be230f2",
   "metadata": {},
   "source": [
    "Initialization"
   ]
  },
  {
   "cell_type": "code",
   "execution_count": 10,
   "id": "4c0e0624-5186-4f76-8255-8cdff0ac8269",
   "metadata": {},
   "outputs": [],
   "source": [
    "M = 3\n",
    "n_iter = 20\n",
    "n_attempts = 5\n",
    "eps = 1e-3"
   ]
  },
  {
   "cell_type": "markdown",
   "id": "1875cb10-b2e9-4a14-a0e8-c26fb4085b2d",
   "metadata": {
    "tags": []
   },
   "source": [
    "Cluster it!"
   ]
  },
  {
   "cell_type": "code",
   "execution_count": 23,
   "id": "9759a551-80d6-4a9f-b334-b4746d288ec7",
   "metadata": {},
   "outputs": [
    {
     "ename": "AttributeError",
     "evalue": "'numpy.ndarray' object has no attribute 'index'",
     "output_type": "error",
     "traceback": [
      "\u001b[0;31m---------------------------------------------------------------------------\u001b[0m",
      "\u001b[0;31mAttributeError\u001b[0m                            Traceback (most recent call last)",
      "\u001b[0;32m/tmp/ipykernel_8955/3797852819.py\u001b[0m in \u001b[0;36m<module>\u001b[0;34m\u001b[0m\n\u001b[1;32m      2\u001b[0m \u001b[0;34m\u001b[0m\u001b[0m\n\u001b[1;32m      3\u001b[0m \u001b[0;34m[\u001b[0m\u001b[0mbest_cluster_labels\u001b[0m\u001b[0;34m,\u001b[0m \u001b[0mbest_theta_vector\u001b[0m\u001b[0;34m,\u001b[0m \u001b[0mcost_value_history\u001b[0m\u001b[0;34m]\u001b[0m \u001b[0;34m=\u001b[0m\u001b[0;31m \u001b[0m\u001b[0;31m\\\u001b[0m\u001b[0;34m\u001b[0m\u001b[0;34m\u001b[0m\u001b[0m\n\u001b[0;32m----> 4\u001b[0;31m     \u001b[0mdo_crisp_clust\u001b[0m\u001b[0;34m(\u001b[0m\u001b[0mX\u001b[0m\u001b[0;34m=\u001b[0m\u001b[0mX\u001b[0m\u001b[0;34m,\u001b[0m \u001b[0mM\u001b[0m\u001b[0;34m=\u001b[0m\u001b[0mM\u001b[0m\u001b[0;34m,\u001b[0m \u001b[0mn_iter\u001b[0m\u001b[0;34m=\u001b[0m\u001b[0mn_iter\u001b[0m\u001b[0;34m,\u001b[0m \u001b[0mn_attempts\u001b[0m\u001b[0;34m=\u001b[0m\u001b[0mn_attempts\u001b[0m\u001b[0;34m,\u001b[0m \u001b[0meps\u001b[0m\u001b[0;34m=\u001b[0m\u001b[0meps\u001b[0m\u001b[0;34m)\u001b[0m\u001b[0;34m\u001b[0m\u001b[0;34m\u001b[0m\u001b[0m\n\u001b[0m",
      "\u001b[0;32m/tmp/ipykernel_8955/1030760112.py\u001b[0m in \u001b[0;36mdo_crisp_clust\u001b[0;34m(X, M, n_iter, n_attempts, eps)\u001b[0m\n\u001b[1;32m    219\u001b[0m                 \u001b[0mfunc\u001b[0m\u001b[0;34m=\u001b[0m\u001b[0mproximity_func\u001b[0m\u001b[0;34m,\u001b[0m\u001b[0;34m\u001b[0m\u001b[0;34m\u001b[0m\u001b[0m\n\u001b[1;32m    220\u001b[0m                 \u001b[0mX\u001b[0m\u001b[0;34m=\u001b[0m\u001b[0mX\u001b[0m\u001b[0;34m,\u001b[0m\u001b[0;34m\u001b[0m\u001b[0;34m\u001b[0m\u001b[0m\n\u001b[0;32m--> 221\u001b[0;31m                 thetas=thetas)\n\u001b[0m\u001b[1;32m    222\u001b[0m \u001b[0;34m\u001b[0m\u001b[0m\n\u001b[1;32m    223\u001b[0m             \u001b[0;31m# calculate next clusters centroids\u001b[0m\u001b[0;34m\u001b[0m\u001b[0;34m\u001b[0m\u001b[0;34m\u001b[0m\u001b[0m\n",
      "\u001b[0;32m/tmp/ipykernel_8955/1030760112.py\u001b[0m in \u001b[0;36mcalc_membership\u001b[0;34m(mode, func, X, thetas)\u001b[0m\n\u001b[1;32m    133\u001b[0m                 \u001b[0mmode\u001b[0m\u001b[0;34m=\u001b[0m\u001b[0mmode\u001b[0m\u001b[0;34m,\u001b[0m\u001b[0;34m\u001b[0m\u001b[0;34m\u001b[0m\u001b[0m\n\u001b[1;32m    134\u001b[0m                 \u001b[0mcluster_num\u001b[0m\u001b[0;34m=\u001b[0m\u001b[0mj\u001b[0m\u001b[0;34m,\u001b[0m\u001b[0;34m\u001b[0m\u001b[0;34m\u001b[0m\u001b[0m\n\u001b[0;32m--> 135\u001b[0;31m                 vector=proximity_vector)\n\u001b[0m\u001b[1;32m    136\u001b[0m \u001b[0;34m\u001b[0m\u001b[0m\n\u001b[1;32m    137\u001b[0m     \u001b[0;32mreturn\u001b[0m \u001b[0mmembership\u001b[0m\u001b[0;34m\u001b[0m\u001b[0;34m\u001b[0m\u001b[0m\n",
      "\u001b[0;32m/tmp/ipykernel_8955/1030760112.py\u001b[0m in \u001b[0;36mcalc_membership_at\u001b[0;34m(mode, cluster_num, vector)\u001b[0m\n\u001b[1;32m     98\u001b[0m \u001b[0;34m\u001b[0m\u001b[0m\n\u001b[1;32m     99\u001b[0m     \u001b[0;32mif\u001b[0m \u001b[0mmode\u001b[0m \u001b[0;34m==\u001b[0m \u001b[0;34m'crisp'\u001b[0m\u001b[0;34m:\u001b[0m\u001b[0;34m\u001b[0m\u001b[0;34m\u001b[0m\u001b[0m\n\u001b[0;32m--> 100\u001b[0;31m         \u001b[0;32mif\u001b[0m \u001b[0mcluster_num\u001b[0m \u001b[0;34m==\u001b[0m \u001b[0mvector\u001b[0m\u001b[0;34m.\u001b[0m\u001b[0mindex\u001b[0m\u001b[0;34m(\u001b[0m\u001b[0msense_func\u001b[0m\u001b[0;34m(\u001b[0m\u001b[0mvector\u001b[0m\u001b[0;34m)\u001b[0m\u001b[0;34m)\u001b[0m\u001b[0;34m:\u001b[0m\u001b[0;34m\u001b[0m\u001b[0;34m\u001b[0m\u001b[0m\n\u001b[0m\u001b[1;32m    101\u001b[0m             \u001b[0mlevel\u001b[0m \u001b[0;34m=\u001b[0m \u001b[0;36m1\u001b[0m\u001b[0;34m\u001b[0m\u001b[0;34m\u001b[0m\u001b[0m\n\u001b[1;32m    102\u001b[0m         \u001b[0;32melse\u001b[0m\u001b[0;34m:\u001b[0m\u001b[0;34m\u001b[0m\u001b[0;34m\u001b[0m\u001b[0m\n",
      "\u001b[0;31mAttributeError\u001b[0m: 'numpy.ndarray' object has no attribute 'index'"
     ]
    }
   ],
   "source": [
    "random.seed(42)\n",
    "\n",
    "[best_cluster_labels, best_theta_vector, cost_value_history] = \\\n",
    "    do_crisp_clust(X=X, M=M, n_iter=n_iter, n_attempts=n_attempts, eps=eps)"
   ]
  },
  {
   "cell_type": "code",
   "execution_count": 12,
   "id": "81147799-fada-49f3-a91a-2dc136270c1e",
   "metadata": {},
   "outputs": [
    {
     "data": {
      "text/plain": [
       "[<matplotlib.lines.Line2D at 0x7f9cb440ab10>]"
      ]
     },
     "execution_count": 12,
     "metadata": {},
     "output_type": "execute_result"
    },
    {
     "data": {
      "image/png": "[encoded data removed]",
      "text/plain": [
       "<Figure size 432x288 with 1 Axes>"
      ]
     },
     "metadata": {
      "needs_background": "light"
     },
     "output_type": "display_data"
    }
   ],
   "source": [
    "plt.title(\"Best attempt, cost function history\")\n",
    "plt.xlabel(\"Iteration\")\n",
    "plt.ylabel(\"Cost function value\")\n",
    "xticks_list = range(0, n_iter, 5)\n",
    "plt.xticks(xticks_list)\n",
    "plt.plot(cost_value_history)"
   ]
  },
  {
   "cell_type": "code",
   "execution_count": null,
   "id": "3cba9868-c017-4793-9b9f-88f359e5f3b2",
   "metadata": {},
   "outputs": [],
   "source": []
  }
 ],
 "metadata": {
  "kernelspec": {
   "display_name": "musi-aa",
   "language": "python",
   "name": "musi-aa"
  },
  "language_info": {
   "codemirror_mode": {
    "name": "ipython",
    "version": 3
   },
   "file_extension": ".py",
   "mimetype": "text/x-python",
   "name": "python",
   "nbconvert_exporter": "python",
   "pygments_lexer": "ipython3",
   "version": "3.7.11"
  }
 },
 "nbformat": 4,
 "nbformat_minor": 5
}
