{
 "cells": [
  {
   "cell_type": "markdown",
   "id": "0d8b8248-f384-4f51-bc5a-5bab117cb6b1",
   "metadata": {},
   "source": [
    "# Handout #5: Unsupervised Learning (optimization-based clustering)"
   ]
  },
  {
   "cell_type": "markdown",
   "id": "e88ccf29-e292-48c3-b2ba-038f9f58edd7",
   "metadata": {
    "tags": []
   },
   "source": [
    "## Problem 7"
   ]
  },
  {
   "cell_type": "markdown",
   "id": "3556520a-1a81-4906-8235-b1353ce5a717",
   "metadata": {},
   "source": [
    "### Definition of the crisp clustering function"
   ]
  },
  {
   "cell_type": "code",
   "execution_count": 93,
   "id": "ec46bd09-f236-42d2-b4f7-994ffd0ec6b0",
   "metadata": {},
   "outputs": [],
   "source": [
    "import numpy as np\n",
    "import random\n",
    "\n",
    "def get_best_cost_index_from(values_list) -> int:\n",
    "    # returns the position (zero indexed) of the minimum value\n",
    "    # that cotains 'values_list'\n",
    "    \n",
    "    best_position = values_list.index(min(values_list))\n",
    "    \n",
    "    return best_position\n",
    "    \n",
    "    \n",
    "def get_best_cost_value(cost_list: list) -> float:\n",
    "    # returns the best cost value from 'cost_list'\n",
    "    \n",
    "    best_cost_value = min(cost_list)\n",
    "    \n",
    "    return best_cost_value\n",
    "\n",
    "\n",
    "def do_crisp_clust(X: np.ndarray, M: int, n_iter: int , n_attempts: int, eps: float) -> list:\n",
    "    # X: datapoints to classify\n",
    "    # M: number of clusters\n",
    "    # n_iter: maximum number of iterations per attempt\n",
    "    # n_attempts: maximum number of attempts\n",
    "    # eps: stopping delta value\n",
    "    #\n",
    "    # returns the best clusters labels list,\n",
    "    # the best cluster theta vector and\n",
    "    # the best cost value history\n",
    "    # from the best attempt\n",
    "    \n",
    "    # CONSTANTS\n",
    "    #\n",
    "    LABELS_FIELD = 'cluster_labels'\n",
    "    THETA_FIELD = 'theta_vector'\n",
    "    COST_HIST_FIELD = 'cost_history'\n",
    "    BEST_COST_FIELD = 'best_cost'\n",
    "    \n",
    "    # VARIABLES\n",
    "    #\n",
    "    attempt_list = list()\n",
    "    \n",
    "    n_dims = X.shape[1]\n",
    "    \n",
    "    thetas = np.zeros((M, n_dims))\n",
    "    \n",
    "    # define Theta\n",
    "    for att in range(n_attempts):\n",
    "        \n",
    "        # initialize working variables\n",
    "        \n",
    "        cluster_labels = list()\n",
    "        theta_vector = list()\n",
    "        cost_value_history = list()\n",
    "        \n",
    "        # initialize theta values\n",
    "        \n",
    "        pass\n",
    "    \n",
    "        # iterations\n",
    "        \n",
    "        iter = 0\n",
    "        delta = eps\n",
    "        while iter < n_iter and delta >= eps:\n",
    "            \n",
    "            cost_value = random.randrange(0, 10)\n",
    "            \n",
    "            cost_value_history.append(cost_value)\n",
    "            iter += 1\n",
    "        \n",
    "        best_cost_value = get_best_cost_value(cost_list=cost_value_history)\n",
    "        \n",
    "        new_entry = {\n",
    "            LABELS_FIELD: cluster_labels,\n",
    "            THETA_FIELD: theta_vector,\n",
    "            COST_HIST_FIELD: cost_value_history,\n",
    "            BEST_COST_FIELD: best_cost_value\n",
    "        }\n",
    "        \n",
    "        attempt_list.append(new_entry)\n",
    "        \n",
    "    # Select the best attempt\n",
    "\n",
    "    best_cost_value = None\n",
    "    for attempt_entry in attempt_list:\n",
    "        if best_cost_value is None or get_best_cost_index_from([attempt_entry[BEST_COST_FIELD], best_cost_value]) == 0:\n",
    "            \n",
    "            best_cluster_labels = attempt_entry[LABELS_FIELD]\n",
    "            best_theta_vector = attempt_entry[THETA_FIELD]\n",
    "            best_cost_value_history = attempt_entry[COST_HIST_FIELD]\n",
    "            best_cost_value = attempt_entry[BEST_COST_FIELD]\n",
    "            \n",
    "    return best_cluster_labels, best_theta_vector, best_cost_value_history"
   ]
  },
  {
   "cell_type": "markdown",
   "id": "64be1a49-640e-4c02-8927-bc0039e57f6f",
   "metadata": {},
   "source": [
    "Load needed libraries"
   ]
  },
  {
   "cell_type": "code",
   "execution_count": 13,
   "id": "7dd342d5-2831-4289-a418-9b925b4f4465",
   "metadata": {},
   "outputs": [],
   "source": [
    "import numpy as np"
   ]
  },
  {
   "cell_type": "markdown",
   "id": "f37b8ea6-e216-4836-95ee-b148732db429",
   "metadata": {
    "tags": []
   },
   "source": [
    "### Load the *dataset*"
   ]
  },
  {
   "cell_type": "markdown",
   "id": "53229836-898f-4c02-943e-b148b46474fa",
   "metadata": {},
   "source": [
    "Our group is '01'"
   ]
  },
  {
   "cell_type": "code",
   "execution_count": 14,
   "id": "9ee66ec8-16c8-4f94-8ed0-672dac4c9212",
   "metadata": {},
   "outputs": [],
   "source": [
    "group = '01'  # BERNAT LADARIA, Lluís\n",
    "ds = 7"
   ]
  },
  {
   "cell_type": "markdown",
   "id": "4b23aec9-8e96-4a38-9ae4-773b02e20e7f",
   "metadata": {
    "tags": []
   },
   "source": [
    "Load vectors from file"
   ]
  },
  {
   "cell_type": "code",
   "execution_count": 15,
   "id": "429df42c-4efc-4a77-ae3a-85eb875865a0",
   "metadata": {},
   "outputs": [],
   "source": [
    "data = np.loadtxt('ds'+group+str(ds)+'.txt')"
   ]
  },
  {
   "cell_type": "markdown",
   "id": "4ee3e667-1ef5-497b-932a-7ffb3b66b1ea",
   "metadata": {},
   "source": [
    "Split data and labels"
   ]
  },
  {
   "cell_type": "code",
   "execution_count": 16,
   "id": "9d203342-e669-4b7b-bc56-f02be83287c7",
   "metadata": {},
   "outputs": [],
   "source": [
    "X = data[:, 0:2]\n",
    "y = data[:, 2]"
   ]
  },
  {
   "cell_type": "markdown",
   "id": "f28b55fc-019c-4053-bacc-dba2ed095dbb",
   "metadata": {},
   "source": [
    "How many vectors we have to classify?"
   ]
  },
  {
   "cell_type": "code",
   "execution_count": 17,
   "id": "7af55de9-3095-4e8c-a22a-13a960798136",
   "metadata": {},
   "outputs": [
    {
     "data": {
      "text/plain": [
       "(300, 2)"
      ]
     },
     "execution_count": 17,
     "metadata": {},
     "output_type": "execute_result"
    }
   ],
   "source": [
    "X.shape"
   ]
  },
  {
   "cell_type": "markdown",
   "id": "650be5ed-7ad2-43d6-94f4-3d911efb52a7",
   "metadata": {},
   "source": [
    "How many classes?"
   ]
  },
  {
   "cell_type": "code",
   "execution_count": 18,
   "id": "80fba1bd-b936-4caa-b42b-5a56cda42760",
   "metadata": {},
   "outputs": [
    {
     "data": {
      "text/plain": [
       "array([0., 1., 2.])"
      ]
     },
     "execution_count": 18,
     "metadata": {},
     "output_type": "execute_result"
    }
   ],
   "source": [
    "y_classes = np.unique(y)\n",
    "y_classes"
   ]
  },
  {
   "cell_type": "markdown",
   "id": "e8390d04-1ff9-4e8b-9170-56a6620cae01",
   "metadata": {},
   "source": [
    "We have a 3 classes classification problem"
   ]
  },
  {
   "cell_type": "markdown",
   "id": "60bf60b4-db3b-4c65-b94e-b1351a7e7918",
   "metadata": {},
   "source": [
    "### Cluster the data"
   ]
  },
  {
   "cell_type": "markdown",
   "id": "ed0c25dd-8173-463b-a3f8-8bbfb03fe8f4",
   "metadata": {
    "tags": []
   },
   "source": [
    "Import necessary functions and classes"
   ]
  },
  {
   "cell_type": "code",
   "execution_count": 19,
   "id": "80cdbbca-ead4-4138-b0ac-b76a9d19846f",
   "metadata": {},
   "outputs": [],
   "source": [
    "from sklearn.metrics import v_measure_score\n",
    "from sklearn.metrics.cluster import contingency_matrix"
   ]
  },
  {
   "cell_type": "code",
   "execution_count": 20,
   "id": "72938a6e-c411-4515-bbea-cb5071a61cde",
   "metadata": {},
   "outputs": [],
   "source": [
    "import itertools\n",
    "import matplotlib.pyplot as plt\n",
    "import matplotlib.colors as col"
   ]
  },
  {
   "cell_type": "markdown",
   "id": "958551c5-d7d0-4561-9509-18c52be230f2",
   "metadata": {},
   "source": [
    "Initialization"
   ]
  },
  {
   "cell_type": "code",
   "execution_count": 65,
   "id": "4c0e0624-5186-4f76-8255-8cdff0ac8269",
   "metadata": {},
   "outputs": [],
   "source": [
    "M = 3\n",
    "n_iter = 20\n",
    "n_attempts = 5\n",
    "eps = 1e-3"
   ]
  },
  {
   "cell_type": "markdown",
   "id": "1875cb10-b2e9-4a14-a0e8-c26fb4085b2d",
   "metadata": {
    "tags": []
   },
   "source": [
    "Cluster it!"
   ]
  },
  {
   "cell_type": "code",
   "execution_count": 94,
   "id": "9759a551-80d6-4a9f-b334-b4746d288ec7",
   "metadata": {},
   "outputs": [],
   "source": [
    "[best_cluster_labels, best_theta_vector, cost_value_history] = \\\n",
    "    do_crisp_clust(X=X, M=M, n_iter=n_iter, n_attempts=n_attempts, eps=eps)"
   ]
  },
  {
   "cell_type": "code",
   "execution_count": 95,
   "id": "81147799-fada-49f3-a91a-2dc136270c1e",
   "metadata": {},
   "outputs": [
    {
     "data": {
      "text/plain": [
       "[<matplotlib.lines.Line2D at 0x7fd2d89a2cd0>]"
      ]
     },
     "execution_count": 95,
     "metadata": {},
     "output_type": "execute_result"
    },
    {
     "data": {
      "image/png": "[encoded data removed]",
      "text/plain": [
       "<Figure size 432x288 with 1 Axes>"
      ]
     },
     "metadata": {
      "needs_background": "light"
     },
     "output_type": "display_data"
    }
   ],
   "source": [
    "plt.title(\"Best attempt, cost function history\")\n",
    "plt.xlabel(\"Iteration\")\n",
    "plt.ylabel(\"Cost function value\")\n",
    "xticks_list = range(0, n_iter, 5)\n",
    "plt.xticks(xticks_list)\n",
    "plt.plot(cost_value_history)"
   ]
  },
  {
   "cell_type": "code",
   "execution_count": null,
   "id": "3cba9868-c017-4793-9b9f-88f359e5f3b2",
   "metadata": {},
   "outputs": [],
   "source": []
  }
 ],
 "metadata": {
  "kernelspec": {
   "display_name": "musi-aa",
   "language": "python",
   "name": "musi-aa"
  },
  "language_info": {
   "codemirror_mode": {
    "name": "ipython",
    "version": 3
   },
   "file_extension": ".py",
   "mimetype": "text/x-python",
   "name": "python",
   "nbconvert_exporter": "python",
   "pygments_lexer": "ipython3",
   "version": "3.7.11"
  }
 },
 "nbformat": 4,
 "nbformat_minor": 5
}
