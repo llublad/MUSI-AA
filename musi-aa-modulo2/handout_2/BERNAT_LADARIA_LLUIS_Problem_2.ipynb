{
 "cells": [
  {
   "cell_type": "markdown",
   "id": "fc3dd599-65f3-410e-b9da-b11fef0376b3",
   "metadata": {},
   "source": [
    "# Handout #2: Instance-based Learning"
   ]
  },
  {
   "cell_type": "markdown",
   "id": "43794caa-ea18-49ac-817a-b48e40105b4c",
   "metadata": {},
   "source": [
    "## Problem 1"
   ]
  },
  {
   "cell_type": "markdown",
   "id": "1700431f-1e3d-458f-9975-4c8137e7c5d4",
   "metadata": {},
   "source": [
    "### Apartat (a)"
   ]
  },
  {
   "cell_type": "markdown",
   "id": "ae7e46f9-8a66-4bfa-9616-421972bde6d3",
   "metadata": {},
   "source": [
    "Given dataset `ds012.txt`:\n",
    "\n",
    "a) Mapping the training samples onto an alternative 2-dimensional space using \n",
    "$\\Phi(x_1, x_2) = (x_1 x_2, x_1^2 + x_2^2)$,\n",
    "solve for the SVM analytically using a quadratic programming solver and\n",
    "1. find and report the *support vectors* *in the **original space*** \n",
    "(NOTE: due to round-off errors, it is likely\n",
    "none of the $\\lambda_i$ are exactly 0, but close, e.g. $10^{−6}$); and\n",
    "2. calculate and report the resulting *decision function* both in the transformed space \n",
    "$g_1(x') = w^T x' + w_0 | [x' = \\Phi(x)]$ \n",
    "and in the original space $g_2(x) = w^T \\Phi(x) + w_0$"
   ]
  },
  {
   "cell_type": "markdown",
   "id": "11042dd4-9869-43a0-9667-386832700fae",
   "metadata": {},
   "source": [
    "### Resposta apartat (a)"
   ]
  },
  {
   "cell_type": "markdown",
   "id": "b6f08534-47fe-44b8-b5b1-b036172224b1",
   "metadata": {},
   "source": [
    "#### Punt a.1"
   ]
  },
  {
   "cell_type": "markdown",
   "id": "f6bc40e3-3e6e-449f-a0c4-4ddd0890d0fe",
   "metadata": {},
   "source": [
    "Dades d'identificació:"
   ]
  },
  {
   "cell_type": "code",
   "execution_count": 1,
   "id": "7bfd275c-8bea-45be-87ca-09d9be31a640",
   "metadata": {},
   "outputs": [],
   "source": [
    "group = '01' # assuming group 1\n",
    "ds = 2 # assuming problem 2"
   ]
  },
  {
   "cell_type": "code",
   "execution_count": 2,
   "id": "41ac63ee-f740-405e-90f0-76b965749f6a",
   "metadata": {},
   "outputs": [],
   "source": [
    "# Definim un número molt proper a zero \n",
    "# per redefinir els paràmetres lambda com a zero \n",
    "# quan siguin menors de epsilon\n",
    "\n",
    "epsilon = 1e-6\n",
    "\n",
    "# També parametritzam el valor de les classes\n",
    "\n",
    "cl_w1_value = +1\n",
    "cl_w2_value = -1\n",
    "\n",
    "cl_w1_color = '+r'\n",
    "cl_w2_color = '+g'"
   ]
  },
  {
   "cell_type": "markdown",
   "id": "64307f49-205e-4ddb-91aa-b3de29c1b1e3",
   "metadata": {},
   "source": [
    "Importam llibreries"
   ]
  },
  {
   "cell_type": "code",
   "execution_count": 3,
   "id": "c6ba8f17-24de-45ff-b332-9f536484d081",
   "metadata": {},
   "outputs": [],
   "source": [
    "import numpy as np"
   ]
  },
  {
   "cell_type": "markdown",
   "id": "ccbe1dea-c7e0-40bf-961c-1d747b0e91d4",
   "metadata": {},
   "source": [
    "Carregam dades del problema"
   ]
  },
  {
   "cell_type": "code",
   "execution_count": 4,
   "id": "9c4e07df-0e8b-4f03-bfa4-cd864e546edf",
   "metadata": {},
   "outputs": [],
   "source": [
    "# Aquesta funció ens farà més fàcil carregar les matrius\n",
    "\n",
    "def load_data(group: str, problem: int):\n",
    "    \n",
    "    # carregam fitxer del dataset\n",
    "    data = np.loadtxt('datasets'+group+'/ds'+group+str(ds)+'.txt')\n",
    "    # matriu de vectors\n",
    "    X = data[:, 0:2]\n",
    "    # vector de classes\n",
    "    y = data[:, 2:3]\n",
    "    \n",
    "    # les classes han de ser -1 i +1\n",
    "    # per tant si ens ho passen com a 0 i 1 ho transformam\n",
    "    if np.any(y == 0):\n",
    "        y = 2 * y - 1\n",
    "        \n",
    "    return X, y"
   ]
  },
  {
   "cell_type": "code",
   "execution_count": 5,
   "id": "8afff9b8-8e6a-4dd2-b104-db9fe7f1384e",
   "metadata": {},
   "outputs": [
    {
     "name": "stdout",
     "output_type": "stream",
     "text": [
      "(32, 2) (32, 1)\n"
     ]
    }
   ],
   "source": [
    "# Carregam \n",
    "\n",
    "X, y = load_data(group, ds)\n",
    "\n",
    "print(X.shape, y.shape)"
   ]
  },
  {
   "cell_type": "code",
   "execution_count": 6,
   "id": "04b885e4-b428-48a3-910a-8be7180eae2a",
   "metadata": {},
   "outputs": [
    {
     "data": {
      "text/plain": [
       "32"
      ]
     },
     "execution_count": 6,
     "metadata": {},
     "output_type": "execute_result"
    }
   ],
   "source": [
    "# N és el número de vectors\n",
    "\n",
    "N = X.shape[0]\n",
    "N"
   ]
  },
  {
   "cell_type": "markdown",
   "id": "a759ee86-2e09-4260-a2c3-5ad5e5abda4d",
   "metadata": {},
   "source": [
    "Definim algunes funcions que ens ajudaran a dibuixar la constel·lació"
   ]
  },
  {
   "cell_type": "code",
   "execution_count": 7,
   "id": "94dd9dfd-bcae-45f1-8a6b-37755ebfefda",
   "metadata": {},
   "outputs": [],
   "source": [
    "def get_c_index(vector: np.ndarray, cl_value: int) -> list: \n",
    "    \n",
    "    if not isinstance(vector, np.ndarray):\n",
    "        raise ValueError('El paràmetre vector ha de ser de tipus np.ndarray')\n",
    "    if not isinstance(cl_value, int):\n",
    "        raise ValueError('El paràmetre cl_value ha de ser de tipus enter')\n",
    "        \n",
    "    index = []\n",
    "    for i in range(vector.shape[0]): \n",
    "        if vector[i] == cl_value: \n",
    "            index.append(i)\n",
    "    \n",
    "    return index"
   ]
  },
  {
   "cell_type": "code",
   "execution_count": 8,
   "id": "28b09376-e718-4570-aa90-bbadd356ca03",
   "metadata": {},
   "outputs": [],
   "source": [
    "import matplotlib.pyplot as plt\n",
    "\n",
    "def plot_points(X, y):\n",
    "    \n",
    "    cl_w1_index = get_c_index(y, cl_w1_value)\n",
    "    cl_w2_index = get_c_index(y, cl_w2_value)\n",
    "\n",
    "    ## començam a dibuixar\n",
    "    ##\n",
    "    plt.figure(1)\n",
    "\n",
    "    ## dibuixam els punts per cada classe\n",
    "    ##\n",
    "    plt.plot(X[cl_w1_index, 0], X[cl_w1_index, 1], cl_w1_color) # class w1\n",
    "    plt.plot(X[cl_w2_index, 0], X[cl_w2_index, 1], cl_w2_color) # class w2\n",
    "\n",
    "    ## format\n",
    "    ##\n",
    "    plt.axis('equal')\n",
    "\n",
    "    ## etiquetam el que manca i llest\n",
    "    ##\n",
    "    plt.title('Punts')\n",
    "    \n",
    "    plt.xlabel('x1')\n",
    "    plt.ylabel('x2')\n",
    "\n",
    "    plt.show(block = False)\n",
    "\n",
    "    return"
   ]
  },
  {
   "cell_type": "code",
   "execution_count": 9,
   "id": "ec25b55d-552c-42be-b718-0cbf97de167a",
   "metadata": {},
   "outputs": [
    {
     "data": {
      "image/png": "[encoded data removed]",
      "text/plain": [
       "<Figure size 432x288 with 1 Axes>"
      ]
     },
     "metadata": {
      "needs_background": "light"
     },
     "output_type": "display_data"
    }
   ],
   "source": [
    "plot_points(X, y)"
   ]
  },
  {
   "cell_type": "markdown",
   "id": "89cf86ce-4f24-4232-99cd-430fb55d2965",
   "metadata": {},
   "source": [
    "Vaja, sembla que estam davant un **cas de no linealitat**"
   ]
  },
  {
   "cell_type": "markdown",
   "id": "6faee7d2-42d4-4e50-b2f9-e1c971589223",
   "metadata": {},
   "source": [
    "Per tal de passar a una nou espai, definim la funció \n",
    "$\\Phi(x_1, x_2)=(x_1 x_2, x_1^2 + x_2^2)$\n",
    "\n",
    "La farem servir per a canviar d'espai i convertir aquest problema \n",
    "en un problema linealment separable"
   ]
  },
  {
   "cell_type": "code",
   "execution_count": 10,
   "id": "f680747f-4c16-45d2-9511-8fdf8674b9a1",
   "metadata": {},
   "outputs": [],
   "source": [
    "def phi(X):\n",
    "    \n",
    "    return np.vstack((X[:, 0] * X[:, 1], X[:, 0] * X[:, 0] + X[:, 1] * X[:, 1])).T"
   ]
  },
  {
   "cell_type": "code",
   "execution_count": 11,
   "id": "e9b608f8-eed3-4ba4-9dfa-f41ed141ebcf",
   "metadata": {},
   "outputs": [
    {
     "data": {
      "image/png": "[encoded data removed]",
      "text/plain": [
       "<Figure size 432x288 with 1 Axes>"
      ]
     },
     "metadata": {
      "needs_background": "light"
     },
     "output_type": "display_data"
    }
   ],
   "source": [
    "plot_points(phi(X), y)"
   ]
  },
  {
   "cell_type": "markdown",
   "id": "ba6492d8-c746-4e2c-8179-9de592da1d81",
   "metadata": {},
   "source": [
    "Definim una funció per a calcular la matriu $H$"
   ]
  },
  {
   "cell_type": "code",
   "execution_count": 12,
   "id": "a6c4950d-bb03-4e3e-b086-1274c4082ac5",
   "metadata": {},
   "outputs": [],
   "source": [
    "def build_Gram(X: np.array) -> np.array:\n",
    "    \n",
    "    return np.dot(X, X.T)\n",
    "\n",
    "\n",
    "def build_H(X: np.array, y: np.array):\n",
    "    \n",
    "    P = np.multiply(np.dot(y, y.T), build_Gram(X))\n",
    "\n",
    "    return P"
   ]
  },
  {
   "cell_type": "code",
   "execution_count": 13,
   "id": "bffebc98-5476-49d6-8bb6-d48c3b877473",
   "metadata": {},
   "outputs": [
    {
     "data": {
      "text/plain": [
       "array([[ 1.05638149, -0.30664858,  0.98235519, ..., -0.2244948 ,\n",
       "         0.85828669, -0.43076586],\n",
       "       [-0.30664858,  0.09334823, -0.2847805 , ...,  0.06470615,\n",
       "        -0.29127105,  0.12219207],\n",
       "       [ 0.98235519, -0.2847805 ,  0.91354955, ..., -0.2088036 ,\n",
       "         0.79445217, -0.40082955],\n",
       "       ...,\n",
       "       [-0.2244948 ,  0.06470615, -0.2088036 , ...,  0.04775703,\n",
       "        -0.1779192 ,  0.09184646],\n",
       "       [ 0.85828669, -0.29127105,  0.79445217, ..., -0.1779192 ,\n",
       "         1.10682849, -0.32226915],\n",
       "       [-0.43076586,  0.12219207, -0.40082955, ...,  0.09184646,\n",
       "        -0.32226915,  0.1775318 ]])"
      ]
     },
     "execution_count": 13,
     "metadata": {},
     "output_type": "execute_result"
    }
   ],
   "source": [
    "# Calculam la matriu dels productes creuats\n",
    "\n",
    "P = build_H(phi(X), y)\n",
    "P"
   ]
  },
  {
   "cell_type": "code",
   "execution_count": 14,
   "id": "94d1202a-e0c6-4761-8a63-0ea2a5d067f3",
   "metadata": {},
   "outputs": [],
   "source": [
    "# Calculam els vectors del sistema a resoldre \n",
    "# (que ha generat la funció Lagrangiana)\n",
    "\n",
    "q = -np.ones((N,))\n",
    "G = -np.identity(N)\n",
    "h = np.zeros((N,))\n",
    "A = y.reshape((1,-1))\n",
    "b = np.zeros(1)"
   ]
  },
  {
   "cell_type": "code",
   "execution_count": 15,
   "id": "8ab86b73-20df-47f4-9945-3b03ade441cb",
   "metadata": {},
   "outputs": [
    {
     "data": {
      "text/plain": [
       "array([3.16918136e-08, 2.37298787e-08, 5.51413383e+00, 1.80786491e-08,\n",
       "       1.81827712e-08, 1.77072147e-08, 1.96688766e-05, 1.92109984e-08,\n",
       "       3.81868932e-08, 4.01610199e-08, 1.33446630e-08, 2.36075595e-08,\n",
       "       8.25800384e-08, 1.05896639e-08, 1.38963539e-08, 1.80986895e-08,\n",
       "       6.67617586e-09, 1.52617176e-08, 1.02295078e-08, 1.84920697e-08,\n",
       "       1.06438856e-08, 1.17817486e-08, 1.27150561e-08, 1.58163679e+00,\n",
       "       1.29537460e-08, 5.78970061e-08, 9.28633159e-09, 1.64167183e-08,\n",
       "       2.37012661e-08, 1.21867782e-08, 6.97940997e-08, 7.09579052e+00])"
      ]
     },
     "execution_count": 15,
     "metadata": {},
     "output_type": "execute_result"
    }
   ],
   "source": [
    "# Importam la funció que ho soluciona (ho fa cridant a cxvopt)\n",
    "\n",
    "from qpsolvers import solve_qp\n",
    "\n",
    "# Cridam al solucionador del sistema lineal\n",
    "\n",
    "lm = solve_qp(P, q, G, h, A, b, solver='cvxopt')\n",
    "\n",
    "# Miram quins paràmetres ens ha retornat\n",
    "lm"
   ]
  },
  {
   "cell_type": "code",
   "execution_count": 16,
   "id": "68ec7935-70a6-416e-bfd7-5556f80d5335",
   "metadata": {
    "jupyter": {
     "source_hidden": true
    },
    "tags": []
   },
   "outputs": [],
   "source": [
    "# Definim una funció per posar a zero els valors molt petits\n",
    "# Aquests quasi-zeros es produeixen per mor de la precissió de càlcul, \n",
    "# però en realitat, en el nostre cas, haurien de de ser zeros\n",
    "\n",
    "import numpy as np \n",
    "\n",
    "def epsilize(vector: object, eps: float = 1e-6, target: float = 0.) -> np.ndarray:\n",
    "    \n",
    "    if not isinstance(eps, float):\n",
    "        raise ValueError('El paràmetre eps (epsilon) ha de ser de tipus float')\n",
    "        \n",
    "    if not isinstance(target, float):\n",
    "        raise ValueError('El paràmetre target ha de ser de tipus float')\n",
    "        \n",
    "    if isinstance(vector, np.ndarray):\n",
    "        for i in range(vector.shape[0]): \n",
    "            if np.abs(target - vector[i]) < eps: \n",
    "                vector[i] = target\n",
    "    elif isinstance(vector, float):\n",
    "        if np.abs(target - vector) < eps:\n",
    "            vector = target\n",
    "    else:\n",
    "        raise ValueError('El paràmetre vector ha de ser de tipus np.ndarray o un sol valor float')\n",
    "\n",
    "    return vector"
   ]
  },
  {
   "cell_type": "code",
   "execution_count": 17,
   "id": "3b5fd5ca-bce3-407b-adc3-e14e3b3b56e1",
   "metadata": {
    "tags": []
   },
   "outputs": [
    {
     "data": {
      "text/plain": [
       "array([0.00000000e+00, 0.00000000e+00, 5.51413383e+00, 0.00000000e+00,\n",
       "       0.00000000e+00, 0.00000000e+00, 1.96688766e-05, 0.00000000e+00,\n",
       "       0.00000000e+00, 0.00000000e+00, 0.00000000e+00, 0.00000000e+00,\n",
       "       0.00000000e+00, 0.00000000e+00, 0.00000000e+00, 0.00000000e+00,\n",
       "       0.00000000e+00, 0.00000000e+00, 0.00000000e+00, 0.00000000e+00,\n",
       "       0.00000000e+00, 0.00000000e+00, 0.00000000e+00, 1.58163679e+00,\n",
       "       0.00000000e+00, 0.00000000e+00, 0.00000000e+00, 0.00000000e+00,\n",
       "       0.00000000e+00, 0.00000000e+00, 0.00000000e+00, 7.09579052e+00])"
      ]
     },
     "execution_count": 17,
     "metadata": {},
     "output_type": "execute_result"
    }
   ],
   "source": [
    "# Netejam a la matriu els valors quasi nuls\n",
    "\n",
    "lm = epsilize(lm, eps=1e-6)\n",
    "\n",
    "lm"
   ]
  },
  {
   "cell_type": "markdown",
   "id": "9f5a637b-8955-424c-8d0e-78716a3a64a8",
   "metadata": {},
   "source": [
    "Ara que ja tenim el multiplicadors de KKT, $\\lambda_i$, \n",
    "podem saber quin són els nostres vectors de suport. \n",
    "Per a fer-ho cream una funció que ens ajudi:"
   ]
  },
  {
   "cell_type": "code",
   "execution_count": 18,
   "id": "98b08ff8-713f-4f82-b0b8-00e7aa63f84c",
   "metadata": {},
   "outputs": [],
   "source": [
    "import numpy as np\n",
    "\n",
    "def get_sv_index(vector: np.ndarray) -> list: \n",
    "    \n",
    "    if not isinstance(vector, np.ndarray):\n",
    "        raise ValueError('El paràmetre vector ha de ser de tipus np.ndarray')\n",
    "        \n",
    "    index = []\n",
    "    for i in range(vector.shape[0]): \n",
    "        if vector[i] != 0: \n",
    "            index.append(i)\n",
    "    \n",
    "    return index"
   ]
  },
  {
   "cell_type": "markdown",
   "id": "513b7dea-0a1c-42a5-ac8f-9e318378a993",
   "metadata": {},
   "source": [
    "Aquesta és la ubicació dins la matriu de vectors que ocupen els \n",
    "punts que són vectors de suport:"
   ]
  },
  {
   "cell_type": "code",
   "execution_count": 19,
   "id": "041b12b5-d885-412e-bde8-6616509872cf",
   "metadata": {
    "tags": []
   },
   "outputs": [
    {
     "data": {
      "text/plain": [
       "[2, 6, 23, 31]"
      ]
     },
     "execution_count": 19,
     "metadata": {},
     "output_type": "execute_result"
    }
   ],
   "source": [
    "sv_index = get_sv_index(lm)\n",
    "sv_index"
   ]
  },
  {
   "cell_type": "markdown",
   "id": "7e4f48b4-201d-43f5-97ed-5704f56fe7c3",
   "metadata": {},
   "source": [
    "#### Resultat punt a.1"
   ]
  },
  {
   "cell_type": "markdown",
   "id": "819a8af2-00d9-4459-af0c-e1645105b958",
   "metadata": {},
   "source": [
    "I aquests són els vectors de suport del nostre conjunt\n",
    "a **l'espai original**:"
   ]
  },
  {
   "cell_type": "code",
   "execution_count": 20,
   "id": "7cfad295-bf2e-4e26-bd40-4a44cb0a7bcd",
   "metadata": {},
   "outputs": [
    {
     "data": {
      "text/plain": [
       "array([[ 0.86940956,  0.37684951],\n",
       "       [-0.75596376,  0.64652541],\n",
       "       [-0.96824109,  0.06210814],\n",
       "       [-0.49423371, -0.36838816]])"
      ]
     },
     "execution_count": 20,
     "metadata": {},
     "output_type": "execute_result"
    }
   ],
   "source": [
    "sv = X[sv_index]\n",
    "sv"
   ]
  },
  {
   "cell_type": "markdown",
   "id": "48186a51-999e-46b9-a680-7d409f8a9c50",
   "metadata": {},
   "source": [
    "---"
   ]
  },
  {
   "cell_type": "markdown",
   "id": "70800f9e-b9bb-49e3-9d36-ea2e0e81127c",
   "metadata": {},
   "source": [
    "#### Punt a.2"
   ]
  },
  {
   "cell_type": "markdown",
   "id": "bf2297f0-780d-41b4-88e9-2e0d66b89b80",
   "metadata": {},
   "source": [
    "Al següent punt ens demanen \n",
    "que calculem quina és la funció de decisió.\n",
    "$$g(x) = w^T \\cdot x + w_0$$"
   ]
  },
  {
   "cell_type": "markdown",
   "id": "129db27e-e4b7-4521-b3a5-af24d5ff8c9f",
   "metadata": {},
   "source": [
    "A l'espai transformat i a l'espai original."
   ]
  },
  {
   "cell_type": "markdown",
   "id": "10ff5d85-4054-4961-b47c-d58b66dc61c5",
   "metadata": {},
   "source": [
    "On $w$ és la següent combinació lineal:\n",
    "$$w = \\sum_{i | \\lambda_i \\ne 0}{\\lambda_i y_i x_i}$$"
   ]
  },
  {
   "cell_type": "markdown",
   "id": "17a77a73-0e75-4632-90bb-e833e21a0ba3",
   "metadata": {},
   "source": [
    "I $w_0$ es calcula com el promig de tots els seus valors possibles\n",
    "per tal de mitigar els errors en precisió:\n",
    "$$w_0 = \\frac{1}{N_\\lambda} \\sum_{i | \\lambda_i \\ne 0}{\\left( y_i - w^T x_i \\right)}$$\n",
    "O de forma equivalent:\n",
    "$$w_0 = \\frac{1}{N_\\lambda} \\left[ \\sum_{i | \\lambda_i \\ne 0}{y_i} - \\sum_{i,j | \\lambda_i, \\lambda_j \\ne 0}{\\lambda_j y_j x_j^T x_i} \\right]$$"
   ]
  },
  {
   "cell_type": "markdown",
   "id": "e46ec2a5-f41b-45cd-b1ca-cf5371f94f5e",
   "metadata": {},
   "source": [
    "Definirem dues funcions per encapsular els càlculs:"
   ]
  },
  {
   "cell_type": "code",
   "execution_count": 102,
   "id": "3de2ee4a-5b70-4075-9684-c20aaf14b6fe",
   "metadata": {
    "tags": []
   },
   "outputs": [],
   "source": [
    "import numpy as np\n",
    "\n",
    "def get_w(lamb: np.ndarray, y: np.ndarray, X: np.ndarray) -> np.ndarray: \n",
    "    \n",
    "    if not isinstance(lamb, np.ndarray):\n",
    "        raise ValueError('lamb (vector de multiplicadors de KKT) ha de ser de tipus np.ndarray')\n",
    "    if not isinstance(y, np.ndarray):\n",
    "        raise ValueError('y (vector dels indicadors de classe) ha de ser de tipus np.ndarray')\n",
    "    if not isinstance(X, np.ndarray):\n",
    "        raise ValueError('X (matriu de punts) ha de ser de tipus np.ndarray')\n",
    "        \n",
    "    w = np.zeros(X.shape[1])\n",
    "    for i in get_sv_index(lamb): \n",
    "        w += lamb[i] * y[i] * X[i]\n",
    "    \n",
    "    return w"
   ]
  },
  {
   "cell_type": "code",
   "execution_count": 22,
   "id": "690bb6b3-bbbe-469f-a409-2280a2e48438",
   "metadata": {
    "tags": []
   },
   "outputs": [],
   "source": [
    "import numpy as np\n",
    "\n",
    "def get_w0(lamb, y, X: np.ndarray) -> float: \n",
    "    \n",
    "    if not isinstance(lamb, np.ndarray):\n",
    "        raise ValueError('lamb (vector de multiplicadors de KKT) ha de ser de tipus np.ndarray')\n",
    "    if not isinstance(y, np.ndarray):\n",
    "        raise ValueError('y (vector dels indicadors de classe) ha de ser de tipus np.ndarray')\n",
    "    if not isinstance(X, np.ndarray):\n",
    "        raise ValueError('X (matriu de punts) ha de ser de tipus np.ndarray')\n",
    "    \n",
    "    lambs_index = get_sv_index(lamb)\n",
    "    # N_lambda\n",
    "    n_lambs = len(lambs_index)\n",
    "    \n",
    "    if n_lambs == 0: raise ValueError('el número de multiplicadors no pot ser zero')\n",
    "\n",
    "    sum1 = np.sum(y[lambs_index])\n",
    "\n",
    "    sum2 = 0\n",
    "    for i in lambs_index:\n",
    "        for j in lambs_index:\n",
    "            sum2 += lamb[j] * y[j] * float(np.dot(X[j].T, X[i]))\n",
    "\n",
    "\n",
    "    w0 = (sum1 - sum2) / n_lambs\n",
    "\n",
    "    return w0"
   ]
  },
  {
   "cell_type": "markdown",
   "id": "6af3b454-45bc-43a5-91be-8b50c8eccaa9",
   "metadata": {},
   "source": [
    "#### Resultat punt a.2"
   ]
  },
  {
   "cell_type": "markdown",
   "id": "40dee314-26af-4d57-a32e-2e1b3f4ecf9b",
   "metadata": {},
   "source": [
    "Ens demanen que cerquem les dues funcions de decisió: "
   ]
  },
  {
   "cell_type": "markdown",
   "id": "3f5f5ee8-d928-4339-8946-178d7ab17584",
   "metadata": {},
   "source": [
    "Espai transformat: $$g_1(x') = w^T x' + w_0' | [x' = \\Phi(x)]$$\n",
    "\n",
    "Espai original: $$g_2(x) = w^T x + w_0$$"
   ]
  },
  {
   "cell_type": "markdown",
   "id": "a1af2588-2cc7-45f8-bde8-5923c80fcd93",
   "metadata": {},
   "source": [
    "Definim una funció genèrica, que ens servirà com a primitiva de les dues que cercam:"
   ]
  },
  {
   "cell_type": "code",
   "execution_count": 23,
   "id": "92b32884-94df-4a3c-97ac-eb42a4140900",
   "metadata": {},
   "outputs": [],
   "source": [
    "def g_func(x, w: np.ndarray, w0: float) -> np.ndarray:\n",
    "    \n",
    "    return np.dot(w.T, x) + w0"
   ]
  },
  {
   "cell_type": "markdown",
   "id": "5d44b24f-6ad4-451c-bb99-bd9350d84104",
   "metadata": {},
   "source": [
    "I calculam els coeficients i el terme independent per a cada cas:"
   ]
  },
  {
   "cell_type": "code",
   "execution_count": 24,
   "id": "edd95b25-e7c2-4d2c-a2ae-e41cab028bbc",
   "metadata": {},
   "outputs": [
    {
     "data": {
      "text/plain": [
       "array([-0.41958002, -3.74373229])"
      ]
     },
     "execution_count": 24,
     "metadata": {},
     "output_type": "execute_result"
    }
   ],
   "source": [
    "w = get_w(lm, y, phi(X))\n",
    "w"
   ]
  },
  {
   "cell_type": "code",
   "execution_count": 25,
   "id": "fcd74a23-4965-4ea6-b4ce-e850764caf7b",
   "metadata": {
    "tags": []
   },
   "outputs": [
    {
     "data": {
      "text/plain": [
       "array([2.4990093])"
      ]
     },
     "execution_count": 25,
     "metadata": {},
     "output_type": "execute_result"
    }
   ],
   "source": [
    "w0 = get_w0(lm, y, phi(X))\n",
    "w0"
   ]
  },
  {
   "cell_type": "markdown",
   "id": "9c403608-75fe-4f73-9448-3bd77ae3d1f2",
   "metadata": {},
   "source": [
    "Per tant la funció de decisió a l'espai transformat serà:"
   ]
  },
  {
   "cell_type": "code",
   "execution_count": 26,
   "id": "3927ec17-0197-4427-8f23-7717246dd468",
   "metadata": {},
   "outputs": [],
   "source": [
    "# Funció de decisió  l'espai transformat\n",
    "\n",
    "def g1(x):\n",
    "    \n",
    "    return g_func(x, w, w0)"
   ]
  },
  {
   "cell_type": "markdown",
   "id": "3aae310a-04c0-4758-b9d6-f5858bcc5a76",
   "metadata": {
    "tags": []
   },
   "source": [
    "La provam i aprofitam la nostra funció `epsilize` per arrodonir \n",
    "el valor dels punts que cauen a prop del llindar de decisió.\n",
    "Així és més fàcil confirmar si hi ha vectors de suport degenerats\n",
    "(vectors en el llindar de decisió \n",
    "però que no cal tenir en compte per a la determinació de l'hiperplà):"
   ]
  },
  {
   "cell_type": "code",
   "execution_count": 27,
   "id": "15bd489e-4a51-41df-a0cb-21bb70d2815a",
   "metadata": {
    "tags": []
   },
   "outputs": [
    {
     "name": "stdout",
     "output_type": "stream",
     "text": [
      "g(x 0) = -1.26895569  y( 0) = -1.0\n",
      "g(x 1) = +1.34815841  y( 1) = +1.0\n",
      "g(x 2) = -1.00000000  y( 2) = -1.0\n",
      "g(x 3) = +1.46638348  y( 3) = +1.0\n",
      "g(x 4) = -1.47463616  y( 4) = -1.0\n",
      "g(x 5) = +1.46877338  y( 5) = +1.0\n",
      "g(x 6) = -1.00000000  y( 6) = -1.0\n",
      "g(x 7) = +1.42728000  y( 7) = +1.0\n",
      "g(x 8) = -1.21989738  y( 8) = -1.0\n",
      "g(x 9) = -1.21058014  y( 9) = -1.0\n",
      "g(x10) = +1.63891087  y(10) = +1.0\n",
      "g(x11) = -1.36389348  y(11) = -1.0\n",
      "g(x12) = -1.10289312  y(12) = -1.0\n",
      "g(x13) = +1.81250525  y(13) = +1.0\n",
      "g(x14) = +1.61552340  y(14) = +1.0\n",
      "g(x15) = -1.47696251  y(15) = -1.0\n",
      "g(x16) = -2.30382677  y(16) = -1.0\n",
      "g(x17) = +1.55922346  y(17) = +1.0\n",
      "g(x18) = +1.84172919  y(18) = +1.0\n",
      "g(x19) = +1.44592088  y(19) = +1.0\n",
      "g(x20) = +1.80874756  y(20) = +1.0\n",
      "g(x21) = +1.72916634  y(21) = +1.0\n",
      "g(x22) = +1.67203537  y(22) = +1.0\n",
      "g(x23) = -1.00000000  y(23) = -1.0\n",
      "g(x24) = -1.66802803  y(24) = -1.0\n",
      "g(x25) = -1.14179795  y(25) = -1.0\n",
      "g(x26) = +1.92869055  y(26) = +1.0\n",
      "g(x27) = -1.52504334  y(27) = -1.0\n",
      "g(x28) = -1.36212751  y(28) = -1.0\n",
      "g(x29) = +1.70433505  y(29) = +1.0\n",
      "g(x30) = -1.11721604  y(30) = -1.0\n",
      "g(x31) = +1.00000000  y(31) = +1.0\n",
      "\n",
      "Errors de classificació: 0\n"
     ]
    }
   ],
   "source": [
    "def bound(x, eps): \n",
    "    return epsilize(epsilize(x, eps, target=1.), eps, target=-1.)\n",
    "\n",
    "def print_g(g, X, y, eps = 1e-6):\n",
    "    n_errors = 0\n",
    "    for i in range(X.shape[0]):\n",
    "        print(f\"g(x{i:2}) = {bound(g(X[i]), eps).item():+.8f}\"\n",
    "              f\"  y({i:2}) = {y[i].item():+1}\")\n",
    "        if np.sign(g(X[i]).item()) * y[i].item() == -1:\n",
    "            n_errors += 1\n",
    "    print(f\"\\nErrors de classificació: {n_errors}\")\n",
    "    \n",
    "    return\n",
    "\n",
    "# Utilitzam una tolerància de 10^-3 per tal de poder arrodonir \n",
    "# el valor de g(x) quan x és un vector de suport\n",
    "print_g(g1, phi(X), y, 1e-3)"
   ]
  },
  {
   "cell_type": "markdown",
   "id": "b0807a89-0f3b-4580-9df7-df9f19ead78b",
   "metadata": {},
   "source": [
    "Comprovam que la funció $g_1(x') | [x' = \\Phi(x)]$ (espai transformat) està classificant correctament."
   ]
  },
  {
   "cell_type": "markdown",
   "id": "3faa3351-8835-4008-b5c1-96a63deaa571",
   "metadata": {},
   "source": [
    "> **Nota :** Per tal de visibilitzar els vectors de suport, hem hagut de fer servir la **tolerància 1e-3**,\n",
    "bastant més elevada que la original 1e-6. \n",
    "Suposam que és per mor de la precisió numèrica de *Python*."
   ]
  },
  {
   "cell_type": "markdown",
   "id": "2a5b9bec-2433-4094-a0c7-091036267937",
   "metadata": {},
   "source": [
    "Atès que: \n",
    "\n",
    "- A l'espai transformat: \n",
    "$$g_1(x') = w^T x' + w_0 | [x' = \\Phi(x)]$$\n",
    "\n",
    "$$\\Phi(x_1, x_2)=(x_1 x_2, x_1^2 + x_2^2)$$\n",
    "\n",
    "- I a l'espai original:\n",
    "$$g_2(x) = w^T x + w_0$$\n",
    "\n",
    "Podem escriure $g_2(x)$ com:\n",
    "$$g_2((x_1,x_2)) = w_1 x_1 x_2 + w_2 (x_1^2 + x_2^2) + w_0$$"
   ]
  },
  {
   "cell_type": "markdown",
   "id": "c98d925b-7ae6-4773-94ee-c08d54aa4f56",
   "metadata": {},
   "source": [
    "Per tant la funció de decisió a l'espai original serà:"
   ]
  },
  {
   "cell_type": "code",
   "execution_count": 28,
   "id": "1c475107-3e66-4c23-9cad-b65efce1b7c2",
   "metadata": {},
   "outputs": [],
   "source": [
    "# Funció de decisió a l'espai original\n",
    "\n",
    "def g2(x):\n",
    "    \n",
    "    return (w[0]*x[0]*x[1] + w[1]*(x[0]*x[0]+x[1]*x[1])+w0)"
   ]
  },
  {
   "cell_type": "code",
   "execution_count": 29,
   "id": "2496f535-9532-47ee-a9d9-5355f9356942",
   "metadata": {
    "tags": []
   },
   "outputs": [
    {
     "name": "stdout",
     "output_type": "stream",
     "text": [
      "g(x 0) = -1.26895569  y( 0) = -1.0\n",
      "g(x 1) = +1.34815841  y( 1) = +1.0\n",
      "g(x 2) = -0.99991478  y( 2) = -1.0\n",
      "g(x 3) = +1.46638348  y( 3) = +1.0\n",
      "g(x 4) = -1.47463616  y( 4) = -1.0\n",
      "g(x 5) = +1.46877338  y( 5) = +1.0\n",
      "g(x 6) = -1.00025549  y( 6) = -1.0\n",
      "g(x 7) = +1.42728000  y( 7) = +1.0\n",
      "g(x 8) = -1.21989738  y( 8) = -1.0\n",
      "g(x 9) = -1.21058014  y( 9) = -1.0\n",
      "g(x10) = +1.63891087  y(10) = +1.0\n",
      "g(x11) = -1.36389348  y(11) = -1.0\n",
      "g(x12) = -1.10289312  y(12) = -1.0\n",
      "g(x13) = +1.81250525  y(13) = +1.0\n",
      "g(x14) = +1.61552340  y(14) = +1.0\n",
      "g(x15) = -1.47696251  y(15) = -1.0\n",
      "g(x16) = -2.30382677  y(16) = -1.0\n",
      "g(x17) = +1.55922346  y(17) = +1.0\n",
      "g(x18) = +1.84172919  y(18) = +1.0\n",
      "g(x19) = +1.44592088  y(19) = +1.0\n",
      "g(x20) = +1.80874756  y(20) = +1.0\n",
      "g(x21) = +1.72916634  y(21) = +1.0\n",
      "g(x22) = +1.67203537  y(22) = +1.0\n",
      "g(x23) = -0.99991475  y(23) = -1.0\n",
      "g(x24) = -1.66802803  y(24) = -1.0\n",
      "g(x25) = -1.14179795  y(25) = -1.0\n",
      "g(x26) = +1.92869055  y(26) = +1.0\n",
      "g(x27) = -1.52504334  y(27) = -1.0\n",
      "g(x28) = -1.36212751  y(28) = -1.0\n",
      "g(x29) = +1.70433505  y(29) = +1.0\n",
      "g(x30) = -1.11721604  y(30) = -1.0\n",
      "g(x31) = +1.00008503  y(31) = +1.0\n",
      "\n",
      "Errors de classificació: 0\n"
     ]
    }
   ],
   "source": [
    "print_g(g2, X, y)"
   ]
  },
  {
   "cell_type": "markdown",
   "id": "b059df50-6aa0-4b35-910f-e1b21526659b",
   "metadata": {},
   "source": [
    "---"
   ]
  },
  {
   "cell_type": "markdown",
   "id": "a731238b-f169-480f-9cf9-aa1e85ac0684",
   "metadata": {},
   "source": [
    "### Apartat (b)"
   ]
  },
  {
   "cell_type": "markdown",
   "id": "730e9989-7b94-4959-8e39-88c57d9abc7f",
   "metadata": {
    "tags": []
   },
   "source": [
    "b) Generate the following plots:\n",
    "1. a first plot with the *training samples* \n",
    "in the *transformed space*,\n",
    "highlighting the *support vectors* \n",
    "and plotting the 2D *decision curve*;\n",
    "2. a second plot with the *training samples* \n",
    "in the *original space*,\n",
    "highlighting the *support vectors* \n",
    "and plotting the 2D *decision curve*; and\n",
    "3. a third plot with the *classification map* **in the *original space***, \n",
    "i.e. evaluate the decision function \n",
    "for a ’regular’ subset (grid)\n",
    "of points.\n",
    "\n",
    "Use different markers and/or colours for each class. See the appendix for examples of the requested plots"
   ]
  },
  {
   "cell_type": "markdown",
   "id": "d6c60973-8305-4c52-8452-c4777b681fd3",
   "metadata": {},
   "source": [
    "### Resposta apartat (b)"
   ]
  },
  {
   "cell_type": "markdown",
   "id": "fd28cb82-d7be-4b55-91ec-835997a44cb8",
   "metadata": {},
   "source": [
    "Per a fer el diagrames serà pràctic crear una funció \n",
    "que ens ajudi a confeccionar les llistes dels components de cada classe:"
   ]
  },
  {
   "cell_type": "code",
   "execution_count": 30,
   "id": "a3a7a550-5e33-4a04-88c4-6edaccde59aa",
   "metadata": {},
   "outputs": [
    {
     "data": {
      "text/plain": [
       "[1, 3, 5, 7, 10, 13, 14, 17, 18, 19, 20, 21, 22, 26, 29, 31]"
      ]
     },
     "execution_count": 30,
     "metadata": {},
     "output_type": "execute_result"
    }
   ],
   "source": [
    "cl_w1_index = get_c_index(y, cl_w1_value)\n",
    "\n",
    "cl_w1_index"
   ]
  },
  {
   "cell_type": "code",
   "execution_count": 31,
   "id": "51eafe89-2486-4f1b-b78a-28cbad6efe95",
   "metadata": {},
   "outputs": [
    {
     "data": {
      "text/plain": [
       "[0, 2, 4, 6, 8, 9, 11, 12, 15, 16, 23, 24, 25, 27, 28, 30]"
      ]
     },
     "execution_count": 31,
     "metadata": {},
     "output_type": "execute_result"
    }
   ],
   "source": [
    "cl_w2_index = get_c_index(y, cl_w2_value)\n",
    "\n",
    "cl_w2_index"
   ]
  },
  {
   "cell_type": "markdown",
   "id": "131376f2-958a-4557-9c4c-8f9ccbb214f4",
   "metadata": {},
   "source": [
    "#### Resultat punt b.1"
   ]
  },
  {
   "cell_type": "markdown",
   "id": "53f7411b-8015-4b65-a9ba-8f453a12151a",
   "metadata": {},
   "source": [
    "Definim algunes funcions necessàries per a fer els diagrames."
   ]
  },
  {
   "cell_type": "code",
   "execution_count": 32,
   "id": "dccd63e6-5acb-45fc-8332-3acdeb0e3169",
   "metadata": {
    "tags": []
   },
   "outputs": [],
   "source": [
    "import numpy as np\n",
    "\n",
    "def get_view_limits(X: np.ndarray):\n",
    "    \n",
    "    ### límits del diagrama:\n",
    "    x_left = np.floor(np.amin(X, axis = 0)[0] - 0.5)\n",
    "    x_right = np.ceil(np.amax(X, axis = 0)[0] + 0.5)\n",
    "    y_top = np.ceil(np.amax(X, axis = 0)[1] + 0.5)\n",
    "    y_bottom = np.floor(np.amin(X, axis = 0)[1]- 0.5)\n",
    "    \n",
    "    return x_left, x_right, y_bottom, y_top\n",
    "\n",
    "\n",
    "def get_mesh(g_func, \n",
    "             x_left: float, x_right: float, y_bottom: float, y_top: float, \n",
    "             res: int = 100):\n",
    "\n",
    "    # calcula malla\n",
    "    \n",
    "    xx = np.linspace(x_left, x_right, res)\n",
    "    yy = np.linspace(y_bottom, y_top, res)\n",
    "    XX, YY = np.meshgrid(xx, yy, indexing = 'ij')\n",
    "    Z = np.zeros((res * res, 1))\n",
    "\n",
    "    k = 0\n",
    "    for x1 in xx:\n",
    "        for x2 in yy:\n",
    "            Z[k] = g_func(np.array((x1, x2), dtype=float))\n",
    "            k += 1\n",
    "\n",
    "    return XX, YY, Z"
   ]
  },
  {
   "cell_type": "code",
   "execution_count": 33,
   "id": "27e5cf46-a372-4c4e-acf1-68deed2e0617",
   "metadata": {
    "tags": []
   },
   "outputs": [],
   "source": [
    "import numpy as np\n",
    "import matplotlib.pyplot as plt\n",
    "\n",
    "def plot_scatter_contour(X: np.ndarray, y: np.ndarray, sv: list, \n",
    "                         g_func, margin_level:float=1.):\n",
    "    \n",
    "    # plot samples, highlighting some of them\n",
    "\n",
    "    ## calcula límits cartesians a representar\n",
    "    ##\n",
    "    x_left, x_right, y_bottom, y_top = get_view_limits(X)\n",
    "    \n",
    "    ## calcula malla de valors de la funció\n",
    "    ##\n",
    "    XX, YY, Z = get_mesh(g_func, x_left, x_right, y_bottom, y_top)\n",
    "    \n",
    "    ## calcula index de cada classe\n",
    "    cl_w1_index = get_c_index(y, cl_w1_value)\n",
    "    cl_w2_index = get_c_index(y, cl_w2_value)\n",
    "\n",
    "    ## començam a dibuixar\n",
    "    ##\n",
    "    plt.figure(1)\n",
    "\n",
    "\n",
    "    ## dibuixam la corba de decisió i els marges\n",
    "    ##\n",
    "    ax = plt.gca()\n",
    "    ax.contour(XX, YY, Z.reshape(XX.shape), \n",
    "               colors='k',\n",
    "               levels=[-margin_level, 0, margin_level],\n",
    "               alpha=0.5,linestyles=['--', '-', '--'])\n",
    "\n",
    "    ## dibuixam els punts per cada classe\n",
    "    ##\n",
    "    plt.plot(X[cl_w1_index, 0], X[cl_w1_index, 1], cl_w1_color) # class w1\n",
    "    plt.plot(X[cl_w2_index, 0], X[cl_w2_index, 1], cl_w2_color) # class w2\n",
    "    hil = sv # samples to highlight\n",
    "\n",
    "    ## i remarcam els vectors de suport\n",
    "    ##\n",
    "    ax2 = plt.gca()\n",
    "    ax2.scatter(X[hil, 0], X[hil, 1], s = 100, \n",
    "               linewidth = 1, facecolors = 'none', edgecolors = 'k')\n",
    "\n",
    "    ## format\n",
    "    ##\n",
    "    plt.xlim([x_left, x_right])\n",
    "    plt.ylim([y_bottom, y_top])\n",
    "    plt.axis('equal')\n",
    "\n",
    "    ## etiquetam el que manca i llest\n",
    "    ##\n",
    "    plt.title('Punts, vectors de suport i corba de decisió amb marges')\n",
    "    \n",
    "    plt.xlabel('x1')\n",
    "    plt.ylabel('x2')\n",
    "\n",
    "    plt.show(block = False)\n",
    "    \n",
    "    return"
   ]
  },
  {
   "cell_type": "code",
   "execution_count": 34,
   "id": "1ff55358-19f4-4086-9655-bfa9f8765cb8",
   "metadata": {
    "tags": []
   },
   "outputs": [],
   "source": [
    "import numpy as np\n",
    "import matplotlib.pyplot as plt\n",
    "import matplotlib.colors as col\n",
    "\n",
    "def plot_map_plane(X: np.ndarray, y: np.ndarray, sv: list, \n",
    "                   g_func): \n",
    "    \n",
    "    # matrix-based predicate evaluation\n",
    "\n",
    "    ## calcula límits cartesians a representar\n",
    "    ##\n",
    "    x_left, x_right, y_bottom, y_top = get_view_limits(X)\n",
    "    \n",
    "    ## calcula malla de valors de la funció\n",
    "    ##\n",
    "    XX, YY, Z = get_mesh(g_func, x_left, x_right, y_bottom, y_top)\n",
    "    \n",
    "    ## calcula index de cada classe\n",
    "    cl_w1_index = get_c_index(y, cl_w1_value)\n",
    "    cl_w2_index = get_c_index(y, cl_w2_value)\n",
    "\n",
    "    ## començam a dibuixar\n",
    "    ##\n",
    "    plt.figure(1)\n",
    "\n",
    "    ## cream paleta de colors\n",
    "    ##\n",
    "    cl_w1_hex_color = '#b01010'  # red\n",
    "    cl_w2_hex_color = '#408030'  # green \n",
    "    paleta = col.LinearSegmentedColormap.from_list(\n",
    "        'SVM_2', [cl_w2_hex_color, cl_w1_hex_color])\n",
    "\n",
    "    ## reduïm a només dues classes\n",
    "    ##\n",
    "    C = np.where(Z >= 0, 1, -1)\n",
    "\n",
    "    ## cream mapa i llegenda\n",
    "    ##\n",
    "    plt.imshow(\n",
    "        C.reshape(XX.shape).T, \n",
    "        origin = 'lower', \n",
    "        extent = (x_left, x_right, y_bottom, y_top), \n",
    "        cmap = paleta)\n",
    "    plt.colorbar()\n",
    "    \n",
    "    ## format\n",
    "    ##\n",
    "    plt.title(\"Mapa de l'avaluació de la funció de classificació\")\n",
    "    \n",
    "    plt.xlabel('x1')\n",
    "    plt.ylabel('x2')\n",
    "    \n",
    "    plt.axis('equal')\n",
    "    \n",
    "    ## mostram\n",
    "    ##\n",
    "    plt.show(block=False) # to force visualization\n",
    "\n",
    "    ## també dibuixarem el plànol en 3D\n",
    "    ##\n",
    "    plt.figure(2)\n",
    "    ax = plt.axes(projection='3d')\n",
    "    \n",
    "    ax.plot_surface(XX, YY, Z.reshape(XX.shape), \n",
    "                    rstride = 1, cstride = 1, \n",
    "                    cmap = paleta, \n",
    "                    edgecolor = 'none')\n",
    "    \n",
    "    ## ajustam l'àngle per veure'l millor\n",
    "    ##\n",
    "    ax.view_init(45, -60)\n",
    "\n",
    "    ## etiquetam el que manca i llest\n",
    "    ##\n",
    "    plt.title('Hiperplà o superfície classificadora')\n",
    "\n",
    "    plt.xlabel('x1')\n",
    "    plt.ylabel('x2')\n",
    "\n",
    "    plt.show(block = False)\n",
    "    \n",
    "    return"
   ]
  },
  {
   "cell_type": "markdown",
   "id": "b18bb436-2fbb-4a62-817e-1152aa741ce9",
   "metadata": {},
   "source": [
    "#### Representació a l'espai transformat"
   ]
  },
  {
   "cell_type": "markdown",
   "id": "fc1dc2c2-a66a-4798-8c35-de62db91fb16",
   "metadata": {},
   "source": [
    "La representació a l'espai transformat és:"
   ]
  },
  {
   "cell_type": "code",
   "execution_count": 35,
   "id": "aa79710d-5a65-4485-845b-d4d101a6f0db",
   "metadata": {},
   "outputs": [
    {
     "data": {
      "image/png": "[encoded data removed]",
      "text/plain": [
       "<Figure size 432x288 with 1 Axes>"
      ]
     },
     "metadata": {
      "needs_background": "light"
     },
     "output_type": "display_data"
    }
   ],
   "source": [
    "plot_scatter_contour(phi(X), y, sv_index, g1)"
   ]
  },
  {
   "cell_type": "markdown",
   "id": "13207afe-9e97-48ac-84ab-3d94ac2d99ce",
   "metadata": {},
   "source": [
    "#### Representacions a l'espai original"
   ]
  },
  {
   "cell_type": "markdown",
   "id": "055b5f65-d600-4242-9698-dce1d718c352",
   "metadata": {},
   "source": [
    "#### Resultat punt b.2"
   ]
  },
  {
   "cell_type": "markdown",
   "id": "e5e2ac6c-2072-40df-af28-c4c8d53a8f5f",
   "metadata": {},
   "source": [
    "La representació a l'espai original és:"
   ]
  },
  {
   "cell_type": "code",
   "execution_count": 36,
   "id": "ed7c2efc-f2b9-410f-8970-7126b99c5a22",
   "metadata": {},
   "outputs": [
    {
     "data": {
      "image/png": "[encoded data removed]",
      "text/plain": [
       "<Figure size 432x288 with 1 Axes>"
      ]
     },
     "metadata": {
      "needs_background": "light"
     },
     "output_type": "display_data"
    }
   ],
   "source": [
    "plot_scatter_contour(X, y, sv_index, g2)"
   ]
  },
  {
   "cell_type": "markdown",
   "id": "9032e0fa-ed83-4d8e-8974-094ad8961085",
   "metadata": {},
   "source": [
    "#### Resultat punt b.3"
   ]
  },
  {
   "cell_type": "markdown",
   "id": "60eb182d-f19a-4d6d-a30a-5f42e3e1ac53",
   "metadata": {},
   "source": [
    "Anem a fer el tercer diagrama, un mapa de les regions a l'espai original:"
   ]
  },
  {
   "cell_type": "code",
   "execution_count": 37,
   "id": "203e2a35-d12c-4117-abfb-21316fb0ec6f",
   "metadata": {
    "tags": []
   },
   "outputs": [
    {
     "data": {
      "image/png": "[encoded data removed]",
      "text/plain": [
       "<Figure size 432x288 with 2 Axes>"
      ]
     },
     "metadata": {
      "needs_background": "light"
     },
     "output_type": "display_data"
    },
    {
     "data": {
      "image/png": "[encoded data removed]",
      "text/plain": [
       "<Figure size 432x288 with 1 Axes>"
      ]
     },
     "metadata": {
      "needs_background": "light"
     },
     "output_type": "display_data"
    }
   ],
   "source": [
    "plot_map_plane(X, y, sv_index, g2)"
   ]
  },
  {
   "cell_type": "markdown",
   "id": "47c1e00b-9115-446f-94c1-9726b51aa92c",
   "metadata": {},
   "source": [
    "### Apartat (c)"
   ]
  },
  {
   "cell_type": "markdown",
   "id": "73455916-61e8-4b74-b984-580f64eede47",
   "metadata": {},
   "source": [
    "c) Compare the results obtained with the ones resulting from the `scikit-learn SVC` \n",
    "object: i.e. report the *support vectors* returned \n",
    "by `SVC` and the corresponding *decision function*, \n",
    "and provide the same kind of\n",
    "plots requested before.\n",
    "\n",
    "> NOTE: the SVC object solves the soft-margin kernel-based \n",
    "problem, hence you will have to \n",
    "supply the kernel specified in \n",
    "a) –use either `kernel = ’precomputed’` and compute the *gram matrix*, \n",
    "or supply a *callable* kernel when invoking the `SVC` object constructor– and \n",
    "set constant C with a high value, e.g. $10^{16}$, to force a perfect classification of the training set."
   ]
  },
  {
   "cell_type": "code",
   "execution_count": 107,
   "id": "9f71327b-715d-4449-8a14-58f7df58dc09",
   "metadata": {},
   "outputs": [
    {
     "name": "stdout",
     "output_type": "stream",
     "text": [
      "Fitted: True\n"
     ]
    }
   ],
   "source": [
    "from sklearn import svm\n",
    "\n",
    "clf = svm.SVC(C = 1e16, kernel = 'precomputed')\n",
    "clf.fit(build_Gram(phi(X)), y.reshape((N,)))\n",
    "\n",
    "print(f\"Fitted: {clf.fit_status_ == 0}\")"
   ]
  },
  {
   "cell_type": "markdown",
   "id": "b4f523df-9a43-44d9-bef4-712427ce6fb4",
   "metadata": {},
   "source": [
    "Quines posicions ocupen els vectors de suport?"
   ]
  },
  {
   "cell_type": "code",
   "execution_count": 108,
   "id": "f48c4d20-c355-4f6f-8353-170c0fb55949",
   "metadata": {},
   "outputs": [
    {
     "data": {
      "text/plain": [
       "[2, 6, 31]"
      ]
     },
     "execution_count": 108,
     "metadata": {},
     "output_type": "execute_result"
    }
   ],
   "source": [
    "sk_sv_index = list(clf.support_)\n",
    "sk_sv_index"
   ]
  },
  {
   "cell_type": "markdown",
   "id": "4bc809cc-141c-45ba-b1a5-0189012cddfc",
   "metadata": {},
   "source": [
    "L'objecte `SVC`ens ha donat tres vectors de suport \n",
    "en lloc dels 4 que havíem trobat resolent el sistema de forma analítica."
   ]
  },
  {
   "cell_type": "markdown",
   "id": "8032067d-74de-40f1-a4d8-fdb792dc9de3",
   "metadata": {},
   "source": [
    "Quins són aquests vectors?"
   ]
  },
  {
   "cell_type": "code",
   "execution_count": 109,
   "id": "da5e97b5-94d3-4d29-83e2-89009284724f",
   "metadata": {},
   "outputs": [
    {
     "data": {
      "text/plain": [
       "array([[ 0.86940956,  0.37684951],\n",
       "       [-0.75596376,  0.64652541],\n",
       "       [-0.49423371, -0.36838816]])"
      ]
     },
     "execution_count": 109,
     "metadata": {},
     "output_type": "execute_result"
    }
   ],
   "source": [
    "sk_sv = X[sk_sv_index]\n",
    "sk_sv"
   ]
  },
  {
   "cell_type": "markdown",
   "id": "b97d4a15-cc3d-4b2e-9b17-e966235a726e",
   "metadata": {},
   "source": [
    "I l'intercepto?"
   ]
  },
  {
   "cell_type": "code",
   "execution_count": 110,
   "id": "eb91a090-ba0d-4548-a9ad-fa84b4f7db74",
   "metadata": {},
   "outputs": [
    {
     "data": {
      "text/plain": [
       "array([2.49837163])"
      ]
     },
     "execution_count": 110,
     "metadata": {},
     "output_type": "execute_result"
    }
   ],
   "source": [
    "sk_w0 = clf.intercept_.flatten()\n",
    "sk_w0"
   ]
  },
  {
   "cell_type": "markdown",
   "id": "92972476-7a55-4101-b0d6-79cf5b8e2dc8",
   "metadata": {},
   "source": [
    "I els coeficients $\\lambda_i y_i | \\lambda_i \\ne 0$?"
   ]
  },
  {
   "cell_type": "code",
   "execution_count": 157,
   "id": "3462438c-0991-49cd-a03e-30604871f9fe",
   "metadata": {},
   "outputs": [
    {
     "data": {
      "text/plain": [
       "array([-6.34265195, -0.75130462,  7.09395657])"
      ]
     },
     "execution_count": 157,
     "metadata": {},
     "output_type": "execute_result"
    }
   ],
   "source": [
    "sk_lamb_y = clf.dual_coef_.flatten()\n",
    "sk_lamb_y"
   ]
  },
  {
   "cell_type": "markdown",
   "id": "4cc9135c-12f0-4a14-9556-2fe64187db5b",
   "metadata": {},
   "source": [
    "Per tant la nostra $w$ és:"
   ]
  },
  {
   "cell_type": "code",
   "execution_count": 158,
   "id": "487c2557-275c-4673-a784-ff48f442af64",
   "metadata": {},
   "outputs": [
    {
     "data": {
      "text/plain": [
       "array([-0.41928916, -3.74285374])"
      ]
     },
     "execution_count": 158,
     "metadata": {},
     "output_type": "execute_result"
    }
   ],
   "source": [
    "sk_w = np.dot(sk_lamb_y, phi(sk_sv)).flatten()\n",
    "sk_w"
   ]
  },
  {
   "cell_type": "markdown",
   "id": "ab9ed0dc-4a38-4b2e-84c8-09c1c5cf2b0c",
   "metadata": {},
   "source": [
    "Per tant la funció de decisió a l'espai transformat serà:"
   ]
  },
  {
   "cell_type": "code",
   "execution_count": 159,
   "id": "4feb2063-7f98-44ab-913a-1c634d1e1d1c",
   "metadata": {},
   "outputs": [],
   "source": [
    "def sk_g1(x):\n",
    "    \n",
    "    return g_func(x, sk_w, sk_w0)"
   ]
  },
  {
   "cell_type": "markdown",
   "id": "4b1cf1be-d2f2-42ca-80ca-e10333f6e744",
   "metadata": {},
   "source": [
    "#### Representació a l'espai transformat"
   ]
  },
  {
   "cell_type": "markdown",
   "id": "e1c3a10e-a4c1-49ee-80db-a39d2d3189e7",
   "metadata": {},
   "source": [
    "Anem a veure com surten els diagrames:"
   ]
  },
  {
   "cell_type": "markdown",
   "id": "06882904-c940-4782-ad31-f07bcc8ecf16",
   "metadata": {},
   "source": [
    "Espai transformat:"
   ]
  },
  {
   "cell_type": "code",
   "execution_count": 160,
   "id": "3cd8b36b-60bc-4b6b-8a5a-8f0620be1955",
   "metadata": {},
   "outputs": [
    {
     "data": {
      "image/png": "[encoded data removed]",
      "text/plain": [
       "<Figure size 432x288 with 1 Axes>"
      ]
     },
     "metadata": {
      "needs_background": "light"
     },
     "output_type": "display_data"
    }
   ],
   "source": [
    "plot_scatter_contour(phi(X), y, sk_sv_index, sk_g1)"
   ]
  },
  {
   "cell_type": "markdown",
   "id": "40013139-d4fa-4c1f-a004-aa5fc2c14470",
   "metadata": {},
   "source": [
    "#### Representacions a l'espai original"
   ]
  },
  {
   "cell_type": "markdown",
   "id": "6a3d8828-67f3-4d3b-af92-a37e5fcdf391",
   "metadata": {},
   "source": [
    "Espai original:"
   ]
  },
  {
   "cell_type": "code",
   "execution_count": 161,
   "id": "822baef7-9a43-465b-8d07-e6e96992eebe",
   "metadata": {},
   "outputs": [],
   "source": [
    "def sk_g2(x):\n",
    "    \n",
    "    return (sk_w[0]*x[0]*x[1] + sk_w[1]*(x[0]*x[0]+x[1]*x[1])+sk_w0)"
   ]
  },
  {
   "cell_type": "code",
   "execution_count": 162,
   "id": "16111be0-eb27-4d79-8516-c53524ed78f6",
   "metadata": {},
   "outputs": [
    {
     "data": {
      "image/png": "[encoded data removed]",
      "text/plain": [
       "<Figure size 432x288 with 1 Axes>"
      ]
     },
     "metadata": {
      "needs_background": "light"
     },
     "output_type": "display_data"
    }
   ],
   "source": [
    "plot_scatter_contour(X, y, sk_sv_index, sk_g2)"
   ]
  },
  {
   "cell_type": "code",
   "execution_count": 163,
   "id": "8de4c20f-59cc-469a-95a6-c433398f0e16",
   "metadata": {},
   "outputs": [
    {
     "data": {
      "image/png": "[encoded data removed]",
      "text/plain": [
       "<Figure size 432x288 with 2 Axes>"
      ]
     },
     "metadata": {
      "needs_background": "light"
     },
     "output_type": "display_data"
    },
    {
     "data": {
      "image/png": "[encoded data removed]",
      "text/plain": [
       "<Figure size 432x288 with 1 Axes>"
      ]
     },
     "metadata": {
      "needs_background": "light"
     },
     "output_type": "display_data"
    }
   ],
   "source": [
    "plot_map_plane(X, y, sk_sv_index, sk_g2)"
   ]
  },
  {
   "cell_type": "markdown",
   "id": "980ef3c5-c848-410b-9600-154337c2cb06",
   "metadata": {},
   "source": [
    "### Apartat (d)"
   ]
  },
  {
   "cell_type": "markdown",
   "id": "717b44f7-2a2d-4035-b7f0-9ae36bcb7346",
   "metadata": {},
   "source": [
    "d) Also by means of the `scikit-learn SVC` object, repeat point c) \n",
    "for the `’rbf’` kernel ($\\gamma = 1$). \n",
    "Additionally, draw the corresponding RBF network (slide 43 of the SVM lecture notes), \n",
    "replacing $K(x_i, x)$, $\\lambda_i$ and $y_i$ by your values."
   ]
  },
  {
   "cell_type": "code",
   "execution_count": 49,
   "id": "c054ba6a-563f-40f8-b81f-d3ef2de5d01e",
   "metadata": {},
   "outputs": [
    {
     "name": "stdout",
     "output_type": "stream",
     "text": [
      "Fitted: True\n"
     ]
    }
   ],
   "source": [
    "from sklearn import svm\n",
    "\n",
    "clf = svm.SVC(C=1e16, kernel='rbf', gamma=1)\n",
    "clf.fit(X, y.reshape((N,)))\n",
    "\n",
    "print(f\"Fitted: {clf.fit_status_ == 0}\")"
   ]
  },
  {
   "cell_type": "markdown",
   "id": "32770131-3e60-4eef-b11f-6c3e3ade3b28",
   "metadata": {},
   "source": [
    "Quines posicions ocupen els vectors de suport?"
   ]
  },
  {
   "cell_type": "code",
   "execution_count": 50,
   "id": "17a9bdaf-5440-426d-ad50-a1779b2ce64e",
   "metadata": {},
   "outputs": [
    {
     "data": {
      "text/plain": [
       "[2, 6, 9, 11, 12, 15, 23, 25, 28, 30, 3, 7, 31]"
      ]
     },
     "execution_count": 50,
     "metadata": {},
     "output_type": "execute_result"
    }
   ],
   "source": [
    "rbf_sv_index = list(clf.support_)\n",
    "rbf_sv_index"
   ]
  },
  {
   "cell_type": "code",
   "execution_count": 51,
   "id": "d95fdc32-dd49-46b4-85db-722fe4c6c440",
   "metadata": {},
   "outputs": [
    {
     "data": {
      "text/plain": [
       "13"
      ]
     },
     "execution_count": 51,
     "metadata": {},
     "output_type": "execute_result"
    }
   ],
   "source": [
    "len(rbf_sv_index)"
   ]
  },
  {
   "cell_type": "markdown",
   "id": "489b6128-1590-47d9-8982-b9b27d390f58",
   "metadata": {},
   "source": [
    "L'objecte `SVC`ens ha seleccionat tretze vectors de suport \n",
    "en lloc dels quatre que havíem trobat resolent el sistema de forma analítica."
   ]
  },
  {
   "cell_type": "markdown",
   "id": "295cd7ca-d400-446e-aaa9-8921830cfd01",
   "metadata": {},
   "source": [
    "Quins són aquests vectors?"
   ]
  },
  {
   "cell_type": "code",
   "execution_count": 52,
   "id": "44125f73-8f01-4c42-b300-644436b3c93c",
   "metadata": {},
   "outputs": [
    {
     "data": {
      "text/plain": [
       "array([[ 0.86940956,  0.37684951],\n",
       "       [-0.75596376,  0.64652541],\n",
       "       [ 0.93486971, -0.39828257],\n",
       "       [-0.3453781 , -0.93611458],\n",
       "       [ 0.02306025,  0.9793123 ],\n",
       "       [-0.67232991, -0.74426165],\n",
       "       [-0.96824109,  0.06210814],\n",
       "       [ 0.47614836, -0.89068575],\n",
       "       [-0.91068361, -0.4013168 ],\n",
       "       [-0.3410406 ,  0.94106435],\n",
       "       [ 0.51856048,  0.05907368],\n",
       "       [-0.30790845,  0.45516206],\n",
       "       [-0.49423371, -0.36838816]])"
      ]
     },
     "execution_count": 52,
     "metadata": {},
     "output_type": "execute_result"
    }
   ],
   "source": [
    "X[rbf_sv_index]"
   ]
  },
  {
   "cell_type": "markdown",
   "id": "329ee46d-a2e7-4fde-8c62-1524e7f099dd",
   "metadata": {},
   "source": [
    "I l'intercepto?"
   ]
  },
  {
   "cell_type": "code",
   "execution_count": 53,
   "id": "3242cde3-2b03-4edb-a8bf-2c41df07e970",
   "metadata": {},
   "outputs": [
    {
     "data": {
      "text/plain": [
       "array([-1.64418219])"
      ]
     },
     "execution_count": 53,
     "metadata": {},
     "output_type": "execute_result"
    }
   ],
   "source": [
    "rbf_w0 = clf.intercept_.flatten()\n",
    "rbf_w0"
   ]
  },
  {
   "cell_type": "markdown",
   "id": "e216649a-a65e-438f-af52-b8e30a5c9c58",
   "metadata": {},
   "source": [
    "I els coeficients $\\lambda_i y_i | \\lambda_i \\ne 0$?"
   ]
  },
  {
   "cell_type": "code",
   "execution_count": 54,
   "id": "9f31adf3-1388-4512-b0bc-66bca2937d8a",
   "metadata": {},
   "outputs": [
    {
     "data": {
      "text/plain": [
       "array([-2.3103755 , -0.09720627, -0.83599386, -0.95687372, -0.59576197,\n",
       "       -2.86109766, -2.6375849 , -0.6237584 , -0.67776791, -0.88178228,\n",
       "        3.72073356,  2.07621403,  6.68125487])"
      ]
     },
     "execution_count": 54,
     "metadata": {},
     "output_type": "execute_result"
    }
   ],
   "source": [
    "rbf_lamb_y = clf.dual_coef_.flatten()\n",
    "rbf_lamb_y"
   ]
  },
  {
   "cell_type": "markdown",
   "id": "5882cc60-0d22-4263-a515-5d5491d9501e",
   "metadata": {},
   "source": [
    "#### Representació a l'espai transformat"
   ]
  },
  {
   "cell_type": "markdown",
   "id": "e724a119-3dd9-41a9-a8c0-b924a5b7b705",
   "metadata": {},
   "source": [
    "En el cas del kernel RBF, la funció de decisió a l'espai transformat \n",
    "\n",
    "$g_1(x') = w^T x' + w_0 | [x' = \\Phi(x)]$\n",
    "\n",
    "no té una expressió tancada, \n",
    "doncs l'expansió de la funció del kernel genera un espai infinit."
   ]
  },
  {
   "cell_type": "markdown",
   "id": "6350fc1f-5eb3-4b97-9bfa-c09f3ac1cc8e",
   "metadata": {},
   "source": [
    "Per tant no podrem representar la funció de decisió a l'espai transformat."
   ]
  },
  {
   "cell_type": "markdown",
   "id": "e5a1a50e-4b27-47b6-a38d-2d1d707cc148",
   "metadata": {},
   "source": [
    "#### Representacions a l'espai original"
   ]
  },
  {
   "cell_type": "markdown",
   "id": "02a0891f-7308-4e96-b61a-df48b143c10a",
   "metadata": {},
   "source": [
    "Atès que feim servir el kernel Radial Basis Function ...\n",
    "\n",
    "$K(x_i,x) = e^{-\\gamma||x_i - x||^2}$ amb $\\gamma = 1$\n",
    "\n",
    "... la nostra particular funció de kernel serà: \n",
    "\n",
    "$K(x_i,x) |_{\\gamma = 1} = e^{-||x_i - x||^2}$"
   ]
  },
  {
   "cell_type": "markdown",
   "id": "33e0d85c-ba60-4dbd-a161-3afcd9cf9c13",
   "metadata": {},
   "source": [
    "Per tant la funció de decisió a l'espai original serà:\n",
    "\n",
    "$g_2(x) = \\sum_{i|\\lambda_i \\ne 0} \\lambda_i y_i K(x_i,x)|_{\\gamma = 1} + w_0$"
   ]
  },
  {
   "cell_type": "markdown",
   "id": "919818a1-4300-4ace-8f69-56b08c0eb1c4",
   "metadata": {},
   "source": [
    "Definim la funció de kernel RBF i la funció de decisió a l'espai original:"
   ]
  },
  {
   "cell_type": "code",
   "execution_count": 55,
   "id": "7813c47e-c04b-4bce-a697-2ff904520693",
   "metadata": {},
   "outputs": [],
   "source": [
    "import numpy as np\n",
    "\n",
    "def rbf(x: np.ndarray, z: np.ndarray, gamma: float = 1.) -> float:\n",
    "    \n",
    "    return np.exp(-gamma * (np.dot(x - z, (x - z).T)))"
   ]
  },
  {
   "cell_type": "code",
   "execution_count": 56,
   "id": "208de6e4-a081-4fe7-9ded-7a803ff51039",
   "metadata": {},
   "outputs": [],
   "source": [
    "def rbf_g2(x) -> float:\n",
    "    \n",
    "    r = rbf_w0.item()\n",
    "    for i in range(len(rbf_sv_index)):\n",
    "        r += rbf(x, X[rbf_sv_index[i]]) * rbf_lamb_y[i]\n",
    "    \n",
    "    return r"
   ]
  },
  {
   "cell_type": "code",
   "execution_count": 57,
   "id": "3cd637d8-a827-4d25-90f4-fc93152f51f0",
   "metadata": {},
   "outputs": [
    {
     "data": {
      "image/png": "[encoded data removed]",
      "text/plain": [
       "<Figure size 432x288 with 1 Axes>"
      ]
     },
     "metadata": {
      "needs_background": "light"
     },
     "output_type": "display_data"
    }
   ],
   "source": [
    "plot_scatter_contour(X, y, rbf_sv_index, rbf_g2, margin_level=1)"
   ]
  },
  {
   "cell_type": "code",
   "execution_count": 58,
   "id": "700a4713-0f39-4c2d-981e-358903c2a87e",
   "metadata": {},
   "outputs": [
    {
     "data": {
      "image/png": "[encoded data removed]",
      "text/plain": [
       "<Figure size 432x288 with 2 Axes>"
      ]
     },
     "metadata": {
      "needs_background": "light"
     },
     "output_type": "display_data"
    },
    {
     "data": {
      "image/png": "[encoded data removed]",
      "text/plain": [
       "<Figure size 432x288 with 1 Axes>"
      ]
     },
     "metadata": {
      "needs_background": "light"
     },
     "output_type": "display_data"
    }
   ],
   "source": [
    "plot_map_plane(X, y, rbf_sv_index, rbf_g2)"
   ]
  },
  {
   "cell_type": "markdown",
   "id": "585f86dd-3dda-4b5e-816b-726c3448a6ea",
   "metadata": {},
   "source": [
    "#### Xarxa *RBF*"
   ]
  },
  {
   "cell_type": "code",
   "execution_count": null,
   "id": "40eb7415-ff93-4fe3-8195-85da8891444c",
   "metadata": {
    "tags": []
   },
   "outputs": [],
   "source": []
  },
  {
   "cell_type": "markdown",
   "id": "7b2e1636-c1be-4a4d-91a9-61a76c40a6a6",
   "metadata": {},
   "source": [
    "## Conclusions"
   ]
  },
  {
   "cell_type": "markdown",
   "id": "7d3d58ee-a1c3-4be0-b1ae-5c36d1f7314f",
   "metadata": {},
   "source": [
    "En aquest problema hem determinat\n",
    "els vectors de suport d'un problema no lineal, \n",
    "fent servir tres espais distints."
   ]
  },
  {
   "cell_type": "code",
   "execution_count": null,
   "id": "a9a6b665-b7f7-4f9c-a982-bb294e9169c5",
   "metadata": {},
   "outputs": [],
   "source": []
  }
 ],
 "metadata": {
  "kernelspec": {
   "display_name": "musi-aa",
   "language": "python",
   "name": "musi-aa"
  },
  "language_info": {
   "codemirror_mode": {
    "name": "ipython",
    "version": 3
   },
   "file_extension": ".py",
   "mimetype": "text/x-python",
   "name": "python",
   "nbconvert_exporter": "python",
   "pygments_lexer": "ipython3",
   "version": "3.7.11"
  }
 },
 "nbformat": 4,
 "nbformat_minor": 5
}
