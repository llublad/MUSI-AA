{
 "cells": [
  {
   "cell_type": "markdown",
   "id": "fc3dd599-65f3-410e-b9da-b11fef0376b3",
   "metadata": {},
   "source": [
    "# Handout #2: Instance-based Learning"
   ]
  },
  {
   "cell_type": "markdown",
   "id": "43794caa-ea18-49ac-817a-b48e40105b4c",
   "metadata": {},
   "source": [
    "## Problem 1"
   ]
  },
  {
   "cell_type": "markdown",
   "id": "1700431f-1e3d-458f-9975-4c8137e7c5d4",
   "metadata": {},
   "source": [
    "### Apartat (a)"
   ]
  },
  {
   "cell_type": "markdown",
   "id": "ae7e46f9-8a66-4bfa-9616-421972bde6d3",
   "metadata": {},
   "source": [
    "Given dataset `ds012.txt`:\n",
    "\n",
    "a) Mapping the training samples onto an alternative 2-dimensional space using \n",
    "$\\Phi(x_1, x_2) = (x_1 x_2, x_1^2 + x_2^2)$,\n",
    "solve for the SVM analytically using a quadratic programming solver and\n",
    "1. find and report the *support vectors* *in the **original space*** \n",
    "(NOTE: due to round-off errors, it is likely\n",
    "none of the $\\lambda_i$ are exactly 0, but close, e.g. $10^{−6}$); and\n",
    "2. calculate and report the resulting *decision function* both in the transformed space \n",
    "$g_1(x') = w^T x' + w_0 [x' = \\Phi(x)]$ \n",
    "and in the original space $g_2(x) = w^T \\Phi(x) + w_0$"
   ]
  },
  {
   "cell_type": "markdown",
   "id": "11042dd4-9869-43a0-9667-386832700fae",
   "metadata": {},
   "source": [
    "### Resposta apartat (a)"
   ]
  },
  {
   "cell_type": "markdown",
   "id": "b6f08534-47fe-44b8-b5b1-b036172224b1",
   "metadata": {},
   "source": [
    "#### Punt a.1"
   ]
  },
  {
   "cell_type": "markdown",
   "id": "f6bc40e3-3e6e-449f-a0c4-4ddd0890d0fe",
   "metadata": {},
   "source": [
    "Dades d'identificació:"
   ]
  },
  {
   "cell_type": "code",
   "execution_count": 1,
   "id": "7bfd275c-8bea-45be-87ca-09d9be31a640",
   "metadata": {},
   "outputs": [],
   "source": [
    "group = '01' # assuming group 1\n",
    "ds = 2 # assuming problem 2"
   ]
  },
  {
   "cell_type": "code",
   "execution_count": 2,
   "id": "41ac63ee-f740-405e-90f0-76b965749f6a",
   "metadata": {},
   "outputs": [],
   "source": [
    "# Definim un número molt proper a zero \n",
    "# per redefinir els paràmetres lambda com a zero \n",
    "# quan siguin menors de epsilon\n",
    "\n",
    "epsilon = 1e-6\n",
    "\n",
    "# També parametritzam el valor de les classes\n",
    "\n",
    "cl_w1_value = +1\n",
    "cl_w2_value = -1\n",
    "\n",
    "cl_w1_color = '+r'\n",
    "cl_w2_color = '+g'"
   ]
  },
  {
   "cell_type": "markdown",
   "id": "64307f49-205e-4ddb-91aa-b3de29c1b1e3",
   "metadata": {},
   "source": [
    "Importam llibreries"
   ]
  },
  {
   "cell_type": "code",
   "execution_count": 3,
   "id": "c6ba8f17-24de-45ff-b332-9f536484d081",
   "metadata": {},
   "outputs": [],
   "source": [
    "import numpy as np"
   ]
  },
  {
   "cell_type": "markdown",
   "id": "ccbe1dea-c7e0-40bf-961c-1d747b0e91d4",
   "metadata": {},
   "source": [
    "Carregam dades del problema"
   ]
  },
  {
   "cell_type": "code",
   "execution_count": 4,
   "id": "9c4e07df-0e8b-4f03-bfa4-cd864e546edf",
   "metadata": {},
   "outputs": [],
   "source": [
    "# Aquesta funció ens farà més fàcil carregar les matrius\n",
    "\n",
    "def load_data(group: str, problem: int):\n",
    "    \n",
    "    # carregam fitxer del dataset\n",
    "    data = np.loadtxt('datasets'+group+'/ds'+group+str(ds)+'.txt')\n",
    "    # matriu de vectors\n",
    "    X = data[:, 0:2]\n",
    "    # vector de classes\n",
    "    y = data[:, 2:3]\n",
    "    \n",
    "    # les classes han de ser -1 i +1\n",
    "    # per tant si ens ho passen com a 0 i 1 ho transformam\n",
    "    if np.any(y == 0):\n",
    "        y = 2 * y - 1\n",
    "        \n",
    "    return X, y"
   ]
  },
  {
   "cell_type": "code",
   "execution_count": 5,
   "id": "8afff9b8-8e6a-4dd2-b104-db9fe7f1384e",
   "metadata": {},
   "outputs": [
    {
     "name": "stdout",
     "output_type": "stream",
     "text": [
      "(32, 2) (32, 1)\n"
     ]
    }
   ],
   "source": [
    "# Carregam \n",
    "\n",
    "X, y = load_data(group, ds)\n",
    "\n",
    "print(X.shape, y.shape)"
   ]
  },
  {
   "cell_type": "code",
   "execution_count": 6,
   "id": "04b885e4-b428-48a3-910a-8be7180eae2a",
   "metadata": {},
   "outputs": [
    {
     "data": {
      "text/plain": [
       "32"
      ]
     },
     "execution_count": 6,
     "metadata": {},
     "output_type": "execute_result"
    }
   ],
   "source": [
    "# N és el número de vectors\n",
    "\n",
    "N = X.shape[0]\n",
    "N"
   ]
  },
  {
   "cell_type": "markdown",
   "id": "a759ee86-2e09-4260-a2c3-5ad5e5abda4d",
   "metadata": {},
   "source": [
    "Definim algunes funcions que ens ajudaran a dibuixar la constel·lació"
   ]
  },
  {
   "cell_type": "code",
   "execution_count": 7,
   "id": "94dd9dfd-bcae-45f1-8a6b-37755ebfefda",
   "metadata": {},
   "outputs": [],
   "source": [
    "def get_c_index(vector: np.ndarray, cl_value: int) -> list: \n",
    "    \n",
    "    if not isinstance(vector, np.ndarray):\n",
    "        raise ValueError('El paràmetre vector ha de ser de tipus np.ndarray')\n",
    "    if not isinstance(cl_value, int):\n",
    "        raise ValueError('El paràmetre cl_value ha de ser de tipus enter')\n",
    "        \n",
    "    index = []\n",
    "    for i in range(vector.shape[0]): \n",
    "        if vector[i] == cl_value: \n",
    "            index.append(i)\n",
    "    \n",
    "    return index"
   ]
  },
  {
   "cell_type": "code",
   "execution_count": 8,
   "id": "28b09376-e718-4570-aa90-bbadd356ca03",
   "metadata": {},
   "outputs": [],
   "source": [
    "import matplotlib.pyplot as plt\n",
    "\n",
    "def plot_points(X, y):\n",
    "    \n",
    "    cl_w1_index = get_c_index(y, cl_w1_value)\n",
    "    cl_w2_index = get_c_index(y, cl_w2_value)\n",
    "\n",
    "    ## començam a dibuixar\n",
    "    ##\n",
    "    plt.figure(1)\n",
    "\n",
    "    ## dibuixam els punts per cada classe\n",
    "    ##\n",
    "    plt.plot(X[cl_w1_index, 0], X[cl_w1_index, 1], cl_w1_color) # class w1\n",
    "    plt.plot(X[cl_w2_index, 0], X[cl_w2_index, 1], cl_w2_color) # class w2\n",
    "\n",
    "    ## format\n",
    "    ##\n",
    "    plt.axis('equal')\n",
    "\n",
    "    ## etiquetam el que manca i llest\n",
    "    ##\n",
    "    plt.title('Punts')\n",
    "    \n",
    "    plt.xlabel('x1')\n",
    "    plt.ylabel('x2')\n",
    "\n",
    "    plt.show(block = False)\n",
    "\n",
    "    return"
   ]
  },
  {
   "cell_type": "code",
   "execution_count": 9,
   "id": "ec25b55d-552c-42be-b718-0cbf97de167a",
   "metadata": {},
   "outputs": [
    {
     "data": {
      "image/png": "[encoded data removed]",
      "text/plain": [
       "<Figure size 432x288 with 1 Axes>"
      ]
     },
     "metadata": {
      "needs_background": "light"
     },
     "output_type": "display_data"
    }
   ],
   "source": [
    "plot_points(X, y)"
   ]
  },
  {
   "cell_type": "markdown",
   "id": "89cf86ce-4f24-4232-99cd-430fb55d2965",
   "metadata": {},
   "source": [
    "Vaja, sembla que estam davant un **cas de no linealitat**"
   ]
  },
  {
   "cell_type": "markdown",
   "id": "6faee7d2-42d4-4e50-b2f9-e1c971589223",
   "metadata": {},
   "source": [
    "Per tal de passar a una nou espai, definim la funció \n",
    "$\\Phi(x_1, x_2)=(x_1 x_2, x_1^2 + x_2^2)$\n",
    "\n",
    "La farem servir per a canviar d'espai i convertir aquest problema \n",
    "en un problema linealment separable"
   ]
  },
  {
   "cell_type": "code",
   "execution_count": 10,
   "id": "f680747f-4c16-45d2-9511-8fdf8674b9a1",
   "metadata": {},
   "outputs": [],
   "source": [
    "def phi(X):\n",
    "    \n",
    "    return np.vstack((X[:, 0] * X[:, 1], X[:, 0] * X[:, 0] + X[:, 1] * X[:, 1])).T"
   ]
  },
  {
   "cell_type": "code",
   "execution_count": 11,
   "id": "6f3fd05b-14f2-4fce-af5e-d88e8b175a5f",
   "metadata": {},
   "outputs": [
    {
     "data": {
      "text/plain": [
       "array([[ 0.34648833,  0.96764008],\n",
       "       [ 0.03860235,  0.303081  ],\n",
       "       [ 0.32763657,  0.89788854],\n",
       "       [ 0.03063328,  0.27239467],\n",
       "       [-0.08412346,  1.07084099],\n",
       "       [-0.14345607,  0.29126741],\n",
       "       [-0.48874978,  0.98947632],\n",
       "       [-0.14014824,  0.30198011],\n",
       "       [-0.52360039,  1.05205144],\n",
       "       [-0.37234231,  1.03261038],\n",
       "       [-0.08555845,  0.23933256],\n",
       "       [ 0.32331348,  0.99559654],\n",
       "       [ 0.02258319,  0.95958436],\n",
       "       [-0.01130112,  0.18464081],\n",
       "       [ 0.08748224,  0.22618607],\n",
       "       [ 0.50038937,  1.00595292],\n",
       "       [ 0.60696537,  1.21487467],\n",
       "       [ 0.11478483,  0.23816458],\n",
       "       [-0.00794429,  0.1764585 ],\n",
       "       [-0.14826954,  0.29791109],\n",
       "       [ 0.08392342,  0.17497222],\n",
       "       [ 0.08453322,  0.19616107],\n",
       "       [-0.08796035,  0.23075377],\n",
       "       [-0.06013565,  0.94134823],\n",
       "       [-0.03824405,  1.11735654],\n",
       "       [-0.42409856,  1.02003836],\n",
       "       [-0.03794782,  0.15659263],\n",
       "       [-0.41730921,  1.12164731],\n",
       "       [ 0.36547264,  0.99039982],\n",
       "       [ 0.08022129,  0.20327709],\n",
       "       [-0.32094116,  1.00191081],\n",
       "       [ 0.18206985,  0.3799768 ]])"
      ]
     },
     "execution_count": 11,
     "metadata": {},
     "output_type": "execute_result"
    }
   ],
   "source": [
    "X_trans = phi(X)\n",
    "X_trans"
   ]
  },
  {
   "cell_type": "code",
   "execution_count": 12,
   "id": "e9b608f8-eed3-4ba4-9dfa-f41ed141ebcf",
   "metadata": {},
   "outputs": [
    {
     "data": {
      "image/png": "[encoded data removed]",
      "text/plain": [
       "<Figure size 432x288 with 1 Axes>"
      ]
     },
     "metadata": {
      "needs_background": "light"
     },
     "output_type": "display_data"
    }
   ],
   "source": [
    "plot_points(X_trans, y)"
   ]
  },
  {
   "cell_type": "markdown",
   "id": "ba6492d8-c746-4e2c-8179-9de592da1d81",
   "metadata": {},
   "source": [
    "Definim una funció per a calcular la matriu $H$"
   ]
  },
  {
   "cell_type": "code",
   "execution_count": 13,
   "id": "a6c4950d-bb03-4e3e-b086-1274c4082ac5",
   "metadata": {},
   "outputs": [],
   "source": [
    "def build_H(X: np.array, y: np.array):\n",
    "    \n",
    "    P = np.multiply(np.dot(y, y.T), np.dot(X, X.T))\n",
    "\n",
    "    return P"
   ]
  },
  {
   "cell_type": "code",
   "execution_count": 14,
   "id": "bffebc98-5476-49d6-8bb6-d48c3b877473",
   "metadata": {},
   "outputs": [
    {
     "data": {
      "text/plain": [
       "array([[ 1.05638149, -0.30664858,  0.98235519, ..., -0.2244948 ,\n",
       "         0.85828669, -0.43076586],\n",
       "       [-0.30664858,  0.09334823, -0.2847805 , ...,  0.06470615,\n",
       "        -0.29127105,  0.12219207],\n",
       "       [ 0.98235519, -0.2847805 ,  0.91354955, ..., -0.2088036 ,\n",
       "         0.79445217, -0.40082955],\n",
       "       ...,\n",
       "       [-0.2244948 ,  0.06470615, -0.2088036 , ...,  0.04775703,\n",
       "        -0.1779192 ,  0.09184646],\n",
       "       [ 0.85828669, -0.29127105,  0.79445217, ..., -0.1779192 ,\n",
       "         1.10682849, -0.32226915],\n",
       "       [-0.43076586,  0.12219207, -0.40082955, ...,  0.09184646,\n",
       "        -0.32226915,  0.1775318 ]])"
      ]
     },
     "execution_count": 14,
     "metadata": {},
     "output_type": "execute_result"
    }
   ],
   "source": [
    "# Calculam la matriu dels productes creuats\n",
    "\n",
    "P = build_H(X_trans, y)\n",
    "P"
   ]
  },
  {
   "cell_type": "code",
   "execution_count": 15,
   "id": "94d1202a-e0c6-4761-8a63-0ea2a5d067f3",
   "metadata": {},
   "outputs": [],
   "source": [
    "# Calculam els vectors del sistema a resoldre \n",
    "# (que ha generat la funció Lagrangiana)\n",
    "\n",
    "q = -np.ones((N,))\n",
    "G = -np.identity(N)\n",
    "h = np.zeros((N,))\n",
    "A = y.reshape((1,-1))\n",
    "b = np.zeros(1)"
   ]
  },
  {
   "cell_type": "code",
   "execution_count": 16,
   "id": "8ab86b73-20df-47f4-9945-3b03ade441cb",
   "metadata": {},
   "outputs": [
    {
     "data": {
      "text/plain": [
       "array([3.16918136e-08, 2.37298787e-08, 5.51413383e+00, 1.80786491e-08,\n",
       "       1.81827712e-08, 1.77072147e-08, 1.96688766e-05, 1.92109984e-08,\n",
       "       3.81868932e-08, 4.01610199e-08, 1.33446630e-08, 2.36075595e-08,\n",
       "       8.25800384e-08, 1.05896639e-08, 1.38963539e-08, 1.80986895e-08,\n",
       "       6.67617586e-09, 1.52617176e-08, 1.02295078e-08, 1.84920697e-08,\n",
       "       1.06438856e-08, 1.17817486e-08, 1.27150561e-08, 1.58163679e+00,\n",
       "       1.29537460e-08, 5.78970061e-08, 9.28633159e-09, 1.64167183e-08,\n",
       "       2.37012661e-08, 1.21867782e-08, 6.97940997e-08, 7.09579052e+00])"
      ]
     },
     "execution_count": 16,
     "metadata": {},
     "output_type": "execute_result"
    }
   ],
   "source": [
    "# Importam la funció que ho soluciona (ho fa cridant a cxvopt)\n",
    "\n",
    "from qpsolvers import solve_qp\n",
    "\n",
    "# Cridam al solucionador del sistema lineal\n",
    "\n",
    "lm = solve_qp(P, q, G, h, A, b, solver = 'cvxopt')\n",
    "\n",
    "# Miram quins paràmetres ens ha retornat\n",
    "lm"
   ]
  },
  {
   "cell_type": "code",
   "execution_count": 17,
   "id": "68ec7935-70a6-416e-bfd7-5556f80d5335",
   "metadata": {
    "jupyter": {
     "source_hidden": true
    },
    "tags": []
   },
   "outputs": [],
   "source": [
    "# Definim una funció per posar a zero els valors molt petits\n",
    "# Aquests quasi-zeros es produeixen per mor de la precissió de càlcul, \n",
    "# però en realitat, en el nostre cas, haurien de de ser zeros\n",
    "\n",
    "import numpy as np \n",
    "\n",
    "def epsilize(vector: object, eps: float = 1e-6, target: float = 0.) -> np.ndarray:\n",
    "    \n",
    "    if not isinstance(eps, float):\n",
    "        raise ValueError('El paràmetre eps (epsilon) ha de ser de tipus float')\n",
    "        \n",
    "    if not isinstance(target, float):\n",
    "        raise ValueError('El paràmetre target ha de ser de tipus float')\n",
    "        \n",
    "    if isinstance(vector, np.ndarray):\n",
    "        for i in range(vector.shape[0]): \n",
    "            if np.abs(target - vector[i]) < eps: \n",
    "                vector[i] = target\n",
    "    elif isinstance(vector, float):\n",
    "        if np.abs(target - vector) < eps:\n",
    "            vector = target\n",
    "    else:\n",
    "        raise ValueError('El paràmetre vector ha de ser de tipus np.ndarray o un sol valor float')\n",
    "\n",
    "    return vector"
   ]
  },
  {
   "cell_type": "code",
   "execution_count": 18,
   "id": "3b5fd5ca-bce3-407b-adc3-e14e3b3b56e1",
   "metadata": {
    "tags": []
   },
   "outputs": [
    {
     "data": {
      "text/plain": [
       "array([0.00000000e+00, 0.00000000e+00, 5.51413383e+00, 0.00000000e+00,\n",
       "       0.00000000e+00, 0.00000000e+00, 1.96688766e-05, 0.00000000e+00,\n",
       "       0.00000000e+00, 0.00000000e+00, 0.00000000e+00, 0.00000000e+00,\n",
       "       0.00000000e+00, 0.00000000e+00, 0.00000000e+00, 0.00000000e+00,\n",
       "       0.00000000e+00, 0.00000000e+00, 0.00000000e+00, 0.00000000e+00,\n",
       "       0.00000000e+00, 0.00000000e+00, 0.00000000e+00, 1.58163679e+00,\n",
       "       0.00000000e+00, 0.00000000e+00, 0.00000000e+00, 0.00000000e+00,\n",
       "       0.00000000e+00, 0.00000000e+00, 0.00000000e+00, 7.09579052e+00])"
      ]
     },
     "execution_count": 18,
     "metadata": {},
     "output_type": "execute_result"
    }
   ],
   "source": [
    "# Netejam a la matriu els valors quasi nuls\n",
    "\n",
    "lm = epsilize(lm, eps = 1e-6)\n",
    "\n",
    "lm"
   ]
  },
  {
   "cell_type": "markdown",
   "id": "9f5a637b-8955-424c-8d0e-78716a3a64a8",
   "metadata": {},
   "source": [
    "Ara que ja tenim el multiplicadors de KKT, $\\lambda_i$, \n",
    "podem saber quin són els nostres vectors de suport. \n",
    "Per a fer-ho cream una funció que ens ajudi:"
   ]
  },
  {
   "cell_type": "code",
   "execution_count": 19,
   "id": "98b08ff8-713f-4f82-b0b8-00e7aa63f84c",
   "metadata": {},
   "outputs": [],
   "source": [
    "import numpy as np\n",
    "\n",
    "def get_sv_index(vector: np.ndarray) -> list: \n",
    "    \n",
    "    if not isinstance(vector, np.ndarray):\n",
    "        raise ValueError('El paràmetre vector ha de ser de tipus np.ndarray')\n",
    "        \n",
    "    index = []\n",
    "    for i in range(vector.shape[0]): \n",
    "        if vector[i] != 0: \n",
    "            index.append(i)\n",
    "    \n",
    "    return index"
   ]
  },
  {
   "cell_type": "markdown",
   "id": "513b7dea-0a1c-42a5-ac8f-9e318378a993",
   "metadata": {},
   "source": [
    "Aquesta és la ubicació dins la matriu de vectors que ocupen els \n",
    "punts que són vectors de suport:"
   ]
  },
  {
   "cell_type": "code",
   "execution_count": 20,
   "id": "041b12b5-d885-412e-bde8-6616509872cf",
   "metadata": {
    "tags": []
   },
   "outputs": [
    {
     "data": {
      "text/plain": [
       "[2, 6, 23, 31]"
      ]
     },
     "execution_count": 20,
     "metadata": {},
     "output_type": "execute_result"
    }
   ],
   "source": [
    "sv_index = get_sv_index(lm)\n",
    "sv_index"
   ]
  },
  {
   "cell_type": "markdown",
   "id": "7e4f48b4-201d-43f5-97ed-5704f56fe7c3",
   "metadata": {},
   "source": [
    "#### Resultat punt a.1"
   ]
  },
  {
   "cell_type": "markdown",
   "id": "819a8af2-00d9-4459-af0c-e1645105b958",
   "metadata": {},
   "source": [
    "I aquests són els vectors de suport del nostre conjunt\n",
    "a **l'espai original**:"
   ]
  },
  {
   "cell_type": "code",
   "execution_count": 21,
   "id": "7cfad295-bf2e-4e26-bd40-4a44cb0a7bcd",
   "metadata": {},
   "outputs": [
    {
     "data": {
      "text/plain": [
       "array([[ 0.86940956,  0.37684951],\n",
       "       [-0.75596376,  0.64652541],\n",
       "       [-0.96824109,  0.06210814],\n",
       "       [-0.49423371, -0.36838816]])"
      ]
     },
     "execution_count": 21,
     "metadata": {},
     "output_type": "execute_result"
    }
   ],
   "source": [
    "sv = X[sv_index]\n",
    "sv"
   ]
  },
  {
   "cell_type": "markdown",
   "id": "48186a51-999e-46b9-a680-7d409f8a9c50",
   "metadata": {},
   "source": [
    "---"
   ]
  },
  {
   "cell_type": "markdown",
   "id": "70800f9e-b9bb-49e3-9d36-ea2e0e81127c",
   "metadata": {},
   "source": [
    "#### Punt a.2"
   ]
  },
  {
   "cell_type": "markdown",
   "id": "bf2297f0-780d-41b4-88e9-2e0d66b89b80",
   "metadata": {},
   "source": [
    "Al següent punt ens demanen \n",
    "que calculem quina és la funció de decisió.\n",
    "$$g(x) = w^T \\cdot x + w_0$$"
   ]
  },
  {
   "cell_type": "markdown",
   "id": "129db27e-e4b7-4521-b3a5-af24d5ff8c9f",
   "metadata": {},
   "source": [
    "A l'espai transformat i a l'espai original."
   ]
  },
  {
   "cell_type": "markdown",
   "id": "10ff5d85-4054-4961-b47c-d58b66dc61c5",
   "metadata": {},
   "source": [
    "On $w$ és la següent combinació lineal:\n",
    "$$w = \\sum_{i | \\lambda_i \\ne 0}{\\lambda_i y_i x_i}$$"
   ]
  },
  {
   "cell_type": "markdown",
   "id": "17a77a73-0e75-4632-90bb-e833e21a0ba3",
   "metadata": {},
   "source": [
    "I $w_0$ es calcula com el promig de tots els seus valors possibles\n",
    "per tal de mitigar els errors en precisió:\n",
    "$$w_0 = \\frac{1}{N_\\lambda} \\sum_{i | \\lambda_i \\ne 0}{\\left( y_i - w^T x_i \\right)}$$\n",
    "O de forma equivalent:\n",
    "$$w_0 = \\frac{1}{N_\\lambda} \\left[ \\sum_{i | \\lambda_i \\ne 0}{y_i} - \\sum_{i,j | \\lambda_i, \\lambda_j \\ne 0}{\\lambda_j y_j x_j^T x_i} \\right]$$"
   ]
  },
  {
   "cell_type": "markdown",
   "id": "e46ec2a5-f41b-45cd-b1ca-cf5371f94f5e",
   "metadata": {},
   "source": [
    "Definirem dues funcions per encapsular els càlculs:"
   ]
  },
  {
   "cell_type": "code",
   "execution_count": 22,
   "id": "3de2ee4a-5b70-4075-9684-c20aaf14b6fe",
   "metadata": {
    "jupyter": {
     "source_hidden": true
    },
    "tags": []
   },
   "outputs": [],
   "source": [
    "import numpy as np\n",
    "\n",
    "def get_w(lamb, y, X: np.ndarray) -> np.ndarray: \n",
    "    \n",
    "    if not isinstance(lamb, np.ndarray):\n",
    "        raise ValueError('lamb (vector de multiplicadors de KKT) ha de ser de tipus np.ndarray')\n",
    "    if not isinstance(y, np.ndarray):\n",
    "        raise ValueError('y (vector dels indicadors de classe) ha de ser de tipus np.ndarray')\n",
    "    if not isinstance(X, np.ndarray):\n",
    "        raise ValueError('X (matriu de punts) ha de ser de tipus np.ndarray')\n",
    "        \n",
    "    w = np.zeros(X.shape[1])\n",
    "    for i in get_sv_index(lamb): \n",
    "        w += lamb[i] * y[i] * X[i]\n",
    "    \n",
    "    return w"
   ]
  },
  {
   "cell_type": "code",
   "execution_count": 23,
   "id": "690bb6b3-bbbe-469f-a409-2280a2e48438",
   "metadata": {
    "jupyter": {
     "source_hidden": true
    },
    "tags": []
   },
   "outputs": [],
   "source": [
    "import numpy as np\n",
    "\n",
    "def get_w0(lamb, y, X: np.ndarray) -> float: \n",
    "    \n",
    "    if not isinstance(lamb, np.ndarray):\n",
    "        raise ValueError('lamb (vector de multiplicadors de KKT) ha de ser de tipus np.ndarray')\n",
    "    if not isinstance(y, np.ndarray):\n",
    "        raise ValueError('y (vector dels indicadors de classe) ha de ser de tipus np.ndarray')\n",
    "    if not isinstance(X, np.ndarray):\n",
    "        raise ValueError('X (matriu de punts) ha de ser de tipus np.ndarray')\n",
    "    \n",
    "    lambs_index = get_sv_index(lamb)\n",
    "    # N_lambda\n",
    "    n_lambs = len(lambs_index)\n",
    "    \n",
    "    if n_lambs == 0: raise ValueError('el número de multiplicadors no pot ser zero')\n",
    "\n",
    "    sum1 = np.sum(y[lambs_index])\n",
    "\n",
    "    sum2 = 0\n",
    "    for i in lambs_index:\n",
    "        for j in lambs_index:\n",
    "            sum2 += lamb[j] * y[j] * float(np.dot(X[j].T, X[i]))\n",
    "\n",
    "\n",
    "    w0 = (sum1 - sum2) / n_lambs\n",
    "\n",
    "    return w0"
   ]
  },
  {
   "cell_type": "markdown",
   "id": "6af3b454-45bc-43a5-91be-8b50c8eccaa9",
   "metadata": {},
   "source": [
    "#### Resultat punt a.2"
   ]
  },
  {
   "cell_type": "markdown",
   "id": "40dee314-26af-4d57-a32e-2e1b3f4ecf9b",
   "metadata": {},
   "source": [
    "Ens demanen que cerquem les dues funcions de decisió: "
   ]
  },
  {
   "cell_type": "markdown",
   "id": "3f5f5ee8-d928-4339-8946-178d7ab17584",
   "metadata": {},
   "source": [
    "Espai transformat: $$g_1(x') = w^T x' + w_0' [x' = \\Phi(x)]$$\n",
    "\n",
    "Espai original: $$g_2(x) = w^T x + w_0$$"
   ]
  },
  {
   "cell_type": "markdown",
   "id": "a1af2588-2cc7-45f8-bde8-5923c80fcd93",
   "metadata": {},
   "source": [
    "Definim una funció genèrica, que ens servirà com a primitiva de les dues que cercam:"
   ]
  },
  {
   "cell_type": "code",
   "execution_count": 24,
   "id": "92b32884-94df-4a3c-97ac-eb42a4140900",
   "metadata": {},
   "outputs": [],
   "source": [
    "def g_func(x, w: np.ndarray, w0: float) -> np.ndarray:\n",
    "    \n",
    "    return np.dot(w.T, x) + w0"
   ]
  },
  {
   "cell_type": "markdown",
   "id": "5d44b24f-6ad4-451c-bb99-bd9350d84104",
   "metadata": {},
   "source": [
    "I calculam els coeficients i el terme independent per a cada cas:"
   ]
  },
  {
   "cell_type": "code",
   "execution_count": 25,
   "id": "edd95b25-e7c2-4d2c-a2ae-e41cab028bbc",
   "metadata": {},
   "outputs": [
    {
     "data": {
      "text/plain": [
       "array([-0.41958002, -3.74373229])"
      ]
     },
     "execution_count": 25,
     "metadata": {},
     "output_type": "execute_result"
    }
   ],
   "source": [
    "w_trans = get_w(lm, y, X_trans)\n",
    "w_trans"
   ]
  },
  {
   "cell_type": "code",
   "execution_count": 26,
   "id": "fcd74a23-4965-4ea6-b4ce-e850764caf7b",
   "metadata": {
    "tags": []
   },
   "outputs": [
    {
     "data": {
      "text/plain": [
       "array([2.4990093])"
      ]
     },
     "execution_count": 26,
     "metadata": {},
     "output_type": "execute_result"
    }
   ],
   "source": [
    "w0_trans = get_w0(lm, y, X_trans)\n",
    "w0_trans"
   ]
  },
  {
   "cell_type": "markdown",
   "id": "9c403608-75fe-4f73-9448-3bd77ae3d1f2",
   "metadata": {},
   "source": [
    "Per tant la funció de decisió a l'espai transformat serà:"
   ]
  },
  {
   "cell_type": "code",
   "execution_count": 27,
   "id": "3927ec17-0197-4427-8f23-7717246dd468",
   "metadata": {},
   "outputs": [],
   "source": [
    "# Funció de decisió  l'espai transformat\n",
    "\n",
    "def g1(x):\n",
    "    \n",
    "    return g_func(x, w_trans, w0_trans)"
   ]
  },
  {
   "cell_type": "markdown",
   "id": "3aae310a-04c0-4758-b9d6-f5858bcc5a76",
   "metadata": {
    "tags": []
   },
   "source": [
    "La provam i aprofitam la nostra funció `epsilize` per arrodonir \n",
    "el valor dels punts que cauen a prop del llindar de decisió.\n",
    "Així és més fàcil confirmar si hi ha vectors de suport degenerats\n",
    "(vectors en el llindar de decisió \n",
    "però que no cal tenir en compte per a la determinació de l'hiperplà):"
   ]
  },
  {
   "cell_type": "code",
   "execution_count": 28,
   "id": "15bd489e-4a51-41df-a0cb-21bb70d2815a",
   "metadata": {
    "tags": []
   },
   "outputs": [
    {
     "name": "stdout",
     "output_type": "stream",
     "text": [
      "g1(x 0) = -1.26895569  y( 0) = -1.0\n",
      "g1(x 1) = +1.34815841  y( 1) = +1.0\n",
      "g1(x 2) = -1.00000000  y( 2) = -1.0\n",
      "g1(x 3) = +1.46638348  y( 3) = +1.0\n",
      "g1(x 4) = -1.47463616  y( 4) = -1.0\n",
      "g1(x 5) = +1.46877338  y( 5) = +1.0\n",
      "g1(x 6) = -1.00000000  y( 6) = -1.0\n",
      "g1(x 7) = +1.42728000  y( 7) = +1.0\n",
      "g1(x 8) = -1.21989738  y( 8) = -1.0\n",
      "g1(x 9) = -1.21058014  y( 9) = -1.0\n",
      "g1(x10) = +1.63891087  y(10) = +1.0\n",
      "g1(x11) = -1.36389348  y(11) = -1.0\n",
      "g1(x12) = -1.10289312  y(12) = -1.0\n",
      "g1(x13) = +1.81250525  y(13) = +1.0\n",
      "g1(x14) = +1.61552340  y(14) = +1.0\n",
      "g1(x15) = -1.47696251  y(15) = -1.0\n",
      "g1(x16) = -2.30382677  y(16) = -1.0\n",
      "g1(x17) = +1.55922346  y(17) = +1.0\n",
      "g1(x18) = +1.84172919  y(18) = +1.0\n",
      "g1(x19) = +1.44592088  y(19) = +1.0\n",
      "g1(x20) = +1.80874756  y(20) = +1.0\n",
      "g1(x21) = +1.72916634  y(21) = +1.0\n",
      "g1(x22) = +1.67203537  y(22) = +1.0\n",
      "g1(x23) = -1.00000000  y(23) = -1.0\n",
      "g1(x24) = -1.66802803  y(24) = -1.0\n",
      "g1(x25) = -1.14179795  y(25) = -1.0\n",
      "g1(x26) = +1.92869055  y(26) = +1.0\n",
      "g1(x27) = -1.52504334  y(27) = -1.0\n",
      "g1(x28) = -1.36212751  y(28) = -1.0\n",
      "g1(x29) = +1.70433505  y(29) = +1.0\n",
      "g1(x30) = -1.11721604  y(30) = -1.0\n",
      "g1(x31) = +1.00000000  y(31) = +1.0\n",
      "\n",
      "Errors de classificació: 0\n"
     ]
    }
   ],
   "source": [
    "def bound(x, eps): \n",
    "    return epsilize(epsilize(x, eps, target = 1.), eps, target = -1.)\n",
    "\n",
    "def print_g(g, X, y, eps = 1e-6):\n",
    "    n_errors = 0\n",
    "    for i in range(X.shape[0]):\n",
    "        print(f\"g1(x{i:2}) = {bound(g(X[i]), eps).item():+.8f}\"\n",
    "              f\"  y({i:2}) = {y[i].item():+1}\")\n",
    "        if np.sign(g(X[i]).item()) * y[i].item() == -1:\n",
    "            n_errors += 1\n",
    "    print(f\"\\nErrors de classificació: {n_errors}\")\n",
    "    \n",
    "    return\n",
    "\n",
    "# Utilitzam una tolerància de 10^-3 per tal de poder arrodonir \n",
    "# el valor de g(x) quan x és un vector de suport\n",
    "print_g(g1, X_trans, y, 1e-3)"
   ]
  },
  {
   "cell_type": "markdown",
   "id": "b0807a89-0f3b-4580-9df7-df9f19ead78b",
   "metadata": {},
   "source": [
    "Comprovam que la funció $g_1(x)$ (espai transformat) està classificant correctament."
   ]
  },
  {
   "cell_type": "markdown",
   "id": "3faa3351-8835-4008-b5c1-96a63deaa571",
   "metadata": {},
   "source": [
    "> **Nota :** Per tal de visibilitzar els vectors de suport, hem hagut de fer servir la **tolerància 1e-3**,\n",
    "bastant més elevada que la original 1e-6. \n",
    "Suposam que és per mor de la precisió numèrica de *Python*."
   ]
  },
  {
   "cell_type": "code",
   "execution_count": 29,
   "id": "fc4579b7-188a-457c-9eef-48d6d9813ed8",
   "metadata": {},
   "outputs": [
    {
     "data": {
      "text/plain": [
       "array([-6.76959894, -4.79024911])"
      ]
     },
     "execution_count": 29,
     "metadata": {},
     "output_type": "execute_result"
    }
   ],
   "source": [
    "w = get_w(lm, y, X)\n",
    "w"
   ]
  },
  {
   "cell_type": "code",
   "execution_count": 30,
   "id": "439769cd-314f-4188-8c5a-456c465203a7",
   "metadata": {
    "tags": []
   },
   "outputs": [
    {
     "data": {
      "text/plain": [
       "array([-1.92433053])"
      ]
     },
     "execution_count": 30,
     "metadata": {},
     "output_type": "execute_result"
    }
   ],
   "source": [
    "w0 = get_w0(lm, y, X)\n",
    "w0"
   ]
  },
  {
   "cell_type": "markdown",
   "id": "c98d925b-7ae6-4773-94ee-c08d54aa4f56",
   "metadata": {},
   "source": [
    "Per tant la funció de decisió a l'espai original serà:"
   ]
  },
  {
   "cell_type": "code",
   "execution_count": 31,
   "id": "1c475107-3e66-4c23-9cad-b65efce1b7c2",
   "metadata": {},
   "outputs": [],
   "source": [
    "# Funció de decisió a l'espai original\n",
    "\n",
    "def g2(x):\n",
    "    \n",
    "    return g_func(x, w, w0)"
   ]
  },
  {
   "cell_type": "code",
   "execution_count": 32,
   "id": "2496f535-9532-47ee-a9d9-5355f9356942",
   "metadata": {
    "tags": []
   },
   "outputs": [
    {
     "name": "stdout",
     "output_type": "stream",
     "text": [
      "g1(x 0) = -8.90515458  y( 0) = -1.0\n",
      "g1(x 1) = -3.63748642  y( 1) = +1.0\n",
      "g1(x 2) = -8.44340849  y( 2) = -1.0\n",
      "g1(x 3) = -3.43654383  y( 3) = +1.0\n",
      "g1(x 4) = -6.48444356  y( 4) = -1.0\n",
      "g1(x 5) = -2.34843391  y( 5) = +1.0\n",
      "g1(x 6) = -3.35552857  y( 6) = -1.0\n",
      "g1(x 7) = -2.42214309  y( 7) = +1.0\n",
      "g1(x 8) = -3.41935438  y( 8) = -1.0\n",
      "g1(x 9) = -4.35018336  y( 9) = -1.0\n",
      "g1(x10) = -2.49159671  y(10) = +1.0\n",
      "g1(x11) = -8.88218854  y(11) = -1.0\n",
      "g1(x12) = -6.67385779  y(12) = -1.0\n",
      "g1(x13) = -2.73230200  y(13) = +1.0\n",
      "g1(x14) = -3.60003785  y(14) = +1.0\n",
      "g1(x15) = -10.13053096  y(15) = -1.0\n",
      "g1(x16) = -11.85279494  y(16) = -1.0\n",
      "g1(x17) = -3.84224545  y(17) = +1.0\n",
      "g1(x18) = -2.71583103  y(18) = +1.0\n",
      "g1(x19) = -2.34767354  y(19) = +1.0\n",
      "g1(x20) = -3.33061893  y(20) = +1.0\n",
      "g1(x21) = -3.43624692  y(21) = +1.0\n",
      "g1(x22) = -2.43424228  y(22) = +1.0\n",
      "g1(x23) = -6.02652881  y(23) = -1.0\n",
      "g1(x24) = -7.01784985  y(24) = -1.0\n",
      "g1(x25) = -3.93959123  y(25) = -1.0\n",
      "g1(x26) = -2.41755673  y(26) = +1.0\n",
      "g1(x27) = -4.47228459  y(27) = -1.0\n",
      "g1(x28) = -9.14269557  y(28) = -1.0\n",
      "g1(x29) = -3.44114439  y(29) = +1.0\n",
      "g1(x30) = -4.55108998  y(30) = -1.0\n",
      "g1(x31) = -4.97705389  y(31) = +1.0\n",
      "\n",
      "Errors de classificació: 16\n"
     ]
    }
   ],
   "source": [
    "print_g(g2, X_trans, y)"
   ]
  },
  {
   "cell_type": "markdown",
   "id": "b059df50-6aa0-4b35-910f-e1b21526659b",
   "metadata": {},
   "source": [
    "---"
   ]
  },
  {
   "cell_type": "markdown",
   "id": "a731238b-f169-480f-9cf9-aa1e85ac0684",
   "metadata": {},
   "source": [
    "### Apartat (b)"
   ]
  },
  {
   "cell_type": "markdown",
   "id": "730e9989-7b94-4959-8e39-88c57d9abc7f",
   "metadata": {
    "tags": []
   },
   "source": [
    "b) Generate the following plots:\n",
    "1. a first plot with the *training samples* \n",
    "in the *transformed space*,\n",
    "highlighting the *support vectors* \n",
    "and plotting the 2D *decision curve*;\n",
    "2. a second plot with the *training samples* \n",
    "in the *original space*,\n",
    "highlighting the *support vectors* \n",
    "and plotting the 2D *decision curve*; and\n",
    "3. a third plot with the *classification map* **in the *original space***, \n",
    "i.e. evaluate the decision function \n",
    "for a ’regular’ subset (grid)\n",
    "of points.\n",
    "\n",
    "Use different markers and/or colours for each class. See the appendix for examples of the requested plots"
   ]
  },
  {
   "cell_type": "markdown",
   "id": "d6c60973-8305-4c52-8452-c4777b681fd3",
   "metadata": {},
   "source": [
    "### Resposta apartat (b)"
   ]
  },
  {
   "cell_type": "markdown",
   "id": "fd28cb82-d7be-4b55-91ec-835997a44cb8",
   "metadata": {},
   "source": [
    "Per a fer el diagrames serà pràctic crear una funció \n",
    "que ens ajudi a confeccionar les llistes dels components de cada classe:"
   ]
  },
  {
   "cell_type": "code",
   "execution_count": 33,
   "id": "a3a7a550-5e33-4a04-88c4-6edaccde59aa",
   "metadata": {},
   "outputs": [
    {
     "data": {
      "text/plain": [
       "[1, 3, 5, 7, 10, 13, 14, 17, 18, 19, 20, 21, 22, 26, 29, 31]"
      ]
     },
     "execution_count": 33,
     "metadata": {},
     "output_type": "execute_result"
    }
   ],
   "source": [
    "cl_w1_index = get_c_index(y, cl_w1_value)\n",
    "\n",
    "cl_w1_index"
   ]
  },
  {
   "cell_type": "code",
   "execution_count": 34,
   "id": "51eafe89-2486-4f1b-b78a-28cbad6efe95",
   "metadata": {},
   "outputs": [
    {
     "data": {
      "text/plain": [
       "[0, 2, 4, 6, 8, 9, 11, 12, 15, 16, 23, 24, 25, 27, 28, 30]"
      ]
     },
     "execution_count": 34,
     "metadata": {},
     "output_type": "execute_result"
    }
   ],
   "source": [
    "cl_w2_index = get_c_index(y, cl_w2_value)\n",
    "\n",
    "cl_w2_index"
   ]
  },
  {
   "cell_type": "markdown",
   "id": "131376f2-958a-4557-9c4c-8f9ccbb214f4",
   "metadata": {},
   "source": [
    "#### Resultat punt b.1"
   ]
  },
  {
   "cell_type": "markdown",
   "id": "53f7411b-8015-4b65-a9ba-8f453a12151a",
   "metadata": {},
   "source": [
    "Definim algunes funcions necessàries per a fer els diagrames."
   ]
  },
  {
   "cell_type": "code",
   "execution_count": 35,
   "id": "dccd63e6-5acb-45fc-8332-3acdeb0e3169",
   "metadata": {
    "tags": []
   },
   "outputs": [],
   "source": [
    "import numpy as np\n",
    "\n",
    "def get_view_limits(X: np.ndarray):\n",
    "    \n",
    "    ### límits del diagrama:\n",
    "    x_left = np.floor(np.amin(X, axis = 0)[0])\n",
    "    x_right = np.ceil(np.amax(X, axis = 0)[0])\n",
    "    y_top = np.ceil(np.amax(X, axis = 0)[1])\n",
    "    y_bottom = np.floor(np.amin(X, axis = 0)[1])\n",
    "    \n",
    "    return x_left, x_right, y_bottom, y_top\n",
    "\n",
    "\n",
    "def get_mesh(g_func, \n",
    "             x_left: float, x_right: float, y_bottom: float, y_top: float, \n",
    "             res: int = 100):\n",
    "\n",
    "    # calcula malla\n",
    "    \n",
    "    xx = np.linspace(x_left, x_right, res)\n",
    "    yy = np.linspace(y_bottom, y_top, res)\n",
    "    XX, YY = np.meshgrid(xx, yy, indexing = 'ij')\n",
    "    Z = np.zeros((res * res, 1))\n",
    "\n",
    "    k = 0\n",
    "    for x1 in xx:\n",
    "        for x2 in yy:\n",
    "            Z[k] = g_func((x1, x2))\n",
    "            k += 1\n",
    "\n",
    "    return XX, YY, Z"
   ]
  },
  {
   "cell_type": "code",
   "execution_count": 36,
   "id": "27e5cf46-a372-4c4e-acf1-68deed2e0617",
   "metadata": {
    "tags": []
   },
   "outputs": [],
   "source": [
    "import numpy as np\n",
    "import matplotlib.pyplot as plt\n",
    "\n",
    "def plot_scatter_contour(X: np.ndarray, y: np.ndarray, sv: list, \n",
    "                         g_func):\n",
    "    \n",
    "    # plot samples, highlighting some of them\n",
    "\n",
    "    ## calcula límits cartesians a representar\n",
    "    ##\n",
    "    x_left, x_right, y_bottom, y_top = get_view_limits(X)\n",
    "    \n",
    "    ## calcula malla de valors de la funció\n",
    "    ##\n",
    "    XX, YY, Z = get_mesh(g_func, x_left, x_right, y_bottom, y_top)\n",
    "    \n",
    "    ## calcula index de cada classe\n",
    "    cl_w1_index = get_c_index(y, cl_w1_value)\n",
    "    cl_w2_index = get_c_index(y, cl_w2_value)\n",
    "\n",
    "    ## començam a dibuixar\n",
    "    ##\n",
    "    plt.figure(1)\n",
    "\n",
    "\n",
    "    ## dibuixam la corba de decisió i els marges\n",
    "    ##\n",
    "    ax = plt.gca()\n",
    "    ax.contour(XX, YY, Z.reshape(XX.shape), \n",
    "               colors='k',levels=[-1, 0, 1],alpha=0.5,linestyles=['--', '-', '--'])\n",
    "\n",
    "    ## dibuixam els punts per cada classe\n",
    "    ##\n",
    "    plt.plot(X[cl_w1_index, 0], X[cl_w1_index, 1], cl_w1_color) # class w1\n",
    "    plt.plot(X[cl_w2_index, 0], X[cl_w2_index, 1], cl_w2_color) # class w2\n",
    "    hil = sv # samples to highlight\n",
    "\n",
    "    ## i remarcam els vectors de suport\n",
    "    ##\n",
    "    ax2 = plt.gca()\n",
    "    ax2.scatter(X[hil, 0], X[hil, 1], s = 100, \n",
    "               linewidth = 1, facecolors = 'none', edgecolors = 'k')\n",
    "\n",
    "    ## format\n",
    "    ##\n",
    "    plt.xlim([x_left, x_right])\n",
    "    plt.ylim([y_bottom, y_top])\n",
    "    plt.axis('equal')\n",
    "\n",
    "    ## etiquetam el que manca i llest\n",
    "    ##\n",
    "    plt.title('Punts, vectors de suport i corba de decisió amb marges')\n",
    "    \n",
    "    plt.xlabel('x1')\n",
    "    plt.ylabel('x2')\n",
    "\n",
    "    plt.show(block = False)\n",
    "    \n",
    "    return"
   ]
  },
  {
   "cell_type": "code",
   "execution_count": 37,
   "id": "1ff55358-19f4-4086-9655-bfa9f8765cb8",
   "metadata": {
    "tags": []
   },
   "outputs": [],
   "source": [
    "import numpy as np\n",
    "import matplotlib.pyplot as plt\n",
    "import matplotlib.colors as col\n",
    "\n",
    "def plot_map_plane(X: np.ndarray, y: np.ndarray, sv: list, \n",
    "                   g_func): \n",
    "    \n",
    "    # matrix-based predicate evaluation\n",
    "\n",
    "    ## calcula límits cartesians a representar\n",
    "    ##\n",
    "    x_left, x_right, y_bottom, y_top = get_view_limits(X)\n",
    "    \n",
    "    ## calcula malla de valors de la funció\n",
    "    ##\n",
    "    XX, YY, Z = get_mesh(g_func, x_left, x_right, y_bottom, y_top)\n",
    "    \n",
    "    ## calcula index de cada classe\n",
    "    cl_w1_index = get_c_index(y, cl_w1_value)\n",
    "    cl_w2_index = get_c_index(y, cl_w2_value)\n",
    "\n",
    "    ## començam a dibuixar\n",
    "    ##\n",
    "    plt.figure(1)\n",
    "\n",
    "    ## cream paleta de colors\n",
    "    ##\n",
    "    cl_w1_hex_color = '#b01010'  # red\n",
    "    cl_w2_hex_color = '#408030'  # green \n",
    "    paleta = col.LinearSegmentedColormap.from_list(\n",
    "        'SVM_2', [cl_w2_hex_color, cl_w1_hex_color])\n",
    "\n",
    "    ## reduïm a només dues classes\n",
    "    ##\n",
    "    C = np.where(Z >= 0, 1, -1)\n",
    "\n",
    "    ## cream mapa i llegenda\n",
    "    ##\n",
    "    plt.imshow(\n",
    "        C.reshape(XX.shape).T, \n",
    "        origin = 'lower', \n",
    "        extent = (x_left, x_right, y_bottom, y_top), \n",
    "        cmap = paleta)\n",
    "    plt.colorbar()\n",
    "    \n",
    "    ## format\n",
    "    ##\n",
    "    plt.title(\"Mapa de l'avaluació de la funció de classificació\")\n",
    "    \n",
    "    plt.xlabel('x1')\n",
    "    plt.ylabel('x2')\n",
    "    \n",
    "    plt.axis('equal')\n",
    "    \n",
    "    ## mostram\n",
    "    ##\n",
    "    plt.show(block=False) # to force visualization\n",
    "\n",
    "    ## també dibuixarem el plànol en 3D\n",
    "    ##\n",
    "    plt.figure(2)\n",
    "    ax = plt.axes(projection='3d')\n",
    "    \n",
    "    ax.plot_surface(XX, YY, Z.reshape(XX.shape), \n",
    "                    rstride = 1, cstride = 1, \n",
    "                    cmap = paleta, \n",
    "                    edgecolor = 'none')\n",
    "    \n",
    "    ## ajustam l'àngle per veure'l millor\n",
    "    ##\n",
    "    ax.view_init(45, -60)\n",
    "\n",
    "    ## etiquetam el que manca i llest\n",
    "    ##\n",
    "    plt.title('Pla divisor')\n",
    "\n",
    "    plt.xlabel('x1')\n",
    "    plt.ylabel('x2')\n",
    "\n",
    "    plt.show(block = False)\n",
    "    \n",
    "    return"
   ]
  },
  {
   "cell_type": "markdown",
   "id": "fc1dc2c2-a66a-4798-8c35-de62db91fb16",
   "metadata": {},
   "source": [
    "Anem a fer el primer diagrama:"
   ]
  },
  {
   "cell_type": "code",
   "execution_count": 38,
   "id": "7e951a7a-6491-4129-b3ac-4f4f1ca267ad",
   "metadata": {},
   "outputs": [
    {
     "data": {
      "image/png": "[encoded data removed]",
      "text/plain": [
       "<Figure size 432x288 with 1 Axes>"
      ]
     },
     "metadata": {
      "needs_background": "light"
     },
     "output_type": "display_data"
    }
   ],
   "source": [
    "plot_scatter_contour(X_trans, y, sv_index, g1)"
   ]
  },
  {
   "cell_type": "markdown",
   "id": "055b5f65-d600-4242-9698-dce1d718c352",
   "metadata": {},
   "source": [
    "#### Resultat punt b.2"
   ]
  },
  {
   "cell_type": "markdown",
   "id": "e5e2ac6c-2072-40df-af28-c4c8d53a8f5f",
   "metadata": {},
   "source": [
    "El segon mapa seria aquest:"
   ]
  },
  {
   "cell_type": "code",
   "execution_count": 47,
   "id": "ed7c2efc-f2b9-410f-8970-7126b99c5a22",
   "metadata": {},
   "outputs": [
    {
     "data": {
      "image/png": "[encoded data removed]",
      "text/plain": [
       "<Figure size 432x288 with 1 Axes>"
      ]
     },
     "metadata": {
      "needs_background": "light"
     },
     "output_type": "display_data"
    }
   ],
   "source": [
    "plot_scatter_contour(X, y, sv_index, g2)"
   ]
  },
  {
   "cell_type": "markdown",
   "id": "9032e0fa-ed83-4d8e-8974-094ad8961085",
   "metadata": {},
   "source": [
    "#### Resultat punt b.3"
   ]
  },
  {
   "cell_type": "markdown",
   "id": "60eb182d-f19a-4d6d-a30a-5f42e3e1ac53",
   "metadata": {},
   "source": [
    "Anem a fer el tercer diagrama, un mapa de les regions:"
   ]
  },
  {
   "cell_type": "code",
   "execution_count": 49,
   "id": "203e2a35-d12c-4117-abfb-21316fb0ec6f",
   "metadata": {
    "tags": []
   },
   "outputs": [
    {
     "data": {
      "image/png": "[encoded data removed]",
      "text/plain": [
       "<Figure size 432x288 with 2 Axes>"
      ]
     },
     "metadata": {
      "needs_background": "light"
     },
     "output_type": "display_data"
    },
    {
     "data": {
      "image/png": "[encoded data removed]",
      "text/plain": [
       "<Figure size 432x288 with 1 Axes>"
      ]
     },
     "metadata": {
      "needs_background": "light"
     },
     "output_type": "display_data"
    }
   ],
   "source": [
    "plot_map_plane(X, y, sv_index, g2)"
   ]
  },
  {
   "cell_type": "markdown",
   "id": "47c1e00b-9115-446f-94c1-9726b51aa92c",
   "metadata": {},
   "source": [
    "### Apartat (c)"
   ]
  },
  {
   "cell_type": "markdown",
   "id": "73455916-61e8-4b74-b984-580f64eede47",
   "metadata": {},
   "source": [
    "c) Compare the results obtained with the ones resulting from the `scikit-learn SVC` \n",
    "object: i.e. report the *support vectors* returned \n",
    "by `SVC` and the corresponding *decision function*, \n",
    "and provide the same kind of\n",
    "plots requested before.\n",
    "\n",
    "> NOTE: the SVC object solves the soft-margin kernel-based \n",
    "problem, hence you will have to \n",
    "supply the kernel specified in \n",
    "a) –use either `kernel = ’precomputed’` and compute the *gram matrix*, \n",
    "or supply a *callable* kernel when invoking the `SVC` object constructor– and \n",
    "set constant C with a high value, e.g. $10^{16}$, to force a perfect classification of the training set."
   ]
  },
  {
   "cell_type": "code",
   "execution_count": 32,
   "id": "1c0ad361-2fca-4f1c-a2a5-f285d2ed23a4",
   "metadata": {},
   "outputs": [],
   "source": [
    "from sklearn import svm\n",
    "\n",
    "clf = svm.SVC(C = 1e16, kernel = 'linear')\n",
    "clf.fit(X, y.reshape((N,)))\n",
    "\n",
    "sk_sv_index = list(clf.support_)\n",
    "sk_sv = clf.support_vectors_\n",
    "sk_w = clf.coef_.flatten()\n",
    "sk_w0 = clf.intercept_.flatten()"
   ]
  },
  {
   "cell_type": "code",
   "execution_count": 33,
   "id": "f48c4d20-c355-4f6f-8353-170c0fb55949",
   "metadata": {},
   "outputs": [
    {
     "data": {
      "text/plain": [
       "[0, 8, 11]"
      ]
     },
     "execution_count": 33,
     "metadata": {},
     "output_type": "execute_result"
    }
   ],
   "source": [
    "sk_sv_index"
   ]
  },
  {
   "cell_type": "code",
   "execution_count": 34,
   "id": "da5e97b5-94d3-4d29-83e2-89009284724f",
   "metadata": {},
   "outputs": [
    {
     "data": {
      "text/plain": [
       "array([[-1.935394  , -0.50423215],\n",
       "       [ 1.9761613 , -3.61867192],\n",
       "       [ 1.935394  ,  0.50423215]])"
      ]
     },
     "execution_count": 34,
     "metadata": {},
     "output_type": "execute_result"
    }
   ],
   "source": [
    "sk_sv"
   ]
  },
  {
   "cell_type": "code",
   "execution_count": 35,
   "id": "276f7921-64de-42e8-9ab4-e5ae2f59caee",
   "metadata": {},
   "outputs": [
    {
     "data": {
      "text/plain": [
       "array([0.51527214, 0.00509501])"
      ]
     },
     "execution_count": 35,
     "metadata": {},
     "output_type": "execute_result"
    }
   ],
   "source": [
    "sk_w"
   ]
  },
  {
   "cell_type": "code",
   "execution_count": 36,
   "id": "a34d5466-62c6-4a1d-9160-cdd106592d65",
   "metadata": {},
   "outputs": [
    {
     "data": {
      "text/plain": [
       "array([9.08605815e-05, 8.97401563e-07])"
      ]
     },
     "execution_count": 36,
     "metadata": {},
     "output_type": "execute_result"
    }
   ],
   "source": [
    "w - sk_w"
   ]
  },
  {
   "cell_type": "code",
   "execution_count": 37,
   "id": "eb91a090-ba0d-4548-a9ad-fa84b4f7db74",
   "metadata": {},
   "outputs": [
    {
     "data": {
      "text/plain": [
       "array([5.87752244e-05])"
      ]
     },
     "execution_count": 37,
     "metadata": {},
     "output_type": "execute_result"
    }
   ],
   "source": [
    "sk_w0"
   ]
  },
  {
   "cell_type": "code",
   "execution_count": 38,
   "id": "58f93deb-504c-4009-8c30-d51ce702da09",
   "metadata": {},
   "outputs": [
    {
     "data": {
      "text/plain": [
       "array([-5.87692545e-05])"
      ]
     },
     "execution_count": 38,
     "metadata": {},
     "output_type": "execute_result"
    }
   ],
   "source": [
    "w0 - sk_w0"
   ]
  },
  {
   "cell_type": "markdown",
   "id": "4bc809cc-141c-45ba-b1a5-0189012cddfc",
   "metadata": {},
   "source": [
    "Hi ha petites diferències dels valors. \n",
    "Segurament *sci-kit* obté el càlcul de forma distinta \n",
    "al que hem fet, \n",
    "o el paràmetre C no és prou gran."
   ]
  },
  {
   "cell_type": "code",
   "execution_count": 39,
   "id": "b1ab8441-c501-4bfc-9e61-29b16766f4cc",
   "metadata": {},
   "outputs": [
    {
     "name": "stdout",
     "output_type": "stream",
     "text": [
      "g(x0) = [-1.]\n",
      "g(x1) = [-2.49950041]\n",
      "g(x2) = [-2.37452245]\n",
      "g(x3) = [-1.99958857]\n",
      "g(x4) = [-1.37469878]\n",
      "g(x5) = [-1.37469878]\n",
      "g(x6) = [-1.74963265]\n",
      "g(x7) = [-1.12474286]\n",
      "g(x8) = [1.]\n",
      "g(x9) = [1.99970612]\n",
      "g(x10) = [1.74975021]\n",
      "g(x11) = [1.]\n",
      "g(x12) = [1.37481633]\n",
      "g(x13) = [1.12486041]\n",
      "g(x14) = [1.37481633]\n",
      "g(x15) = [1.24983837]\n"
     ]
    }
   ],
   "source": [
    "for i in range(X.shape[0]):\n",
    "    print(f\"g(x{i}) = {bound(g_func(X[i], sk_w, sk_w0), 1e-3)}\") # hem hagut d'utilitzar eps = 1e-3 en lloc de 1e-6"
   ]
  },
  {
   "cell_type": "markdown",
   "id": "7aa4d20f-049d-4e24-a0a4-517b1992e8c6",
   "metadata": {},
   "source": [
    "Vaja, hem hagut de pujar el valor de épsilon tres ordres de magnitud\n",
    "per poder arrodonir el resultat de la funció quan l'argument \n",
    "és un vector de suport. \n",
    "\n",
    "Això **ens fa pensar que la precisió obtinguda solucionant\n",
    "el sistema d'equacions és superior a la del mètode de *sci-kit***. "
   ]
  },
  {
   "cell_type": "markdown",
   "id": "e1c3a10e-a4c1-49ee-80db-a39d2d3189e7",
   "metadata": {},
   "source": [
    "Anem a veure com surten els diagrames:"
   ]
  },
  {
   "cell_type": "code",
   "execution_count": 40,
   "id": "e141de04-3cf8-4705-8169-c80ab43c82a0",
   "metadata": {},
   "outputs": [
    {
     "data": {
      "image/png": "[encoded data removed]",
      "text/plain": [
       "<Figure size 432x288 with 1 Axes>"
      ]
     },
     "metadata": {
      "needs_background": "light"
     },
     "output_type": "display_data"
    }
   ],
   "source": [
    "plot_scatter_contour(X, y, sk_sv_index, g_func, sk_w, sk_w0)"
   ]
  },
  {
   "cell_type": "code",
   "execution_count": 41,
   "id": "8de4c20f-59cc-469a-95a6-c433398f0e16",
   "metadata": {},
   "outputs": [
    {
     "data": {
      "image/png": "[encoded data removed]",
      "text/plain": [
       "<Figure size 432x288 with 2 Axes>"
      ]
     },
     "metadata": {
      "needs_background": "light"
     },
     "output_type": "display_data"
    },
    {
     "data": {
      "image/png": "[encoded data removed]",
      "text/plain": [
       "<Figure size 432x288 with 1 Axes>"
      ]
     },
     "metadata": {
      "needs_background": "light"
     },
     "output_type": "display_data"
    }
   ],
   "source": [
    "plot_map_plane(X, y, sk_sv_index, g_func, sk_w, sk_w0)"
   ]
  },
  {
   "cell_type": "markdown",
   "id": "91532901-337b-4757-9bdc-7516b51307b3",
   "metadata": {},
   "source": [
    "Les representacions **semblen visualment idèntiques** a les del primer mètode."
   ]
  },
  {
   "cell_type": "markdown",
   "id": "980ef3c5-c848-410b-9600-154337c2cb06",
   "metadata": {},
   "source": [
    "### Apartat (d)"
   ]
  },
  {
   "cell_type": "markdown",
   "id": "717b44f7-2a2d-4035-b7f0-9ae36bcb7346",
   "metadata": {},
   "source": [
    "d) Also by means of the `scikit-learn SVC` object, repeat point c) \n",
    "for the `’rbf’p` kernel (γ = 1). \n",
    "Additionally, draw the corresponding RBF network (slide 42 of the SVM lecture notes), \n",
    "replacing $K(x_i, x)$, $\\lambda_i$ and $y_i$ by your values."
   ]
  },
  {
   "cell_type": "code",
   "execution_count": null,
   "id": "40eb7415-ff93-4fe3-8195-85da8891444c",
   "metadata": {},
   "outputs": [],
   "source": []
  },
  {
   "cell_type": "markdown",
   "id": "7b2e1636-c1be-4a4d-91a9-61a76c40a6a6",
   "metadata": {},
   "source": [
    "## Conclusions"
   ]
  },
  {
   "cell_type": "markdown",
   "id": "368e8587-8b87-4acb-a47f-79f969c00d31",
   "metadata": {},
   "source": []
  },
  {
   "cell_type": "markdown",
   "id": "7d3d58ee-a1c3-4be0-b1ae-5c36d1f7314f",
   "metadata": {},
   "source": [
    "En aquest problema hem vist dos mètodes per a determinar \n",
    "els vectors de suport, la funció de decisió i per tant també les regions \n",
    "i hiperplans de les màquines de vectors de suport. \n",
    "En ambdós casos hem mostrat els resultats numèrics \n",
    "i algunes representacions.\n",
    "\n",
    "La determinació de màquines de vectors de suport \n",
    "mitjanant la classe `SVC` del mòdul `svm` de la llibreria `sklearn` \n",
    "és més senzilla que \n",
    "fent-ho de forma analítica, \n",
    "resolvent el sistema que resulta de l'aplicació \n",
    "de les condicions Karush-Kuhn-Tucker \n",
    "i la representació dual de Wolfe. \n",
    "\n",
    "Comparant la distància entre els vectors de suport\n",
    "i el llindar teòric de decisió en ambdues solucions, \n",
    "veim que la distància és més gran en el cas del mètode `SVC`, \n",
    "el que ens fa pensar que la precisió obtinguda en el càlcul \n",
    "dels vectors de coeficients i de la intercepció\n",
    "amb aquest mètode \n",
    "és més baixa comparada amb l'obtinguda pel mètode analític. \n",
    "\n",
    "A nivell de les diferents representacions. no apreciam diferències. \n",
    "\n",
    "Malgrat la precisió obtinguda per `SVC` és inferior \n",
    "a l'obtinguda resolent el sistema de la forma analítica, \n",
    "aquesta sembla ser més que suficient \n",
    "per no classificar malament un element, \n",
    "pensam per tant que el mètode de càlcul de la classe `SVC`\n",
    "és adeqüat per a la majoria d'aplicacions i té l'avantatge \n",
    "de tenir una interfície més simple."
   ]
  }
 ],
 "metadata": {
  "kernelspec": {
   "display_name": "musi-aa",
   "language": "python",
   "name": "musi-aa"
  },
  "language_info": {
   "codemirror_mode": {
    "name": "ipython",
    "version": 3
   },
   "file_extension": ".py",
   "mimetype": "text/x-python",
   "name": "python",
   "nbconvert_exporter": "python",
   "pygments_lexer": "ipython3",
   "version": "3.7.11"
  }
 },
 "nbformat": 4,
 "nbformat_minor": 5
}
