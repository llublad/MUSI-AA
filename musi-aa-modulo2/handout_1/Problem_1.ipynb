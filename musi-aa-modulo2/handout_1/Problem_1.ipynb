{
 "cells": [
  {
   "cell_type": "markdown",
   "id": "fc3dd599-65f3-410e-b9da-b11fef0376b3",
   "metadata": {},
   "source": [
    "# Handout #1: Instance-based Learning"
   ]
  },
  {
   "cell_type": "markdown",
   "id": "43794caa-ea18-49ac-817a-b48e40105b4c",
   "metadata": {},
   "source": [
    "## Problem 1"
   ]
  },
  {
   "cell_type": "markdown",
   "id": "ae7e46f9-8a66-4bfa-9616-421972bde6d3",
   "metadata": {},
   "source": [
    "Given dataset ds011.txt:\n",
    "\n",
    "a) Solve for the SVM analytically using the Karush-Kuhn-Tucker conditions and the Wolfe dual representation\n",
    "making use of a quadratic programming solver and\n",
    "\n",
    "1. find and report the support vectors \n",
    "(NOTE: due to round-off errors, \n",
    "it is likely none of the $\\lambda_i$ are\n",
    "exactly 0, but close, e.g. $10^{−6}$); and\n",
    "2. calculate and report the resulting decision \n",
    "function $g(x) = w^T \\cdot x + w_0$ "
   ]
  },
  {
   "cell_type": "markdown",
   "id": "11042dd4-9869-43a0-9667-386832700fae",
   "metadata": {},
   "source": [
    "### Resposta:"
   ]
  },
  {
   "cell_type": "markdown",
   "id": "f6bc40e3-3e6e-449f-a0c4-4ddd0890d0fe",
   "metadata": {},
   "source": [
    "Identificació"
   ]
  },
  {
   "cell_type": "code",
   "execution_count": 1,
   "id": "7bfd275c-8bea-45be-87ca-09d9be31a640",
   "metadata": {},
   "outputs": [],
   "source": [
    "group = '01' # assuming group 1\n",
    "ds = 1 # assuming problem 1"
   ]
  },
  {
   "cell_type": "code",
   "execution_count": 2,
   "id": "41ac63ee-f740-405e-90f0-76b965749f6a",
   "metadata": {},
   "outputs": [],
   "source": [
    "# Definim un número molt proper a zero \n",
    "# per redefinir els paràmetres lambda com a zero \n",
    "# quan siguin menors de epsilon\n",
    "\n",
    "epsilon = 1e-6\n",
    "\n",
    "class_w1_value = +1\n",
    "class_w2_value = -1"
   ]
  },
  {
   "cell_type": "markdown",
   "id": "64307f49-205e-4ddb-91aa-b3de29c1b1e3",
   "metadata": {},
   "source": [
    "Importam llibreries"
   ]
  },
  {
   "cell_type": "code",
   "execution_count": 3,
   "id": "c6ba8f17-24de-45ff-b332-9f536484d081",
   "metadata": {},
   "outputs": [],
   "source": [
    "import numpy as np\n",
    "from qpsolvers import solve_qp"
   ]
  },
  {
   "cell_type": "markdown",
   "id": "ccbe1dea-c7e0-40bf-961c-1d747b0e91d4",
   "metadata": {},
   "source": [
    "Carregam dades del problema"
   ]
  },
  {
   "cell_type": "code",
   "execution_count": 4,
   "id": "9c4e07df-0e8b-4f03-bfa4-cd864e546edf",
   "metadata": {},
   "outputs": [],
   "source": [
    "# Aquesta funció ens farà més fàcil carregar les matrius\n",
    "\n",
    "def load_data(group: str, problem: int):\n",
    "    # carregam fitxer del dataset\n",
    "    data = np.loadtxt('datasets'+group+'/ds'+group+str(ds)+'.txt')\n",
    "    # matriu de vectors\n",
    "    X = data[:, 0:2]\n",
    "    # vector de classes\n",
    "    y = data[:, 2:3]\n",
    "    \n",
    "    # les classes han de ser -1 i +1\n",
    "    y = 2 * y - 1\n",
    "    return X, y"
   ]
  },
  {
   "cell_type": "code",
   "execution_count": 5,
   "id": "8afff9b8-8e6a-4dd2-b104-db9fe7f1384e",
   "metadata": {},
   "outputs": [
    {
     "data": {
      "text/plain": [
       "(16, 2)"
      ]
     },
     "execution_count": 5,
     "metadata": {},
     "output_type": "execute_result"
    }
   ],
   "source": [
    "# Carregam \n",
    "\n",
    "X, y = load_data(group, ds)\n",
    "\n",
    "X.shape"
   ]
  },
  {
   "cell_type": "code",
   "execution_count": 6,
   "id": "d9839e71-de5a-4b42-8bff-ff0957664789",
   "metadata": {},
   "outputs": [
    {
     "data": {
      "text/plain": [
       "array([[-1.935394  , -4.87925231, -4.62713623, -3.9115553 , -2.65097492,\n",
       "        -2.69174223, -3.36655585, -2.18751008,  1.9761613 ,  3.9115553 ,\n",
       "         3.40732315,  1.935394  ,  2.65097492,  2.14674277,  2.69174223,\n",
       "         2.43962615],\n",
       "       [-0.50423215,  2.8623237 ,  1.8946267 ,  3.11443977, -1.72404523,\n",
       "         2.39885885, -2.9438583 ,  0.46346485, -3.61867192, -3.11443977,\n",
       "        -1.17904577,  0.50423215,  1.72404523,  3.65943923, -2.39885885,\n",
       "        -1.43116185]])"
      ]
     },
     "execution_count": 6,
     "metadata": {},
     "output_type": "execute_result"
    }
   ],
   "source": [
    "# Inspeccionam\n",
    "\n",
    "X.T"
   ]
  },
  {
   "cell_type": "code",
   "execution_count": 7,
   "id": "a7054a3d-66d6-4743-b341-123d0d8f4a67",
   "metadata": {},
   "outputs": [
    {
     "data": {
      "text/plain": [
       "array([[-1., -1., -1., -1., -1., -1., -1., -1.,  1.,  1.,  1.,  1.,  1.,\n",
       "         1.,  1.,  1.]])"
      ]
     },
     "execution_count": 7,
     "metadata": {},
     "output_type": "execute_result"
    }
   ],
   "source": [
    "# Verificam visualment que només hi hagi classe -1 i 1\n",
    "y.T"
   ]
  },
  {
   "cell_type": "code",
   "execution_count": 8,
   "id": "04b885e4-b428-48a3-910a-8be7180eae2a",
   "metadata": {},
   "outputs": [
    {
     "data": {
      "text/plain": [
       "16"
      ]
     },
     "execution_count": 8,
     "metadata": {},
     "output_type": "execute_result"
    }
   ],
   "source": [
    "# N és el número de vectors\n",
    "\n",
    "N = X.shape[0]\n",
    "N"
   ]
  },
  {
   "cell_type": "code",
   "execution_count": 9,
   "id": "a6c4950d-bb03-4e3e-b086-1274c4082ac5",
   "metadata": {},
   "outputs": [],
   "source": [
    "def build_H(X: np.array, y: np.array):\n",
    "    \n",
    "    P = np.dot(X, X.T)\n",
    "    \n",
    "    for i in range(len(y)): \n",
    "        for j in range(len(y)): \n",
    "            P[i, j] = P[i, j] * y[j] * y[i]\n",
    "            \n",
    "    return P"
   ]
  },
  {
   "cell_type": "code",
   "execution_count": 10,
   "id": "9187cf36-c1c8-47c5-b4ec-3ecc97c2a571",
   "metadata": {},
   "outputs": [],
   "source": [
    "P = build_H(X, y)"
   ]
  },
  {
   "cell_type": "code",
   "execution_count": 11,
   "id": "94d1202a-e0c6-4761-8a63-0ea2a5d067f3",
   "metadata": {},
   "outputs": [],
   "source": [
    "q = -np.ones((N,))\n",
    "G = -np.identity(N)\n",
    "h = np.zeros((N,))\n",
    "A = y.reshape((1,-1))\n",
    "b = np.zeros(1)"
   ]
  },
  {
   "cell_type": "code",
   "execution_count": 12,
   "id": "8ab86b73-20df-47f4-9945-3b03ade441cb",
   "metadata": {},
   "outputs": [
    {
     "data": {
      "text/plain": [
       "array([1.32812497e-01, 1.50772586e-10, 1.57038239e-10, 1.97651511e-10,\n",
       "       3.97636386e-10, 5.52421262e-10, 2.02250831e-10, 9.84622057e-10,\n",
       "       3.12499996e-02, 1.80386985e-10, 1.96385447e-10, 1.01562498e-01,\n",
       "       8.92294056e-11, 1.30292244e-09, 4.25086186e-10, 4.04817975e-10])"
      ]
     },
     "execution_count": 12,
     "metadata": {},
     "output_type": "execute_result"
    }
   ],
   "source": [
    "lm = solve_qp(P, q, G, h, A, b, solver='cvxopt')\n",
    "lm"
   ]
  },
  {
   "cell_type": "code",
   "execution_count": 13,
   "id": "68ec7935-70a6-416e-bfd7-5556f80d5335",
   "metadata": {},
   "outputs": [],
   "source": [
    "# Definim una funció per posar a zero els valors molt petits\n",
    "# Aquests quasi-zeros es produeixen per mor de la precissió de càlcul\n",
    "\n",
    "import numpy as np \n",
    "\n",
    "def epsilize(vector: np.ndarray, epsilon: float):\n",
    "    \n",
    "    if not isinstance(vector, np.ndarray):\n",
    "        raise ValueError('El paràmetre vector ha de ser de tipus np.ndarray')\n",
    "    if not isinstance(epsilon, float):\n",
    "        raise ValueError('El paràmetre epsilon ha de ser de tipus float')\n",
    "        \n",
    "    for i in range(vector.shape[0]): \n",
    "        if vector[i] < epsilon: \n",
    "            vector[i] = 0\n",
    "    \n",
    "    return vector"
   ]
  },
  {
   "cell_type": "code",
   "execution_count": 14,
   "id": "3b5fd5ca-bce3-407b-adc3-e14e3b3b56e1",
   "metadata": {},
   "outputs": [
    {
     "data": {
      "text/plain": [
       "array([0.1328125, 0.       , 0.       , 0.       , 0.       , 0.       ,\n",
       "       0.       , 0.       , 0.03125  , 0.       , 0.       , 0.1015625,\n",
       "       0.       , 0.       , 0.       , 0.       ])"
      ]
     },
     "execution_count": 14,
     "metadata": {},
     "output_type": "execute_result"
    }
   ],
   "source": [
    "lm = epsilize(lm, epsilon)\n",
    "\n",
    "lm"
   ]
  },
  {
   "cell_type": "markdown",
   "id": "730e9989-7b94-4959-8e39-88c57d9abc7f",
   "metadata": {
    "tags": []
   },
   "source": [
    "b) Generate the following plots:\n",
    "1. a first plot with the training samples, \n",
    "highlighting the support vectors \n",
    "and plotting the 2D decision curve\n",
    "2. a second plot with the classification map, \n",
    "i.e. evaluate the decision function \n",
    "for a ’regular’ subset (grid)\n",
    "of points of the feature space\n",
    "\n",
    "Use different markers and/or colours for each class. See the appendix for examples of the requested plots"
   ]
  },
  {
   "cell_type": "code",
   "execution_count": 15,
   "id": "9793126c-791d-4daf-8e7a-9d2dccb17410",
   "metadata": {
    "tags": []
   },
   "outputs": [],
   "source": [
    "import matplotlib.pyplot as plt\n",
    "from mpl_toolkits import mplot3d"
   ]
  },
  {
   "cell_type": "code",
   "execution_count": 16,
   "id": "058f75da-1872-4632-8851-81fb81f243b3",
   "metadata": {},
   "outputs": [],
   "source": [
    "def get_c_index(vector: np.ndarray, a_class: int): \n",
    "    \n",
    "    if not isinstance(vector, np.ndarray):\n",
    "        raise ValueError('El paràmetre vector ha de ser de tipus np.ndarray')\n",
    "    if not isinstance(a_class, int):\n",
    "        raise ValueError('El paràmetre a_class ha de ser de tipus enter')\n",
    "        \n",
    "    index = []\n",
    "    for i in range(vector.shape[0]): \n",
    "        if vector[i] == a_class: \n",
    "            index.append(i)\n",
    "    \n",
    "    return index"
   ]
  },
  {
   "cell_type": "code",
   "execution_count": 17,
   "id": "98b08ff8-713f-4f82-b0b8-00e7aa63f84c",
   "metadata": {},
   "outputs": [],
   "source": [
    "def get_sv_index(vector: np.ndarray): \n",
    "    \n",
    "    if not isinstance(vector, np.ndarray):\n",
    "        raise ValueError('El paràmetre vector ha de ser de tipus np.ndarray')\n",
    "        \n",
    "    index = []\n",
    "    for i in range(vector.shape[0]): \n",
    "        if vector[i] != 0: \n",
    "            index.append(i)\n",
    "    \n",
    "    return index"
   ]
  },
  {
   "cell_type": "code",
   "execution_count": 18,
   "id": "a3a7a550-5e33-4a04-88c4-6edaccde59aa",
   "metadata": {},
   "outputs": [
    {
     "data": {
      "text/plain": [
       "[8, 9, 10, 11, 12, 13, 14, 15]"
      ]
     },
     "execution_count": 18,
     "metadata": {},
     "output_type": "execute_result"
    }
   ],
   "source": [
    "class_w1_index = get_c_index(y, class_w1_value)\n",
    "\n",
    "class_w1_index"
   ]
  },
  {
   "cell_type": "code",
   "execution_count": 19,
   "id": "51eafe89-2486-4f1b-b78a-28cbad6efe95",
   "metadata": {},
   "outputs": [
    {
     "data": {
      "text/plain": [
       "[0, 1, 2, 3, 4, 5, 6, 7]"
      ]
     },
     "execution_count": 19,
     "metadata": {},
     "output_type": "execute_result"
    }
   ],
   "source": [
    "class_w2_index = get_c_index(y, class_w2_value)\n",
    "\n",
    "class_w2_index"
   ]
  },
  {
   "cell_type": "code",
   "execution_count": 20,
   "id": "041b12b5-d885-412e-bde8-6616509872cf",
   "metadata": {},
   "outputs": [
    {
     "data": {
      "text/plain": [
       "[0, 8, 11]"
      ]
     },
     "execution_count": 20,
     "metadata": {},
     "output_type": "execute_result"
    }
   ],
   "source": [
    "sv_index = get_sv_index(lm)\n",
    "\n",
    "sv_index"
   ]
  },
  {
   "cell_type": "code",
   "execution_count": 21,
   "id": "824bd170-150f-4b83-9cce-c0723e3bd940",
   "metadata": {
    "tags": []
   },
   "outputs": [
    {
     "data": {
      "image/png": "[encoded data removed]",
      "text/plain": [
       "<Figure size 432x288 with 1 Axes>"
      ]
     },
     "metadata": {
      "needs_background": "light"
     },
     "output_type": "display_data"
    }
   ],
   "source": [
    "# plot samples, highlighting some of them\n",
    "\n",
    "plt.title('Punts, vectors de suport i corba de decisió')\n",
    "\n",
    "plt.plot(X[class_w1_index,0],X[class_w1_index,1],'+r') # class w1\n",
    "plt.plot(X[class_w2_index,0],X[class_w2_index,1],'+g') # class w2\n",
    "hil = sv_index # samples to highlight\n",
    "\n",
    "ax = plt.gca()\n",
    "ax.scatter(X[hil,0], X[hil,1], s=100, linewidth=1, facecolors='none', edgecolors='k')\n",
    "\n",
    "plt.xlabel('x1')\n",
    "plt.ylabel('x2')\n",
    "\n",
    "plt.axis('equal')\n",
    "plt.show()"
   ]
  },
  {
   "cell_type": "code",
   "execution_count": 22,
   "id": "a988c007-fe24-40e3-91f3-9e484bd34ca8",
   "metadata": {
    "tags": []
   },
   "outputs": [
    {
     "data": {
      "image/png": "[encoded data removed]",
      "text/plain": [
       "<Figure size 432x288 with 1 Axes>"
      ]
     },
     "metadata": {
      "needs_background": "light"
     },
     "output_type": "display_data"
    },
    {
     "data": {
      "image/png": "[encoded data removed]",
      "text/plain": [
       "<Figure size 432x288 with 1 Axes>"
      ]
     },
     "metadata": {
      "needs_background": "light"
     },
     "output_type": "display_data"
    },
    {
     "data": {
      "image/png": "[encoded data removed]",
      "text/plain": [
       "<Figure size 432x288 with 2 Axes>"
      ]
     },
     "metadata": {
      "needs_background": "light"
     },
     "output_type": "display_data"
    }
   ],
   "source": [
    "# create grid to evaluate function\n",
    "xx = np.linspace(-6, 6, 30)\n",
    "yy = np.linspace(-6, 6, 30)\n",
    "YY, XX = np.meshgrid(yy, xx)\n",
    "Z = np.zeros((30 * 30,1))\n",
    "k = 0\n",
    "for x1 in xx:\n",
    "    for x2 in yy:\n",
    "        Z[k] = x1 ** 2 + x2 ** 2 - 30\n",
    "        k += 1\n",
    "    \n",
    "# plot boundary of levels -15, -5 and +5\n",
    "plt.figure(2)\n",
    "ax = plt.gca()\n",
    "ax.contour(XX,YY,Z.reshape(XX.shape),colors='k',levels=[-15, -5, 5],alpha=0.5,linestyles=['--', '-', '--'])\n",
    "plt.xlabel('x1')\n",
    "plt.ylabel('x2')\n",
    "plt.axis('equal')\n",
    "plt.title('example of boundary level plot')\n",
    "plt.show(block=False) # to force visualization\n",
    "\n",
    "plt.figure(3)\n",
    "ax = plt.axes(projection='3d')\n",
    "ax.plot_surface(XX, YY, Z.reshape(XX.shape), rstride=1, cstride=1, cmap='viridis', edgecolor='none')\n",
    "plt.xlabel('x1')\n",
    "plt.ylabel('x2')\n",
    "plt.title('surface plot')\n",
    "plt.show(block=False) # to force visualization\n",
    "# matrix-based predicate evaluation\n",
    "C = np.where(Z >= -5, 1, 0)\n",
    "\n",
    "plt.figure(4)\n",
    "plt.imshow(C.reshape(XX.shape), origin='lower', extent=(-6, 6, -6, 6), cmap='RdYlGn')\n",
    "plt.colorbar()\n",
    "plt.xlabel('x1')\n",
    "plt.ylabel('x2')\n",
    "plt.axis('equal')\n",
    "plt.title('example of matrix-based predicate evaluation')\n",
    "plt.show(block=False) # to force visualization"
   ]
  },
  {
   "cell_type": "markdown",
   "id": "73455916-61e8-4b74-b984-580f64eede47",
   "metadata": {},
   "source": [
    "c) Compare the results obtained with the ones resulting from the scikit-learn SVC object: i.e. report the\n",
    "support vectors returned by SVC and the corresponding decision function, and provide the same kind of\n",
    "plots requested before.\n",
    "\n",
    "NOTE: the SVC object solves the soft-margin kernel-based \n",
    "problem, hence you will have to select the linear\n",
    "kernel and set constant C with a high value, e.g. $10^{16}$, to force a perfect classification of the training set."
   ]
  },
  {
   "cell_type": "code",
   "execution_count": null,
   "id": "1c0ad361-2fca-4f1c-a2a5-f285d2ed23a4",
   "metadata": {},
   "outputs": [],
   "source": []
  }
 ],
 "metadata": {
  "kernelspec": {
   "display_name": "musi-aa",
   "language": "python",
   "name": "musi-aa"
  },
  "language_info": {
   "codemirror_mode": {
    "name": "ipython",
    "version": 3
   },
   "file_extension": ".py",
   "mimetype": "text/x-python",
   "name": "python",
   "nbconvert_exporter": "python",
   "pygments_lexer": "ipython3",
   "version": "3.7.11"
  }
 },
 "nbformat": 4,
 "nbformat_minor": 5
}
