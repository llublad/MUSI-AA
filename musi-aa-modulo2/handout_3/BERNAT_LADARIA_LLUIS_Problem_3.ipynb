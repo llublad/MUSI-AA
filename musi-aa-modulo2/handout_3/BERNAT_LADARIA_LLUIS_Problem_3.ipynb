{
 "cells": [
  {
   "cell_type": "markdown",
   "id": "fc3dd599-65f3-410e-b9da-b11fef0376b3",
   "metadata": {
    "tags": []
   },
   "source": [
    "# Handout #3: Instance-based Learning"
   ]
  },
  {
   "cell_type": "markdown",
   "id": "43794caa-ea18-49ac-817a-b48e40105b4c",
   "metadata": {
    "tags": []
   },
   "source": [
    "## Problem 3"
   ]
  },
  {
   "cell_type": "markdown",
   "id": "36270f2c-37f6-40bc-a13c-b9935968c656",
   "metadata": {},
   "source": [
    "**Given datasets** `dsxx34tr.txt` **and** `dsxx34te.txt`, \n",
    "find a suitable SVM classifier adopting a *soft-marging* approach. \n",
    "You have to define the classifier design strategy, \n",
    "including data normalization, e.g. *min-max* scaling,\n",
    "and setting up the classifier hyper-parameters, \n",
    "e.g. by means of *grid-search*, \n",
    "as well as estimate the classifier \n",
    "performance by means of *n-fold cross validation*."
   ]
  },
  {
   "cell_type": "markdown",
   "id": "1700431f-1e3d-458f-9975-4c8137e7c5d4",
   "metadata": {},
   "source": [
    "### Apartat (3.a)"
   ]
  },
  {
   "cell_type": "markdown",
   "id": "0255b504-bc56-4abf-8c1f-34b4b2387c30",
   "metadata": {},
   "source": [
    "a) Define the design strategy: input data normalization, \n",
    "combinations of hyper-parameters considered \n",
    "(kernel and its parameters, and $C$), \n",
    "number of folds for the cross-validation process.\n",
    "\n",
    "**NOTE**: typical values for $C$ are \n",
    "$10^{−2}$, $10^{−1}$, $10^0$, $10^1$, $10^2$ and $10^3$."
   ]
  },
  {
   "cell_type": "markdown",
   "id": "11042dd4-9869-43a0-9667-386832700fae",
   "metadata": {},
   "source": [
    "### Resposta apartat (3.a)"
   ]
  },
  {
   "cell_type": "markdown",
   "id": "f6bc40e3-3e6e-449f-a0c4-4ddd0890d0fe",
   "metadata": {},
   "source": [
    "Dades d'identificació:"
   ]
  },
  {
   "cell_type": "code",
   "execution_count": 1,
   "id": "7bfd275c-8bea-45be-87ca-09d9be31a640",
   "metadata": {},
   "outputs": [],
   "source": [
    "group = '01' # assuming group 1\n",
    "ds = 34 # assuming problem 3-4\n",
    "suffix_tr = 'tr'\n",
    "suffix_te = 'te'"
   ]
  },
  {
   "cell_type": "code",
   "execution_count": 2,
   "id": "41ac63ee-f740-405e-90f0-76b965749f6a",
   "metadata": {
    "tags": []
   },
   "outputs": [
    {
     "data": {
      "text/plain": [
       "{1: {'target_name': 'Classe 1',\n",
       "  'plot_fmt': '+r',\n",
       "  'hex_color': '#b01010',\n",
       "  'contrast_fmt': '+w'},\n",
       " 0: {'target_name': 'Classe 0',\n",
       "  'plot_fmt': '+g',\n",
       "  'hex_color': '#408030',\n",
       "  'contrast_fmt': '+k'}}"
      ]
     },
     "execution_count": 2,
     "metadata": {},
     "output_type": "execute_result"
    }
   ],
   "source": [
    "# Parametritzam algunes propietats de les classes\n",
    "\n",
    "cl_properties = {\n",
    "    1: {\"target_name\": \"Classe 1\",\n",
    "        \"plot_fmt\": \"+r\",  # red cross\n",
    "        \"hex_color\": \"#b01010\",  # red\n",
    "        \"contrast_fmt\": \"+w\"  # white cross\n",
    "        },\n",
    "    0: {\"target_name\": \"Classe 0\", \n",
    "        \"plot_fmt\": \"+g\",  # green cross\n",
    "        \"hex_color\": \"#408030\",  # green\n",
    "        \"contrast_fmt\": \"+k\"  # black cross\n",
    "        }\n",
    "}\n",
    "\n",
    "cl_properties"
   ]
  },
  {
   "cell_type": "code",
   "execution_count": 3,
   "id": "d5cd77fa-687c-40c2-881e-ac54724d3e51",
   "metadata": {},
   "outputs": [],
   "source": [
    "def get_classes_item_list(item: str) -> list:\n",
    "    return list(map(lambda k: cl_properties.get(k).get(item), sorted(cl_properties)))\n",
    "\n",
    "def get_cl_min() -> int:\n",
    "    return min(cl_properties)\n",
    "\n",
    "def get_cl_max() -> int:\n",
    "    return max(cl_properties)\n",
    "\n",
    "def get_cl_target_name() -> list:\n",
    "    return get_classes_item_list('target_name')\n",
    "\n",
    "def get_cl_hex_color() -> list:\n",
    "    return get_classes_item_list('hex_color')\n",
    "\n",
    "def get_cl_contrast_fmt() -> list:\n",
    "    return get_classes_item_list('contrast_fmt')"
   ]
  },
  {
   "cell_type": "markdown",
   "id": "64307f49-205e-4ddb-91aa-b3de29c1b1e3",
   "metadata": {},
   "source": [
    "Importam llibreries"
   ]
  },
  {
   "cell_type": "code",
   "execution_count": 4,
   "id": "c6ba8f17-24de-45ff-b332-9f536484d081",
   "metadata": {},
   "outputs": [],
   "source": [
    "import numpy as np"
   ]
  },
  {
   "cell_type": "markdown",
   "id": "ccbe1dea-c7e0-40bf-961c-1d747b0e91d4",
   "metadata": {},
   "source": [
    "Carregam dades del problema"
   ]
  },
  {
   "cell_type": "code",
   "execution_count": 5,
   "id": "9c4e07df-0e8b-4f03-bfa4-cd864e546edf",
   "metadata": {
    "tags": []
   },
   "outputs": [],
   "source": [
    "# Aquesta funció ens farà més fàcil carregar les matrius\n",
    "\n",
    "def load_data(group: str, problem: int, sufix: str, convert_zeros: bool = False):\n",
    "    \n",
    "    # carregam fitxer del dataset\n",
    "    data = np.loadtxt('datasets'+group+'/ds'+group+str(ds)+sufix+'.txt')\n",
    "    # matriu de vectors\n",
    "    X = data[:, 0:2]\n",
    "    # vector de classes\n",
    "    y = data[:, 2:3]\n",
    "    \n",
    "    # les classes han de ser -1 i +1\n",
    "    # per tant si ens ho passen com a 0 i 1 ho transformam\n",
    "    if convert_zeros and np.any(y == 0):\n",
    "        y = 2 * y - 1\n",
    "        \n",
    "    return X, y"
   ]
  },
  {
   "cell_type": "code",
   "execution_count": 6,
   "id": "1ed5ff5f-9250-44e1-b486-61cb069bef5a",
   "metadata": {
    "tags": []
   },
   "outputs": [],
   "source": [
    "# Carregam \n",
    "\n",
    "X_train, y_train = load_data(group, ds, suffix_tr)\n",
    "y_train = y_train.reshape((-1,))\n",
    "\n",
    "X_test, y_test = load_data(group, ds, suffix_te)\n",
    "y_test = y_test.reshape((-1,))"
   ]
  },
  {
   "cell_type": "code",
   "execution_count": 7,
   "id": "3eb4b08a-9692-4928-98eb-8e51cb49a829",
   "metadata": {
    "tags": []
   },
   "outputs": [
    {
     "name": "stdout",
     "output_type": "stream",
     "text": [
      "(240, 2) (240,)\n",
      "(60, 2) (60,)\n"
     ]
    }
   ],
   "source": [
    "print(X_train.shape, y_train.shape)\n",
    "\n",
    "print(X_test.shape, y_test.shape)"
   ]
  },
  {
   "cell_type": "code",
   "execution_count": 8,
   "id": "04b885e4-b428-48a3-910a-8be7180eae2a",
   "metadata": {
    "tags": []
   },
   "outputs": [
    {
     "data": {
      "text/plain": [
       "240"
      ]
     },
     "execution_count": 8,
     "metadata": {},
     "output_type": "execute_result"
    }
   ],
   "source": [
    "# N és el número de vectors\n",
    "\n",
    "N = X_train.shape[0]\n",
    "N"
   ]
  },
  {
   "cell_type": "markdown",
   "id": "a759ee86-2e09-4260-a2c3-5ad5e5abda4d",
   "metadata": {},
   "source": [
    "Definim algunes funcions que ens ajudaran a dibuixar la constel·lació"
   ]
  },
  {
   "cell_type": "code",
   "execution_count": 9,
   "id": "c95bea47-7a36-467d-a5ad-9ad29774fbe3",
   "metadata": {},
   "outputs": [],
   "source": [
    "def get_cl_index(vector: np.ndarray) -> dict: \n",
    "    \n",
    "    if not isinstance(vector, np.ndarray):\n",
    "        raise ValueError('El paràmetre vector ha de ser de tipus np.ndarray')\n",
    "        \n",
    "    d = dict.fromkeys(cl_properties)\n",
    "    \n",
    "    for k in d:\n",
    "        d[k] = list()\n",
    "        for index, value in enumerate(vector):\n",
    "            if value == k: \n",
    "                d[k].append(index)\n",
    "    \n",
    "    return d"
   ]
  },
  {
   "cell_type": "code",
   "execution_count": 10,
   "id": "bdb2649c-8bca-4985-99d5-22ea5707e206",
   "metadata": {
    "tags": []
   },
   "outputs": [],
   "source": [
    "import matplotlib.pyplot as plt\n",
    "\n",
    "def plot_points(X, y):\n",
    "    \n",
    "    cl_index = get_cl_index(y)\n",
    "\n",
    "    ## començam a dibuixar\n",
    "    ##\n",
    "    plt.figure(1)\n",
    "\n",
    "    ## dibuixam els punts per cada classe\n",
    "    ##\n",
    "    for k in cl_properties:\n",
    "        plt.plot(X[cl_index.get(k), 0], X[cl_index.get(k), 1], \n",
    "                 cl_properties.get(k).get('plot_fmt'))\n",
    "\n",
    "    ## format\n",
    "    ##\n",
    "    plt.axis('equal')\n",
    "\n",
    "    ## etiquetam el que manca i llest\n",
    "    ##\n",
    "    plt.title('Punts')\n",
    "    \n",
    "    plt.xlabel('x1')\n",
    "    plt.ylabel('x2')\n",
    "\n",
    "    plt.show(block = False)\n",
    "\n",
    "    return"
   ]
  },
  {
   "cell_type": "code",
   "execution_count": 11,
   "id": "82e111f7-6fe5-4b88-a33a-511d6508423a",
   "metadata": {},
   "outputs": [
    {
     "data": {
      "image/png": "[encoded data removed]",
      "text/plain": [
       "<Figure size 432x288 with 1 Axes>"
      ]
     },
     "metadata": {
      "needs_background": "light"
     },
     "output_type": "display_data"
    }
   ],
   "source": [
    "# Vegem quina distribució presenta el conjunt d'entrenament\n",
    "plot_points(X_train, y_train)"
   ]
  },
  {
   "cell_type": "code",
   "execution_count": 12,
   "id": "d13adcfb-4315-4876-a083-017729d05a83",
   "metadata": {},
   "outputs": [
    {
     "data": {
      "image/png": "[encoded data removed]",
      "text/plain": [
       "<Figure size 432x288 with 1 Axes>"
      ]
     },
     "metadata": {
      "needs_background": "light"
     },
     "output_type": "display_data"
    }
   ],
   "source": [
    "# També representam el conjunt de prova\n",
    "plot_points(X_test, y_test)"
   ]
  },
  {
   "cell_type": "markdown",
   "id": "89cf86ce-4f24-4232-99cd-430fb55d2965",
   "metadata": {},
   "source": [
    "Vaja, sembla que estam davant un **cas de no linealitat**\n",
    "A més les dades no estan normalitzades."
   ]
  },
  {
   "cell_type": "markdown",
   "id": "ac26bf4f-df8c-4786-b645-23d5a6c9ee33",
   "metadata": {},
   "source": [
    "Per tal de trobar el millor classificador encapsularem dins un *pipe-line* \n",
    "els següents processos que detallam:\n",
    "\n",
    "| Pas | Procés | Eina de `sklearn` |\n",
    "| :---: | --- | --- |\n",
    "| 1 | Estandaritzacío dels valors de les característiques a un rang \\[0,1\\] | classe **`MinMaxScaler`** |\n",
    "| 2 | Classificació de les mostres | classe **`SVC`** |\n",
    "\n",
    "Un cop construït aquest *pipe-line*, el farem servir per a processar còmodament \n",
    "les dades del conjunt d'interès.\n",
    "El processat serà una cerca exhaustiva dels millors (hiper)paràmetres utilitzant \n",
    "una instància de la classe **GridSearchCV**, aplicant validació creuada. \n",
    "Per tal de construïr els subconjunts de validació farem servir un objecte **StratifiedKFold**, \n",
    "que ens garantirà que la distribució de mostres de cada classe a cada grup, és uniforme. "
   ]
  },
  {
   "cell_type": "markdown",
   "id": "e558789d-b5f0-4ae4-833b-46402121e923",
   "metadata": {},
   "source": [
    "Tot seguit definirem els diccionaris i variables necessaris per a provar diferents combinacions de paràmetres:"
   ]
  },
  {
   "cell_type": "code",
   "execution_count": 13,
   "id": "7d596f9f-cb3e-44f9-a189-39d138a6a0e5",
   "metadata": {},
   "outputs": [],
   "source": [
    "params_to_try = []\n",
    "\n",
    "c_values_to_try = [10**ex for ex in range(-2, 5 + 1)]"
   ]
  },
  {
   "cell_type": "code",
   "execution_count": 14,
   "id": "29f95568-5a7e-47d7-be6f-00baa27f4712",
   "metadata": {},
   "outputs": [],
   "source": [
    "# kernel lineal: per tal de donar a la resposta un caire de completitud, \n",
    "#   afegim també el kernel lineal, tot i que sabem que per la nostra distribució \n",
    "#   donaria una mala classificació\n",
    "\n",
    "params_to_try.append(\n",
    "    {\n",
    "        'clf__kernel': ['linear'],\n",
    "        'clf__C': c_values_to_try\n",
    "    }\n",
    ")"
   ]
  },
  {
   "cell_type": "code",
   "execution_count": 15,
   "id": "041786dd-dc28-4c10-b146-dba9625b00e3",
   "metadata": {},
   "outputs": [],
   "source": [
    "#kernel polynomial: provarem el kernel polinòmic homogeni (x.T z)^q \n",
    "#   i també el no homogeni (g x.T z + r)^q\n",
    "\n",
    "params_to_try.append(\n",
    "    {\n",
    "        'clf__kernel': ['poly'], \n",
    "        'clf__C': c_values_to_try,\n",
    "        'clf__gamma': ['scale', 0.5, 1, 2],  # g\n",
    "        'clf__coef0': [-1, 0, 1],   # r\n",
    "        'clf__degree': [1, 2, 3]    # q\n",
    "    }\n",
    ")"
   ]
  },
  {
   "cell_type": "code",
   "execution_count": 16,
   "id": "ab1f4f0e-ded8-4ff4-a1ef-9c1888385ef1",
   "metadata": {},
   "outputs": [],
   "source": [
    "#kernel RBF: \n",
    "\n",
    "params_to_try.append(\n",
    "    {\n",
    "        'clf__kernel': ['rbf'], \n",
    "        'clf__C': c_values_to_try,\n",
    "        'clf__gamma': ['scale', 0.5, 1, 2, 4, 8]\n",
    "    }\n",
    ")"
   ]
  },
  {
   "cell_type": "code",
   "execution_count": 17,
   "id": "dccc8918-5f31-447d-852e-bfefcec9a67f",
   "metadata": {},
   "outputs": [],
   "source": [
    "#kernel sigmoid: tanh(g x.T z + r)\n",
    "\n",
    "params_to_try.append(\n",
    "    {\n",
    "        'clf__kernel': ['sigmoid'], \n",
    "        'clf__C': c_values_to_try,\n",
    "        'clf__gamma': ['scale', 0.5, 1, 2],\n",
    "        'clf__coef0': [-1, 0, 1]\n",
    "    }\n",
    ")"
   ]
  },
  {
   "cell_type": "code",
   "execution_count": 18,
   "id": "8c0eb74b-79e3-4841-8edd-112374427fba",
   "metadata": {},
   "outputs": [],
   "source": [
    "# Validation using k-fold validation\n",
    "\n",
    "# normalment faríem servir k = 5, però com que tenim pocs punts (240), només farem tres grups\n",
    "\n",
    "n_folds = 3"
   ]
  },
  {
   "cell_type": "markdown",
   "id": "77a8328e-7cb7-4a10-916b-c2fc734120f0",
   "metadata": {
    "jp-MarkdownHeadingCollapsed": true,
    "tags": []
   },
   "source": [
    "### Apartat (3.b)"
   ]
  },
  {
   "cell_type": "markdown",
   "id": "5ab56ce1-ee89-4985-aff5-2d3dd875e476",
   "metadata": {
    "tags": []
   },
   "source": [
    "b) Using the *training dataset*, \n",
    "find the best performing classifier according to \n",
    "the design strategy and employing the accuracy as \n",
    "performance metric for the cross-validation process."
   ]
  },
  {
   "cell_type": "markdown",
   "id": "5c5ba35d-7e09-4c40-8e6a-d348593138bb",
   "metadata": {
    "tags": []
   },
   "source": [
    "### Resposta apartat(3.b)"
   ]
  },
  {
   "cell_type": "markdown",
   "id": "28337545-c8d7-484f-86e6-e8b8e7e56c02",
   "metadata": {},
   "source": [
    "Importam les classes i funcions necessàries:"
   ]
  },
  {
   "cell_type": "code",
   "execution_count": 19,
   "id": "db187af3-af36-4223-aa2b-a179981a0111",
   "metadata": {},
   "outputs": [],
   "source": [
    "from sklearn.preprocessing import MinMaxScaler\n",
    "from sklearn.model_selection import StratifiedKFold\n",
    "from sklearn.model_selection import GridSearchCV\n",
    "from sklearn.model_selection import cross_validate\n",
    "from sklearn.pipeline import Pipeline\n",
    "from sklearn.metrics import classification_report\n",
    "from sklearn.metrics import accuracy_score\n",
    "from sklearn.metrics import precision_score\n",
    "from sklearn.metrics import f1_score\n",
    "from sklearn.metrics import recall_score"
   ]
  },
  {
   "cell_type": "code",
   "execution_count": 20,
   "id": "52bdd274-ba78-4842-816b-f09293c044a6",
   "metadata": {},
   "outputs": [],
   "source": [
    "# ... employing the accuracy as performance metric ...\n",
    "\n",
    "score = 'accuracy'"
   ]
  },
  {
   "cell_type": "markdown",
   "id": "5e060e89-a2a8-4a2d-bd39-d7b60ce09c65",
   "metadata": {},
   "source": [
    "Començam la construcció del primer *pipeline*, que ens determinarà quin és el millor \n",
    "conjunt de paràmetres del classificador *SVC*, \n",
    "de entre tots els que provarem."
   ]
  },
  {
   "cell_type": "code",
   "execution_count": 21,
   "id": "e986cc5c-c344-4538-be6b-560685a19090",
   "metadata": {},
   "outputs": [],
   "source": [
    "# Primera passa: estandarització del valors de les característiques de les mostres\n",
    "\n",
    "scaler = MinMaxScaler()\n",
    "\n",
    "scaler_step = ('scaler', scaler)"
   ]
  },
  {
   "cell_type": "code",
   "execution_count": 22,
   "id": "ba8df70c-7623-4958-976a-2a334f820e6e",
   "metadata": {},
   "outputs": [],
   "source": [
    "# Segona passa: classificar les mostres\n",
    "\n",
    "# En aquest exercici, pel classificador que ens demanen, s'ha de fer servir la classe SVC com a model\n",
    "\n",
    "from sklearn.svm import SVC\n",
    "\n",
    "clf_step = ('clf', SVC())"
   ]
  },
  {
   "cell_type": "code",
   "execution_count": 23,
   "id": "c5c7d41e-1b99-4cd3-bea9-9a8e2d34d1e0",
   "metadata": {},
   "outputs": [],
   "source": [
    "# Construïm la tuberia\n",
    "\n",
    "pipe_steps = [scaler_step, clf_step]\n",
    "\n",
    "gs_clf_p = Pipeline(pipe_steps)"
   ]
  },
  {
   "cell_type": "markdown",
   "id": "da118169-74fb-40a2-87d2-47a984c82fcb",
   "metadata": {},
   "source": [
    "Un cop construït el *pipeline*, ja el podem fer servir per fer la cerca dels (hiper)paràmetres"
   ]
  },
  {
   "cell_type": "code",
   "execution_count": 24,
   "id": "2bf94b2d-7e35-44da-b3b8-93633aa89a02",
   "metadata": {},
   "outputs": [],
   "source": [
    "# Segona passa: fer la cerca exhaustiva dels millors (hiper)paràmetres\n",
    "\n",
    "# Construirem els subconjunts de validació de forma equilibrada \n",
    "# (és a dir amb un percentatge de mostres de cada classe similar)\n",
    "\n",
    "s_kfold = StratifiedKFold(n_splits=n_folds, shuffle=True, random_state=11615)\n",
    "\n",
    "n_jobs = -1  # Utilitzam tots els fils d'execució\n",
    "verbose_level = 1  # Ens ajudarà a passar una estona més entretinguda ...\n",
    "\n",
    "gs_cv = GridSearchCV(estimator=gs_clf_p,\n",
    "                    cv=s_kfold,\n",
    "                    param_grid=params_to_try,\n",
    "                    scoring=score,\n",
    "                    n_jobs=n_jobs,\n",
    "                    verbose=verbose_level)"
   ]
  },
  {
   "cell_type": "code",
   "execution_count": 25,
   "id": "416766a4-a613-4180-864c-790289ef6ef2",
   "metadata": {},
   "outputs": [
    {
     "name": "stdout",
     "output_type": "stream",
     "text": [
      "Fitting 3 folds for each of 520 candidates, totalling 1560 fits\n"
     ]
    },
    {
     "data": {
      "text/plain": [
       "GridSearchCV(cv=StratifiedKFold(n_splits=3, random_state=11615, shuffle=True),\n",
       "             estimator=Pipeline(steps=[('scaler', MinMaxScaler()),\n",
       "                                       ('clf', SVC())]),\n",
       "             n_jobs=-1,\n",
       "             param_grid=[{'clf__C': [0.01, 0.1, 1, 10, 100, 1000, 10000,\n",
       "                                     100000],\n",
       "                          'clf__kernel': ['linear']},\n",
       "                         {'clf__C': [0.01, 0.1, 1, 10, 100, 1000, 10000,\n",
       "                                     100000],\n",
       "                          'clf__coef0': [-1, 0, 1], 'clf__degree': [1, 2, 3],\n",
       "                          'clf__gamma': ['scale', 0.5, 1, 2],\n",
       "                          'clf__kernel': ['poly']},\n",
       "                         {'clf__C': [0.01, 0.1, 1, 10, 100, 1000, 10000,\n",
       "                                     100000],\n",
       "                          'clf__gamma': ['scale', 0.25, 0.5, 1, 2, 4, 8],\n",
       "                          'clf__kernel': ['rbf']},\n",
       "                         {'clf__C': [0.01, 0.1, 1, 10, 100, 1000, 10000,\n",
       "                                     100000],\n",
       "                          'clf__coef0': [-1, 0, 1],\n",
       "                          'clf__gamma': ['scale', 0.25, 0.5, 1, 2, 4, 8],\n",
       "                          'clf__kernel': ['sigmoid']}],\n",
       "             scoring='accuracy', verbose=1)"
      ]
     },
     "execution_count": 25,
     "metadata": {},
     "output_type": "execute_result"
    }
   ],
   "source": [
    "# Començam les proves ...\n",
    "\n",
    "gs_cv.fit(X_train, y_train)"
   ]
  },
  {
   "cell_type": "code",
   "execution_count": 26,
   "id": "ceb88f4f-5218-4e91-a5db-047c2e04e89d",
   "metadata": {},
   "outputs": [
    {
     "data": {
      "text/plain": [
       "0.9291666666666667"
      ]
     },
     "execution_count": 26,
     "metadata": {},
     "output_type": "execute_result"
    }
   ],
   "source": [
    "# Vegem quina és la mètrica 'accuracy' del millor classificador\n",
    "\n",
    "best_accuracy = gs_cv.best_score_\n",
    "best_accuracy"
   ]
  },
  {
   "cell_type": "code",
   "execution_count": 27,
   "id": "025cd3df-3804-45f9-9de9-6d46fc2beef5",
   "metadata": {},
   "outputs": [
    {
     "data": {
      "text/plain": [
       "Pipeline(steps=[('scaler', MinMaxScaler()), ('clf', SVC(C=10000, gamma=4))])"
      ]
     },
     "execution_count": 27,
     "metadata": {},
     "output_type": "execute_result"
    }
   ],
   "source": [
    "# Triam el millor segons la mètrica que li hem donat (accuracy)\n",
    "\n",
    "best_clf = gs_cv.best_estimator_\n",
    "best_clf"
   ]
  },
  {
   "cell_type": "code",
   "execution_count": 28,
   "id": "ad600cfd-db35-4fe2-ac3b-ed3613518899",
   "metadata": {},
   "outputs": [
    {
     "data": {
      "text/plain": [
       "{'clf__C': 10000, 'clf__gamma': 4, 'clf__kernel': 'rbf'}"
      ]
     },
     "execution_count": 28,
     "metadata": {},
     "output_type": "execute_result"
    }
   ],
   "source": [
    "# Aquests són els millors paràmetres\n",
    "\n",
    "best_params = gs_cv.best_params_\n",
    "best_params"
   ]
  },
  {
   "cell_type": "markdown",
   "id": "f81ed79f-e010-4bee-87ec-3506bd8951e9",
   "metadata": {},
   "source": [
    "Ara que ja sabem quin és el millor, provarem a classificar el conjunt de proves"
   ]
  },
  {
   "cell_type": "code",
   "execution_count": 29,
   "id": "c5c20a09-e5cb-479f-ab11-03d79f754037",
   "metadata": {},
   "outputs": [],
   "source": [
    "y_pred = best_clf.predict(X_test)"
   ]
  },
  {
   "cell_type": "markdown",
   "id": "d233070d-c0f3-42dd-9715-9efc087288b4",
   "metadata": {},
   "source": [
    "Vegem un resum de les mètriques de la classificació del conjunt de prova:"
   ]
  },
  {
   "cell_type": "code",
   "execution_count": 30,
   "id": "70b03d20-6f00-44da-b12a-ff0d1fa00a2b",
   "metadata": {},
   "outputs": [
    {
     "name": "stdout",
     "output_type": "stream",
     "text": [
      "              precision    recall  f1-score   support\n",
      "\n",
      "    Classe 0       0.94      0.85      0.89        34\n",
      "    Classe 1       0.83      0.92      0.87        26\n",
      "\n",
      "    accuracy                           0.88        60\n",
      "   macro avg       0.88      0.89      0.88        60\n",
      "weighted avg       0.89      0.88      0.88        60\n",
      "\n"
     ]
    }
   ],
   "source": [
    "print(classification_report(y_true=y_test, \n",
    "                            y_pred=y_pred, \n",
    "                            target_names=get_cl_target_name()))"
   ]
  },
  {
   "cell_type": "markdown",
   "id": "c34820da-2c2c-43d8-9655-f3e3f028a3bf",
   "metadata": {},
   "source": [
    "I la matriu de confusió: "
   ]
  },
  {
   "cell_type": "code",
   "execution_count": 31,
   "id": "31c10658-550c-4d99-96b3-3a6bf5a31745",
   "metadata": {},
   "outputs": [
    {
     "data": {
      "text/plain": [
       "array([[29,  5],\n",
       "       [ 2, 24]])"
      ]
     },
     "execution_count": 31,
     "metadata": {},
     "output_type": "execute_result"
    }
   ],
   "source": [
    "from sklearn.metrics import confusion_matrix\n",
    "\n",
    "cm = confusion_matrix(y_test, y_pred, )\n",
    "cm"
   ]
  },
  {
   "cell_type": "markdown",
   "id": "cc0ab7c5-4e9a-4b2c-b712-6bb642a2ecd6",
   "metadata": {},
   "source": [
    "| | predites com a pertanyents a classe $y=0$ | predites com a pertanyents a classe $y=1$ |\n",
    "| --- | :---: | :---: |\n",
    "| mostres que realment pertanyen a la classe $y=0$ | 29 |  5 |\n",
    "| mostres que realment pertanyen a la classe $y=1$ |  2 | 24 |"
   ]
  },
  {
   "cell_type": "markdown",
   "id": "3aae3416-76e3-40ca-b71b-4a0d84c7708a",
   "metadata": {},
   "source": [
    "Que, en efecte, ens torna a acreditar que la *accuracy* al conjunt de prova ha baixat:\n",
    "\n",
    "$$\\text{accuracy} = \\frac{\\text{mostres predites correctament}}{\\text{total de mostres}} = \\frac{29+24}{29+5+2+24} = 0.883$$"
   ]
  },
  {
   "cell_type": "markdown",
   "id": "085d72ac-963e-46a5-aa01-e770f221188e",
   "metadata": {},
   "source": [
    "En front als 0.929 obtinguts al llarg de l'entrenament"
   ]
  },
  {
   "cell_type": "markdown",
   "id": "f2c309d2-f970-4ff0-8225-23029c69af3b",
   "metadata": {},
   "source": [
    "### Apartat (3.c)"
   ]
  },
  {
   "cell_type": "markdown",
   "id": "c6bb7c4c-4726-4954-ac1a-9be8372038d4",
   "metadata": {},
   "source": [
    "c) Generate the following plots **in the original space**:\n",
    "1. a first plot with *the training samples*, highlighting the *support vectors* and plotting the 2D *decision curve*; and\n",
    "2. a second plot with the *classification map*, i.e. evaluate the *decision function* for a 'regular' subset (grid) of points.\n",
    "\n",
    "Use different markers and/or colours for each class. \n",
    "See the appendix for examples of the requested plots."
   ]
  },
  {
   "cell_type": "markdown",
   "id": "51ba29a7-32c8-4f21-b258-bff88088371d",
   "metadata": {},
   "source": [
    "### Resposta apartat (3.c)"
   ]
  },
  {
   "cell_type": "markdown",
   "id": "f329150d-f745-46ee-829b-2fdb616f77a7",
   "metadata": {},
   "source": [
    "Definim algunes funcions necessàries per a fer els diagrames."
   ]
  },
  {
   "cell_type": "code",
   "execution_count": 32,
   "id": "0960fc46-c25e-4f8b-890b-7766944d0d85",
   "metadata": {
    "tags": []
   },
   "outputs": [],
   "source": [
    "import numpy as np\n",
    "\n",
    "def get_view_limits(X: np.ndarray, extra_border: float = 0.):\n",
    "    \n",
    "    ### límits del diagrama:\n",
    "    x_left = np.floor(np.amin(X, axis = 0)[0] - 0.5 - extra_border)\n",
    "    x_right = np.ceil(np.amax(X, axis = 0)[0] + 0.5 + extra_border)\n",
    "    y_top = np.ceil(np.amax(X, axis = 0)[1] + 0.5 + extra_border)\n",
    "    y_bottom = np.floor(np.amin(X, axis = 0)[1]- 0.5 - extra_border)\n",
    "    \n",
    "    return x_left, x_right, y_bottom, y_top\n",
    "\n",
    "\n",
    "def get_mesh(g_func, \n",
    "             x_left: float, x_right: float, y_bottom: float, y_top: float, \n",
    "             res: int = 100):\n",
    "\n",
    "    # calcula malla\n",
    "    \n",
    "    xx = np.linspace(x_left, x_right, res)\n",
    "    yy = np.linspace(y_bottom, y_top, res)\n",
    "    XX, YY = np.meshgrid(xx, yy, indexing = 'ij')\n",
    "    Z = np.zeros((res * res, 1))\n",
    "\n",
    "    k = 0\n",
    "    for x1 in xx:\n",
    "        for x2 in yy:\n",
    "            Z[k] = g_func(np.array((x1, x2), dtype=float))\n",
    "            k += 1\n",
    "\n",
    "    return XX, YY, Z"
   ]
  },
  {
   "cell_type": "code",
   "execution_count": 33,
   "id": "576aabbf-7bc1-4f81-9ba7-9bf502115cd2",
   "metadata": {
    "tags": []
   },
   "outputs": [],
   "source": [
    "import numpy as np\n",
    "import matplotlib.pyplot as plt\n",
    "\n",
    "def plot_scatter_contour(X: np.ndarray, y: np.ndarray, sv: list, \n",
    "                         g_func, margin_level: float=1., \n",
    "                         extra_border: float=0.):\n",
    "    \n",
    "    # plot samples, highlighting some of them\n",
    "\n",
    "    ## calcula límits cartesians a representar\n",
    "    ##\n",
    "    x_left, x_right, y_bottom, y_top = get_view_limits(X, extra_border)\n",
    "    \n",
    "    ## calcula malla de valors de la funció\n",
    "    ##\n",
    "    XX, YY, Z = get_mesh(g_func, x_left, x_right, y_bottom, y_top)\n",
    "    \n",
    "    ## calcula index de cada classe\n",
    "    cl_index = get_cl_index(y)\n",
    "\n",
    "    ## començam a dibuixar\n",
    "    ##\n",
    "    plt.figure(1, figsize = (8,8))\n",
    "\n",
    "\n",
    "    ## dibuixam la corba de decisió i els marges\n",
    "    ##\n",
    "    ax = plt.gca()\n",
    "    ax.contour(XX, YY, Z.reshape(XX.shape), \n",
    "               colors='k',\n",
    "               levels=[-margin_level, 0, margin_level],\n",
    "               alpha=0.5,linestyles=['--', '-', '--'])\n",
    "\n",
    "    ## dibuixam els punts per cada classe\n",
    "    ##\n",
    "    for k in cl_properties:\n",
    "        plt.plot(X[cl_index.get(k), 0], X[cl_index.get(k), 1], \n",
    "                 cl_properties.get(k).get('plot_fmt'))\n",
    "\n",
    "    ## i remarcam els vectors de suport\n",
    "    ##\n",
    "    ax2 = plt.gca()\n",
    "    ax2.scatter(X[sv, 0], X[sv, 1], s = 100, \n",
    "               linewidth = 1, facecolors = 'none', edgecolors = 'k')\n",
    "\n",
    "    ## format\n",
    "    ##\n",
    "    plt.xlim([x_left, x_right])\n",
    "    plt.ylim([y_bottom, y_top])\n",
    "    plt.axis('equal')\n",
    "\n",
    "    ## etiquetam el que manca i llest\n",
    "    ##\n",
    "    plt.title('Punts, vectors de suport i corba de decisió amb marges')\n",
    "    \n",
    "    plt.xlabel('x1')\n",
    "    plt.ylabel('x2')\n",
    "\n",
    "    plt.show(block = False)\n",
    "    \n",
    "    return"
   ]
  },
  {
   "cell_type": "code",
   "execution_count": 34,
   "id": "1ad7f1ce-f47d-4a6d-a3db-9c1072a0d8e0",
   "metadata": {
    "tags": []
   },
   "outputs": [],
   "source": [
    "import numpy as np\n",
    "import matplotlib.pyplot as plt\n",
    "import matplotlib.colors as col\n",
    "\n",
    "def plot_map_plane(X: np.ndarray, y: np.ndarray, sv: list, \n",
    "                   g_func, \n",
    "                   extra_border: float=0.): \n",
    "    \n",
    "    # matrix-based predicate evaluation\n",
    "\n",
    "    ## calcula límits cartesians a representar\n",
    "    ##\n",
    "    x_left, x_right, y_bottom, y_top = get_view_limits(X, extra_border)\n",
    "    \n",
    "    ## calcula malla de valors de la funció\n",
    "    ##\n",
    "    XX, YY, Z = get_mesh(g_func, x_left, x_right, y_bottom, y_top)\n",
    "    \n",
    "    ## calcula index de cada classe\n",
    "    cl_index = get_cl_index(y)\n",
    "    \n",
    "    ## i valors de la classe\n",
    "    cl_min = get_cl_min()\n",
    "    cl_max = get_cl_max()\n",
    "\n",
    "    ## començam a dibuixar\n",
    "    ##\n",
    "    plt.figure(1, figsize=(8,8))\n",
    "\n",
    "    ## cream paleta de colors\n",
    "    ##\n",
    "    paleta = col.LinearSegmentedColormap.from_list(\n",
    "        'SVM_color', get_cl_hex_color())\n",
    "\n",
    "    ## reduïm a només dues classes\n",
    "    ##\n",
    "    C = np.where(Z >= 0, cl_max, cl_min)\n",
    "\n",
    "    ## cream mapa i llegenda\n",
    "    ##\n",
    "    plt.imshow(\n",
    "        C.reshape(XX.shape).T, \n",
    "        origin = 'lower', \n",
    "        extent = (x_left, x_right, y_bottom, y_top), \n",
    "        cmap = paleta)\n",
    "    plt.colorbar()\n",
    "    \n",
    "    ## dibuixam els punts per cada classe\n",
    "    ##\n",
    "    for k in cl_properties:\n",
    "        plt.plot(X[cl_index.get(k), 0], X[cl_index.get(k), 1], \n",
    "                 cl_properties.get(k).get('contrast_fmt'))\n",
    "\n",
    "    ## format\n",
    "    ##\n",
    "    plt.title(\"Mapa de l'avaluació de la funció de classificació\")\n",
    "    \n",
    "    plt.xlabel('x1')\n",
    "    plt.ylabel('x2')\n",
    "    \n",
    "    plt.axis('equal')\n",
    "    \n",
    "    ## mostram\n",
    "    ##\n",
    "    plt.show(block=False) # to force visualization\n",
    "\n",
    "    ## també dibuixarem el plànol en 3D\n",
    "    ##\n",
    "    plt.figure(2, figsize=(8,8))\n",
    "    ax = plt.axes(projection='3d')\n",
    "    \n",
    "    ax.plot_surface(XX, YY, Z.reshape(XX.shape), \n",
    "                    rstride = 1, cstride = 1, \n",
    "                    vmin = cl_min, vmax = cl_max,\n",
    "                    cmap = paleta, \n",
    "                    edgecolor = 'none')\n",
    "    \n",
    "    ## ajustam l'àngle per veure'l millor\n",
    "    ##\n",
    "    ax.view_init(45, -60)\n",
    "\n",
    "    ## etiquetam el que manca i llest\n",
    "    ##\n",
    "    plt.title('Superfície classificadora')\n",
    "\n",
    "    plt.xlabel('x1')\n",
    "    plt.ylabel('x2')\n",
    "\n",
    "    plt.show(block = False)\n",
    "    \n",
    "    return"
   ]
  },
  {
   "cell_type": "markdown",
   "id": "e9c8255c-a54f-414c-a979-768e3d0f8da1",
   "metadata": {},
   "source": [
    "#### Resultat punt 3.c.1"
   ]
  },
  {
   "cell_type": "markdown",
   "id": "fc804e86-e3a3-4e50-a698-d0d85b6d7e47",
   "metadata": {},
   "source": [
    "La representació a l'**espai original** de les *mostres d'entrenament*, els *vectors de suport*\n",
    "i les *corbes de decisió*, són:"
   ]
  },
  {
   "cell_type": "code",
   "execution_count": 36,
   "id": "fa6f2d7b-2ca7-44d0-a0bf-ce62278e88c2",
   "metadata": {},
   "outputs": [],
   "source": [
    "def rbf_func(x): \n",
    "    return best_clf.decision_function([x]).item()\n",
    "\n",
    "def get_sv() -> list:\n",
    "    return [] # best_clf.support_"
   ]
  },
  {
   "cell_type": "code",
   "execution_count": 37,
   "id": "bae0e171-fbbe-46bd-a45f-a7ed48999582",
   "metadata": {},
   "outputs": [],
   "source": [
    "def rbf_func(x): \n",
    "    return clf.decision_function([x]).item()\n",
    "\n",
    "def get_sv() -> list:\n",
    "    return clf.support_"
   ]
  },
  {
   "cell_type": "code",
   "execution_count": 53,
   "id": "122c35ff-2b4b-43d4-a031-860702ffc922",
   "metadata": {},
   "outputs": [],
   "source": [
    "clf = SVC(C=10000, gamma=4, kernel='rbf')"
   ]
  },
  {
   "cell_type": "code",
   "execution_count": 54,
   "id": "91fd271d-df35-4fb1-ace9-a1ac5f46c750",
   "metadata": {},
   "outputs": [
    {
     "data": {
      "text/plain": [
       "SVC(C=10000, gamma=4)"
      ]
     },
     "execution_count": 54,
     "metadata": {},
     "output_type": "execute_result"
    }
   ],
   "source": [
    "clf.fit(X_train, y_train)"
   ]
  },
  {
   "cell_type": "code",
   "execution_count": 55,
   "id": "df8ef02e-24aa-4833-9bbc-a3babd438131",
   "metadata": {},
   "outputs": [
    {
     "data": {
      "image/png": "[encoded data removed]",
      "text/plain": [
       "<Figure size 576x576 with 1 Axes>"
      ]
     },
     "metadata": {
      "needs_background": "light"
     },
     "output_type": "display_data"
    }
   ],
   "source": [
    "sv=get_sv()\n",
    "\n",
    "plot_scatter_contour(X_train, y_train, sv, rbf_func, extra_border=1.)"
   ]
  },
  {
   "cell_type": "markdown",
   "id": "463b4e28-878f-4dee-bc7f-e876868de4f8",
   "metadata": {},
   "source": [
    "#### Resultat punt 3.c.2"
   ]
  },
  {
   "cell_type": "markdown",
   "id": "227f2fd7-1114-43df-9b2d-bc12720ae105",
   "metadata": {},
   "source": [
    "La representació a l'espai original del *mapa de classificació*, és:"
   ]
  },
  {
   "cell_type": "code",
   "execution_count": 56,
   "id": "1d30085a-68b7-429d-b9a4-a5da41576575",
   "metadata": {
    "tags": []
   },
   "outputs": [
    {
     "data": {
      "image/png": "[encoded data removed]",
      "text/plain": [
       "<Figure size 576x576 with 2 Axes>"
      ]
     },
     "metadata": {
      "needs_background": "light"
     },
     "output_type": "display_data"
    },
    {
     "data": {
      "image/png": "[encoded data removed]",
      "text/plain": [
       "<Figure size 576x576 with 1 Axes>"
      ]
     },
     "metadata": {
      "needs_background": "light"
     },
     "output_type": "display_data"
    }
   ],
   "source": [
    "plot_map_plane(X_train, y_train, sv, rbf_func, extra_border=1.)"
   ]
  },
  {
   "cell_type": "markdown",
   "id": "c80becb8-ab45-4d75-811c-c0c0fc42b8d2",
   "metadata": {},
   "source": [
    "### Apartat (3.d)"
   ]
  },
  {
   "cell_type": "markdown",
   "id": "584e1834-1c83-4346-9c83-baa89f4a605d",
   "metadata": {},
   "source": [
    "d) Report on the classifier performance using the *test dataset*:\n",
    "1. measure the *test accuracy*, *test precision*, *test recall* and *test f1-score*; and\n",
    "2. in a single figure, plot the *test samples* over the already calculated *classification map* (use different markers and/or colours for each class)."
   ]
  },
  {
   "cell_type": "markdown",
   "id": "f3ec1edf-d98e-4564-942c-b12797e249d5",
   "metadata": {},
   "source": [
    "### Apartat (3.e)"
   ]
  },
  {
   "cell_type": "markdown",
   "id": "a7b5a8ff-eae9-4715-9040-e3bbab157749",
   "metadata": {},
   "source": [
    "e) Obtain an improved estimation of the *accuracy*, *precision* and *recall* measures by means of *5-fold cross-validation*. To this end, put together the *training* and *test* datasets, so that the corresponding function can\n",
    "build the *folds* from all available data."
   ]
  },
  {
   "cell_type": "markdown",
   "id": "4fbfe463-88b2-480d-9bd5-0b21a23f7a6b",
   "metadata": {},
   "source": [
    "Performance assessment by cross-validation:"
   ]
  },
  {
   "cell_type": "code",
   "execution_count": null,
   "id": "7b329465-8b3d-4dc6-9c72-0702cb30878b",
   "metadata": {},
   "outputs": [],
   "source": [
    "classification_report(y_test, y_pred)\n",
    "test_accuracy = accuracy_score(y_test, y_pred)\n",
    "test_precision = precision_score(y_test, y_pred)\n",
    "test_recall = recall_score(y_test, y_pred)\n",
    "test_f1 = f1_score(y_test, y_pred)\n",
    "clf = clf_.best_estimator_\n",
    "clfp = make_pipeline(StandardScaler(), clf)\n",
    "scoring = ['accuracy']\n",
    "scores = cross_validate(clfp, X, y, cv=5, scoring=scoring)\n",
    "print('accuracy: ', scores['test_accuracy'])\n",
    "print('avg acc.: ', np.mean(scores['test_accuracy']))"
   ]
  },
  {
   "cell_type": "code",
   "execution_count": null,
   "id": "a8365e54-28bf-4c23-971c-939f7b61a9e7",
   "metadata": {},
   "outputs": [],
   "source": []
  },
  {
   "cell_type": "markdown",
   "id": "6af3b454-45bc-43a5-91be-8b50c8eccaa9",
   "metadata": {},
   "source": [
    "#### Resultat punt a.2"
   ]
  },
  {
   "cell_type": "markdown",
   "id": "40dee314-26af-4d57-a32e-2e1b3f4ecf9b",
   "metadata": {},
   "source": [
    "Ens demanen que cerquem les dues funcions de decisió: "
   ]
  },
  {
   "cell_type": "markdown",
   "id": "3f5f5ee8-d928-4339-8946-178d7ab17584",
   "metadata": {},
   "source": [
    "Espai transformat: $$g_1(x') = w^T x' + w_0' | [x' = \\Phi(x)]$$\n",
    "\n",
    "Espai original: $$g_2(x) = w^T x + w_0$$"
   ]
  },
  {
   "cell_type": "markdown",
   "id": "a1af2588-2cc7-45f8-bde8-5923c80fcd93",
   "metadata": {},
   "source": [
    "Definim una funció genèrica, que ens servirà com a primitiva de les dues que cercam:"
   ]
  },
  {
   "cell_type": "code",
   "execution_count": null,
   "id": "92b32884-94df-4a3c-97ac-eb42a4140900",
   "metadata": {},
   "outputs": [],
   "source": [
    "def g_func(x, w: np.ndarray, w0: float) -> np.ndarray:\n",
    "    \n",
    "    return np.dot(w.T, x) + w0"
   ]
  },
  {
   "cell_type": "markdown",
   "id": "5d44b24f-6ad4-451c-bb99-bd9350d84104",
   "metadata": {},
   "source": [
    "I calculam els coeficients i el terme independent per a cada cas:"
   ]
  },
  {
   "cell_type": "code",
   "execution_count": null,
   "id": "edd95b25-e7c2-4d2c-a2ae-e41cab028bbc",
   "metadata": {},
   "outputs": [],
   "source": [
    "w = get_w(lm, y, phi(X))\n",
    "w"
   ]
  },
  {
   "cell_type": "code",
   "execution_count": null,
   "id": "fcd74a23-4965-4ea6-b4ce-e850764caf7b",
   "metadata": {
    "tags": []
   },
   "outputs": [],
   "source": [
    "w0 = get_w0(lm, y, phi(X))\n",
    "w0"
   ]
  },
  {
   "cell_type": "markdown",
   "id": "9c403608-75fe-4f73-9448-3bd77ae3d1f2",
   "metadata": {},
   "source": [
    "Per tant la funció de decisió a l'espai transformat serà:"
   ]
  },
  {
   "cell_type": "code",
   "execution_count": null,
   "id": "3927ec17-0197-4427-8f23-7717246dd468",
   "metadata": {},
   "outputs": [],
   "source": [
    "# Funció de decisió  l'espai transformat\n",
    "\n",
    "def g1(x):\n",
    "    \n",
    "    return g_func(x, w, w0)"
   ]
  },
  {
   "cell_type": "markdown",
   "id": "3aae310a-04c0-4758-b9d6-f5858bcc5a76",
   "metadata": {
    "tags": []
   },
   "source": [
    "La provam i aprofitam la nostra funció `epsilize` per arrodonir \n",
    "el valor dels punts que cauen a prop del llindar de decisió.\n",
    "Així és més fàcil confirmar si hi ha vectors de suport degenerats\n",
    "(vectors en el llindar de decisió \n",
    "però que no cal tenir en compte per a la determinació de l'hiperplà):"
   ]
  },
  {
   "cell_type": "code",
   "execution_count": null,
   "id": "15bd489e-4a51-41df-a0cb-21bb70d2815a",
   "metadata": {
    "tags": []
   },
   "outputs": [],
   "source": [
    "def bound(x, eps): \n",
    "    return epsilize(epsilize(x, eps, target=1.), eps, target=-1.)\n",
    "\n",
    "def print_g(g, X, y, eps = 1e-6):\n",
    "    n_errors = 0\n",
    "    for i in range(X.shape[0]):\n",
    "        print(f\"g(x{i:2}) = {bound(g(X[i]), eps).item():+.8f}\"\n",
    "              f\"  y({i:2}) = {y[i].item():+1}\")\n",
    "        if np.sign(g(X[i]).item()) * y[i].item() == -1:\n",
    "            n_errors += 1\n",
    "    print(f\"\\nErrors de classificació: {n_errors}\")\n",
    "    \n",
    "    return\n",
    "\n",
    "# Utilitzam una tolerància de 10^-3 per tal de poder arrodonir \n",
    "# el valor de g(x) quan x és un vector de suport\n",
    "print_g(g1, phi(X), y, 1e-3)"
   ]
  },
  {
   "cell_type": "markdown",
   "id": "b0807a89-0f3b-4580-9df7-df9f19ead78b",
   "metadata": {},
   "source": [
    "Comprovam que la funció $g_1(x') | [x' = \\Phi(x)]$ (espai transformat) està classificant correctament."
   ]
  },
  {
   "cell_type": "markdown",
   "id": "3faa3351-8835-4008-b5c1-96a63deaa571",
   "metadata": {},
   "source": [
    "> **Nota :** Per tal de visibilitzar els vectors de suport, hem hagut de fer servir la **tolerància 1e-3**,\n",
    "bastant més elevada que la original 1e-6. \n",
    "Suposam que és per mor de la precisió numèrica de *Python*."
   ]
  },
  {
   "cell_type": "markdown",
   "id": "2a5b9bec-2433-4094-a0c7-091036267937",
   "metadata": {},
   "source": [
    "Atès que: \n",
    "\n",
    "- A l'espai transformat: \n",
    "\n",
    "$g_1(x') = w^T x' + w_0 | [x' = \\Phi(x)]$\n",
    "\n",
    "$\\Phi(x_1, x_2)=(x_1 x_2, x_1^2 + x_2^2)$\n",
    "\n",
    "- I a l'espai original:\n",
    "\n",
    "$g_2(x) = w^T x + w_0$\n",
    "\n",
    "Podem escriure $g_2(x)$ com:\n",
    "\n",
    "$g_2((x_1,x_2)) = w_1 x_1 x_2 + w_2 (x_1^2 + x_2^2) + w_0$"
   ]
  },
  {
   "cell_type": "markdown",
   "id": "c98d925b-7ae6-4773-94ee-c08d54aa4f56",
   "metadata": {},
   "source": [
    "Per tant la funció de decisió a l'espai original serà:"
   ]
  },
  {
   "cell_type": "code",
   "execution_count": null,
   "id": "1c475107-3e66-4c23-9cad-b65efce1b7c2",
   "metadata": {},
   "outputs": [],
   "source": [
    "# Funció de decisió a l'espai original\n",
    "\n",
    "def g2(x):\n",
    "    \n",
    "    return (w[0]*x[0]*x[1] + w[1]*(x[0]*x[0]+x[1]*x[1])+w0)"
   ]
  },
  {
   "cell_type": "code",
   "execution_count": null,
   "id": "2496f535-9532-47ee-a9d9-5355f9356942",
   "metadata": {
    "tags": []
   },
   "outputs": [],
   "source": [
    "print_g(g2, X, y)"
   ]
  },
  {
   "cell_type": "markdown",
   "id": "b059df50-6aa0-4b35-910f-e1b21526659b",
   "metadata": {},
   "source": [
    "---"
   ]
  },
  {
   "cell_type": "markdown",
   "id": "a731238b-f169-480f-9cf9-aa1e85ac0684",
   "metadata": {},
   "source": [
    "### Apartat (b)"
   ]
  },
  {
   "cell_type": "markdown",
   "id": "730e9989-7b94-4959-8e39-88c57d9abc7f",
   "metadata": {
    "tags": []
   },
   "source": [
    "b) Generate the following plots:\n",
    "1. a first plot with the *training samples* \n",
    "in the *transformed space*,\n",
    "highlighting the *support vectors* \n",
    "and plotting the 2D *decision curve*;\n",
    "2. a second plot with the *training samples* \n",
    "in the *original space*,\n",
    "highlighting the *support vectors* \n",
    "and plotting the 2D *decision curve*; and\n",
    "3. a third plot with the *classification map* **in the *original space***, \n",
    "i.e. evaluate the decision function \n",
    "for a ’regular’ subset (grid)\n",
    "of points.\n",
    "\n",
    "Use different markers and/or colours for each class. See the appendix for examples of the requested plots"
   ]
  },
  {
   "cell_type": "markdown",
   "id": "d6c60973-8305-4c52-8452-c4777b681fd3",
   "metadata": {},
   "source": [
    "### Resposta apartat (b)"
   ]
  },
  {
   "cell_type": "markdown",
   "id": "fd28cb82-d7be-4b55-91ec-835997a44cb8",
   "metadata": {},
   "source": [
    "Per a fer el diagrames serà pràctic crear una funció \n",
    "que ens ajudi a confeccionar les llistes dels components de cada classe:"
   ]
  },
  {
   "cell_type": "code",
   "execution_count": null,
   "id": "a3a7a550-5e33-4a04-88c4-6edaccde59aa",
   "metadata": {},
   "outputs": [],
   "source": [
    "cl_w1_index = get_c_index(y, cl_w1_value)\n",
    "\n",
    "cl_w1_index"
   ]
  },
  {
   "cell_type": "code",
   "execution_count": null,
   "id": "51eafe89-2486-4f1b-b78a-28cbad6efe95",
   "metadata": {},
   "outputs": [],
   "source": [
    "cl_w2_index = get_c_index(y, cl_w2_value)\n",
    "\n",
    "cl_w2_index"
   ]
  },
  {
   "cell_type": "markdown",
   "id": "131376f2-958a-4557-9c4c-8f9ccbb214f4",
   "metadata": {},
   "source": [
    "#### Resultat punt b.1"
   ]
  },
  {
   "cell_type": "markdown",
   "id": "53f7411b-8015-4b65-a9ba-8f453a12151a",
   "metadata": {},
   "source": [
    "Definim algunes funcions necessàries per a fer els diagrames."
   ]
  },
  {
   "cell_type": "code",
   "execution_count": null,
   "id": "dccd63e6-5acb-45fc-8332-3acdeb0e3169",
   "metadata": {
    "tags": []
   },
   "outputs": [],
   "source": [
    "import numpy as np\n",
    "\n",
    "def get_view_limits(X: np.ndarray):\n",
    "    \n",
    "    ### límits del diagrama:\n",
    "    x_left = np.floor(np.amin(X, axis = 0)[0] - 0.5)\n",
    "    x_right = np.ceil(np.amax(X, axis = 0)[0] + 0.5)\n",
    "    y_top = np.ceil(np.amax(X, axis = 0)[1] + 0.5)\n",
    "    y_bottom = np.floor(np.amin(X, axis = 0)[1]- 0.5)\n",
    "    \n",
    "    return x_left, x_right, y_bottom, y_top\n",
    "\n",
    "\n",
    "def get_mesh(g_func, \n",
    "             x_left: float, x_right: float, y_bottom: float, y_top: float, \n",
    "             res: int = 100):\n",
    "\n",
    "    # calcula malla\n",
    "    \n",
    "    xx = np.linspace(x_left, x_right, res)\n",
    "    yy = np.linspace(y_bottom, y_top, res)\n",
    "    XX, YY = np.meshgrid(xx, yy, indexing = 'ij')\n",
    "    Z = np.zeros((res * res, 1))\n",
    "\n",
    "    k = 0\n",
    "    for x1 in xx:\n",
    "        for x2 in yy:\n",
    "            Z[k] = g_func(np.array((x1, x2), dtype=float))\n",
    "            k += 1\n",
    "\n",
    "    return XX, YY, Z"
   ]
  },
  {
   "cell_type": "code",
   "execution_count": null,
   "id": "27e5cf46-a372-4c4e-acf1-68deed2e0617",
   "metadata": {
    "tags": []
   },
   "outputs": [],
   "source": [
    "import numpy as np\n",
    "import matplotlib.pyplot as plt\n",
    "\n",
    "def plot_scatter_contour(X: np.ndarray, y: np.ndarray, sv: list, \n",
    "                         g_func, margin_level:float=1.):\n",
    "    \n",
    "    # plot samples, highlighting some of them\n",
    "\n",
    "    ## calcula límits cartesians a representar\n",
    "    ##\n",
    "    x_left, x_right, y_bottom, y_top = get_view_limits(X)\n",
    "    \n",
    "    ## calcula malla de valors de la funció\n",
    "    ##\n",
    "    XX, YY, Z = get_mesh(g_func, x_left, x_right, y_bottom, y_top)\n",
    "    \n",
    "    ## calcula index de cada classe\n",
    "    cl_w1_index = get_c_index(y, cl_w1_value)\n",
    "    cl_w2_index = get_c_index(y, cl_w2_value)\n",
    "\n",
    "    ## començam a dibuixar\n",
    "    ##\n",
    "    plt.figure(1, figsize=(8,8))\n",
    "\n",
    "\n",
    "    ## dibuixam la corba de decisió i els marges\n",
    "    ##\n",
    "    ax = plt.gca()\n",
    "    ax.contour(XX, YY, Z.reshape(XX.shape), \n",
    "               colors='k',\n",
    "               levels=[-margin_level, 0, margin_level],\n",
    "               alpha=0.5,linestyles=['--', '-', '--'])\n",
    "\n",
    "    ## dibuixam els punts per cada classe\n",
    "    ##\n",
    "    plt.plot(X[cl_w1_index, 0], X[cl_w1_index, 1], cl_w1_color) # class w1\n",
    "    plt.plot(X[cl_w2_index, 0], X[cl_w2_index, 1], cl_w2_color) # class w2\n",
    "    hil = sv # samples to highlight\n",
    "\n",
    "    ## i remarcam els vectors de suport\n",
    "    ##\n",
    "    ax2 = plt.gca()\n",
    "    ax2.scatter(X[hil, 0], X[hil, 1], s = 100, \n",
    "               linewidth = 1, facecolors = 'none', edgecolors = 'k')\n",
    "\n",
    "    ## format\n",
    "    ##\n",
    "    plt.xlim([x_left, x_right])\n",
    "    plt.ylim([y_bottom, y_top])\n",
    "    plt.axis('equal')\n",
    "\n",
    "    ## etiquetam el que manca i llest\n",
    "    ##\n",
    "    plt.title('Punts, vectors de suport i corba de decisió amb marges')\n",
    "    \n",
    "    plt.xlabel('x1')\n",
    "    plt.ylabel('x2')\n",
    "\n",
    "    plt.show(block = False)\n",
    "    \n",
    "    return"
   ]
  },
  {
   "cell_type": "code",
   "execution_count": null,
   "id": "1ff55358-19f4-4086-9655-bfa9f8765cb8",
   "metadata": {
    "tags": []
   },
   "outputs": [],
   "source": [
    "import numpy as np\n",
    "import matplotlib.pyplot as plt\n",
    "import matplotlib.colors as col\n",
    "\n",
    "def plot_map_plane(X: np.ndarray, y: np.ndarray, sv: list, \n",
    "                   g_func): \n",
    "    \n",
    "    # matrix-based predicate evaluation\n",
    "\n",
    "    ## calcula límits cartesians a representar\n",
    "    ##\n",
    "    x_left, x_right, y_bottom, y_top = get_view_limits(X)\n",
    "    \n",
    "    ## calcula malla de valors de la funció\n",
    "    ##\n",
    "    XX, YY, Z = get_mesh(g_func, x_left, x_right, y_bottom, y_top)\n",
    "    \n",
    "    ## calcula index de cada classe\n",
    "    cl_w1_index = get_c_index(y, cl_w1_value)\n",
    "    cl_w2_index = get_c_index(y, cl_w2_value)\n",
    "\n",
    "    ## començam a dibuixar\n",
    "    ##\n",
    "    plt.figure(1, figsize=(8,8))\n",
    "\n",
    "    ## cream paleta de colors\n",
    "    ##\n",
    "    cl_w1_hex_color = '#b01010'  # red\n",
    "    cl_w2_hex_color = '#408030'  # green \n",
    "    paleta = col.LinearSegmentedColormap.from_list(\n",
    "        'SVM_2', [cl_w2_hex_color, cl_w1_hex_color])\n",
    "\n",
    "    ## reduïm a només dues classes\n",
    "    ##\n",
    "    C = np.where(Z >= 0, 1, -1)\n",
    "\n",
    "    ## cream mapa i llegenda\n",
    "    ##\n",
    "    plt.imshow(\n",
    "        C.reshape(XX.shape).T, \n",
    "        origin = 'lower', \n",
    "        extent = (x_left, x_right, y_bottom, y_top), \n",
    "        cmap = paleta)\n",
    "    plt.colorbar()\n",
    "    \n",
    "    ## format\n",
    "    ##\n",
    "    plt.title(\"Mapa de l'avaluació de la funció de classificació\")\n",
    "    \n",
    "    plt.xlabel('x1')\n",
    "    plt.ylabel('x2')\n",
    "    \n",
    "    plt.axis('equal')\n",
    "    \n",
    "    ## mostram\n",
    "    ##\n",
    "    plt.show(block=False) # to force visualization\n",
    "\n",
    "    ## també dibuixarem el plànol en 3D\n",
    "    ##\n",
    "    plt.figure(2, figsize=(8,8))\n",
    "    ax = plt.axes(projection='3d')\n",
    "    \n",
    "    ax.plot_surface(XX, YY, Z.reshape(XX.shape), \n",
    "                    rstride = 1, cstride = 1, \n",
    "                    vmin=-1, vmax=1,\n",
    "                    cmap = paleta, \n",
    "                    edgecolor = 'none')\n",
    "    \n",
    "    ## ajustam l'àngle per veure'l millor\n",
    "    ##\n",
    "    ax.view_init(45, -60)\n",
    "\n",
    "    ## etiquetam el que manca i llest\n",
    "    ##\n",
    "    plt.title('Hiperplà o superfície classificadora')\n",
    "\n",
    "    plt.xlabel('x1')\n",
    "    plt.ylabel('x2')\n",
    "\n",
    "    plt.show(block = False)\n",
    "    \n",
    "    return"
   ]
  },
  {
   "cell_type": "markdown",
   "id": "b18bb436-2fbb-4a62-817e-1152aa741ce9",
   "metadata": {},
   "source": [
    "#### Representació a l'espai transformat"
   ]
  },
  {
   "cell_type": "markdown",
   "id": "fc1dc2c2-a66a-4798-8c35-de62db91fb16",
   "metadata": {},
   "source": [
    "La representació a l'espai transformat és:"
   ]
  },
  {
   "cell_type": "code",
   "execution_count": null,
   "id": "aa79710d-5a65-4485-845b-d4d101a6f0db",
   "metadata": {},
   "outputs": [],
   "source": [
    "plot_scatter_contour(phi(X), y, sv_index, g1)"
   ]
  },
  {
   "cell_type": "markdown",
   "id": "13207afe-9e97-48ac-84ab-3d94ac2d99ce",
   "metadata": {},
   "source": [
    "#### Representacions a l'espai original"
   ]
  },
  {
   "cell_type": "markdown",
   "id": "055b5f65-d600-4242-9698-dce1d718c352",
   "metadata": {},
   "source": [
    "#### Resultat punt b.2"
   ]
  },
  {
   "cell_type": "markdown",
   "id": "e5e2ac6c-2072-40df-af28-c4c8d53a8f5f",
   "metadata": {},
   "source": [
    "La representació a l'espai original és:"
   ]
  },
  {
   "cell_type": "code",
   "execution_count": null,
   "id": "ed7c2efc-f2b9-410f-8970-7126b99c5a22",
   "metadata": {
    "tags": []
   },
   "outputs": [],
   "source": [
    "plot_scatter_contour(X, y, sv_index, g2)"
   ]
  },
  {
   "cell_type": "markdown",
   "id": "9032e0fa-ed83-4d8e-8974-094ad8961085",
   "metadata": {},
   "source": [
    "#### Resultat punt b.3"
   ]
  },
  {
   "cell_type": "markdown",
   "id": "60eb182d-f19a-4d6d-a30a-5f42e3e1ac53",
   "metadata": {},
   "source": [
    "Anem a fer el tercer diagrama, un mapa de les regions a l'espai original:"
   ]
  },
  {
   "cell_type": "code",
   "execution_count": null,
   "id": "203e2a35-d12c-4117-abfb-21316fb0ec6f",
   "metadata": {
    "tags": []
   },
   "outputs": [],
   "source": [
    "plot_map_plane(X, y, sv_index, g2)"
   ]
  },
  {
   "cell_type": "markdown",
   "id": "47c1e00b-9115-446f-94c1-9726b51aa92c",
   "metadata": {},
   "source": [
    "### Apartat (c)"
   ]
  },
  {
   "cell_type": "markdown",
   "id": "73455916-61e8-4b74-b984-580f64eede47",
   "metadata": {},
   "source": [
    "c) Compare the results obtained with the ones resulting from the `scikit-learn SVC` \n",
    "object: i.e. report the *support vectors* returned \n",
    "by `SVC` and the corresponding *decision function*, \n",
    "and provide the same kind of\n",
    "plots requested before.\n",
    "\n",
    "> NOTE: the SVC object solves the soft-margin kernel-based \n",
    "problem, hence you will have to \n",
    "supply the kernel specified in \n",
    "a) –use either `kernel = ’precomputed’` and compute the *gram matrix*, \n",
    "or supply a *callable* kernel when invoking the `SVC` object constructor– and \n",
    "set constant C with a high value, e.g. $10^{16}$, to force a perfect classification of the training set."
   ]
  },
  {
   "cell_type": "code",
   "execution_count": null,
   "id": "9f71327b-715d-4449-8a14-58f7df58dc09",
   "metadata": {},
   "outputs": [],
   "source": [
    "from sklearn import svm\n",
    "\n",
    "clf = svm.SVC(C = 1e16, kernel = 'precomputed')\n",
    "clf.fit(build_Gram(phi(X)), y.reshape((N,)))\n",
    "\n",
    "print(f\"Fitted: {clf.fit_status_ == 0}\")"
   ]
  },
  {
   "cell_type": "markdown",
   "id": "b4f523df-9a43-44d9-bef4-712427ce6fb4",
   "metadata": {},
   "source": [
    "Quines posicions ocupen els vectors de suport?"
   ]
  },
  {
   "cell_type": "code",
   "execution_count": null,
   "id": "f48c4d20-c355-4f6f-8353-170c0fb55949",
   "metadata": {},
   "outputs": [],
   "source": [
    "sk_sv_index = list(clf.support_)\n",
    "sk_sv_index"
   ]
  },
  {
   "cell_type": "markdown",
   "id": "4bc809cc-141c-45ba-b1a5-0189012cddfc",
   "metadata": {},
   "source": [
    "L'objecte `SVC`ens ha donat tres vectors de suport \n",
    "en lloc dels 4 que havíem trobat resolent el sistema de forma analítica."
   ]
  },
  {
   "cell_type": "markdown",
   "id": "8032067d-74de-40f1-a4d8-fdb792dc9de3",
   "metadata": {},
   "source": [
    "Quins són aquests vectors?"
   ]
  },
  {
   "cell_type": "code",
   "execution_count": null,
   "id": "da5e97b5-94d3-4d29-83e2-89009284724f",
   "metadata": {},
   "outputs": [],
   "source": [
    "sk_sv = X[sk_sv_index]\n",
    "sk_sv"
   ]
  },
  {
   "cell_type": "markdown",
   "id": "b97d4a15-cc3d-4b2e-9b17-e966235a726e",
   "metadata": {},
   "source": [
    "I l'intercepto?"
   ]
  },
  {
   "cell_type": "code",
   "execution_count": null,
   "id": "eb91a090-ba0d-4548-a9ad-fa84b4f7db74",
   "metadata": {},
   "outputs": [],
   "source": [
    "sk_w0 = clf.intercept_.flatten()\n",
    "sk_w0"
   ]
  },
  {
   "cell_type": "markdown",
   "id": "92972476-7a55-4101-b0d6-79cf5b8e2dc8",
   "metadata": {},
   "source": [
    "I els coeficients $\\lambda_i y_i | \\lambda_i \\ne 0$?"
   ]
  },
  {
   "cell_type": "code",
   "execution_count": null,
   "id": "3462438c-0991-49cd-a03e-30604871f9fe",
   "metadata": {},
   "outputs": [],
   "source": [
    "sk_lamb_y = clf.dual_coef_.flatten()\n",
    "sk_lamb_y"
   ]
  },
  {
   "cell_type": "markdown",
   "id": "4cc9135c-12f0-4a14-9556-2fe64187db5b",
   "metadata": {},
   "source": [
    "Per tant la nostra $w$ és:"
   ]
  },
  {
   "cell_type": "code",
   "execution_count": null,
   "id": "487c2557-275c-4673-a784-ff48f442af64",
   "metadata": {},
   "outputs": [],
   "source": [
    "sk_w = np.dot(sk_lamb_y, phi(sk_sv)).flatten()\n",
    "sk_w"
   ]
  },
  {
   "cell_type": "markdown",
   "id": "ab9ed0dc-4a38-4b2e-84c8-09c1c5cf2b0c",
   "metadata": {},
   "source": [
    "Per tant la funció de decisió a l'espai transformat serà:"
   ]
  },
  {
   "cell_type": "code",
   "execution_count": null,
   "id": "4feb2063-7f98-44ab-913a-1c634d1e1d1c",
   "metadata": {},
   "outputs": [],
   "source": [
    "def sk_g1(x):\n",
    "    \n",
    "    return g_func(x, sk_w, sk_w0)"
   ]
  },
  {
   "cell_type": "markdown",
   "id": "4b1cf1be-d2f2-42ca-80ca-e10333f6e744",
   "metadata": {},
   "source": [
    "#### Representació a l'espai transformat"
   ]
  },
  {
   "cell_type": "markdown",
   "id": "e1c3a10e-a4c1-49ee-80db-a39d2d3189e7",
   "metadata": {},
   "source": [
    "Anem a veure com surten els diagrames:"
   ]
  },
  {
   "cell_type": "markdown",
   "id": "06882904-c940-4782-ad31-f07bcc8ecf16",
   "metadata": {},
   "source": [
    "Espai transformat:"
   ]
  },
  {
   "cell_type": "code",
   "execution_count": null,
   "id": "3cd8b36b-60bc-4b6b-8a5a-8f0620be1955",
   "metadata": {},
   "outputs": [],
   "source": [
    "plot_scatter_contour(phi(X), y, sk_sv_index, sk_g1)"
   ]
  },
  {
   "cell_type": "markdown",
   "id": "40013139-d4fa-4c1f-a004-aa5fc2c14470",
   "metadata": {},
   "source": [
    "#### Representacions a l'espai original"
   ]
  },
  {
   "cell_type": "markdown",
   "id": "6a3d8828-67f3-4d3b-af92-a37e5fcdf391",
   "metadata": {},
   "source": [
    "Espai original:"
   ]
  },
  {
   "cell_type": "code",
   "execution_count": null,
   "id": "822baef7-9a43-465b-8d07-e6e96992eebe",
   "metadata": {},
   "outputs": [],
   "source": [
    "def sk_g2(x):\n",
    "    \n",
    "    return (sk_w[0]*x[0]*x[1] + sk_w[1]*(x[0]*x[0]+x[1]*x[1])+sk_w0)"
   ]
  },
  {
   "cell_type": "code",
   "execution_count": null,
   "id": "16111be0-eb27-4d79-8516-c53524ed78f6",
   "metadata": {},
   "outputs": [],
   "source": [
    "plot_scatter_contour(X, y, sk_sv_index, sk_g2)"
   ]
  },
  {
   "cell_type": "code",
   "execution_count": null,
   "id": "8de4c20f-59cc-469a-95a6-c433398f0e16",
   "metadata": {},
   "outputs": [],
   "source": [
    "plot_map_plane(X, y, sk_sv_index, sk_g2)"
   ]
  },
  {
   "cell_type": "markdown",
   "id": "980ef3c5-c848-410b-9600-154337c2cb06",
   "metadata": {},
   "source": [
    "### Apartat (d)"
   ]
  },
  {
   "cell_type": "markdown",
   "id": "717b44f7-2a2d-4035-b7f0-9ae36bcb7346",
   "metadata": {},
   "source": [
    "d) Also by means of the `scikit-learn SVC` object, repeat point c) \n",
    "for the `’rbf’` kernel ($\\gamma = 1$). \n",
    "Additionally, draw the corresponding RBF network (slide 43 of the SVM lecture notes), \n",
    "replacing $K(x_i, x)$, $\\lambda_i$ and $y_i$ by your values."
   ]
  },
  {
   "cell_type": "code",
   "execution_count": null,
   "id": "c054ba6a-563f-40f8-b81f-d3ef2de5d01e",
   "metadata": {},
   "outputs": [],
   "source": [
    "from sklearn import svm\n",
    "\n",
    "clf = svm.SVC(C=1e16, kernel='rbf', gamma=1)\n",
    "clf.fit(X, y.reshape((N,)))\n",
    "\n",
    "print(f\"Fitted: {clf.fit_status_ == 0}\")"
   ]
  },
  {
   "cell_type": "markdown",
   "id": "32770131-3e60-4eef-b11f-6c3e3ade3b28",
   "metadata": {},
   "source": [
    "Quines posicions ocupen els vectors de suport?"
   ]
  },
  {
   "cell_type": "code",
   "execution_count": null,
   "id": "17a9bdaf-5440-426d-ad50-a1779b2ce64e",
   "metadata": {},
   "outputs": [],
   "source": [
    "rbf_sv_index = list(clf.support_)\n",
    "rbf_sv_index"
   ]
  },
  {
   "cell_type": "code",
   "execution_count": null,
   "id": "fb4878b7-62f1-45c1-b4f3-e3183ba2b779",
   "metadata": {},
   "outputs": [],
   "source": [
    "y[rbf_sv_index].flatten()"
   ]
  },
  {
   "cell_type": "code",
   "execution_count": null,
   "id": "d95fdc32-dd49-46b4-85db-722fe4c6c440",
   "metadata": {},
   "outputs": [],
   "source": [
    "len(rbf_sv_index)"
   ]
  },
  {
   "cell_type": "markdown",
   "id": "489b6128-1590-47d9-8982-b9b27d390f58",
   "metadata": {},
   "source": [
    "L'objecte `SVC`ens ha seleccionat tretze vectors de suport \n",
    "en lloc dels quatre que havíem trobat resolent el sistema de forma analítica."
   ]
  },
  {
   "cell_type": "markdown",
   "id": "295cd7ca-d400-446e-aaa9-8921830cfd01",
   "metadata": {},
   "source": [
    "Quins són aquests vectors?"
   ]
  },
  {
   "cell_type": "code",
   "execution_count": null,
   "id": "44125f73-8f01-4c42-b300-644436b3c93c",
   "metadata": {},
   "outputs": [],
   "source": [
    "X[rbf_sv_index]"
   ]
  },
  {
   "cell_type": "markdown",
   "id": "329ee46d-a2e7-4fde-8c62-1524e7f099dd",
   "metadata": {},
   "source": [
    "I l'intercepto?"
   ]
  },
  {
   "cell_type": "code",
   "execution_count": null,
   "id": "3242cde3-2b03-4edb-a8bf-2c41df07e970",
   "metadata": {},
   "outputs": [],
   "source": [
    "rbf_w0 = clf.intercept_.flatten()\n",
    "rbf_w0"
   ]
  },
  {
   "cell_type": "markdown",
   "id": "e216649a-a65e-438f-af52-b8e30a5c9c58",
   "metadata": {},
   "source": [
    "I els coeficients $\\lambda_i y_i | \\lambda_i \\ne 0$?"
   ]
  },
  {
   "cell_type": "code",
   "execution_count": null,
   "id": "9f31adf3-1388-4512-b0bc-66bca2937d8a",
   "metadata": {},
   "outputs": [],
   "source": [
    "rbf_lamb_y = clf.dual_coef_.flatten()\n",
    "rbf_lamb_y"
   ]
  },
  {
   "cell_type": "markdown",
   "id": "5882cc60-0d22-4263-a515-5d5491d9501e",
   "metadata": {},
   "source": [
    "#### Representació a l'espai transformat"
   ]
  },
  {
   "cell_type": "markdown",
   "id": "e724a119-3dd9-41a9-a8c0-b924a5b7b705",
   "metadata": {},
   "source": [
    "En el cas del kernel RBF, la funció de decisió a l'espai transformat \n",
    "\n",
    "$g_1(x') = w^T x' + w_0 | [x' = \\Phi(x)]$\n",
    "\n",
    "no té una expressió tancada, \n",
    "doncs l'expansió de la funció del kernel genera un espai infinit."
   ]
  },
  {
   "cell_type": "markdown",
   "id": "6350fc1f-5eb3-4b97-9bfa-c09f3ac1cc8e",
   "metadata": {},
   "source": [
    "Per tant no podrem representar la funció de decisió a l'espai transformat."
   ]
  },
  {
   "cell_type": "markdown",
   "id": "e5a1a50e-4b27-47b6-a38d-2d1d707cc148",
   "metadata": {},
   "source": [
    "#### Representacions a l'espai original"
   ]
  },
  {
   "cell_type": "markdown",
   "id": "02a0891f-7308-4e96-b61a-df48b143c10a",
   "metadata": {},
   "source": [
    "Atès que feim servir el kernel Radial Basis Function ...\n",
    "\n",
    "$K(x_i,x) = e^{-\\gamma||x_i - x||^2}$ amb $\\gamma = 1$\n",
    "\n",
    "... la nostra particular funció de kernel serà: \n",
    "\n",
    "$K(x_i,x) |_{\\gamma = 1} = e^{-||x_i - x||^2}$"
   ]
  },
  {
   "cell_type": "markdown",
   "id": "33e0d85c-ba60-4dbd-a161-3afcd9cf9c13",
   "metadata": {},
   "source": [
    "Per tant la funció de decisió a l'espai original serà:\n",
    "\n",
    "$g_2(x) = \\sum_{i|\\lambda_i \\ne 0} \\lambda_i y_i K(x_i,x)|_{\\gamma = 1} + w_0$"
   ]
  },
  {
   "cell_type": "markdown",
   "id": "919818a1-4300-4ace-8f69-56b08c0eb1c4",
   "metadata": {},
   "source": [
    "Definim la funció de kernel RBF i la funció de decisió a l'espai original:"
   ]
  },
  {
   "cell_type": "code",
   "execution_count": null,
   "id": "7813c47e-c04b-4bce-a697-2ff904520693",
   "metadata": {},
   "outputs": [],
   "source": [
    "import numpy as np\n",
    "\n",
    "def rbf(x: np.ndarray, z: np.ndarray, gamma: float = 1.) -> float:\n",
    "    \n",
    "    return np.exp(-gamma * (np.dot(x - z, (x - z).T)))"
   ]
  },
  {
   "cell_type": "code",
   "execution_count": null,
   "id": "208de6e4-a081-4fe7-9ded-7a803ff51039",
   "metadata": {},
   "outputs": [],
   "source": [
    "def rbf_g2(x) -> float:\n",
    "    \n",
    "    r = rbf_w0.item()\n",
    "    for i in range(len(rbf_sv_index)):\n",
    "        r += rbf(x, X[rbf_sv_index[i]]) * rbf_lamb_y[i]\n",
    "    \n",
    "    return r"
   ]
  },
  {
   "cell_type": "code",
   "execution_count": null,
   "id": "3cd637d8-a827-4d25-90f4-fc93152f51f0",
   "metadata": {},
   "outputs": [],
   "source": [
    "plot_scatter_contour(X, y, rbf_sv_index, rbf_g2)"
   ]
  },
  {
   "cell_type": "code",
   "execution_count": null,
   "id": "700a4713-0f39-4c2d-981e-358903c2a87e",
   "metadata": {},
   "outputs": [],
   "source": [
    "plot_map_plane(X, y, rbf_sv_index, rbf_g2)"
   ]
  },
  {
   "cell_type": "markdown",
   "id": "04ec20c6-76dd-4289-a1d5-05f64b61ea2d",
   "metadata": {
    "tags": []
   },
   "source": [
    "- El conjunt de vectors de suport és:"
   ]
  },
  {
   "cell_type": "code",
   "execution_count": null,
   "id": "10daf8c6-469e-48ee-81ae-3a1a3747a699",
   "metadata": {
    "tags": []
   },
   "outputs": [],
   "source": [
    "for i in range(len(rbf_sv_index)):\n",
    "    print(f\"x_{rbf_sv_index[i]:02} = ({X[rbf_sv_index[i]][0]:+.2f}, {X[rbf_sv_index[i]][1]:+.2f})\")"
   ]
  },
  {
   "cell_type": "markdown",
   "id": "351180ec-d39f-4378-ae84-66ef37dc3d0e",
   "metadata": {
    "tags": []
   },
   "source": [
    "- El conjunt de coeficients $\\lambda_i y_i$ és:"
   ]
  },
  {
   "cell_type": "code",
   "execution_count": null,
   "id": "e94b7133-32c2-4ef9-9f88-34e57d2e677a",
   "metadata": {
    "tags": []
   },
   "outputs": [],
   "source": [
    "for i in range(len(rbf_sv_index)):\n",
    "    print(f\"lambda_{rbf_sv_index[i]:02} * y_{rbf_sv_index[i]:02} = {rbf_lamb_y[i]:+.2f}\")"
   ]
  },
  {
   "cell_type": "markdown",
   "id": "22907ef9-8386-453d-8d66-76e1e09542e2",
   "metadata": {},
   "source": [
    "I per acabar, l'intercepto val:"
   ]
  },
  {
   "cell_type": "code",
   "execution_count": null,
   "id": "135922fe-a728-46ce-a1ab-65d39d7acd81",
   "metadata": {},
   "outputs": [],
   "source": [
    "print(f\"w0 = {rbf_w0.item():+.2f}\")"
   ]
  },
  {
   "cell_type": "markdown",
   "id": "cbc02745-2be3-41e8-81ac-c268fa252fe4",
   "metadata": {
    "tags": []
   },
   "source": [
    "## Problem 4"
   ]
  },
  {
   "cell_type": "markdown",
   "id": "591c209e-74cf-4936-a997-b98c5b0aaea5",
   "metadata": {},
   "source": [
    "**Given datasets** `dsxx34tr.txt` **and** `dsxx34te.txt`, \n",
    "find a suitable k-NN classifier \n",
    "(`KNeighborsClassifier` object of `scikit-learn`).\n",
    "You have to define the classifier design strategy, \n",
    "including data normalization, e.g. *min-max* scaling,\n",
    "and setting up the classifier hyper-parameters, \n",
    "e.g. by means of *grid-search*, \n",
    "as well as estimate the classifier \n",
    "performance by means of *n-fold cross validation*."
   ]
  },
  {
   "cell_type": "markdown",
   "id": "294c4672-0055-4390-a624-e85288dd27b5",
   "metadata": {},
   "source": [
    "### Apartat (4.a)"
   ]
  },
  {
   "cell_type": "markdown",
   "id": "3e3819eb-1605-4bf9-94e4-439954e2331b",
   "metadata": {},
   "source": [
    "a) Define the design strategy: input data normalization, \n",
    "combinations of hyper-parameters considered \n",
    "(number of neighbours and distance function), \n",
    "number of folds for the cross-validation process."
   ]
  },
  {
   "cell_type": "markdown",
   "id": "be250bd3-3caf-4600-81ea-e708a5dac3ca",
   "metadata": {},
   "source": [
    "### Apartat (4.b)"
   ]
  },
  {
   "cell_type": "markdown",
   "id": "b2419b79-8ace-45f7-8179-80a46cedbf2c",
   "metadata": {},
   "source": [
    "b) Using the *training dataset*, find the best performing classifier according to the design strategy and employing the accuracy as erformance metric for the cross-validation process."
   ]
  },
  {
   "cell_type": "markdown",
   "id": "fc5b67ca-f1c0-4bd7-b66d-fe96f562055d",
   "metadata": {},
   "source": [
    "### Apartat (4.c)"
   ]
  },
  {
   "cell_type": "markdown",
   "id": "2b19c2b9-45a8-45f1-babb-755adc4be514",
   "metadata": {},
   "source": [
    "c) Plot the training samples on top of the *classification map*, i.e. evaluate the decision function for a 'regular' subset (grid) of points of the feature space. \n",
    "Use different markers and/or colours for each class."
   ]
  },
  {
   "cell_type": "markdown",
   "id": "d2c1466e-df71-4321-b8e9-90758f0008c8",
   "metadata": {},
   "source": [
    "### Apartat (4.d)"
   ]
  },
  {
   "cell_type": "markdown",
   "id": "90254d91-acce-4598-8a0d-f0468c79da97",
   "metadata": {},
   "source": [
    "d) Report on the classifier performance using the *test dataset*:\n",
    "1. measure the *test accuracy*, *test precision*, *test recall* and *test f1-score*; and\n",
    "2. in a single figure, plot the *test samples* over the already calculated *classification map* (use different markers and/or colours for each class)."
   ]
  },
  {
   "cell_type": "markdown",
   "id": "b8b54e01-6ec6-4dd1-b520-85f972eb23fc",
   "metadata": {},
   "source": [
    "### Apartat (4.e)"
   ]
  },
  {
   "cell_type": "markdown",
   "id": "6b53bd89-6cbf-4640-a20d-a83f333ce6e9",
   "metadata": {},
   "source": [
    "e) Obtain an improved estimation of the *accuracy*, *precision* and *recall* measures by means of *5-fold cross-validation*. To this end, put together the *training* and *test* datasets, so that the corresponding function can\n",
    "build the *folds* from all available data."
   ]
  },
  {
   "cell_type": "markdown",
   "id": "7b2e1636-c1be-4a4d-91a9-61a76c40a6a6",
   "metadata": {},
   "source": [
    "## Conclusions"
   ]
  },
  {
   "cell_type": "markdown",
   "id": "059f5361-aeb2-419e-b385-128c425c5c98",
   "metadata": {},
   "source": [
    "En aquest problema hem determinat\n",
    "els vectors de suport d'un problema no linealment separable, \n",
    "fent servir dos espais alternatius distints.\n",
    "\n",
    "Hem resolt el primer espai, determinat per la funció \n",
    "transformadora $\\Phi(x_1, x_2) = (x_1 x_2, x_1^2 + x_2^2)$, \n",
    "per dos mètodes distints: \n",
    "\n",
    "1. per via analítica, fent servir la funció solve_qp per a resoldre el sistema plantejat\n",
    "2. fent servir la classe `SVC` de la llibreria `svm` del paquet `sklearn`.\n",
    "\n",
    "En el primer cas hem trobat 4 vectors de suport (3 d'ells, de la classe $y=-1$). \n",
    "\n",
    "El segon mètode ha donat com a resultat un conjunt de 3 vectors de suport, \n",
    "(2 d'ells de la classe $y=-1$). \n",
    "Aquest segon conjunt de vectors de suport ha resultat ser \n",
    "un subconjunt del primer (obtingut via analítica). \n",
    "L'únic vector que no ha aparegut \n",
    "a aquesta segona solució era el vector que tenia \n",
    "un coeficient $\\lambda$ de l'ordre del $10^{-5}$ a la solució analítica.\n",
    "\n",
    "En ambdós casos, com era previsible, \n",
    "la representació gràfica ha estat molt similar. \n",
    "I les superfícies 3d generades per ambdues funcions classificadores \n",
    "són de tipus quasi-parabolòide."
   ]
  },
  {
   "cell_type": "markdown",
   "id": "dd3cb4bc-1b88-4de4-a450-753abf05071e",
   "metadata": {},
   "source": [
    "Pel que fa a la solució cercada dins l'espai que genera el kernel RBF, \n",
    "hem obtingut un total de 13 vectors de suport. \n",
    "En aquest cas es pot apreciar que en el diagrama a on es representa \n",
    "la seva funció de classificació, la corba està més ajustada als \n",
    "vectors de suport que a les dues solucions anteriors, en concret \n",
    "el marge de la classe $y=-1$ toca 10 vectors. \n",
    "Els altres 3 vectors de suport marquen la classe $y=+1$.\n",
    "És evident per tant, que aplicant la RBF (considerant $\\gamma = 1$) \n",
    "obtenim una funció de classificació més dolça i més ajustada \n",
    "(la qual cosa també té el perill de fer patir d'éxcés d'ajust \n",
    "i aleshores de manca de generalització)."
   ]
  },
  {
   "cell_type": "markdown",
   "id": "c30d77bc-72fb-4b0d-81e7-ae38e6d22a25",
   "metadata": {},
   "source": [
    "Sabent que la funció kernel es pot entendre com una funció de semblança, \n",
    "que dona valors alts (en el cas RBF, propers a 1) si els dos vectors \n",
    "són propers i valors baixos (propers a zero) si els vectors estan allunyats, \n",
    "es pot comprendre millor la relació que hi ha entre \n",
    "l'aspecte de la superfície de classificació i l'esquema de la xarxa \n",
    "neuronal representats: \n",
    "\n",
    "- tots el coeficients $\\lambda_i$ que formen part de la solució, són estrictament positius;\n",
    "- per tant el resultat de totes les funcions de kernel amb un argument $x_i$ \n",
    "tal que $x_i$ pertany a la classe $y_i=-1$, estan multiplicats per un \n",
    "coeficient negatiu ($\\lambda_i \\cdot y_i$);\n",
    "- el resultat de totes les funcions de kernel amb un argument $x_i$ \n",
    "tal que $x_i$ pertany a la classe $y_i=+1$, estan multiplicats per un \n",
    "coeficient positiu ($\\lambda_i \\cdot y_i$);\n",
    "- si el vector a classificar, \n",
    "$x$ és proper a un vector de suport $x_i$ \n",
    "de classe $y_i=-1$, la funció $K(x_i,x)$ donarà un valor alt, \n",
    "com que està multiplicat per un coeficient negatiu, \n",
    "contribuirà a baixar el resultat de la funció de classificació, \n",
    "l'aportació dels altres termes del sumatori serà petita \n",
    "perquè el vector a classificar estarà a major distància dels seus respectius vectors de suport;\n",
    "- si el vector a classificar, \n",
    "$x$ és proper a un vector de suport $x_i$ \n",
    "de classe $y_i=+1$, la funció $K(x_i,x)$ donarà un valor alt, \n",
    "com que està multiplicat per un coeficient positiu, \n",
    "contribuirà a pujar el resultat de la funció de classificació, \n",
    "l'aportació dels altres termes del sumatori serà petita \n",
    "perquè el vector a classificar estarà a major distància dels seus respectius vectors de suport;\n",
    "- el paràmetre $\\gamma$ modula l'amplària de la funció $K_{RBF}(x, z)$."
   ]
  },
  {
   "cell_type": "code",
   "execution_count": null,
   "id": "7cdd0ac5-b61d-4e57-a2ea-d94e8feb32e6",
   "metadata": {
    "tags": []
   },
   "outputs": [],
   "source": [
    "import numpy as np\n",
    "import matplotlib.pyplot as plt\n",
    "\n",
    "def f_rbf(d, g):\n",
    "    return np.exp(-g * d * d)\n",
    "\n",
    "g = np.array([0.5, 1, 2, 10], dtype=float)\n",
    "x = np.arange(-3.0, 3.0, 0.1)\n",
    "c = ['r--', 'g', 'b--', 'purple']\n",
    "lines = []\n",
    "\n",
    "plt.figure(1)\n",
    "\n",
    "ax = plt.axes()\n",
    "\n",
    "for i in range(len(c)):\n",
    "    line, = ax.plot(x, f_rbf(x, g[i]), c[i % len(c)], label=f\"$\\gamma$={g[i]}\")\n",
    "    lines.append(line)\n",
    "    \n",
    "ax.legend(handles=lines)\n",
    "\n",
    "plt.title('RBF per a diferents valors del discriminador $\\gamma$')\n",
    "\n",
    "plt.show()"
   ]
  },
  {
   "cell_type": "markdown",
   "id": "2274ca73-cb7a-432a-b298-0c396899b93b",
   "metadata": {},
   "source": [
    "Com es pot veure a la representació anterior, \n",
    "com més gran és el valor de $\\gamma$, \n",
    "més estreta és la regió de semblança \n",
    "i per tant la regió d'influència de cada vector de suport \n",
    "és menor, el què afavoreix que el model necessiti més \n",
    "vectors de suport per a construir el model. \n",
    "Això augmenta el risc de patir sobreajustament.\n",
    "\n",
    "Per tal de trobar el valor de $\\gamma$ que generi la \n",
    "millor xarxa RBF classificadora, cal fer una cerca d'aquest valor, \n",
    "provant-ne un conjunt i avaluant per a cada un, \n",
    "les mètriques de la xarxa en validació."
   ]
  },
  {
   "cell_type": "markdown",
   "id": "4c32f421-2fa1-46c6-99df-4f8a819eb681",
   "metadata": {
    "tags": []
   },
   "source": [
    "**The End**"
   ]
  }
 ],
 "metadata": {
  "kernelspec": {
   "display_name": "musi-aa",
   "language": "python",
   "name": "musi-aa"
  },
  "language_info": {
   "codemirror_mode": {
    "name": "ipython",
    "version": 3
   },
   "file_extension": ".py",
   "mimetype": "text/x-python",
   "name": "python",
   "nbconvert_exporter": "python",
   "pygments_lexer": "ipython3",
   "version": "3.7.11"
  }
 },
 "nbformat": 4,
 "nbformat_minor": 5
}
