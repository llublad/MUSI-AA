{
 "cells": [
  {
   "cell_type": "markdown",
   "id": "fc3dd599-65f3-410e-b9da-b11fef0376b3",
   "metadata": {
    "tags": []
   },
   "source": [
    "# Handout #3: Instance-based Learning"
   ]
  },
  {
   "cell_type": "markdown",
   "id": "43794caa-ea18-49ac-817a-b48e40105b4c",
   "metadata": {
    "tags": []
   },
   "source": [
    "## Problem 3"
   ]
  },
  {
   "cell_type": "markdown",
   "id": "36270f2c-37f6-40bc-a13c-b9935968c656",
   "metadata": {},
   "source": [
    "**Given datasets** `dsxx34tr.txt` **and** `dsxx34te.txt`, \n",
    "find a suitable SVM classifier adopting a *soft-marging* approach. \n",
    "You have to define the classifier design strategy, \n",
    "including data normalization, e.g. *min-max* scaling,\n",
    "and setting up the classifier hyper-parameters, \n",
    "e.g. by means of *grid-search*, \n",
    "as well as estimate the classifier \n",
    "performance by means of *n-fold cross validation*."
   ]
  },
  {
   "cell_type": "markdown",
   "id": "1700431f-1e3d-458f-9975-4c8137e7c5d4",
   "metadata": {},
   "source": [
    "### Apartat (3.a)"
   ]
  },
  {
   "cell_type": "markdown",
   "id": "0255b504-bc56-4abf-8c1f-34b4b2387c30",
   "metadata": {},
   "source": [
    "a) Define the design strategy: input data normalization, \n",
    "combinations of hyper-parameters considered \n",
    "(kernel and its parameters, and $C$), \n",
    "number of folds for the cross-validation process.\n",
    "\n",
    "**NOTE**: typical values for $C$ are \n",
    "$10^{−2}$, $10^{−1}$, $10^0$, $10^1$, $10^2$ and $10^3$."
   ]
  },
  {
   "cell_type": "markdown",
   "id": "f6bc40e3-3e6e-449f-a0c4-4ddd0890d0fe",
   "metadata": {},
   "source": [
    "Dades d'identificació:"
   ]
  },
  {
   "cell_type": "code",
   "execution_count": 1,
   "id": "7bfd275c-8bea-45be-87ca-09d9be31a640",
   "metadata": {},
   "outputs": [],
   "source": [
    "group = '01' # assuming group 1\n",
    "ds = 34 # assuming problem 3-4\n",
    "suffix_tr = 'tr'\n",
    "suffix_te = 'te'"
   ]
  },
  {
   "cell_type": "markdown",
   "id": "12cab476-69c9-43e4-bd8c-a37ee00f78ab",
   "metadata": {},
   "source": [
    "### Resposta apartat (3.a)"
   ]
  },
  {
   "cell_type": "markdown",
   "id": "a8d284f2-d25e-4406-86b4-4d6f5c457255",
   "metadata": {},
   "source": [
    "La nostra estratègia per tal de trobar el millor classificador serà \n",
    "primerament escalar les dades i després provar alguns kernels \n",
    "per a diferents conjunts de paràmetres. \n",
    "Per a facilitar la feina, construirem un *pipeline* que serialitzarà \n",
    "l'escalat i l'entrenament del classificador. \n",
    "Finalment farem una cerca exhaustiva, provant totes \n",
    "les possibles combinacions dels paràmetres que hem cregut d'interès \n",
    "segons el llegit a la guia d'usuari del classificador *SVC()*\n",
    "\n",
    "A continuació definirem algunes esctructures y funcions que ens ajudaran a encapsular \n",
    "el mètodes que farem servir. "
   ]
  },
  {
   "cell_type": "code",
   "execution_count": 2,
   "id": "41ac63ee-f740-405e-90f0-76b965749f6a",
   "metadata": {
    "tags": []
   },
   "outputs": [
    {
     "data": {
      "text/plain": [
       "{1: {'target_name': 'Classe 1',\n",
       "  'plot_fmt': '+r',\n",
       "  'hex_color': '#b01010',\n",
       "  'contrast_fmt': '+w'},\n",
       " -1: {'target_name': 'Classe -1',\n",
       "  'plot_fmt': '+g',\n",
       "  'hex_color': '#408030',\n",
       "  'contrast_fmt': '+k'}}"
      ]
     },
     "execution_count": 2,
     "metadata": {},
     "output_type": "execute_result"
    }
   ],
   "source": [
    "# Parametritzam algunes propietats de les classes\n",
    "\n",
    "cl_properties = {\n",
    "    1: {\"target_name\": \"Classe 1\",\n",
    "        \"plot_fmt\": \"+r\",  # red cross\n",
    "        \"hex_color\": \"#b01010\",  # red\n",
    "        \"contrast_fmt\": \"+w\"  # white cross\n",
    "        },\n",
    "    -1: {\"target_name\": \"Classe -1\", \n",
    "        \"plot_fmt\": \"+g\",  # green cross\n",
    "        \"hex_color\": \"#408030\",  # green\n",
    "        \"contrast_fmt\": \"+k\"  # black cross\n",
    "        }\n",
    "}\n",
    "\n",
    "cl_properties"
   ]
  },
  {
   "cell_type": "code",
   "execution_count": 3,
   "id": "d5cd77fa-687c-40c2-881e-ac54724d3e51",
   "metadata": {},
   "outputs": [],
   "source": [
    "def get_classes_item_list(item: str) -> list:\n",
    "    return list(map(lambda k: cl_properties.get(k).get(item), sorted(cl_properties)))\n",
    "\n",
    "def get_cl_min() -> int:\n",
    "    return min(cl_properties)\n",
    "\n",
    "def get_cl_max() -> int:\n",
    "    return max(cl_properties)\n",
    "\n",
    "def get_cl_target_name() -> list:\n",
    "    return get_classes_item_list('target_name')\n",
    "\n",
    "def get_cl_hex_color() -> list:\n",
    "    return get_classes_item_list('hex_color')\n",
    "\n",
    "def get_cl_contrast_fmt() -> list:\n",
    "    return get_classes_item_list('contrast_fmt')"
   ]
  },
  {
   "cell_type": "markdown",
   "id": "64307f49-205e-4ddb-91aa-b3de29c1b1e3",
   "metadata": {},
   "source": [
    "Importam llibreries"
   ]
  },
  {
   "cell_type": "code",
   "execution_count": 4,
   "id": "c6ba8f17-24de-45ff-b332-9f536484d081",
   "metadata": {},
   "outputs": [],
   "source": [
    "import numpy as np"
   ]
  },
  {
   "cell_type": "markdown",
   "id": "ccbe1dea-c7e0-40bf-961c-1d747b0e91d4",
   "metadata": {},
   "source": [
    "Carregam dades del problema"
   ]
  },
  {
   "cell_type": "code",
   "execution_count": 5,
   "id": "9c4e07df-0e8b-4f03-bfa4-cd864e546edf",
   "metadata": {
    "tags": []
   },
   "outputs": [],
   "source": [
    "# Aquesta funció ens farà més fàcil carregar les matrius\n",
    "\n",
    "def load_data(group: str, problem: int, sufix: str, \n",
    "              convert_zeros: bool = True):\n",
    "    \n",
    "    # carregam fitxer del dataset\n",
    "    data = np.loadtxt('datasets'+group+'/ds'+group+str(ds)+sufix+'.txt')\n",
    "    # matriu de vectors\n",
    "    X = data[:, 0:2]\n",
    "    # vector de classes\n",
    "    y = data[:, 2:3]\n",
    "    \n",
    "    # les classes han de ser -1 i +1\n",
    "    # per tant si ens ho passen com a 0 i 1 ho transformam\n",
    "    if convert_zeros and np.any(y == 0):\n",
    "        y = 2 * y - 1\n",
    "        \n",
    "    return X, y"
   ]
  },
  {
   "cell_type": "code",
   "execution_count": 6,
   "id": "1ed5ff5f-9250-44e1-b486-61cb069bef5a",
   "metadata": {
    "tags": []
   },
   "outputs": [],
   "source": [
    "# Carregam \n",
    "\n",
    "convert_zeros = (get_cl_min() != 0)\n",
    "\n",
    "X_train, y_train = load_data(group, ds, suffix_tr, convert_zeros)\n",
    "y_train = y_train.reshape((-1,))\n",
    "\n",
    "X_test, y_test = load_data(group, ds, suffix_te, convert_zeros)\n",
    "y_test = y_test.reshape((-1,))"
   ]
  },
  {
   "cell_type": "code",
   "execution_count": 7,
   "id": "3eb4b08a-9692-4928-98eb-8e51cb49a829",
   "metadata": {
    "tags": []
   },
   "outputs": [
    {
     "name": "stdout",
     "output_type": "stream",
     "text": [
      "(240, 2) (240,)\n",
      "(60, 2) (60,)\n"
     ]
    }
   ],
   "source": [
    "print(X_train.shape, y_train.shape)\n",
    "\n",
    "print(X_test.shape, y_test.shape)"
   ]
  },
  {
   "cell_type": "code",
   "execution_count": 8,
   "id": "04b885e4-b428-48a3-910a-8be7180eae2a",
   "metadata": {
    "tags": []
   },
   "outputs": [
    {
     "data": {
      "text/plain": [
       "240"
      ]
     },
     "execution_count": 8,
     "metadata": {},
     "output_type": "execute_result"
    }
   ],
   "source": [
    "# N és el número de vectors\n",
    "\n",
    "N = X_train.shape[0]\n",
    "N"
   ]
  },
  {
   "cell_type": "markdown",
   "id": "a759ee86-2e09-4260-a2c3-5ad5e5abda4d",
   "metadata": {},
   "source": [
    "Definim algunes funcions que ens ajudaran a dibuixar la constel·lació"
   ]
  },
  {
   "cell_type": "code",
   "execution_count": 9,
   "id": "c95bea47-7a36-467d-a5ad-9ad29774fbe3",
   "metadata": {},
   "outputs": [],
   "source": [
    "def get_cl_index(vector: np.ndarray) -> dict: \n",
    "    \n",
    "    if not isinstance(vector, np.ndarray):\n",
    "        raise ValueError('El paràmetre vector ha de ser de tipus np.ndarray')\n",
    "        \n",
    "    d = dict.fromkeys(cl_properties)\n",
    "    \n",
    "    for k in d:\n",
    "        d[k] = list()\n",
    "        for index, value in enumerate(vector):\n",
    "            if value == k: \n",
    "                d[k].append(index)\n",
    "    \n",
    "    return d"
   ]
  },
  {
   "cell_type": "code",
   "execution_count": 10,
   "id": "bdb2649c-8bca-4985-99d5-22ea5707e206",
   "metadata": {
    "tags": []
   },
   "outputs": [],
   "source": [
    "import matplotlib.pyplot as plt\n",
    "\n",
    "def plot_points(X, y):\n",
    "    \n",
    "    cl_index = get_cl_index(y)\n",
    "\n",
    "    ## començam a dibuixar\n",
    "    ##\n",
    "    plt.figure(1)\n",
    "\n",
    "    ## dibuixam els punts per cada classe\n",
    "    ##\n",
    "    for k in cl_properties:\n",
    "        plt.plot(X[cl_index.get(k), 0], X[cl_index.get(k), 1], \n",
    "                 cl_properties.get(k).get('plot_fmt'))\n",
    "\n",
    "    ## format\n",
    "    ##\n",
    "    plt.axis('equal')\n",
    "\n",
    "    ## etiquetam el que manca i llest\n",
    "    ##\n",
    "    plt.title('Punts')\n",
    "    \n",
    "    plt.xlabel('x1')\n",
    "    plt.ylabel('x2')\n",
    "\n",
    "    plt.show(block = False)\n",
    "\n",
    "    return"
   ]
  },
  {
   "cell_type": "code",
   "execution_count": 11,
   "id": "82e111f7-6fe5-4b88-a33a-511d6508423a",
   "metadata": {},
   "outputs": [
    {
     "data": {
      "image/png": "[encoded data removed]",
      "text/plain": [
       "<Figure size 432x288 with 1 Axes>"
      ]
     },
     "metadata": {
      "needs_background": "light"
     },
     "output_type": "display_data"
    }
   ],
   "source": [
    "# Vegem quina distribució presenta el conjunt d'entrenament\n",
    "plot_points(X_train, y_train)"
   ]
  },
  {
   "cell_type": "code",
   "execution_count": 12,
   "id": "d13adcfb-4315-4876-a083-017729d05a83",
   "metadata": {},
   "outputs": [
    {
     "data": {
      "image/png": "[encoded data removed]",
      "text/plain": [
       "<Figure size 432x288 with 1 Axes>"
      ]
     },
     "metadata": {
      "needs_background": "light"
     },
     "output_type": "display_data"
    }
   ],
   "source": [
    "# També representam el conjunt de prova\n",
    "plot_points(X_test, y_test)"
   ]
  },
  {
   "cell_type": "markdown",
   "id": "89cf86ce-4f24-4232-99cd-430fb55d2965",
   "metadata": {},
   "source": [
    "Vaja, sembla que estam davant un **cas de no linealitat**\n",
    "A més les dades no estan normalitzades."
   ]
  },
  {
   "cell_type": "markdown",
   "id": "ac26bf4f-df8c-4786-b645-23d5a6c9ee33",
   "metadata": {},
   "source": [
    "Per tal de trobar el millor classificador encapsularem dins un *pipe-line* \n",
    "els següents processos que detallam:\n",
    "\n",
    "| Pas | Procés | Eina de `sklearn` |\n",
    "| :---: | --- | --- |\n",
    "| 1a | Escalat dels valors de les característiques a un rang \\[0,1\\] | classe **`MinMaxScaler`** |\n",
    "| 1b | Escalat dels valors de les característiques a un rang \\[0,1\\] | classe **`StandardScaler`** |\n",
    "| 2 | Classificació de les mostres | classe **`SVC`** |\n",
    "\n",
    "Els passos *1a* i *1b* no s'apliquen de forma simultània, \n",
    "és a dir, per a cada entrenament \n",
    "sempre se n'aplica un dels dos i només un.\n",
    "\n",
    "Un cop construït aquest *pipe-line*, el farem servir per a processar còmodament \n",
    "les dades del conjunt d'interès.\n",
    "El processat serà una cerca exhaustiva dels millors (hiper)paràmetres utilitzant \n",
    "una instància de la classe **GridSearchCV**, aplicant validació creuada. \n",
    "Per tal de construïr els subconjunts de validació farem servir un objecte **StratifiedKFold**, \n",
    "que ens garantirà que la distribució de mostres de cada classe a cada grup, és uniforme. "
   ]
  },
  {
   "cell_type": "markdown",
   "id": "e558789d-b5f0-4ae4-833b-46402121e923",
   "metadata": {},
   "source": [
    "Tot seguit definirem els diccionaris i variables necessaris per a provar diferents combinacions de paràmetres:"
   ]
  },
  {
   "cell_type": "code",
   "execution_count": 13,
   "id": "7d596f9f-cb3e-44f9-a189-39d138a6a0e5",
   "metadata": {},
   "outputs": [],
   "source": [
    "params_clf = []\n",
    "\n",
    "c_values_to_try = [10**ex for ex in range(-2, 5 + 1)]"
   ]
  },
  {
   "cell_type": "code",
   "execution_count": 14,
   "id": "29f95568-5a7e-47d7-be6f-00baa27f4712",
   "metadata": {},
   "outputs": [],
   "source": [
    "# kernel lineal: per tal de donar a la resposta un caire de completitud, \n",
    "#   afegim també el kernel lineal, tot i que sabem que per la nostra distribució \n",
    "#   donaria una mala classificació\n",
    "\n",
    "params_clf.append(\n",
    "    {\n",
    "        'clf__kernel': ['linear'],\n",
    "        'clf__C': c_values_to_try\n",
    "    }\n",
    ")"
   ]
  },
  {
   "cell_type": "code",
   "execution_count": 15,
   "id": "a0aef13a-b26a-4d3a-9b49-9020f00d6a77",
   "metadata": {},
   "outputs": [],
   "source": [
    "#kernel polynomial: provarem el kernel polinòmic homogeni (x.T z)^q \n",
    "#   i també el no homogeni (g x.T z + r)^q\n",
    "\n",
    "params_clf.append(\n",
    "    {\n",
    "        'clf__kernel': ['poly'], \n",
    "        'clf__C': c_values_to_try,\n",
    "        'clf__gamma': ['scale', 0.5, 1, 2],  # g\n",
    "        'clf__coef0': [-1, 0, 1],   # r\n",
    "        'clf__degree': [1, 2, 3]    # q\n",
    "    }\n",
    ")"
   ]
  },
  {
   "cell_type": "code",
   "execution_count": 16,
   "id": "ab1f4f0e-ded8-4ff4-a1ef-9c1888385ef1",
   "metadata": {},
   "outputs": [],
   "source": [
    "#kernel RBF: \n",
    "\n",
    "params_clf.append(\n",
    "    {\n",
    "        'clf__kernel': ['rbf'], \n",
    "        'clf__C': c_values_to_try,\n",
    "        'clf__gamma': ['scale', 0.5, 1, 2, 4, 8]\n",
    "    }\n",
    ")"
   ]
  },
  {
   "cell_type": "code",
   "execution_count": 17,
   "id": "cfedde94-8917-4af8-ad4f-e1f82d9c4bdc",
   "metadata": {},
   "outputs": [],
   "source": [
    "#kernel sigmoid: tanh(g x.T z + r)\n",
    "\n",
    "params_clf.append(\n",
    "    {\n",
    "        'clf__kernel': ['sigmoid'], \n",
    "        'clf__C': c_values_to_try,\n",
    "        'clf__gamma': ['scale', 0.5, 1, 2],\n",
    "        'clf__coef0': [-1, 0, 1]\n",
    "    }\n",
    ")"
   ]
  },
  {
   "cell_type": "markdown",
   "id": "3ca4ca54-1b58-4946-968e-e2298509d1ca",
   "metadata": {
    "tags": []
   },
   "source": [
    "Ara també cal fer dos itineraris, \n",
    "ignorant els objectes d'escalat de forma alternativa:"
   ]
  },
  {
   "cell_type": "code",
   "execution_count": 18,
   "id": "6ace1232-2544-419e-917e-9d2935700c51",
   "metadata": {},
   "outputs": [],
   "source": [
    "def dict_with_new_entries(old_dict: dict, new_entries: dict) -> dict:\n",
    "    new_dict = old_dict.copy()\n",
    "    for entry in new_entries:\n",
    "        new_dict[entry] = new_entries.get(entry)\n",
    "        \n",
    "    return new_dict\n",
    "\n",
    "def add_scaler_passthrough(params_dict) -> list:\n",
    "    params_list_dict = []\n",
    "    for clf_param in params_dict:\n",
    "        new_dict = dict_with_new_entries(clf_param, \n",
    "                                         {'scaler_std': ['passthrough']}) \n",
    "        params_list_dict.append(new_dict)\n",
    "\n",
    "        new_dict = dict_with_new_entries(clf_param,\n",
    "                                         {'scaler_mm': ['passthrough']}) \n",
    "        params_list_dict.append(new_dict)\n",
    "        \n",
    "    return params_list_dict"
   ]
  },
  {
   "cell_type": "code",
   "execution_count": 19,
   "id": "b23d8bfc-6f16-40bf-a2d6-44dbfd386bd2",
   "metadata": {},
   "outputs": [
    {
     "data": {
      "text/plain": [
       "[{'clf__kernel': ['linear'],\n",
       "  'clf__C': [0.01, 0.1, 1, 10, 100, 1000, 10000, 100000],\n",
       "  'scaler_std': ['passthrough']},\n",
       " {'clf__kernel': ['linear'],\n",
       "  'clf__C': [0.01, 0.1, 1, 10, 100, 1000, 10000, 100000],\n",
       "  'scaler_mm': ['passthrough']},\n",
       " {'clf__kernel': ['poly'],\n",
       "  'clf__C': [0.01, 0.1, 1, 10, 100, 1000, 10000, 100000],\n",
       "  'clf__gamma': ['scale', 0.5, 1, 2],\n",
       "  'clf__coef0': [-1, 0, 1],\n",
       "  'clf__degree': [1, 2, 3],\n",
       "  'scaler_std': ['passthrough']},\n",
       " {'clf__kernel': ['poly'],\n",
       "  'clf__C': [0.01, 0.1, 1, 10, 100, 1000, 10000, 100000],\n",
       "  'clf__gamma': ['scale', 0.5, 1, 2],\n",
       "  'clf__coef0': [-1, 0, 1],\n",
       "  'clf__degree': [1, 2, 3],\n",
       "  'scaler_mm': ['passthrough']},\n",
       " {'clf__kernel': ['rbf'],\n",
       "  'clf__C': [0.01, 0.1, 1, 10, 100, 1000, 10000, 100000],\n",
       "  'clf__gamma': ['scale', 0.5, 1, 2, 4, 8],\n",
       "  'scaler_std': ['passthrough']},\n",
       " {'clf__kernel': ['rbf'],\n",
       "  'clf__C': [0.01, 0.1, 1, 10, 100, 1000, 10000, 100000],\n",
       "  'clf__gamma': ['scale', 0.5, 1, 2, 4, 8],\n",
       "  'scaler_mm': ['passthrough']},\n",
       " {'clf__kernel': ['sigmoid'],\n",
       "  'clf__C': [0.01, 0.1, 1, 10, 100, 1000, 10000, 100000],\n",
       "  'clf__gamma': ['scale', 0.5, 1, 2],\n",
       "  'clf__coef0': [-1, 0, 1],\n",
       "  'scaler_std': ['passthrough']},\n",
       " {'clf__kernel': ['sigmoid'],\n",
       "  'clf__C': [0.01, 0.1, 1, 10, 100, 1000, 10000, 100000],\n",
       "  'clf__gamma': ['scale', 0.5, 1, 2],\n",
       "  'clf__coef0': [-1, 0, 1],\n",
       "  'scaler_mm': ['passthrough']}]"
      ]
     },
     "execution_count": 19,
     "metadata": {},
     "output_type": "execute_result"
    }
   ],
   "source": [
    "params_to_try = add_scaler_passthrough(params_clf)\n",
    "params_to_try"
   ]
  },
  {
   "cell_type": "code",
   "execution_count": 20,
   "id": "8c0eb74b-79e3-4841-8edd-112374427fba",
   "metadata": {},
   "outputs": [],
   "source": [
    "# Validation using k-fold validation\n",
    "\n",
    "# normalment faríem servir k = 5, però com que tenim pocs punts (240), només farem tres grups\n",
    "\n",
    "n_folds = 3"
   ]
  },
  {
   "cell_type": "markdown",
   "id": "28337545-c8d7-484f-86e6-e8b8e7e56c02",
   "metadata": {},
   "source": [
    "Importam les classes i funcions necessàries:"
   ]
  },
  {
   "cell_type": "code",
   "execution_count": 21,
   "id": "db187af3-af36-4223-aa2b-a179981a0111",
   "metadata": {},
   "outputs": [],
   "source": [
    "from sklearn.preprocessing import MinMaxScaler\n",
    "from sklearn.preprocessing import StandardScaler\n",
    "from sklearn.model_selection import StratifiedKFold\n",
    "from sklearn.model_selection import GridSearchCV\n",
    "from sklearn.model_selection import cross_validate\n",
    "from sklearn.pipeline import Pipeline\n",
    "from sklearn.pipeline import make_pipeline\n",
    "from sklearn.metrics import classification_report\n",
    "from sklearn.metrics import accuracy_score\n",
    "from sklearn.metrics import precision_score\n",
    "from sklearn.metrics import f1_score\n",
    "from sklearn.metrics import recall_score"
   ]
  },
  {
   "cell_type": "code",
   "execution_count": 22,
   "id": "52bdd274-ba78-4842-816b-f09293c044a6",
   "metadata": {},
   "outputs": [],
   "source": [
    "# ... employing the accuracy as performance metric ...\n",
    "\n",
    "score = 'accuracy'"
   ]
  },
  {
   "cell_type": "markdown",
   "id": "5e060e89-a2a8-4a2d-bd39-d7b60ce09c65",
   "metadata": {},
   "source": [
    "Començam la **construcció del *pipeline***, \n",
    "que ens determinarà quin és el millor \n",
    "conjunt de paràmetres del classificador *SVC*, \n",
    "de entre tots els que provarem \n",
    "a banda de determinar quin dels dos mètodes d'escalat és el millor \n",
    "pel nostre cas."
   ]
  },
  {
   "cell_type": "code",
   "execution_count": 23,
   "id": "e986cc5c-c344-4538-be6b-560685a19090",
   "metadata": {},
   "outputs": [],
   "source": [
    "# Primera passa: escalat del valors de les característiques de les mostres\n",
    "\n",
    "# Provarem dos mètodes d'escalat per a cada conjunt de paràmetres\n",
    "\n",
    "scaler_mm = MinMaxScaler()\n",
    "\n",
    "scaler_mm_step = ('scaler_mm', scaler_mm)\n",
    "\n",
    "scaler_std = StandardScaler()\n",
    "\n",
    "scaler_std_step = ('scaler_std', scaler_std)"
   ]
  },
  {
   "cell_type": "code",
   "execution_count": 24,
   "id": "ba8df70c-7623-4958-976a-2a334f820e6e",
   "metadata": {},
   "outputs": [],
   "source": [
    "# Segona passa: classificar les mostres\n",
    "\n",
    "# En aquest exercici, pel classificador que ens demanen, s'ha de fer servir la classe SVC com a model\n",
    "\n",
    "from sklearn.svm import SVC\n",
    "\n",
    "clf_step = ('clf', SVC())"
   ]
  },
  {
   "cell_type": "code",
   "execution_count": 25,
   "id": "736a2d6e-c4d9-40b7-9025-5c28f87a3c13",
   "metadata": {},
   "outputs": [],
   "source": [
    "# Construïm la tuberia\n",
    "\n",
    "pipe_steps = [scaler_std_step, scaler_mm_step, clf_step]\n",
    "\n",
    "gs_clf_p = Pipeline(pipe_steps)"
   ]
  },
  {
   "cell_type": "code",
   "execution_count": 26,
   "id": "85cef311-0e7e-439c-83ab-dc62f37ba78f",
   "metadata": {},
   "outputs": [
    {
     "data": {
      "text/html": [
       "<style>div.sk-top-container {color: black;background-color: white;}div.sk-toggleable {background-color: white;}label.sk-toggleable__label {cursor: pointer;display: block;width: 100%;margin-bottom: 0;padding: 0.2em 0.3em;box-sizing: border-box;text-align: center;}div.sk-toggleable__content {max-height: 0;max-width: 0;overflow: hidden;text-align: left;background-color: #f0f8ff;}div.sk-toggleable__content pre {margin: 0.2em;color: black;border-radius: 0.25em;background-color: #f0f8ff;}input.sk-toggleable__control:checked~div.sk-toggleable__content {max-height: 200px;max-width: 100%;overflow: auto;}div.sk-estimator input.sk-toggleable__control:checked~label.sk-toggleable__label {background-color: #d4ebff;}div.sk-label input.sk-toggleable__control:checked~label.sk-toggleable__label {background-color: #d4ebff;}input.sk-hidden--visually {border: 0;clip: rect(1px 1px 1px 1px);clip: rect(1px, 1px, 1px, 1px);height: 1px;margin: -1px;overflow: hidden;padding: 0;position: absolute;width: 1px;}div.sk-estimator {font-family: monospace;background-color: #f0f8ff;margin: 0.25em 0.25em;border: 1px dotted black;border-radius: 0.25em;box-sizing: border-box;}div.sk-estimator:hover {background-color: #d4ebff;}div.sk-parallel-item::after {content: \"\";width: 100%;border-bottom: 1px solid gray;flex-grow: 1;}div.sk-label:hover label.sk-toggleable__label {background-color: #d4ebff;}div.sk-serial::before {content: \"\";position: absolute;border-left: 1px solid gray;box-sizing: border-box;top: 2em;bottom: 0;left: 50%;}div.sk-serial {display: flex;flex-direction: column;align-items: center;background-color: white;}div.sk-item {z-index: 1;}div.sk-parallel {display: flex;align-items: stretch;justify-content: center;background-color: white;}div.sk-parallel-item {display: flex;flex-direction: column;position: relative;background-color: white;}div.sk-parallel-item:first-child::after {align-self: flex-end;width: 50%;}div.sk-parallel-item:last-child::after {align-self: flex-start;width: 50%;}div.sk-parallel-item:only-child::after {width: 0;}div.sk-dashed-wrapped {border: 1px dashed gray;margin: 0.2em;box-sizing: border-box;padding-bottom: 0.1em;background-color: white;position: relative;}div.sk-label label {font-family: monospace;font-weight: bold;background-color: white;display: inline-block;line-height: 1.2em;}div.sk-label-container {position: relative;z-index: 2;text-align: center;}div.sk-container {display: inline-block;position: relative;}</style><div class=\"sk-top-container\"><div class=\"sk-container\"><div class=\"sk-item sk-dashed-wrapped\"><div class=\"sk-label-container\"><div class=\"sk-label sk-toggleable\"><input class=\"sk-toggleable__control sk-hidden--visually\" id=\"4c987818-d1a7-474c-a296-5cbf8724488e\" type=\"checkbox\" ><label class=\"sk-toggleable__label\" for=\"4c987818-d1a7-474c-a296-5cbf8724488e\">Pipeline</label><div class=\"sk-toggleable__content\"><pre>Pipeline(steps=[('scaler_std', StandardScaler()), ('scaler_mm', MinMaxScaler()),\n",
       "                ('clf', SVC())])</pre></div></div></div><div class=\"sk-serial\"><div class=\"sk-item\"><div class=\"sk-estimator sk-toggleable\"><input class=\"sk-toggleable__control sk-hidden--visually\" id=\"8e4f883e-15d5-4802-bab0-1617bbe5a506\" type=\"checkbox\" ><label class=\"sk-toggleable__label\" for=\"8e4f883e-15d5-4802-bab0-1617bbe5a506\">StandardScaler</label><div class=\"sk-toggleable__content\"><pre>StandardScaler()</pre></div></div></div><div class=\"sk-item\"><div class=\"sk-estimator sk-toggleable\"><input class=\"sk-toggleable__control sk-hidden--visually\" id=\"5c804ae3-90c8-4686-8b9c-f84fa2c330e8\" type=\"checkbox\" ><label class=\"sk-toggleable__label\" for=\"5c804ae3-90c8-4686-8b9c-f84fa2c330e8\">MinMaxScaler</label><div class=\"sk-toggleable__content\"><pre>MinMaxScaler()</pre></div></div></div><div class=\"sk-item\"><div class=\"sk-estimator sk-toggleable\"><input class=\"sk-toggleable__control sk-hidden--visually\" id=\"a4de1add-ee00-425b-b856-b05e3afb2d36\" type=\"checkbox\" ><label class=\"sk-toggleable__label\" for=\"a4de1add-ee00-425b-b856-b05e3afb2d36\">SVC</label><div class=\"sk-toggleable__content\"><pre>SVC()</pre></div></div></div></div></div></div></div>"
      ],
      "text/plain": [
       "Pipeline(steps=[('scaler_std', StandardScaler()), ('scaler_mm', MinMaxScaler()),\n",
       "                ('clf', SVC())])"
      ]
     },
     "metadata": {},
     "output_type": "display_data"
    }
   ],
   "source": [
    "from sklearn import set_config\n",
    "\n",
    "set_config(display='diagram')\n",
    "display(gs_clf_p)\n",
    "set_config(display='text')"
   ]
  },
  {
   "cell_type": "markdown",
   "id": "77a8328e-7cb7-4a10-916b-c2fc734120f0",
   "metadata": {
    "jp-MarkdownHeadingCollapsed": true,
    "tags": []
   },
   "source": [
    "### Apartat (3.b)"
   ]
  },
  {
   "cell_type": "markdown",
   "id": "5ab56ce1-ee89-4985-aff5-2d3dd875e476",
   "metadata": {
    "tags": []
   },
   "source": [
    "b) Using the *training dataset*, \n",
    "find the best performing classifier according to \n",
    "the design strategy and employing the accuracy as \n",
    "performance metric for the cross-validation process."
   ]
  },
  {
   "cell_type": "markdown",
   "id": "5c5ba35d-7e09-4c40-8e6a-d348593138bb",
   "metadata": {
    "tags": []
   },
   "source": [
    "### Resposta apartat(3.b)"
   ]
  },
  {
   "cell_type": "markdown",
   "id": "da118169-74fb-40a2-87d2-47a984c82fcb",
   "metadata": {},
   "source": [
    "Un cop construït el *pipeline*, ja el podem fer servir per fer la cerca dels (hiper)paràmetres"
   ]
  },
  {
   "cell_type": "code",
   "execution_count": 27,
   "id": "2bf94b2d-7e35-44da-b3b8-93633aa89a02",
   "metadata": {},
   "outputs": [],
   "source": [
    "# Segona passa: fer la cerca exhaustiva dels millors (hiper)paràmetres\n",
    "\n",
    "# Construirem els subconjunts de validació de forma equilibrada \n",
    "# (és a dir amb un percentatge de mostres de cada classe similar)\n",
    "\n",
    "stra_kfold = StratifiedKFold(n_splits=n_folds, shuffle=True, random_state=11615)\n",
    "\n",
    "n_jobs = -1  # Utilitzam tots els fils d'execució\n",
    "verbose_level = 1  # Ens ajudarà a passar una estona més entretinguda ...\n",
    "\n",
    "gs_cv = GridSearchCV(estimator=gs_clf_p,\n",
    "                    cv=stra_kfold,\n",
    "                    param_grid=params_to_try,\n",
    "                    scoring=score,\n",
    "                    n_jobs=n_jobs,\n",
    "                    verbose=verbose_level)"
   ]
  },
  {
   "cell_type": "code",
   "execution_count": 28,
   "id": "416766a4-a613-4180-864c-790289ef6ef2",
   "metadata": {},
   "outputs": [
    {
     "name": "stdout",
     "output_type": "stream",
     "text": [
      "Fitting 3 folds for each of 880 candidates, totalling 2640 fits\n"
     ]
    },
    {
     "data": {
      "text/plain": [
       "GridSearchCV(cv=StratifiedKFold(n_splits=3, random_state=11615, shuffle=True),\n",
       "             estimator=Pipeline(steps=[('scaler_std', StandardScaler()),\n",
       "                                       ('scaler_mm', MinMaxScaler()),\n",
       "                                       ('clf', SVC())]),\n",
       "             n_jobs=-1,\n",
       "             param_grid=[{'clf__C': [0.01, 0.1, 1, 10, 100, 1000, 10000,\n",
       "                                     100000],\n",
       "                          'clf__kernel': ['linear'],\n",
       "                          'scaler_std': ['passthrough']},\n",
       "                         {'clf__C': [0.01, 0.1, 1, 10, 100, 1000, 10000,\n",
       "                                     100000...\n",
       "                          'scaler_mm': ['passthrough']},\n",
       "                         {'clf__C': [0.01, 0.1, 1, 10, 100, 1000, 10000,\n",
       "                                     100000],\n",
       "                          'clf__coef0': [-1, 0, 1],\n",
       "                          'clf__gamma': ['scale', 0.5, 1, 2],\n",
       "                          'clf__kernel': ['sigmoid'],\n",
       "                          'scaler_std': ['passthrough']},\n",
       "                         {'clf__C': [0.01, 0.1, 1, 10, 100, 1000, 10000,\n",
       "                                     100000],\n",
       "                          'clf__coef0': [-1, 0, 1],\n",
       "                          'clf__gamma': ['scale', 0.5, 1, 2],\n",
       "                          'clf__kernel': ['sigmoid'],\n",
       "                          'scaler_mm': ['passthrough']}],\n",
       "             scoring='accuracy', verbose=1)"
      ]
     },
     "execution_count": 28,
     "metadata": {},
     "output_type": "execute_result"
    }
   ],
   "source": [
    "# Començam les proves ...\n",
    "\n",
    "gs_cv.fit(X_train, y_train)"
   ]
  },
  {
   "cell_type": "code",
   "execution_count": 29,
   "id": "025cd3df-3804-45f9-9de9-6d46fc2beef5",
   "metadata": {
    "tags": []
   },
   "outputs": [],
   "source": [
    "# Triam el millor segons la mètrica que li hem donat (accuracy)\n",
    "\n",
    "best_clf = gs_cv.best_estimator_"
   ]
  },
  {
   "cell_type": "markdown",
   "id": "d4d7b98a-3874-4e16-a11d-71cb55888580",
   "metadata": {},
   "source": [
    "La **millor arquitectura** del *pipeline* és:"
   ]
  },
  {
   "cell_type": "code",
   "execution_count": 30,
   "id": "c9d716c9-aca4-4cc0-aa5a-cec21b467c09",
   "metadata": {},
   "outputs": [
    {
     "data": {
      "text/html": [
       "<style>div.sk-top-container {color: black;background-color: white;}div.sk-toggleable {background-color: white;}label.sk-toggleable__label {cursor: pointer;display: block;width: 100%;margin-bottom: 0;padding: 0.2em 0.3em;box-sizing: border-box;text-align: center;}div.sk-toggleable__content {max-height: 0;max-width: 0;overflow: hidden;text-align: left;background-color: #f0f8ff;}div.sk-toggleable__content pre {margin: 0.2em;color: black;border-radius: 0.25em;background-color: #f0f8ff;}input.sk-toggleable__control:checked~div.sk-toggleable__content {max-height: 200px;max-width: 100%;overflow: auto;}div.sk-estimator input.sk-toggleable__control:checked~label.sk-toggleable__label {background-color: #d4ebff;}div.sk-label input.sk-toggleable__control:checked~label.sk-toggleable__label {background-color: #d4ebff;}input.sk-hidden--visually {border: 0;clip: rect(1px 1px 1px 1px);clip: rect(1px, 1px, 1px, 1px);height: 1px;margin: -1px;overflow: hidden;padding: 0;position: absolute;width: 1px;}div.sk-estimator {font-family: monospace;background-color: #f0f8ff;margin: 0.25em 0.25em;border: 1px dotted black;border-radius: 0.25em;box-sizing: border-box;}div.sk-estimator:hover {background-color: #d4ebff;}div.sk-parallel-item::after {content: \"\";width: 100%;border-bottom: 1px solid gray;flex-grow: 1;}div.sk-label:hover label.sk-toggleable__label {background-color: #d4ebff;}div.sk-serial::before {content: \"\";position: absolute;border-left: 1px solid gray;box-sizing: border-box;top: 2em;bottom: 0;left: 50%;}div.sk-serial {display: flex;flex-direction: column;align-items: center;background-color: white;}div.sk-item {z-index: 1;}div.sk-parallel {display: flex;align-items: stretch;justify-content: center;background-color: white;}div.sk-parallel-item {display: flex;flex-direction: column;position: relative;background-color: white;}div.sk-parallel-item:first-child::after {align-self: flex-end;width: 50%;}div.sk-parallel-item:last-child::after {align-self: flex-start;width: 50%;}div.sk-parallel-item:only-child::after {width: 0;}div.sk-dashed-wrapped {border: 1px dashed gray;margin: 0.2em;box-sizing: border-box;padding-bottom: 0.1em;background-color: white;position: relative;}div.sk-label label {font-family: monospace;font-weight: bold;background-color: white;display: inline-block;line-height: 1.2em;}div.sk-label-container {position: relative;z-index: 2;text-align: center;}div.sk-container {display: inline-block;position: relative;}</style><div class=\"sk-top-container\"><div class=\"sk-container\"><div class=\"sk-item sk-dashed-wrapped\"><div class=\"sk-label-container\"><div class=\"sk-label sk-toggleable\"><input class=\"sk-toggleable__control sk-hidden--visually\" id=\"3f303e4f-1c9d-4fa8-bea4-185e8214aa10\" type=\"checkbox\" ><label class=\"sk-toggleable__label\" for=\"3f303e4f-1c9d-4fa8-bea4-185e8214aa10\">Pipeline</label><div class=\"sk-toggleable__content\"><pre>Pipeline(steps=[('scaler_std', 'passthrough'), ('scaler_mm', MinMaxScaler()),\n",
       "                ('clf', SVC(C=10000, gamma=4))])</pre></div></div></div><div class=\"sk-serial\"><div class=\"sk-item\"><div class=\"sk-estimator sk-toggleable\"><input class=\"sk-toggleable__control sk-hidden--visually\" id=\"fdd68bab-c3f3-4b46-a219-2e4262b43c79\" type=\"checkbox\" ><label class=\"sk-toggleable__label\" for=\"fdd68bab-c3f3-4b46-a219-2e4262b43c79\">passthrough</label><div class=\"sk-toggleable__content\"><pre>passthrough</pre></div></div></div><div class=\"sk-item\"><div class=\"sk-estimator sk-toggleable\"><input class=\"sk-toggleable__control sk-hidden--visually\" id=\"52f3d886-0601-45c2-a7b3-e2d524d0670e\" type=\"checkbox\" ><label class=\"sk-toggleable__label\" for=\"52f3d886-0601-45c2-a7b3-e2d524d0670e\">MinMaxScaler</label><div class=\"sk-toggleable__content\"><pre>MinMaxScaler()</pre></div></div></div><div class=\"sk-item\"><div class=\"sk-estimator sk-toggleable\"><input class=\"sk-toggleable__control sk-hidden--visually\" id=\"c459dba0-b689-4b54-9b0b-4265a7ed4c63\" type=\"checkbox\" ><label class=\"sk-toggleable__label\" for=\"c459dba0-b689-4b54-9b0b-4265a7ed4c63\">SVC</label><div class=\"sk-toggleable__content\"><pre>SVC(C=10000, gamma=4)</pre></div></div></div></div></div></div></div>"
      ],
      "text/plain": [
       "Pipeline(steps=[('scaler_std', 'passthrough'), ('scaler_mm', MinMaxScaler()),\n",
       "                ('clf', SVC(C=10000, gamma=4))])"
      ]
     },
     "metadata": {},
     "output_type": "display_data"
    }
   ],
   "source": [
    "set_config(display='diagram')\n",
    "display(best_clf)\n",
    "set_config(display='text')"
   ]
  },
  {
   "cell_type": "code",
   "execution_count": 31,
   "id": "26309195-14e8-4f12-8c85-832319ee7951",
   "metadata": {},
   "outputs": [],
   "source": [
    "def get_best_params():\n",
    "    \n",
    "    return gs_cv.best_params_"
   ]
  },
  {
   "cell_type": "markdown",
   "id": "58748c20-5151-4ccb-9cbe-2a2f97b644db",
   "metadata": {},
   "source": [
    "Aquests són els **millors paràmetres del *pipeline***"
   ]
  },
  {
   "cell_type": "code",
   "execution_count": 32,
   "id": "5fc35e7e-3ee5-4f09-8b88-7ebec78c8e37",
   "metadata": {},
   "outputs": [
    {
     "data": {
      "text/plain": [
       "{'clf__C': 10000,\n",
       " 'clf__gamma': 4,\n",
       " 'clf__kernel': 'rbf',\n",
       " 'scaler_std': 'passthrough'}"
      ]
     },
     "execution_count": 32,
     "metadata": {},
     "output_type": "execute_result"
    }
   ],
   "source": [
    "best_params = get_best_params()\n",
    "best_params"
   ]
  },
  {
   "cell_type": "markdown",
   "id": "afc6b00e-1f35-4764-9c24-540586c03ac0",
   "metadata": {},
   "source": [
    "És a dir, hem trobat que és millor \n",
    "**escalar les mostres amb *MinMaxScaler()***"
   ]
  },
  {
   "cell_type": "code",
   "execution_count": 33,
   "id": "a5075daa-30e0-4447-bbc7-149c82ff23c8",
   "metadata": {},
   "outputs": [],
   "source": [
    "# Vegem quina és la mètrica 'accuracy' del millor classificador\n",
    "\n",
    "best_accuracy = gs_cv.best_score_"
   ]
  },
  {
   "cell_type": "markdown",
   "id": "6956c586-25cb-4469-a07c-c431f202d3b6",
   "metadata": {},
   "source": [
    "Hem aconseguit un **promig de *accuracy* durant l'entrenament** \n",
    "amb *cross-validation* de:"
   ]
  },
  {
   "cell_type": "code",
   "execution_count": 34,
   "id": "817e6b58-ac3f-4e3a-aaa4-88bdc8bacead",
   "metadata": {},
   "outputs": [
    {
     "data": {
      "text/plain": [
       "'0.929'"
      ]
     },
     "execution_count": 34,
     "metadata": {},
     "output_type": "execute_result"
    }
   ],
   "source": [
    "f\"{best_accuracy:.3f}\""
   ]
  },
  {
   "cell_type": "code",
   "execution_count": 35,
   "id": "39125773-917d-4b50-82ec-383a95fe3aaa",
   "metadata": {},
   "outputs": [],
   "source": [
    "def get_best_step_params(from_dict: dict, step: str) -> dict:\n",
    "    \n",
    "    prefix_len = len(step)\n",
    "    \n",
    "    if prefix_len > 0:\n",
    "        new_dict = dict()\n",
    "        for key in from_dict:\n",
    "            if str(key).startswith(step): \n",
    "                new_key = key[prefix_len:]\n",
    "                if len(new_key) > 0:\n",
    "                    new_dict[new_key] = from_dict[key]\n",
    "    else:\n",
    "        new_dict = from_dict\n",
    "\n",
    "    return new_dict"
   ]
  },
  {
   "cell_type": "code",
   "execution_count": 36,
   "id": "7e4b28f0-b9a8-409c-9ea6-b7920f0f4c1e",
   "metadata": {},
   "outputs": [],
   "source": [
    "# I aquests són els que només afecten al classificador\n",
    "\n",
    "clf_best_params = get_best_step_params(best_params, 'clf__')"
   ]
  },
  {
   "cell_type": "markdown",
   "id": "f63f2d88-cab6-4bf7-a46f-d767ff311aee",
   "metadata": {},
   "source": [
    "Per tant, el **millor classificador** \n",
    "que hem trobat és el que podem construir \n",
    "amb aquests paràmetres ..."
   ]
  },
  {
   "cell_type": "code",
   "execution_count": 37,
   "id": "b5d5b9ad-4b58-4a31-bbdd-41a1d48598ae",
   "metadata": {},
   "outputs": [
    {
     "data": {
      "text/plain": [
       "{'C': 10000, 'gamma': 4, 'kernel': 'rbf'}"
      ]
     },
     "execution_count": 37,
     "metadata": {},
     "output_type": "execute_result"
    }
   ],
   "source": [
    "clf_best_params"
   ]
  },
  {
   "cell_type": "markdown",
   "id": "62eb1e33-8e62-4d9d-9c3f-1306c6882a6b",
   "metadata": {},
   "source": [
    "... escalant prèviament les mostres amb MinMaxScaler()"
   ]
  },
  {
   "cell_type": "code",
   "execution_count": 38,
   "id": "b473eba1-666c-42a3-ac37-872f8cf215bd",
   "metadata": {},
   "outputs": [],
   "source": [
    "def rbf_func(x): \n",
    "    \n",
    "    return best_clf.decision_function([x]).item()\n",
    "\n",
    "def get_sv() -> list:\n",
    "    \n",
    "    return best_clf.named_steps['clf'].support_"
   ]
  },
  {
   "cell_type": "markdown",
   "id": "f2c309d2-f970-4ff0-8225-23029c69af3b",
   "metadata": {},
   "source": [
    "### Apartat (3.c)"
   ]
  },
  {
   "cell_type": "markdown",
   "id": "c6bb7c4c-4726-4954-ac1a-9be8372038d4",
   "metadata": {},
   "source": [
    "c) Generate the following plots **in the original space**:\n",
    "1. a first plot with *the training samples*, highlighting the *support vectors* and plotting the 2D *decision curve*; and\n",
    "2. a second plot with the *classification map*, i.e. evaluate the *decision function* for a 'regular' subset (grid) of points.\n",
    "\n",
    "Use different markers and/or colours for each class. \n",
    "See the appendix for examples of the requested plots."
   ]
  },
  {
   "cell_type": "markdown",
   "id": "51ba29a7-32c8-4f21-b258-bff88088371d",
   "metadata": {},
   "source": [
    "### Resposta apartat (3.c)"
   ]
  },
  {
   "cell_type": "markdown",
   "id": "f329150d-f745-46ee-829b-2fdb616f77a7",
   "metadata": {},
   "source": [
    "Definim algunes funcions necessàries per a fer els diagrames."
   ]
  },
  {
   "cell_type": "code",
   "execution_count": 39,
   "id": "0960fc46-c25e-4f8b-890b-7766944d0d85",
   "metadata": {
    "tags": []
   },
   "outputs": [],
   "source": [
    "import numpy as np\n",
    "\n",
    "def get_view_limits(X: np.ndarray, extra_border: float = 0.):\n",
    "    \n",
    "    ### límits del diagrama:\n",
    "    x_left = np.floor(np.amin(X, axis = 0)[0] - 0.5 - extra_border)\n",
    "    x_right = np.ceil(np.amax(X, axis = 0)[0] + 0.5 + extra_border)\n",
    "    y_top = np.ceil(np.amax(X, axis = 0)[1] + 0.5 + extra_border)\n",
    "    y_bottom = np.floor(np.amin(X, axis = 0)[1]- 0.5 - extra_border)\n",
    "    \n",
    "    return x_left, x_right, y_bottom, y_top\n",
    "\n",
    "\n",
    "def get_mesh(g_func, \n",
    "             x_left: float, x_right: float, y_bottom: float, y_top: float, \n",
    "             res: int = 100):\n",
    "\n",
    "    # calcula malla\n",
    "    \n",
    "    xx = np.linspace(x_left, x_right, res)\n",
    "    yy = np.linspace(y_bottom, y_top, res)\n",
    "    XX, YY = np.meshgrid(xx, yy, indexing = 'ij')\n",
    "    Z = np.zeros((res * res, 1))\n",
    "\n",
    "    k = 0\n",
    "    for x1 in xx:\n",
    "        for x2 in yy:\n",
    "            Z[k] = g_func(np.array((x1, x2), dtype=float))\n",
    "            k += 1\n",
    "\n",
    "    return XX, YY, Z"
   ]
  },
  {
   "cell_type": "code",
   "execution_count": 40,
   "id": "576aabbf-7bc1-4f81-9ba7-9bf502115cd2",
   "metadata": {
    "tags": []
   },
   "outputs": [],
   "source": [
    "import numpy as np\n",
    "import matplotlib.pyplot as plt\n",
    "\n",
    "def plot_scatter_contour(X: np.ndarray, y: np.ndarray, sv: list, \n",
    "                         g_func, margin_level: float=1., \n",
    "                         extra_border: float=0.):\n",
    "    \n",
    "    # plot samples, highlighting some of them\n",
    "\n",
    "    ## calcula límits cartesians a representar\n",
    "    ##\n",
    "    x_left, x_right, y_bottom, y_top = get_view_limits(X, extra_border)\n",
    "    \n",
    "    ## calcula malla de valors de la funció\n",
    "    ##\n",
    "    XX, YY, Z = get_mesh(g_func, x_left, x_right, y_bottom, y_top)\n",
    "    \n",
    "    ## calcula index de cada classe\n",
    "    cl_index = get_cl_index(y)\n",
    "\n",
    "    ## començam a dibuixar\n",
    "    ##\n",
    "    plt.figure(1, figsize = (8,8))\n",
    "\n",
    "\n",
    "    ## dibuixam la corba de decisió i els marges\n",
    "    ##\n",
    "    ax = plt.gca()\n",
    "    ax.contour(XX, YY, Z.reshape(XX.shape), \n",
    "               colors='k',\n",
    "               levels=[-margin_level, 0, margin_level],\n",
    "               alpha=0.5,linestyles=['--', '-', '--'])\n",
    "\n",
    "    ## dibuixam els punts per cada classe\n",
    "    ##\n",
    "    for k in cl_properties:\n",
    "        plt.plot(X[cl_index.get(k), 0], X[cl_index.get(k), 1], \n",
    "                 cl_properties.get(k).get('plot_fmt'))\n",
    "\n",
    "    ## i remarcam els vectors de suport\n",
    "    ##\n",
    "    ax2 = plt.gca()\n",
    "    ax2.scatter(X[sv, 0], X[sv, 1], s = 100, \n",
    "               linewidth = 1, facecolors = 'none', edgecolors = 'k')\n",
    "\n",
    "    ## format\n",
    "    ##\n",
    "    plt.xlim([x_left, x_right])\n",
    "    plt.ylim([y_bottom, y_top])\n",
    "    plt.axis('equal')\n",
    "\n",
    "    ## etiquetam el que manca i llest\n",
    "    ##\n",
    "    plt.title('Punts, vectors de suport i corba de decisió amb marges')\n",
    "    \n",
    "    plt.xlabel('x1')\n",
    "    plt.ylabel('x2')\n",
    "\n",
    "    plt.show(block = False)\n",
    "    \n",
    "    return"
   ]
  },
  {
   "cell_type": "code",
   "execution_count": 41,
   "id": "1ad7f1ce-f47d-4a6d-a3db-9c1072a0d8e0",
   "metadata": {
    "tags": []
   },
   "outputs": [],
   "source": [
    "import numpy as np\n",
    "import matplotlib.pyplot as plt\n",
    "import matplotlib.colors as col\n",
    "\n",
    "def plot_map_plane(X: np.ndarray, y: np.ndarray, sv: list, \n",
    "                   g_func, \n",
    "                   extra_border: float=0.,\n",
    "                   plot_3d: bool=True): \n",
    "    \n",
    "    # matrix-based predicate evaluation\n",
    "\n",
    "    ## calcula límits cartesians a representar\n",
    "    ##\n",
    "    x_left, x_right, y_bottom, y_top = get_view_limits(X, extra_border)\n",
    "    \n",
    "    ## calcula malla de valors de la funció\n",
    "    ##\n",
    "    XX, YY, Z = get_mesh(g_func, x_left, x_right, y_bottom, y_top)\n",
    "    \n",
    "    ## calcula index de cada classe\n",
    "    cl_index = get_cl_index(y)\n",
    "    \n",
    "    ## i valors de la classe\n",
    "    cl_min = get_cl_min()\n",
    "    cl_max = get_cl_max()\n",
    "\n",
    "    ## començam a dibuixar\n",
    "    ##\n",
    "    plt.figure(1, figsize=(8,8))\n",
    "\n",
    "    ## cream paleta de colors\n",
    "    ##\n",
    "    paleta = col.LinearSegmentedColormap.from_list(\n",
    "        'SVM_color', get_cl_hex_color())\n",
    "\n",
    "    ## reduïm a només dues classes\n",
    "    ##\n",
    "    C = np.where(Z >= 0, cl_max, cl_min)\n",
    "\n",
    "    ## cream mapa i llegenda\n",
    "    ##\n",
    "    plt.imshow(\n",
    "        C.reshape(XX.shape).T, \n",
    "        origin = 'lower', \n",
    "        extent = (x_left, x_right, y_bottom, y_top), \n",
    "        cmap = paleta)\n",
    "    plt.colorbar()\n",
    "    \n",
    "    ## dibuixam els punts per cada classe\n",
    "    ##\n",
    "    for k in cl_properties:\n",
    "        plt.plot(X[cl_index.get(k), 0], X[cl_index.get(k), 1], \n",
    "                 cl_properties.get(k).get('contrast_fmt'))\n",
    "\n",
    "    ## format\n",
    "    ##\n",
    "    plt.title(\"Mapa de l'avaluació de la funció de classificació\")\n",
    "    \n",
    "    plt.xlabel('x1')\n",
    "    plt.ylabel('x2')\n",
    "    \n",
    "    plt.axis('equal')\n",
    "    \n",
    "    ## mostram\n",
    "    ##\n",
    "    plt.show(block=False) # to force visualization\n",
    "\n",
    "    if plot_3d:\n",
    "        ## també dibuixarem el plànol en 3D\n",
    "        ##\n",
    "        plt.figure(2, figsize=(8,8))\n",
    "        ax = plt.axes(projection='3d')\n",
    "\n",
    "        ax.plot_surface(XX, YY, Z.reshape(XX.shape), \n",
    "                        rstride = 1, cstride = 1, \n",
    "                        vmin = cl_min, vmax = cl_max,\n",
    "                        cmap = paleta, \n",
    "                        edgecolor = 'none')\n",
    "\n",
    "        ## ajustam l'àngle per veure'l millor\n",
    "        ##\n",
    "        ax.view_init(30, -60)\n",
    "\n",
    "        ## etiquetam el que manca i llest\n",
    "        ##\n",
    "        plt.title('Superfície classificadora')\n",
    "\n",
    "        plt.xlabel('x1')\n",
    "        plt.ylabel('x2')\n",
    "\n",
    "        plt.show(block = False)\n",
    "    \n",
    "    return"
   ]
  },
  {
   "cell_type": "markdown",
   "id": "e9c8255c-a54f-414c-a979-768e3d0f8da1",
   "metadata": {},
   "source": [
    "#### Resultat punt (3.c.1)"
   ]
  },
  {
   "cell_type": "markdown",
   "id": "fc804e86-e3a3-4e50-a698-d0d85b6d7e47",
   "metadata": {},
   "source": [
    "La representació a l'**espai original** de les *mostres d'entrenament*, els *vectors de suport*\n",
    "i les *corbes de decisió*, són:"
   ]
  },
  {
   "cell_type": "code",
   "execution_count": 42,
   "id": "df8ef02e-24aa-4833-9bbc-a3babd438131",
   "metadata": {},
   "outputs": [
    {
     "data": {
      "image/png": "[encoded data removed]",
      "text/plain": [
       "<Figure size 576x576 with 1 Axes>"
      ]
     },
     "metadata": {
      "needs_background": "light"
     },
     "output_type": "display_data"
    }
   ],
   "source": [
    "sv=get_sv()\n",
    "\n",
    "plot_scatter_contour(X_train, y_train, sv, rbf_func, extra_border=1.)"
   ]
  },
  {
   "cell_type": "markdown",
   "id": "463b4e28-878f-4dee-bc7f-e876868de4f8",
   "metadata": {},
   "source": [
    "#### Resultat punt (3.c.2)"
   ]
  },
  {
   "cell_type": "markdown",
   "id": "227f2fd7-1114-43df-9b2d-bc12720ae105",
   "metadata": {},
   "source": [
    "La representació a l'espai original del *mapa de classificació*, és:"
   ]
  },
  {
   "cell_type": "code",
   "execution_count": 43,
   "id": "1d30085a-68b7-429d-b9a4-a5da41576575",
   "metadata": {
    "tags": []
   },
   "outputs": [
    {
     "data": {
      "image/png": "[encoded data removed]",
      "text/plain": [
       "<Figure size 576x576 with 2 Axes>"
      ]
     },
     "metadata": {
      "needs_background": "light"
     },
     "output_type": "display_data"
    },
    {
     "data": {
      "image/png": "[encoded data removed]",
      "text/plain": [
       "<Figure size 576x576 with 1 Axes>"
      ]
     },
     "metadata": {
      "needs_background": "light"
     },
     "output_type": "display_data"
    }
   ],
   "source": [
    "plot_map_plane(X_train, y_train, sv, rbf_func, extra_border=1.)"
   ]
  },
  {
   "cell_type": "markdown",
   "id": "c80becb8-ab45-4d75-811c-c0c0fc42b8d2",
   "metadata": {},
   "source": [
    "### Apartat (3.d)"
   ]
  },
  {
   "cell_type": "markdown",
   "id": "584e1834-1c83-4346-9c83-baa89f4a605d",
   "metadata": {},
   "source": [
    "d) Report on the classifier performance using the *test dataset*:\n",
    "1. measure the *test accuracy*, *test precision*, *test recall* and *test f1-score*; and\n",
    "2. in a single figure, plot the *test samples* over the already calculated *classification map* (use different markers and/or colours for each class)."
   ]
  },
  {
   "cell_type": "markdown",
   "id": "14bf5765-e502-4d1a-ab25-e2be7cb769ce",
   "metadata": {},
   "source": [
    "### Resposta apartat (3.d)"
   ]
  },
  {
   "cell_type": "markdown",
   "id": "251fe171-99e6-4e59-b059-80ccb75fc628",
   "metadata": {},
   "source": [
    "Ara que ja sabem quin és el millor binomi escalador/classificador, \n",
    "provarem a classificar el conjunt de prova:"
   ]
  },
  {
   "cell_type": "code",
   "execution_count": 44,
   "id": "2ca2fb14-119d-43a5-9434-8e3c780377ed",
   "metadata": {},
   "outputs": [],
   "source": [
    "y_pred = best_clf.predict(X_test)"
   ]
  },
  {
   "cell_type": "markdown",
   "id": "31add6ec-c32f-413b-b431-f13a3f9e91ee",
   "metadata": {},
   "source": [
    "Vegem un resum de les mètriques de la classificació del conjunt de prova:"
   ]
  },
  {
   "cell_type": "code",
   "execution_count": 45,
   "id": "89cfeeda-31ee-4981-a482-47202de41f51",
   "metadata": {},
   "outputs": [
    {
     "name": "stdout",
     "output_type": "stream",
     "text": [
      "              precision    recall  f1-score   support\n",
      "\n",
      "   Classe -1       0.94      0.85      0.89        34\n",
      "    Classe 1       0.83      0.92      0.87        26\n",
      "\n",
      "    accuracy                           0.88        60\n",
      "   macro avg       0.88      0.89      0.88        60\n",
      "weighted avg       0.89      0.88      0.88        60\n",
      "\n"
     ]
    }
   ],
   "source": [
    "print(classification_report(y_true=y_test, \n",
    "                            y_pred=y_pred, \n",
    "                            target_names=get_cl_target_name()))"
   ]
  },
  {
   "cell_type": "markdown",
   "id": "938e78d7-69d8-416f-aad2-4128102c0dae",
   "metadata": {},
   "source": [
    "Pel que sembla la *accuracy* ha baixat."
   ]
  },
  {
   "cell_type": "markdown",
   "id": "ebd226f0-7d0b-4917-87be-04ea97ee7dab",
   "metadata": {},
   "source": [
    "Vegem que diu la matriu de confusió: "
   ]
  },
  {
   "cell_type": "code",
   "execution_count": 46,
   "id": "b70a8a26-90e3-48f1-9547-e4e70fcae268",
   "metadata": {},
   "outputs": [
    {
     "data": {
      "text/plain": [
       "array([[29,  5],\n",
       "       [ 2, 24]])"
      ]
     },
     "execution_count": 46,
     "metadata": {},
     "output_type": "execute_result"
    }
   ],
   "source": [
    "from sklearn.metrics import confusion_matrix\n",
    "\n",
    "cm = confusion_matrix(y_test, y_pred, )\n",
    "cm"
   ]
  },
  {
   "cell_type": "markdown",
   "id": "630935dd-766d-4748-a668-4834348a3b5c",
   "metadata": {},
   "source": [
    "| | predites com a pertanyents a classe $y=-1$ | predites com a pertanyents a classe $y=+1$ |\n",
    "| --- | :---: | :---: |\n",
    "| mostres que realment pertanyen a la classe $y=-1$ | 29 |  5 |\n",
    "| mostres que realment pertanyen a la classe $y=+1$ |  2 | 24 |"
   ]
  },
  {
   "cell_type": "markdown",
   "id": "ac79c0b0-9450-4ebc-b669-d8dd55615903",
   "metadata": {},
   "source": [
    "Que, en efecte, ens torna a acreditar que la *accuracy* al conjunt de prova ha baixat:\n",
    "\n",
    "$$\\text{accuracy} = \\frac{\\text{mostres predites correctament}}{\\text{total de mostres}} = \\frac{29+24}{29+5+2+24} = 0.883$$"
   ]
  },
  {
   "cell_type": "markdown",
   "id": "697a13cc-932a-44e5-924e-ae6bf64cc581",
   "metadata": {},
   "source": [
    "Hem obtingut una *accuracy* al conjunt de prova del 0.883, \n",
    "en front als 0.929 obtinguts al llarg de l'entrenament.\n",
    "\n",
    "Per tant sembla que el classificador \n",
    "pateix d'una **manca de capacitat de generalització**. "
   ]
  },
  {
   "cell_type": "markdown",
   "id": "a7c3273e-467a-4edf-b3aa-89174a8fec2d",
   "metadata": {},
   "source": [
    "#### Resposta punt (3.d.1)"
   ]
  },
  {
   "cell_type": "markdown",
   "id": "fe763371-74d8-414e-bf5f-ead75a99562d",
   "metadata": {},
   "source": [
    "Les mesures que ens demanen són aquestes:"
   ]
  },
  {
   "cell_type": "code",
   "execution_count": 47,
   "id": "0a406d24-7d7c-427c-839a-2062c6281627",
   "metadata": {},
   "outputs": [
    {
     "name": "stdout",
     "output_type": "stream",
     "text": [
      "Test accuracy : 0.883\n",
      "Test precision: 0.828\n",
      "Test recall   : 0.923\n",
      "Test f1       : 0.873\n"
     ]
    }
   ],
   "source": [
    "test_accuracy = accuracy_score(y_test, y_pred)\n",
    "test_precision = precision_score(y_test, y_pred)\n",
    "test_recall = recall_score(y_test, y_pred)\n",
    "test_f1 = f1_score(y_test, y_pred)\n",
    "\n",
    "print(f\"Test accuracy : {test_accuracy:.3f}\")\n",
    "print(f\"Test precision: {test_precision:.3f}\")\n",
    "print(f\"Test recall   : {test_recall:.3f}\")\n",
    "print(f\"Test f1       : {test_f1:.3f}\")"
   ]
  },
  {
   "cell_type": "markdown",
   "id": "076c50e3-bae0-4d93-a1fc-ae7c9a1b7f63",
   "metadata": {},
   "source": [
    "#### Resposta punt (3.d.2)"
   ]
  },
  {
   "cell_type": "markdown",
   "id": "d59e70cb-2ea2-4ec6-a18b-e111337e3f98",
   "metadata": {},
   "source": [
    "Aquest és el diagrama que representa la distribució de les mostres\n",
    "del conjunt de prova dins el mapa de classificació:"
   ]
  },
  {
   "cell_type": "code",
   "execution_count": 48,
   "id": "241dc121-e4eb-4898-bd5c-1de0bf07ef92",
   "metadata": {},
   "outputs": [
    {
     "data": {
      "image/png": "[encoded data removed]",
      "text/plain": [
       "<Figure size 576x576 with 2 Axes>"
      ]
     },
     "metadata": {
      "needs_background": "light"
     },
     "output_type": "display_data"
    }
   ],
   "source": [
    "plot_map_plane(X_test, y_test, [], rbf_func, extra_border=1., plot_3d=False)"
   ]
  },
  {
   "cell_type": "markdown",
   "id": "f3ec1edf-d98e-4564-942c-b12797e249d5",
   "metadata": {},
   "source": [
    "### Apartat (3.e)"
   ]
  },
  {
   "cell_type": "markdown",
   "id": "a7b5a8ff-eae9-4715-9040-e3bbab157749",
   "metadata": {},
   "source": [
    "e) Obtain an improved estimation of the *accuracy*, *precision* and *recall* measures by means of *5-fold cross-validation*. To this end, put together the *training* and *test* datasets, so that the corresponding function can\n",
    "build the *folds* from all available data."
   ]
  },
  {
   "cell_type": "code",
   "execution_count": 49,
   "id": "3e350151-ad45-41bc-9f05-999110457bf5",
   "metadata": {},
   "outputs": [
    {
     "data": {
      "text/plain": [
       "(300, 2)"
      ]
     },
     "execution_count": 49,
     "metadata": {},
     "output_type": "execute_result"
    }
   ],
   "source": [
    "X = np.concatenate((X_train, X_test), axis=0)\n",
    "X.shape"
   ]
  },
  {
   "cell_type": "code",
   "execution_count": 50,
   "id": "84bf1410-c034-4cdd-b8f6-b4cea68bda08",
   "metadata": {},
   "outputs": [
    {
     "data": {
      "text/plain": [
       "(300,)"
      ]
     },
     "execution_count": 50,
     "metadata": {},
     "output_type": "execute_result"
    }
   ],
   "source": [
    "y = np.concatenate((y_train, y_test), axis=0)\n",
    "y.shape"
   ]
  },
  {
   "cell_type": "code",
   "execution_count": 51,
   "id": "12b932e2-c669-42eb-84d7-55b4e37f55f9",
   "metadata": {
    "tags": []
   },
   "outputs": [
    {
     "data": {
      "text/plain": [
       "{'C': 10000, 'gamma': 4, 'kernel': 'rbf'}"
      ]
     },
     "execution_count": 51,
     "metadata": {},
     "output_type": "execute_result"
    }
   ],
   "source": [
    "clf_best_params"
   ]
  },
  {
   "cell_type": "code",
   "execution_count": 52,
   "id": "08e00fdd-d66d-45cb-a32a-1bcf5baaf4b8",
   "metadata": {},
   "outputs": [
    {
     "data": {
      "text/plain": [
       "SVC(C=10000, gamma=4)"
      ]
     },
     "execution_count": 52,
     "metadata": {},
     "output_type": "execute_result"
    }
   ],
   "source": [
    "clf = SVC()\n",
    "clf.set_params(**clf_best_params)"
   ]
  },
  {
   "cell_type": "code",
   "execution_count": 53,
   "id": "b2c47201-8ebd-4157-870f-8bc6f8cbf85c",
   "metadata": {},
   "outputs": [
    {
     "data": {
      "text/plain": [
       "Pipeline(steps=[('minmaxscaler', MinMaxScaler()),\n",
       "                ('svc', SVC(C=10000, gamma=4))])"
      ]
     },
     "metadata": {},
     "output_type": "display_data"
    }
   ],
   "source": [
    "clfp = make_pipeline(MinMaxScaler(), clf)\n",
    "display(clfp)"
   ]
  },
  {
   "cell_type": "code",
   "execution_count": 54,
   "id": "46d20dfa-012c-4cba-9d93-d0de8d186af1",
   "metadata": {},
   "outputs": [],
   "source": [
    "scoring = ['accuracy']\n",
    "scores = cross_validate(clfp, X, y, cv=5, scoring=scoring)"
   ]
  },
  {
   "cell_type": "code",
   "execution_count": 55,
   "id": "fbb0a377-f0db-4d61-9692-7d879870d7c6",
   "metadata": {},
   "outputs": [
    {
     "name": "stdout",
     "output_type": "stream",
     "text": [
      "accuracy:  [0.88333333 0.96666667 0.91666667 0.93333333 0.88333333]\n",
      "avg acc.: 0.917\n"
     ]
    }
   ],
   "source": [
    "print('accuracy: ', scores['test_accuracy'])\n",
    "print(f\"avg acc.: {np.mean(scores['test_accuracy']):.3f}\")"
   ]
  },
  {
   "cell_type": "markdown",
   "id": "3859b29a-4ff3-4921-9a2b-f9b6cdffb496",
   "metadata": {},
   "source": [
    "La *accuracy* obtinguda amb el conjunt ampliat de mostres\n",
    "és semblant, encara que un punt inferior a la del conjunt inicial, \n",
    "un 91,7% en front al 92,9% de l'entrenament original."
   ]
  },
  {
   "cell_type": "markdown",
   "id": "b059df50-6aa0-4b35-910f-e1b21526659b",
   "metadata": {},
   "source": [
    "---"
   ]
  },
  {
   "cell_type": "markdown",
   "id": "cbc02745-2be3-41e8-81ac-c268fa252fe4",
   "metadata": {
    "tags": []
   },
   "source": [
    "## Problem 4"
   ]
  },
  {
   "cell_type": "markdown",
   "id": "591c209e-74cf-4936-a997-b98c5b0aaea5",
   "metadata": {},
   "source": [
    "**Given datasets** `dsxx34tr.txt` **and** `dsxx34te.txt`, \n",
    "find a suitable k-NN classifier \n",
    "(`KNeighborsClassifier` object of `scikit-learn`).\n",
    "You have to define the classifier design strategy, \n",
    "including data normalization, e.g. *min-max* scaling,\n",
    "and setting up the classifier hyper-parameters, \n",
    "e.g. by means of *grid-search*, \n",
    "as well as estimate the classifier \n",
    "performance by means of *n-fold cross validation*."
   ]
  },
  {
   "cell_type": "markdown",
   "id": "294c4672-0055-4390-a624-e85288dd27b5",
   "metadata": {},
   "source": [
    "### Apartat (4.a)"
   ]
  },
  {
   "cell_type": "markdown",
   "id": "3e3819eb-1605-4bf9-94e4-439954e2331b",
   "metadata": {},
   "source": [
    "a) Define the design strategy: input data normalization, \n",
    "combinations of hyper-parameters considered \n",
    "(number of neighbours and distance function), \n",
    "number of folds for the cross-validation process."
   ]
  },
  {
   "cell_type": "markdown",
   "id": "10bb2a3e-8488-4ba8-8015-61a477f2c1e4",
   "metadata": {},
   "source": [
    "### Resposta apartat (4.a)"
   ]
  },
  {
   "cell_type": "markdown",
   "id": "673db476-46bf-43c4-a707-ce7e6eafaf75",
   "metadata": {},
   "source": [
    "Definirem la llista de paràmetres a provar."
   ]
  },
  {
   "cell_type": "code",
   "execution_count": 56,
   "id": "05815d16-f0bc-4817-913e-2ea120e98642",
   "metadata": {},
   "outputs": [],
   "source": [
    "knn_params_clf = []"
   ]
  },
  {
   "cell_type": "code",
   "execution_count": 57,
   "id": "b2f2ad04-e2b3-45b9-82c1-8a4ee4d1d7df",
   "metadata": {},
   "outputs": [],
   "source": [
    "# provarem diverses combinacions\n",
    "\n",
    "knn_params_clf.append(\n",
    "    {\n",
    "        'clf__n_neighbors': [1, 3, 5, 7],\n",
    "        'clf__weights': ['uniform', 'distance'],\n",
    "        'clf__p': [1, 2, 3], \n",
    "        'clf__metric': ['minkowski']\n",
    "    }\n",
    ")"
   ]
  },
  {
   "cell_type": "code",
   "execution_count": 58,
   "id": "cdf7378d-a06b-45db-af10-75253be04862",
   "metadata": {},
   "outputs": [],
   "source": [
    "# Chbyshev: max|x - z|\n",
    "\n",
    "knn_params_clf.append(\n",
    "    {\n",
    "        'clf__n_neighbors': [1, 3, 5, 7],\n",
    "        'clf__weights': ['uniform', 'distance'],\n",
    "        'clf__metric': ['chebyshev']\n",
    "    }\n",
    ")"
   ]
  },
  {
   "cell_type": "markdown",
   "id": "fb4cb602-5196-4c1a-888b-d011a2d6f0e2",
   "metadata": {
    "tags": []
   },
   "source": [
    "Ara també cal fer dos itineraris, \n",
    "ignorant els objectes d'escalat de forma alternativa:"
   ]
  },
  {
   "cell_type": "code",
   "execution_count": 59,
   "id": "c0bc5667-560a-48f1-992f-b3bae6fe3392",
   "metadata": {},
   "outputs": [
    {
     "data": {
      "text/plain": [
       "[{'clf__n_neighbors': [1, 3, 5, 7],\n",
       "  'clf__weights': ['uniform', 'distance'],\n",
       "  'clf__p': [1, 2, 3],\n",
       "  'clf__metric': ['minkowski'],\n",
       "  'scaler_std': ['passthrough']},\n",
       " {'clf__n_neighbors': [1, 3, 5, 7],\n",
       "  'clf__weights': ['uniform', 'distance'],\n",
       "  'clf__p': [1, 2, 3],\n",
       "  'clf__metric': ['minkowski'],\n",
       "  'scaler_mm': ['passthrough']},\n",
       " {'clf__n_neighbors': [1, 3, 5, 7],\n",
       "  'clf__weights': ['uniform', 'distance'],\n",
       "  'clf__metric': ['chebyshev'],\n",
       "  'scaler_std': ['passthrough']},\n",
       " {'clf__n_neighbors': [1, 3, 5, 7],\n",
       "  'clf__weights': ['uniform', 'distance'],\n",
       "  'clf__metric': ['chebyshev'],\n",
       "  'scaler_mm': ['passthrough']}]"
      ]
     },
     "execution_count": 59,
     "metadata": {},
     "output_type": "execute_result"
    }
   ],
   "source": [
    "knn_params_to_try = add_scaler_passthrough(knn_params_clf)\n",
    "knn_params_to_try"
   ]
  },
  {
   "cell_type": "code",
   "execution_count": 60,
   "id": "df9ba84c-3753-4e8d-9e7b-1a4102ed10ae",
   "metadata": {},
   "outputs": [],
   "source": [
    "# Validation using k-fold validation\n",
    "\n",
    "# normalment faríem servir k = 5, però com que tenim pocs punts (240), només farem tres grups\n",
    "\n",
    "knn_n_folds = 3"
   ]
  },
  {
   "cell_type": "markdown",
   "id": "8f263941-9354-47fa-a943-7ccce030bbe6",
   "metadata": {},
   "source": [
    "Importam les classes i funcions necessàries:"
   ]
  },
  {
   "cell_type": "code",
   "execution_count": 61,
   "id": "fe9d73e9-0592-4abb-8c2b-674d92901b15",
   "metadata": {},
   "outputs": [],
   "source": [
    "from sklearn.neighbors import KNeighborsClassifier"
   ]
  },
  {
   "cell_type": "code",
   "execution_count": 62,
   "id": "29b5ae33-61ae-4ed6-b74c-3bb62d4f0b8c",
   "metadata": {},
   "outputs": [],
   "source": [
    "# ... employing the accuracy as performance metric ...\n",
    "\n",
    "knn_score = 'accuracy'"
   ]
  },
  {
   "cell_type": "markdown",
   "id": "0068cee2-375b-4336-9aec-e66864681a3c",
   "metadata": {},
   "source": [
    "Començam la **construcció del *pipeline***, \n",
    "que ens determinarà quin és el millor \n",
    "conjunt de paràmetres del classificador *KNN*, \n",
    "de entre tots els que provarem \n",
    "a banda de determinar quin dels dos mètodes d'escalat és el millor \n",
    "pel nostre cas."
   ]
  },
  {
   "cell_type": "code",
   "execution_count": 63,
   "id": "b28c415b-cc82-4798-a28f-b87b1265b906",
   "metadata": {},
   "outputs": [],
   "source": [
    "# Primera passa: escalat del valors de les característiques de les mostres\n",
    "\n",
    "# Provarem dos mètodes d'escalat per a cada conjunt de paràmetres\n",
    "\n",
    "knn_scaler_mm = MinMaxScaler()\n",
    "\n",
    "knn_scaler_mm_step = ('scaler_mm', knn_scaler_mm)\n",
    "\n",
    "knn_scaler_std = StandardScaler()\n",
    "\n",
    "knn_scaler_std_step = ('scaler_std', knn_scaler_std)"
   ]
  },
  {
   "cell_type": "code",
   "execution_count": 64,
   "id": "649d563e-fbc0-435f-96dd-0c6ea4ffc5c6",
   "metadata": {},
   "outputs": [],
   "source": [
    "# Segona passa: classificar les mostres\n",
    "\n",
    "# En aquest exercici, pel classificador que ens demanen, \n",
    "# s'ha de fer servir la classe KNeighborsClassifier com a model\n",
    "\n",
    "knn_gs_clf_step = ('clf', KNeighborsClassifier())"
   ]
  },
  {
   "cell_type": "code",
   "execution_count": 65,
   "id": "1645c380-e1cc-4929-a0aa-73d12480989c",
   "metadata": {},
   "outputs": [],
   "source": [
    "# Construïm la tuberia\n",
    "\n",
    "knn_pipe_steps = [knn_scaler_std_step, knn_scaler_mm_step, knn_gs_clf_step]\n",
    "\n",
    "knn_gs_clf_p = Pipeline(knn_pipe_steps)"
   ]
  },
  {
   "cell_type": "code",
   "execution_count": 66,
   "id": "86692f76-0c88-435d-86b1-9d768020339f",
   "metadata": {},
   "outputs": [
    {
     "data": {
      "text/html": [
       "<style>div.sk-top-container {color: black;background-color: white;}div.sk-toggleable {background-color: white;}label.sk-toggleable__label {cursor: pointer;display: block;width: 100%;margin-bottom: 0;padding: 0.2em 0.3em;box-sizing: border-box;text-align: center;}div.sk-toggleable__content {max-height: 0;max-width: 0;overflow: hidden;text-align: left;background-color: #f0f8ff;}div.sk-toggleable__content pre {margin: 0.2em;color: black;border-radius: 0.25em;background-color: #f0f8ff;}input.sk-toggleable__control:checked~div.sk-toggleable__content {max-height: 200px;max-width: 100%;overflow: auto;}div.sk-estimator input.sk-toggleable__control:checked~label.sk-toggleable__label {background-color: #d4ebff;}div.sk-label input.sk-toggleable__control:checked~label.sk-toggleable__label {background-color: #d4ebff;}input.sk-hidden--visually {border: 0;clip: rect(1px 1px 1px 1px);clip: rect(1px, 1px, 1px, 1px);height: 1px;margin: -1px;overflow: hidden;padding: 0;position: absolute;width: 1px;}div.sk-estimator {font-family: monospace;background-color: #f0f8ff;margin: 0.25em 0.25em;border: 1px dotted black;border-radius: 0.25em;box-sizing: border-box;}div.sk-estimator:hover {background-color: #d4ebff;}div.sk-parallel-item::after {content: \"\";width: 100%;border-bottom: 1px solid gray;flex-grow: 1;}div.sk-label:hover label.sk-toggleable__label {background-color: #d4ebff;}div.sk-serial::before {content: \"\";position: absolute;border-left: 1px solid gray;box-sizing: border-box;top: 2em;bottom: 0;left: 50%;}div.sk-serial {display: flex;flex-direction: column;align-items: center;background-color: white;}div.sk-item {z-index: 1;}div.sk-parallel {display: flex;align-items: stretch;justify-content: center;background-color: white;}div.sk-parallel-item {display: flex;flex-direction: column;position: relative;background-color: white;}div.sk-parallel-item:first-child::after {align-self: flex-end;width: 50%;}div.sk-parallel-item:last-child::after {align-self: flex-start;width: 50%;}div.sk-parallel-item:only-child::after {width: 0;}div.sk-dashed-wrapped {border: 1px dashed gray;margin: 0.2em;box-sizing: border-box;padding-bottom: 0.1em;background-color: white;position: relative;}div.sk-label label {font-family: monospace;font-weight: bold;background-color: white;display: inline-block;line-height: 1.2em;}div.sk-label-container {position: relative;z-index: 2;text-align: center;}div.sk-container {display: inline-block;position: relative;}</style><div class=\"sk-top-container\"><div class=\"sk-container\"><div class=\"sk-item sk-dashed-wrapped\"><div class=\"sk-label-container\"><div class=\"sk-label sk-toggleable\"><input class=\"sk-toggleable__control sk-hidden--visually\" id=\"abf98a86-99da-41ce-a9d0-a7894a69bf48\" type=\"checkbox\" ><label class=\"sk-toggleable__label\" for=\"abf98a86-99da-41ce-a9d0-a7894a69bf48\">Pipeline</label><div class=\"sk-toggleable__content\"><pre>Pipeline(steps=[('scaler_std', StandardScaler()), ('scaler_mm', MinMaxScaler()),\n",
       "                ('clf', KNeighborsClassifier())])</pre></div></div></div><div class=\"sk-serial\"><div class=\"sk-item\"><div class=\"sk-estimator sk-toggleable\"><input class=\"sk-toggleable__control sk-hidden--visually\" id=\"35951e04-fe83-4ae1-af1e-4420c339629d\" type=\"checkbox\" ><label class=\"sk-toggleable__label\" for=\"35951e04-fe83-4ae1-af1e-4420c339629d\">StandardScaler</label><div class=\"sk-toggleable__content\"><pre>StandardScaler()</pre></div></div></div><div class=\"sk-item\"><div class=\"sk-estimator sk-toggleable\"><input class=\"sk-toggleable__control sk-hidden--visually\" id=\"521a03e9-0627-426f-aaeb-300ba53ab0a2\" type=\"checkbox\" ><label class=\"sk-toggleable__label\" for=\"521a03e9-0627-426f-aaeb-300ba53ab0a2\">MinMaxScaler</label><div class=\"sk-toggleable__content\"><pre>MinMaxScaler()</pre></div></div></div><div class=\"sk-item\"><div class=\"sk-estimator sk-toggleable\"><input class=\"sk-toggleable__control sk-hidden--visually\" id=\"cb3cf492-c03d-45be-b8c7-0621ad54d258\" type=\"checkbox\" ><label class=\"sk-toggleable__label\" for=\"cb3cf492-c03d-45be-b8c7-0621ad54d258\">KNeighborsClassifier</label><div class=\"sk-toggleable__content\"><pre>KNeighborsClassifier()</pre></div></div></div></div></div></div></div>"
      ],
      "text/plain": [
       "Pipeline(steps=[('scaler_std', StandardScaler()), ('scaler_mm', MinMaxScaler()),\n",
       "                ('clf', KNeighborsClassifier())])"
      ]
     },
     "metadata": {},
     "output_type": "display_data"
    }
   ],
   "source": [
    "set_config(display='diagram')\n",
    "display(knn_gs_clf_p)\n",
    "set_config(display='text')"
   ]
  },
  {
   "cell_type": "markdown",
   "id": "be250bd3-3caf-4600-81ea-e708a5dac3ca",
   "metadata": {},
   "source": [
    "### Apartat (4.b)"
   ]
  },
  {
   "cell_type": "markdown",
   "id": "b2419b79-8ace-45f7-8179-80a46cedbf2c",
   "metadata": {},
   "source": [
    "b) Using the *training dataset*, find the best performing classifier according to the design strategy and employing the accuracy as performance metric for the cross-validation process."
   ]
  },
  {
   "cell_type": "markdown",
   "id": "717cbf0c-f0a1-49b5-83b3-ca3b52d95023",
   "metadata": {
    "tags": []
   },
   "source": [
    "### Resposta apartat(4.b)"
   ]
  },
  {
   "cell_type": "markdown",
   "id": "0b591535-ed74-45a6-9b08-9e5afcbb1541",
   "metadata": {},
   "source": [
    "Un cop construït el *pipeline*, ja el podem fer servir per fer la cerca dels (hiper)paràmetres"
   ]
  },
  {
   "cell_type": "code",
   "execution_count": 67,
   "id": "cde3da81-d53b-4620-b185-ffe06906c015",
   "metadata": {},
   "outputs": [],
   "source": [
    "# Segona passa: fer la cerca exhaustiva dels millors (hiper)paràmetres\n",
    "\n",
    "# Construirem els subconjunts de validació de forma equilibrada \n",
    "# (és a dir amb un percentatge de mostres de cada classe similar)\n",
    "\n",
    "knn_stra_kfold = StratifiedKFold(n_splits=n_folds, shuffle=True, \n",
    "                                 random_state=11615)\n",
    "\n",
    "n_jobs = -1  # Utilitzam tots els fils d'execució\n",
    "verbose_level = 1  # Ens ajudarà a passar una estona més entretinguda ...\n",
    "\n",
    "knn_gs_cv = GridSearchCV(estimator=knn_gs_clf_p,\n",
    "                        cv=knn_stra_kfold,\n",
    "                        param_grid=knn_params_to_try,\n",
    "                        scoring=knn_score,\n",
    "                        n_jobs=n_jobs,\n",
    "                        verbose=verbose_level)"
   ]
  },
  {
   "cell_type": "code",
   "execution_count": 68,
   "id": "d0e7431c-d624-4058-8954-dd6e1e50d390",
   "metadata": {},
   "outputs": [
    {
     "name": "stdout",
     "output_type": "stream",
     "text": [
      "Fitting 3 folds for each of 64 candidates, totalling 192 fits\n"
     ]
    },
    {
     "data": {
      "text/plain": [
       "GridSearchCV(cv=StratifiedKFold(n_splits=3, random_state=11615, shuffle=True),\n",
       "             estimator=Pipeline(steps=[('scaler_std', StandardScaler()),\n",
       "                                       ('scaler_mm', MinMaxScaler()),\n",
       "                                       ('clf', KNeighborsClassifier())]),\n",
       "             n_jobs=-1,\n",
       "             param_grid=[{'clf__metric': ['minkowski'],\n",
       "                          'clf__n_neighbors': [1, 3, 5, 7], 'clf__p': [1, 2, 3],\n",
       "                          'clf__weights': ['uniform', 'distance'],\n",
       "                          'scaler_std': ['pass...\n",
       "                          'clf__n_neighbors': [1, 3, 5, 7], 'clf__p': [1, 2, 3],\n",
       "                          'clf__weights': ['uniform', 'distance'],\n",
       "                          'scaler_mm': ['passthrough']},\n",
       "                         {'clf__metric': ['chebyshev'],\n",
       "                          'clf__n_neighbors': [1, 3, 5, 7],\n",
       "                          'clf__weights': ['uniform', 'distance'],\n",
       "                          'scaler_std': ['passthrough']},\n",
       "                         {'clf__metric': ['chebyshev'],\n",
       "                          'clf__n_neighbors': [1, 3, 5, 7],\n",
       "                          'clf__weights': ['uniform', 'distance'],\n",
       "                          'scaler_mm': ['passthrough']}],\n",
       "             scoring='accuracy', verbose=1)"
      ]
     },
     "execution_count": 68,
     "metadata": {},
     "output_type": "execute_result"
    }
   ],
   "source": [
    "# Començam les proves ...\n",
    "\n",
    "knn_gs_cv.fit(X_train, y_train)"
   ]
  },
  {
   "cell_type": "code",
   "execution_count": 69,
   "id": "adc65faf-51f3-4b25-b27b-685a17374f7f",
   "metadata": {
    "tags": []
   },
   "outputs": [],
   "source": [
    "# Triam el millor segons la mètrica que li hem donat (accuracy)\n",
    "\n",
    "knn_best_clf = knn_gs_cv.best_estimator_"
   ]
  },
  {
   "cell_type": "markdown",
   "id": "7e4ec9f8-7c1d-4589-97d2-48679c67a8df",
   "metadata": {},
   "source": [
    "La **millor arquitectura** del *pipeline* és:"
   ]
  },
  {
   "cell_type": "code",
   "execution_count": 70,
   "id": "65980db0-3834-439e-99ed-30671a7147ff",
   "metadata": {},
   "outputs": [
    {
     "data": {
      "text/html": [
       "<style>div.sk-top-container {color: black;background-color: white;}div.sk-toggleable {background-color: white;}label.sk-toggleable__label {cursor: pointer;display: block;width: 100%;margin-bottom: 0;padding: 0.2em 0.3em;box-sizing: border-box;text-align: center;}div.sk-toggleable__content {max-height: 0;max-width: 0;overflow: hidden;text-align: left;background-color: #f0f8ff;}div.sk-toggleable__content pre {margin: 0.2em;color: black;border-radius: 0.25em;background-color: #f0f8ff;}input.sk-toggleable__control:checked~div.sk-toggleable__content {max-height: 200px;max-width: 100%;overflow: auto;}div.sk-estimator input.sk-toggleable__control:checked~label.sk-toggleable__label {background-color: #d4ebff;}div.sk-label input.sk-toggleable__control:checked~label.sk-toggleable__label {background-color: #d4ebff;}input.sk-hidden--visually {border: 0;clip: rect(1px 1px 1px 1px);clip: rect(1px, 1px, 1px, 1px);height: 1px;margin: -1px;overflow: hidden;padding: 0;position: absolute;width: 1px;}div.sk-estimator {font-family: monospace;background-color: #f0f8ff;margin: 0.25em 0.25em;border: 1px dotted black;border-radius: 0.25em;box-sizing: border-box;}div.sk-estimator:hover {background-color: #d4ebff;}div.sk-parallel-item::after {content: \"\";width: 100%;border-bottom: 1px solid gray;flex-grow: 1;}div.sk-label:hover label.sk-toggleable__label {background-color: #d4ebff;}div.sk-serial::before {content: \"\";position: absolute;border-left: 1px solid gray;box-sizing: border-box;top: 2em;bottom: 0;left: 50%;}div.sk-serial {display: flex;flex-direction: column;align-items: center;background-color: white;}div.sk-item {z-index: 1;}div.sk-parallel {display: flex;align-items: stretch;justify-content: center;background-color: white;}div.sk-parallel-item {display: flex;flex-direction: column;position: relative;background-color: white;}div.sk-parallel-item:first-child::after {align-self: flex-end;width: 50%;}div.sk-parallel-item:last-child::after {align-self: flex-start;width: 50%;}div.sk-parallel-item:only-child::after {width: 0;}div.sk-dashed-wrapped {border: 1px dashed gray;margin: 0.2em;box-sizing: border-box;padding-bottom: 0.1em;background-color: white;position: relative;}div.sk-label label {font-family: monospace;font-weight: bold;background-color: white;display: inline-block;line-height: 1.2em;}div.sk-label-container {position: relative;z-index: 2;text-align: center;}div.sk-container {display: inline-block;position: relative;}</style><div class=\"sk-top-container\"><div class=\"sk-container\"><div class=\"sk-item sk-dashed-wrapped\"><div class=\"sk-label-container\"><div class=\"sk-label sk-toggleable\"><input class=\"sk-toggleable__control sk-hidden--visually\" id=\"a37920fb-0c3c-4dfc-9c09-c4d477bc5c32\" type=\"checkbox\" ><label class=\"sk-toggleable__label\" for=\"a37920fb-0c3c-4dfc-9c09-c4d477bc5c32\">Pipeline</label><div class=\"sk-toggleable__content\"><pre>Pipeline(steps=[('scaler_std', 'passthrough'), ('scaler_mm', MinMaxScaler()),\n",
       "                ('clf', KNeighborsClassifier(p=3, weights='distance'))])</pre></div></div></div><div class=\"sk-serial\"><div class=\"sk-item\"><div class=\"sk-estimator sk-toggleable\"><input class=\"sk-toggleable__control sk-hidden--visually\" id=\"41c86a30-d475-4a10-b580-950029ecced2\" type=\"checkbox\" ><label class=\"sk-toggleable__label\" for=\"41c86a30-d475-4a10-b580-950029ecced2\">passthrough</label><div class=\"sk-toggleable__content\"><pre>passthrough</pre></div></div></div><div class=\"sk-item\"><div class=\"sk-estimator sk-toggleable\"><input class=\"sk-toggleable__control sk-hidden--visually\" id=\"80915c67-13a3-4855-9d3c-707edacf220f\" type=\"checkbox\" ><label class=\"sk-toggleable__label\" for=\"80915c67-13a3-4855-9d3c-707edacf220f\">MinMaxScaler</label><div class=\"sk-toggleable__content\"><pre>MinMaxScaler()</pre></div></div></div><div class=\"sk-item\"><div class=\"sk-estimator sk-toggleable\"><input class=\"sk-toggleable__control sk-hidden--visually\" id=\"577f1499-3657-4501-a4a9-7845bcb8df26\" type=\"checkbox\" ><label class=\"sk-toggleable__label\" for=\"577f1499-3657-4501-a4a9-7845bcb8df26\">KNeighborsClassifier</label><div class=\"sk-toggleable__content\"><pre>KNeighborsClassifier(p=3, weights='distance')</pre></div></div></div></div></div></div></div>"
      ],
      "text/plain": [
       "Pipeline(steps=[('scaler_std', 'passthrough'), ('scaler_mm', MinMaxScaler()),\n",
       "                ('clf', KNeighborsClassifier(p=3, weights='distance'))])"
      ]
     },
     "metadata": {},
     "output_type": "display_data"
    }
   ],
   "source": [
    "set_config(display='diagram')\n",
    "display(knn_best_clf)\n",
    "set_config(display='text')"
   ]
  },
  {
   "cell_type": "code",
   "execution_count": 71,
   "id": "aad3c75c-d1a8-4ca3-909d-3f55e86ab112",
   "metadata": {},
   "outputs": [],
   "source": [
    "def get_knn_best_params():\n",
    "    \n",
    "    return knn_gs_cv.best_params_"
   ]
  },
  {
   "cell_type": "markdown",
   "id": "57ddf4b7-389d-41ba-af88-6d3df9d8234b",
   "metadata": {},
   "source": [
    "Aquests són els **millors paràmetres del *pipeline***"
   ]
  },
  {
   "cell_type": "code",
   "execution_count": 72,
   "id": "3a6c6ff4-8e1f-4c23-bd69-32b9d1449970",
   "metadata": {},
   "outputs": [
    {
     "data": {
      "text/plain": [
       "{'clf__metric': 'minkowski',\n",
       " 'clf__n_neighbors': 5,\n",
       " 'clf__p': 3,\n",
       " 'clf__weights': 'distance',\n",
       " 'scaler_std': 'passthrough'}"
      ]
     },
     "execution_count": 72,
     "metadata": {},
     "output_type": "execute_result"
    }
   ],
   "source": [
    "get_knn_best_params()"
   ]
  },
  {
   "cell_type": "markdown",
   "id": "cc02c1c3-20ca-4459-956a-a16aa2739cc3",
   "metadata": {},
   "source": [
    "Observam que és millor \n",
    "**escalar les mostres amb *MinMaxScaler()***"
   ]
  },
  {
   "cell_type": "code",
   "execution_count": 73,
   "id": "d0d4eafa-9046-4a75-bb23-0888ea7b610f",
   "metadata": {},
   "outputs": [],
   "source": [
    "# Vegem quina és la mètrica 'accuracy' del millor classificador\n",
    "\n",
    "knn_best_accuracy = knn_gs_cv.best_score_"
   ]
  },
  {
   "cell_type": "markdown",
   "id": "097f1ea0-2db9-447a-87c6-b4a4a6b2cd81",
   "metadata": {},
   "source": [
    "Hem aconseguit un **promig de *accuracy* durant l'entrenament** \n",
    "amb *cross-validation* de:"
   ]
  },
  {
   "cell_type": "code",
   "execution_count": 74,
   "id": "8d770fdc-8c89-4d0f-aedd-bd5b3504e19e",
   "metadata": {},
   "outputs": [
    {
     "data": {
      "text/plain": [
       "'0.933'"
      ]
     },
     "execution_count": 74,
     "metadata": {},
     "output_type": "execute_result"
    }
   ],
   "source": [
    "f\"{knn_best_accuracy:.3f}\""
   ]
  },
  {
   "cell_type": "code",
   "execution_count": 75,
   "id": "7dfddd62-5517-4f4d-8d5f-7ce0c5468b31",
   "metadata": {},
   "outputs": [],
   "source": [
    "# I aquests són els que només afecten al classificador\n",
    "\n",
    "knn_best_params = get_knn_best_params()\n",
    "\n",
    "knn_clf_best_params = get_best_step_params(knn_best_params, 'clf__')"
   ]
  },
  {
   "cell_type": "markdown",
   "id": "9d72c1bb-f36f-4870-8e47-0b0ada3b4f0d",
   "metadata": {},
   "source": [
    "Per tant, el **millor classificador** \n",
    "que hem trobat és el que podem construir \n",
    "amb aquests paràmetres ..."
   ]
  },
  {
   "cell_type": "code",
   "execution_count": 76,
   "id": "cf31c657-327e-4ca3-9ae6-ecf40384e8e1",
   "metadata": {},
   "outputs": [
    {
     "data": {
      "text/plain": [
       "{'metric': 'minkowski', 'n_neighbors': 5, 'p': 3, 'weights': 'distance'}"
      ]
     },
     "execution_count": 76,
     "metadata": {},
     "output_type": "execute_result"
    }
   ],
   "source": [
    "knn_clf_best_params"
   ]
  },
  {
   "cell_type": "markdown",
   "id": "eed51e0e-e810-4b32-a96f-cb75654a8043",
   "metadata": {},
   "source": [
    "... escalant prèviament les mostres amb MinMaxScaler()"
   ]
  },
  {
   "cell_type": "markdown",
   "id": "fc5b67ca-f1c0-4bd7-b66d-fe96f562055d",
   "metadata": {},
   "source": [
    "### Apartat (4.c)"
   ]
  },
  {
   "cell_type": "markdown",
   "id": "2b19c2b9-45a8-45f1-babb-755adc4be514",
   "metadata": {},
   "source": [
    "c) Plot the training samples on top of the *classification map*, i.e. evaluate the decision function for a 'regular' subset (grid) of points of the feature space. \n",
    "Use different markers and/or colours for each class."
   ]
  },
  {
   "cell_type": "markdown",
   "id": "02f4b434-581a-490c-8090-af5dd4e6066c",
   "metadata": {},
   "source": [
    "### Resposta apartat (4.c)"
   ]
  },
  {
   "cell_type": "markdown",
   "id": "29bbde89-f358-48fb-9157-74400077b135",
   "metadata": {},
   "source": [
    "La representació del mapa de classificació, \n",
    "juntament amb el conjunt de mostres és:"
   ]
  },
  {
   "cell_type": "code",
   "execution_count": 77,
   "id": "1f447689-4935-4006-a699-3a5319916b0e",
   "metadata": {},
   "outputs": [],
   "source": [
    "def knn_func(x): \n",
    "    \n",
    "    return knn_best_clf.predict([x]).item()"
   ]
  },
  {
   "cell_type": "code",
   "execution_count": 78,
   "id": "3a9d8216-7412-4c85-bec9-4a66650a51ff",
   "metadata": {},
   "outputs": [
    {
     "data": {
      "image/png": "[encoded data removed]",
      "text/plain": [
       "<Figure size 576x576 with 2 Axes>"
      ]
     },
     "metadata": {
      "needs_background": "light"
     },
     "output_type": "display_data"
    }
   ],
   "source": [
    "plot_map_plane(X_train, y_train, [], knn_func, plot_3d=False)"
   ]
  },
  {
   "cell_type": "markdown",
   "id": "d2c1466e-df71-4321-b8e9-90758f0008c8",
   "metadata": {},
   "source": [
    "### Apartat (4.d)"
   ]
  },
  {
   "cell_type": "markdown",
   "id": "90254d91-acce-4598-8a0d-f0468c79da97",
   "metadata": {},
   "source": [
    "d) Report on the classifier performance using the *test dataset*:\n",
    "1. measure the *test accuracy*, *test precision*, *test recall* and *test f1-score*; and\n",
    "2. in a single figure, plot the *test samples* over the already calculated *classification map* (use different markers and/or colours for each class)."
   ]
  },
  {
   "cell_type": "markdown",
   "id": "a3331568-727d-40bb-aaad-e31fe40d0bd3",
   "metadata": {},
   "source": [
    "### Resposta apartat (4.d)"
   ]
  },
  {
   "cell_type": "markdown",
   "id": "fc2c29b4-a247-4ee5-b026-b73a807d2e25",
   "metadata": {},
   "source": [
    "Ara que ja sabem quin és el millor binomi escalador/classificador, \n",
    "provarem a classificar el conjunt de prova:"
   ]
  },
  {
   "cell_type": "code",
   "execution_count": 79,
   "id": "464fd7c1-c6ed-47f1-b2a0-3367d0bf415c",
   "metadata": {},
   "outputs": [],
   "source": [
    "knn_y_pred = knn_best_clf.predict(X_test)"
   ]
  },
  {
   "cell_type": "markdown",
   "id": "6fe00302-7a58-4996-82e8-2ff8666dd0ad",
   "metadata": {},
   "source": [
    "Vegem un resum de les mètriques de la classificació del conjunt de prova:"
   ]
  },
  {
   "cell_type": "code",
   "execution_count": 80,
   "id": "bee4905e-ff1d-4f4e-bad2-8559b30597f4",
   "metadata": {},
   "outputs": [
    {
     "name": "stdout",
     "output_type": "stream",
     "text": [
      "              precision    recall  f1-score   support\n",
      "\n",
      "   Classe -1       0.97      0.91      0.94        34\n",
      "    Classe 1       0.89      0.96      0.93        26\n",
      "\n",
      "    accuracy                           0.93        60\n",
      "   macro avg       0.93      0.94      0.93        60\n",
      "weighted avg       0.94      0.93      0.93        60\n",
      "\n"
     ]
    }
   ],
   "source": [
    "print(classification_report(y_true=y_test, \n",
    "                            y_pred=knn_y_pred, \n",
    "                            target_names=get_cl_target_name()))"
   ]
  },
  {
   "cell_type": "markdown",
   "id": "e0b23bcb-d0d1-47f4-ae4b-ce8e5c3ab6d4",
   "metadata": {},
   "source": [
    "Vegem que diu la matriu de confusió: "
   ]
  },
  {
   "cell_type": "code",
   "execution_count": 81,
   "id": "34c3fb3d-448b-4aff-afb8-f7625598b30f",
   "metadata": {},
   "outputs": [
    {
     "data": {
      "text/plain": [
       "array([[31,  3],\n",
       "       [ 1, 25]])"
      ]
     },
     "execution_count": 81,
     "metadata": {},
     "output_type": "execute_result"
    }
   ],
   "source": [
    "from sklearn.metrics import confusion_matrix\n",
    "\n",
    "knn_cm = confusion_matrix(y_test, knn_y_pred, )\n",
    "knn_cm"
   ]
  },
  {
   "cell_type": "markdown",
   "id": "20509aeb-d3ff-493e-9490-7ca34954b577",
   "metadata": {},
   "source": [
    "| | predites com a pertanyents a classe $y=-1$ | predites com a pertanyents a classe $y=+1$ |\n",
    "| --- | :---: | :---: |\n",
    "| mostres que realment pertanyen a la classe $y=-1$ | 31 |  3 |\n",
    "| mostres que realment pertanyen a la classe $y=+1$ |  1 | 25 |"
   ]
  },
  {
   "cell_type": "markdown",
   "id": "fc5273da-7111-44a8-8392-016db54efb16",
   "metadata": {},
   "source": [
    "Que, en efecte, ens torna a acreditar que la *accuracy* al conjunt de prova ha baixat:\n",
    "\n",
    "$$\\text{accuracy} = \\frac{\\text{mostres predites correctament}}{\\text{total de mostres}} = \\frac{31+25}{31+3+1+25} = 0.933$$"
   ]
  },
  {
   "cell_type": "markdown",
   "id": "bc84a3a4-bbe4-4fbb-9b83-349f3d4911ec",
   "metadata": {},
   "source": [
    "Hem obtingut una *accuracy* al conjunt de prova del 0.933, \n",
    "en front als 0.929 obtinguts al llarg de l'entrenament.\n",
    "\n",
    "Per tant sembla que el classificador resultant \n",
    "**generalitza molt bé**. "
   ]
  },
  {
   "cell_type": "markdown",
   "id": "cb373993-b857-4e98-a10f-81fd4e202727",
   "metadata": {},
   "source": [
    "#### Resposta punt (4.d.1)"
   ]
  },
  {
   "cell_type": "markdown",
   "id": "054acf4d-886b-4c06-9488-9de549c80ca5",
   "metadata": {},
   "source": [
    "Les mesures que ens demanen són aquestes:"
   ]
  },
  {
   "cell_type": "code",
   "execution_count": 82,
   "id": "df991a0a-a072-4f07-8793-4472ec1fd140",
   "metadata": {},
   "outputs": [
    {
     "name": "stdout",
     "output_type": "stream",
     "text": [
      "Test accuracy : 0.933\n",
      "Test precision: 0.893\n",
      "Test recall   : 0.962\n",
      "Test f1       : 0.926\n"
     ]
    }
   ],
   "source": [
    "knn_test_accuracy = accuracy_score(y_test, knn_y_pred)\n",
    "knn_test_precision = precision_score(y_test, knn_y_pred)\n",
    "knn_test_recall = recall_score(y_test, knn_y_pred)\n",
    "knn_test_f1 = f1_score(y_test, knn_y_pred)\n",
    "\n",
    "print(f\"Test accuracy : {knn_test_accuracy:.3f}\")\n",
    "print(f\"Test precision: {knn_test_precision:.3f}\")\n",
    "print(f\"Test recall   : {knn_test_recall:.3f}\")\n",
    "print(f\"Test f1       : {knn_test_f1:.3f}\")"
   ]
  },
  {
   "cell_type": "markdown",
   "id": "69daba31-cbf3-47c0-8c5c-eef6df12edde",
   "metadata": {},
   "source": [
    "#### Resposta punt (4.d.2)"
   ]
  },
  {
   "cell_type": "markdown",
   "id": "08d27914-2d63-4640-8908-ba54776004e5",
   "metadata": {},
   "source": [
    "Aquest és el diagrama que representa la distribució de les mostres\n",
    "del conjunt de prova dins el mapa de classificació:"
   ]
  },
  {
   "cell_type": "code",
   "execution_count": 83,
   "id": "bfc3d05e-baec-46d2-bd6b-e54c7aa72a51",
   "metadata": {},
   "outputs": [
    {
     "data": {
      "image/png": "[encoded data removed]",
      "text/plain": [
       "<Figure size 576x576 with 2 Axes>"
      ]
     },
     "metadata": {
      "needs_background": "light"
     },
     "output_type": "display_data"
    }
   ],
   "source": [
    "plot_map_plane(X_test, y_test, [], knn_func, plot_3d=False)"
   ]
  },
  {
   "cell_type": "markdown",
   "id": "b8b54e01-6ec6-4dd1-b520-85f972eb23fc",
   "metadata": {},
   "source": [
    "### Apartat (4.e)"
   ]
  },
  {
   "cell_type": "markdown",
   "id": "6b53bd89-6cbf-4640-a20d-a83f333ce6e9",
   "metadata": {},
   "source": [
    "e) Obtain an improved estimation of the *accuracy*, *precision* and *recall* measures by means of *5-fold cross-validation*. To this end, put together the *training* and *test* datasets, so that the corresponding function can\n",
    "build the *folds* from all available data."
   ]
  },
  {
   "cell_type": "markdown",
   "id": "4adac56b-6ac7-4058-8be0-74bd5f116e23",
   "metadata": {},
   "source": [
    "### Resposta apartat (4.e)"
   ]
  },
  {
   "cell_type": "code",
   "execution_count": 84,
   "id": "e8a4cc99-9d87-43a6-bdba-3de18a477f95",
   "metadata": {
    "tags": []
   },
   "outputs": [
    {
     "data": {
      "text/plain": [
       "{'metric': 'minkowski', 'n_neighbors': 5, 'p': 3, 'weights': 'distance'}"
      ]
     },
     "execution_count": 84,
     "metadata": {},
     "output_type": "execute_result"
    }
   ],
   "source": [
    "knn_clf_best_params"
   ]
  },
  {
   "cell_type": "code",
   "execution_count": 85,
   "id": "612c23a1-a297-40fb-a0e2-c2af05006985",
   "metadata": {},
   "outputs": [
    {
     "data": {
      "text/plain": [
       "KNeighborsClassifier(p=3, weights='distance')"
      ]
     },
     "execution_count": 85,
     "metadata": {},
     "output_type": "execute_result"
    }
   ],
   "source": [
    "knn_clf = KNeighborsClassifier()\n",
    "knn_clf.set_params(**knn_clf_best_params)"
   ]
  },
  {
   "cell_type": "code",
   "execution_count": 86,
   "id": "e6f863b2-322b-4203-91f6-bb7d18239253",
   "metadata": {},
   "outputs": [
    {
     "data": {
      "text/plain": [
       "Pipeline(steps=[('minmaxscaler', MinMaxScaler()),\n",
       "                ('kneighborsclassifier',\n",
       "                 KNeighborsClassifier(p=3, weights='distance'))])"
      ]
     },
     "metadata": {},
     "output_type": "display_data"
    }
   ],
   "source": [
    "knn_clfp = make_pipeline(MinMaxScaler(), knn_clf)\n",
    "display(knn_clfp)"
   ]
  },
  {
   "cell_type": "code",
   "execution_count": 87,
   "id": "70a204bc-3fe7-422e-8500-7e973d353806",
   "metadata": {},
   "outputs": [],
   "source": [
    "knn_scoring = ['accuracy']\n",
    "knn_scores = cross_validate(knn_clfp, X, y, cv=5, scoring=knn_scoring)"
   ]
  },
  {
   "cell_type": "code",
   "execution_count": 88,
   "id": "e9c4a216-676e-4f90-9b09-a14735816051",
   "metadata": {},
   "outputs": [
    {
     "name": "stdout",
     "output_type": "stream",
     "text": [
      "accuracy:  [0.9        0.95       0.91666667 0.91666667 0.93333333]\n",
      "avg acc.: 0.923\n"
     ]
    }
   ],
   "source": [
    "print('accuracy: ', knn_scores['test_accuracy'])\n",
    "print(f\"avg acc.: {np.mean(knn_scores['test_accuracy']):.3f}\")"
   ]
  },
  {
   "cell_type": "markdown",
   "id": "a036fefd-c3e9-49c4-85a6-3e5ded0de44f",
   "metadata": {},
   "source": [
    "La *accuracy* obtinguda amb el conjunt ampliat de mostres\n",
    "és molt semblant a la del conjunt inicial, \n",
    "un 92,3% en front al 92,9% de l'entrenament original."
   ]
  },
  {
   "cell_type": "markdown",
   "id": "ab882592-8cca-4ef6-b4e1-4abf96656797",
   "metadata": {},
   "source": [
    "---"
   ]
  },
  {
   "cell_type": "markdown",
   "id": "7b2e1636-c1be-4a4d-91a9-61a76c40a6a6",
   "metadata": {},
   "source": [
    "## Conclusions"
   ]
  },
  {
   "cell_type": "markdown",
   "id": "e30d207c-d2d2-4640-be35-46315ee84cd0",
   "metadata": {},
   "source": [
    "En aquests dos problemes hem obtingut dos classificadors\n",
    "amb distints principis de classificació\n",
    "per a un mateix conjunt de dades.\n",
    "El primer, basat el vectors de suport i el segon \n",
    "en el càlcul de les distàncies als veïns més propers.\n",
    "\n",
    "Per tal d'obtenir les dues millors instàncies de classificació \n",
    "hem aplicat una cerca exhaustiva (*grid-search*) a partir\n",
    "d'una llista de possibles valors dels paràmetres a provar.\n",
    "Per fer l'entrenament hem fet servir validació creuada \n",
    "dividint el conjunt en 3 grups. \n",
    "\n",
    "Com a fets destacables podem dir que, \n",
    "pel nostre conjunt particular, \n",
    "el classificador *KNN* sembla generalitzar millor que el seu \n",
    "competidor, el classificador de vectors de suport.\n",
    "\n",
    "| Classificador | Exactitud entrenament | Exactitud prova | Exactitud conjunt ampliat |\n",
    "| --- | :---: | :---: | :---: | \n",
    "| SVC() | 92.9% (3-fold cv) | 88.3% (3-fold cv) | 91.7% (5-fold cv) |\n",
    "| KNN() | 92.9% (3-fold cv) | 93.3% (3-fold cv) | 92.3% (5-fold cv) |\n",
    "\n",
    "Com es pot veure a la taula anterior, \n",
    "en el nostre cas la diferència en l'exactitud (*accuracy*) \n",
    "obtinguda a entrenament envers l'obtinguda a la prova \n",
    "és molt més gran a la màquina de vectors de suport.\n",
    "I per tant podriem afirmar que, en el conjunt que ens ocupa, \n",
    "el classificador *KNN* ha sabut generalitzar molt millor. \n",
    "Si bé també cal tenir en compte que el classificador KNN \n",
    "en la seva versió de 'força bruta' \n",
    "comporta una major càrrega computacional, \n",
    "doncs implica més càlculs (distàncies) \n",
    "que en el cas dels classificadors per vectors de suport.\n",
    "\n",
    "Per altra banda al mapa de classificació la diferència més notable \n",
    "entre ambdós classificadors, és que pel cas KNN, les superfícies \n",
    "de les dues classes són infinites. \n",
    "En el cas SVC, la superfície de la classe $y=+1$ és finita."
   ]
  },
  {
   "cell_type": "markdown",
   "id": "4c32f421-2fa1-46c6-99df-4f8a819eb681",
   "metadata": {
    "tags": []
   },
   "source": [
    "**The End**"
   ]
  }
 ],
 "metadata": {
  "kernelspec": {
   "display_name": "musi-aa",
   "language": "python",
   "name": "musi-aa"
  },
  "language_info": {
   "codemirror_mode": {
    "name": "ipython",
    "version": 3
   },
   "file_extension": ".py",
   "mimetype": "text/x-python",
   "name": "python",
   "nbconvert_exporter": "python",
   "pygments_lexer": "ipython3",
   "version": "3.7.11"
  }
 },
 "nbformat": 4,
 "nbformat_minor": 5
}
