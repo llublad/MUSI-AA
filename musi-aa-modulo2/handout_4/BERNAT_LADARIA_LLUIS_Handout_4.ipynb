{
 "cells": [
  {
   "cell_type": "markdown",
   "id": "18a56bd1-c6c3-4d24-bd2b-5d134174f6c4",
   "metadata": {},
   "source": [
    "# Handout #4: Unsupervised Learning (hierarchical clustering)"
   ]
  },
  {
   "cell_type": "markdown",
   "id": "c787ac44-612b-4950-b324-b51c0b0e0285",
   "metadata": {
    "tags": []
   },
   "source": [
    "## Problem 5"
   ]
  },
  {
   "cell_type": "markdown",
   "id": "df22026a-d387-4027-8d37-614f3102d1b7",
   "metadata": {},
   "source": [
    "Load needed libraries"
   ]
  },
  {
   "cell_type": "code",
   "execution_count": 2,
   "id": "e46bc60a-3502-4205-8200-3305b9b5dbdb",
   "metadata": {},
   "outputs": [],
   "source": [
    "import numpy as np"
   ]
  },
  {
   "cell_type": "markdown",
   "id": "a509b84a-1cfe-49af-af5a-3051e3ec70c4",
   "metadata": {
    "tags": []
   },
   "source": [
    "### Load the *dataset*"
   ]
  },
  {
   "cell_type": "markdown",
   "id": "d38245d1-0662-4adc-88dc-40fd84e477e2",
   "metadata": {},
   "source": [
    "Our group is '01'"
   ]
  },
  {
   "cell_type": "code",
   "execution_count": 3,
   "id": "66cd2a64-7fef-499c-9848-4fc512093379",
   "metadata": {},
   "outputs": [],
   "source": [
    "group = '01'  # BERNAT LADARIA, Lluís\n",
    "ds = 5"
   ]
  },
  {
   "cell_type": "markdown",
   "id": "9b8099a1-c48c-4ac2-bbf2-2cb366a69567",
   "metadata": {
    "tags": []
   },
   "source": [
    "Load vectors from file"
   ]
  },
  {
   "cell_type": "code",
   "execution_count": 4,
   "id": "a6683576-5060-4f98-bb4b-8009dc9f1509",
   "metadata": {},
   "outputs": [],
   "source": [
    "data = np.loadtxt('ds'+group+str(ds)+'.txt')"
   ]
  },
  {
   "cell_type": "markdown",
   "id": "81781956-c6ca-499d-8ca0-27f2606c0ea6",
   "metadata": {},
   "source": [
    "Split data and labels"
   ]
  },
  {
   "cell_type": "code",
   "execution_count": 43,
   "id": "b465e0cc-7144-416c-9a19-7befc9f4f884",
   "metadata": {},
   "outputs": [],
   "source": [
    "X = data[:, 0:2]\n",
    "y = data[:, 2]"
   ]
  },
  {
   "cell_type": "code",
   "execution_count": 44,
   "id": "683b40a2-ff16-46cf-ae7c-256632266a09",
   "metadata": {},
   "outputs": [
    {
     "data": {
      "text/plain": [
       "(1000, 2)"
      ]
     },
     "execution_count": 44,
     "metadata": {},
     "output_type": "execute_result"
    }
   ],
   "source": [
    "X.shape"
   ]
  },
  {
   "cell_type": "code",
   "execution_count": 59,
   "id": "af4713cc-f988-4935-bddb-0179781f24ae",
   "metadata": {},
   "outputs": [
    {
     "data": {
      "text/plain": [
       "(1000,)"
      ]
     },
     "execution_count": 59,
     "metadata": {},
     "output_type": "execute_result"
    }
   ],
   "source": [
    "y.shape"
   ]
  },
  {
   "cell_type": "markdown",
   "id": "314aca49-11fb-4a00-a4f2-735e3657a79a",
   "metadata": {},
   "source": [
    "### Cluster the data"
   ]
  },
  {
   "cell_type": "markdown",
   "id": "91d31270-9092-4b38-bfc4-d643cf47fe71",
   "metadata": {},
   "source": [
    "Import necessary functions and classes"
   ]
  },
  {
   "cell_type": "code",
   "execution_count": 16,
   "id": "5164ead2-e499-4259-b24b-d2dc186c19c0",
   "metadata": {},
   "outputs": [],
   "source": [
    "from sklearn.cluster import AgglomerativeClustering\n",
    "from sklearn.metrics import v_measure_score\n",
    "from sklearn.metrics import davies_bouldin_score\n",
    "from sklearn.metrics.cluster import contingency_matrix"
   ]
  },
  {
   "cell_type": "code",
   "execution_count": 16,
   "id": "e451b356-d0b2-4e3f-9302-915045c2106c",
   "metadata": {},
   "outputs": [],
   "source": [
    "import itertools"
   ]
  },
  {
   "cell_type": "markdown",
   "id": "79053e7c-6e59-4230-932e-c207b0200de7",
   "metadata": {},
   "source": [
    "Create the options lists to use"
   ]
  },
  {
   "cell_type": "code",
   "execution_count": 12,
   "id": "498a4a56-2f79-41f5-aef5-59cbe531f522",
   "metadata": {},
   "outputs": [],
   "source": [
    "linkage_list = ['complete', 'average', 'ward']"
   ]
  },
  {
   "cell_type": "code",
   "execution_count": 13,
   "id": "87e1a9c7-6c57-41f3-84cc-38d05d894e72",
   "metadata": {},
   "outputs": [],
   "source": [
    "n_clusters_list = [2, 3, 4, 5]"
   ]
  },
  {
   "cell_type": "code",
   "execution_count": 14,
   "id": "59aa1413-d8eb-43d3-9c7a-0354c6381d83",
   "metadata": {},
   "outputs": [],
   "source": [
    "affinity_list = ['euclidean']"
   ]
  },
  {
   "cell_type": "markdown",
   "id": "f07512e9-ed1c-45e1-9b4a-9725427386fa",
   "metadata": {},
   "source": [
    "Prepare a models list and populate it with all the trials"
   ]
  },
  {
   "cell_type": "code",
   "execution_count": 64,
   "id": "16fea3d2-9be6-4601-bc53-8b5f5530ff49",
   "metadata": {},
   "outputs": [],
   "source": [
    "models_list = list()"
   ]
  },
  {
   "cell_type": "code",
   "execution_count": 65,
   "id": "1b30f4e1-4be4-48f6-bbd0-7c4eee7228c1",
   "metadata": {},
   "outputs": [],
   "source": [
    "for linkage, n_clusters, affinity in itertools.product(linkage_list, n_clusters_list, affinity_list):\n",
    "    model = AgglomerativeClustering(linkage=linkage, n_clusters=n_clusters, affinity=affinity)\n",
    "    model.fit(X)\n",
    "    \n",
    "    entry = {\n",
    "        'linkage': linkage,\n",
    "        'n_clusters': n_clusters,\n",
    "        'affinity': affinity,\n",
    "        'model': model, \n",
    "        'v_measure_score': v_measure_score(y, model.labels_)\n",
    "    }\n",
    "    models_list.append(entry)"
   ]
  },
  {
   "cell_type": "code",
   "execution_count": 66,
   "id": "3e1aeba1-9f6c-4ecb-8063-30cf4c09fafe",
   "metadata": {},
   "outputs": [
    {
     "data": {
      "text/plain": [
       "[{'linkage': 'complete',\n",
       "  'n_clusters': 2,\n",
       "  'affinity': 'euclidean',\n",
       "  'model': AgglomerativeClustering(affinity='euclidean', compute_full_tree='auto',\n",
       "                          connectivity=None, distance_threshold=None,\n",
       "                          linkage='complete', memory=None, n_clusters=2),\n",
       "  'v_measure_score': 0.6879066626694416},\n",
       " {'linkage': 'complete',\n",
       "  'n_clusters': 3,\n",
       "  'affinity': 'euclidean',\n",
       "  'model': AgglomerativeClustering(affinity='euclidean', compute_full_tree='auto',\n",
       "                          connectivity=None, distance_threshold=None,\n",
       "                          linkage='complete', memory=None, n_clusters=3),\n",
       "  'v_measure_score': 0.943473573294366},\n",
       " {'linkage': 'complete',\n",
       "  'n_clusters': 4,\n",
       "  'affinity': 'euclidean',\n",
       "  'model': AgglomerativeClustering(affinity='euclidean', compute_full_tree='auto',\n",
       "                          connectivity=None, distance_threshold=None,\n",
       "                          linkage='complete', memory=None, n_clusters=4),\n",
       "  'v_measure_score': 0.8794626691006348},\n",
       " {'linkage': 'complete',\n",
       "  'n_clusters': 5,\n",
       "  'affinity': 'euclidean',\n",
       "  'model': AgglomerativeClustering(affinity='euclidean', compute_full_tree='auto',\n",
       "                          connectivity=None, distance_threshold=None,\n",
       "                          linkage='complete', memory=None, n_clusters=5),\n",
       "  'v_measure_score': 0.8065597089199312},\n",
       " {'linkage': 'average',\n",
       "  'n_clusters': 2,\n",
       "  'affinity': 'euclidean',\n",
       "  'model': AgglomerativeClustering(affinity='euclidean', compute_full_tree='auto',\n",
       "                          connectivity=None, distance_threshold=None,\n",
       "                          linkage='average', memory=None, n_clusters=2),\n",
       "  'v_measure_score': 0.7074689759955484},\n",
       " {'linkage': 'average',\n",
       "  'n_clusters': 3,\n",
       "  'affinity': 'euclidean',\n",
       "  'model': AgglomerativeClustering(affinity='euclidean', compute_full_tree='auto',\n",
       "                          connectivity=None, distance_threshold=None,\n",
       "                          linkage='average', memory=None, n_clusters=3),\n",
       "  'v_measure_score': 0.9397450891215053},\n",
       " {'linkage': 'average',\n",
       "  'n_clusters': 4,\n",
       "  'affinity': 'euclidean',\n",
       "  'model': AgglomerativeClustering(affinity='euclidean', compute_full_tree='auto',\n",
       "                          connectivity=None, distance_threshold=None,\n",
       "                          linkage='average', memory=None, n_clusters=4),\n",
       "  'v_measure_score': 0.9439785661193727},\n",
       " {'linkage': 'average',\n",
       "  'n_clusters': 5,\n",
       "  'affinity': 'euclidean',\n",
       "  'model': AgglomerativeClustering(affinity='euclidean', compute_full_tree='auto',\n",
       "                          connectivity=None, distance_threshold=None,\n",
       "                          linkage='average', memory=None, n_clusters=5),\n",
       "  'v_measure_score': 0.9176100224871716},\n",
       " {'linkage': 'ward',\n",
       "  'n_clusters': 2,\n",
       "  'affinity': 'euclidean',\n",
       "  'model': AgglomerativeClustering(affinity='euclidean', compute_full_tree='auto',\n",
       "                          connectivity=None, distance_threshold=None,\n",
       "                          linkage='ward', memory=None, n_clusters=2),\n",
       "  'v_measure_score': 0.7074689759955484},\n",
       " {'linkage': 'ward',\n",
       "  'n_clusters': 3,\n",
       "  'affinity': 'euclidean',\n",
       "  'model': AgglomerativeClustering(affinity='euclidean', compute_full_tree='auto',\n",
       "                          connectivity=None, distance_threshold=None,\n",
       "                          linkage='ward', memory=None, n_clusters=3),\n",
       "  'v_measure_score': 0.9434735732943661},\n",
       " {'linkage': 'ward',\n",
       "  'n_clusters': 4,\n",
       "  'affinity': 'euclidean',\n",
       "  'model': AgglomerativeClustering(affinity='euclidean', compute_full_tree='auto',\n",
       "                          connectivity=None, distance_threshold=None,\n",
       "                          linkage='ward', memory=None, n_clusters=4),\n",
       "  'v_measure_score': 0.8754513962018847},\n",
       " {'linkage': 'ward',\n",
       "  'n_clusters': 5,\n",
       "  'affinity': 'euclidean',\n",
       "  'model': AgglomerativeClustering(affinity='euclidean', compute_full_tree='auto',\n",
       "                          connectivity=None, distance_threshold=None,\n",
       "                          linkage='ward', memory=None, n_clusters=5),\n",
       "  'v_measure_score': 0.8022974374452441}]"
      ]
     },
     "execution_count": 66,
     "metadata": {},
     "output_type": "execute_result"
    }
   ],
   "source": [
    "models_list"
   ]
  },
  {
   "cell_type": "code",
   "execution_count": null,
   "id": "76710a5c-3a3f-46d7-9c6e-9822ea410c14",
   "metadata": {},
   "outputs": [],
   "source": []
  },
  {
   "cell_type": "markdown",
   "id": "a50273e5-54fc-44f7-b8ce-566a77cc207f",
   "metadata": {},
   "source": [
    "## Problem 6"
   ]
  },
  {
   "cell_type": "code",
   "execution_count": null,
   "id": "9370d315-f48e-45c1-9f5b-1ad1f99d7a7f",
   "metadata": {},
   "outputs": [],
   "source": []
  }
 ],
 "metadata": {
  "kernelspec": {
   "display_name": "musi-aa",
   "language": "python",
   "name": "musi-aa"
  },
  "language_info": {
   "codemirror_mode": {
    "name": "ipython",
    "version": 3
   },
   "file_extension": ".py",
   "mimetype": "text/x-python",
   "name": "python",
   "nbconvert_exporter": "python",
   "pygments_lexer": "ipython3",
   "version": "3.7.11"
  }
 },
 "nbformat": 4,
 "nbformat_minor": 5
}
