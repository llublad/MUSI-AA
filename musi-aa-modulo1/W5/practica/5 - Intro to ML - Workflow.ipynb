{
 "cells": [
  {
   "cell_type": "markdown",
   "metadata": {},
   "source": [
    "# Intro to ML\n",
    "## Workflow: Pipelines and Feature Unions\n",
    "---\n",
    "\n",
    "En la última sesión comentamos qué métricas nos permiten discriminar los modelos y cómo calcularlas con especial enfasis en métricas de clasificación.\n",
    "\n",
    "En la sesión de hoy, haremos una mención especial a cómo tratar de forma programática las distintas fases de un trabajo o proyecto de modelización: transformación de los datos, afinado de hiper-parametros y validación.\n",
    "\n",
    "\n",
    "A final del notebook deberíais entender como usar:\n",
    "\n",
    "* Pipelines\n",
    "* Feature Unions\n",
    "* Custom transformers"
   ]
  },
  {
   "cell_type": "markdown",
   "metadata": {},
   "source": [
    "## 1. Pipelines\n",
    "\n",
    "Al encarar un proyecto de modelizado de datos, antes de poder utilizar un motor de predicción o clasificación, tendremos que *jugar* con los datos con dos objetivos:\n",
    "\n",
    "1. Modificar/seleccionar las variables predictoras con tal de obtener las mejores predicciones\n",
    "1. Alimentar el algoritmo de ML con un formato de datos que sea capaz de utilizar\n",
    "\n",
    "Dicho de otra forma, los datos pasarán por una serie transformaciones y por último por un paso de modelizado.\n",
    "\n",
    "Cada uno de los pasos de la secuencia puede ser definido como un **componente** y el flujo de transformación como una serie de **componentes** encadenados.\n",
    "\n",
    "---\n",
    "\n",
    "<img src='img/pipeline.png'>\n",
    "\n",
    "---\n",
    "\n",
    "A este tipo de proceso, aplicable a cualquier tipo de transformacion de datos o ETL, se lo conoce como Grafo Aciclico Dirigido o `DAG` por sus siglas en inglés. Dicho de mejor forma:\n",
    "\n",
    ">**Data is immutable**\n",
    ">\n",
    ">Don't ever edit your raw data, especially not manually, and especially not in Excel. Don't overwrite your raw data. Don't save multiple versions of the raw data. Treat the data (and its format) as immutable. The code you write should move the raw data through a pipeline to your final analysis. You shouldn't have to run all of the steps every time you want to make a new figure (see Analysis is a DAG), but anyone should be able to reproduce the final products with only the code in src and the data in data/raw.\n",
    "> \n",
    "> [Cookiecutter Data Science](https://drivendata.github.io/cookiecutter-data-science/#data-is-immutable) - A logical, reasonably standardized, but flexible project structure for doing and sharing data science work.\n",
    "\n",
    "Si bien los DAGs pueden llegar a tal complejidad que se compongan de distintos procesos que requieren un orquestador que se encargue de ejecutarlos y monitorizarlos (e.g. el orquestador más popular actualmente es [Airflow](https://airflow.apache.org/), `sklearn` nos provee de una interfaz para crear pipelines sencilla.\n",
    "\n",
    "Los `pipelines` de sklearn nos permiten encadenar los distintos transformers de sklearn, tanto de pre-procesado como de modelizado, de forma secuencial de forma que la salida de un componente sea la entrada del siguiente.\n",
    "\n",
    "Las principales ventajas serán:\n",
    "* Conveniencia y encapsulación: Solo se tendrán que utilizar los metodos `.fit` y `.predict` una vez dada la secuencia de estimadores.\n",
    "\n",
    "* Selección de parametros conjunta: Podremos realizar el GridSearch no solo sobre los hiperparametros del parametro si no tambien sobre las distintas etapas de transformación previa (p. ej. numero de componentes de PCA a usar)\n",
    "\n",
    "* Safety: Evita el \"information leakeage\" entre train y test aseugrandose que las mismas muestras son las que se usan en todas las etapas de transformación.\n"
   ]
  },
  {
   "cell_type": "markdown",
   "metadata": {},
   "source": [
    "Preparamos los datos con unos cuantos nan's..."
   ]
  },
  {
   "cell_type": "code",
   "execution_count": 1,
   "metadata": {},
   "outputs": [],
   "source": [
    "from sklearn.datasets import load_iris\n",
    "import numpy as np\n",
    "import pandas as pd\n",
    "\n",
    "data = load_iris()\n",
    "X = data.data\n",
    "y = data.target\n",
    "### adding some nan's\n",
    "mask = np.random.choice([0,1], p=[0.99, 0.01], size=X.shape).astype(np.bool)\n",
    "X[mask] = np.nan\n",
    "\n",
    "X = pd.DataFrame(X, columns=data['feature_names'])\n",
    "y = pd.Series(y)"
   ]
  },
  {
   "cell_type": "code",
   "execution_count": 2,
   "metadata": {},
   "outputs": [
    {
     "data": {
      "text/html": [
       "<div>\n",
       "<style scoped>\n",
       "    .dataframe tbody tr th:only-of-type {\n",
       "        vertical-align: middle;\n",
       "    }\n",
       "\n",
       "    .dataframe tbody tr th {\n",
       "        vertical-align: top;\n",
       "    }\n",
       "\n",
       "    .dataframe thead th {\n",
       "        text-align: right;\n",
       "    }\n",
       "</style>\n",
       "<table border=\"1\" class=\"dataframe\">\n",
       "  <thead>\n",
       "    <tr style=\"text-align: right;\">\n",
       "      <th></th>\n",
       "      <th>sepal length (cm)</th>\n",
       "      <th>sepal width (cm)</th>\n",
       "      <th>petal length (cm)</th>\n",
       "      <th>petal width (cm)</th>\n",
       "    </tr>\n",
       "  </thead>\n",
       "  <tbody>\n",
       "    <tr>\n",
       "      <th>23</th>\n",
       "      <td>5.1</td>\n",
       "      <td>3.3</td>\n",
       "      <td>NaN</td>\n",
       "      <td>0.5</td>\n",
       "    </tr>\n",
       "    <tr>\n",
       "      <th>67</th>\n",
       "      <td>5.8</td>\n",
       "      <td>2.7</td>\n",
       "      <td>4.1</td>\n",
       "      <td>1.0</td>\n",
       "    </tr>\n",
       "    <tr>\n",
       "      <th>112</th>\n",
       "      <td>6.8</td>\n",
       "      <td>3.0</td>\n",
       "      <td>5.5</td>\n",
       "      <td>2.1</td>\n",
       "    </tr>\n",
       "    <tr>\n",
       "      <th>103</th>\n",
       "      <td>6.3</td>\n",
       "      <td>2.9</td>\n",
       "      <td>5.6</td>\n",
       "      <td>1.8</td>\n",
       "    </tr>\n",
       "    <tr>\n",
       "      <th>75</th>\n",
       "      <td>6.6</td>\n",
       "      <td>3.0</td>\n",
       "      <td>4.4</td>\n",
       "      <td>1.4</td>\n",
       "    </tr>\n",
       "    <tr>\n",
       "      <th>38</th>\n",
       "      <td>4.4</td>\n",
       "      <td>3.0</td>\n",
       "      <td>1.3</td>\n",
       "      <td>0.2</td>\n",
       "    </tr>\n",
       "    <tr>\n",
       "      <th>68</th>\n",
       "      <td>6.2</td>\n",
       "      <td>2.2</td>\n",
       "      <td>4.5</td>\n",
       "      <td>1.5</td>\n",
       "    </tr>\n",
       "    <tr>\n",
       "      <th>135</th>\n",
       "      <td>7.7</td>\n",
       "      <td>NaN</td>\n",
       "      <td>6.1</td>\n",
       "      <td>2.3</td>\n",
       "    </tr>\n",
       "    <tr>\n",
       "      <th>123</th>\n",
       "      <td>6.3</td>\n",
       "      <td>2.7</td>\n",
       "      <td>4.9</td>\n",
       "      <td>1.8</td>\n",
       "    </tr>\n",
       "    <tr>\n",
       "      <th>95</th>\n",
       "      <td>5.7</td>\n",
       "      <td>3.0</td>\n",
       "      <td>4.2</td>\n",
       "      <td>1.2</td>\n",
       "    </tr>\n",
       "  </tbody>\n",
       "</table>\n",
       "</div>"
      ],
      "text/plain": [
       "     sepal length (cm)  sepal width (cm)  petal length (cm)  petal width (cm)\n",
       "23                 5.1               3.3                NaN               0.5\n",
       "67                 5.8               2.7                4.1               1.0\n",
       "112                6.8               3.0                5.5               2.1\n",
       "103                6.3               2.9                5.6               1.8\n",
       "75                 6.6               3.0                4.4               1.4\n",
       "38                 4.4               3.0                1.3               0.2\n",
       "68                 6.2               2.2                4.5               1.5\n",
       "135                7.7               NaN                6.1               2.3\n",
       "123                6.3               2.7                4.9               1.8\n",
       "95                 5.7               3.0                4.2               1.2"
      ]
     },
     "execution_count": 2,
     "metadata": {},
     "output_type": "execute_result"
    }
   ],
   "source": [
    "X.sample(10)"
   ]
  },
  {
   "cell_type": "markdown",
   "metadata": {},
   "source": [
    "### Ejemplo de Pipeline"
   ]
  },
  {
   "cell_type": "markdown",
   "metadata": {},
   "source": [
    "### Solo transformaciones\n",
    "\n",
    "Los `transformers` de sklearn son aquellos que tienen los metodos de `fit_transform`. Podremos encadenar todos los que queramos siguiendo una secuencia de transformaciones.\n",
    "\n",
    "En este ejemplo vemos como podemos encadenar:\n",
    "\n",
    "1. Imputación de nulos\n",
    "2. Normalización\n",
    "\n",
    "Recordad que todas las transformaciones se ejecutarán sobre el subset `train`. De ésta forma, la media para imputación se calculará solo sobre el subset de entrenamiento y la usaremos para popular los nulos en el dataset de testeo. Esto se hace así para poder simular las condiciones de uso reales, donde las predicciones siempre serán \"out of sample\"."
   ]
  },
  {
   "cell_type": "code",
   "execution_count": 3,
   "metadata": {},
   "outputs": [
    {
     "name": "stdout",
     "output_type": "stream",
     "text": [
      "X_train: \n",
      "\n",
      "Mean before pipeline: \n",
      " sepal length (cm)    5.801695\n",
      "sepal width (cm)     3.062185\n",
      "petal length (cm)    3.736441\n",
      "petal width (cm)     1.191597\n",
      "dtype: float64\n",
      "Mean after pipeline (imputer + scaler): \n",
      " [ 2.32406686e-15 -1.50018886e-15 -3.90428430e-16  2.40548322e-17]\n",
      "\n",
      " X_test: \n",
      "\n",
      "Mean before pipeline: \n",
      " sepal length (cm)    5.980000\n",
      "sepal width (cm)     3.040000\n",
      "petal length (cm)    3.883333\n",
      "petal width (cm)     1.263333\n",
      "dtype: float64\n",
      "Mean after pipeline (imputer + scaler): \n",
      " [ 0.21794325 -0.04960706  0.08474577  0.09645858]\n"
     ]
    }
   ],
   "source": [
    "from sklearn.model_selection import train_test_split\n",
    "\n",
    "from sklearn.preprocessing import StandardScaler\n",
    "from sklearn.impute import SimpleImputer\n",
    "\n",
    "from sklearn.pipeline import Pipeline\n",
    "\n",
    "np.random.seed(42)\n",
    "\n",
    "## Dividimos los datos en test y train\n",
    "X_train, X_test, y_train, y_test = train_test_split(X, y, test_size = 0.20) ##\n",
    "\n",
    "## Definimos los pasos del pipeline como tuplas (name, Transformer)\n",
    "imputation_step = ('imputer', SimpleImputer(strategy='mean'))\n",
    "scaling_step = ('scaler', StandardScaler())\n",
    "\n",
    "## Los ordenamos en una lista\n",
    "steps = [imputation_step, scaling_step]  ##\n",
    "\n",
    "## Finalmente llamamos al creador de pipeline\n",
    "pipe = Pipeline(steps)\n",
    "\n",
    "X_train_transformed = pipe.fit_transform(X_train)\n",
    "X_test_transformed = pipe.transform(X_test)\n",
    "\n",
    "print('X_train: \\n')\n",
    "print('Mean before pipeline: \\n', X_train.mean())\n",
    "print('Mean after pipeline (imputer + scaler): \\n', X_train_transformed.mean(axis=0))\n",
    "\n",
    "print('\\n X_test: \\n')\n",
    "print('Mean before pipeline: \\n', X_test.mean())\n",
    "print('Mean after pipeline (imputer + scaler): \\n', X_test_transformed.mean(axis=0))"
   ]
  },
  {
   "cell_type": "markdown",
   "metadata": {},
   "source": [
    "**Podemos acceder a los valores asignados a los atributos de cada `step` del pipeline por su nombre. Estos tendran los atributos del `transformer` utilizado.**"
   ]
  },
  {
   "cell_type": "code",
   "execution_count": 4,
   "metadata": {},
   "outputs": [
    {
     "name": "stdout",
     "output_type": "stream",
     "text": [
      "[5.80169492 3.06218487 3.73644068 1.19159664]\n"
     ]
    }
   ],
   "source": [
    "# valores de imputación utilizados\n",
    "print(pipe['imputer'].statistics_)"
   ]
  },
  {
   "cell_type": "code",
   "execution_count": 5,
   "metadata": {},
   "outputs": [
    {
     "data": {
      "text/plain": [
       "sepal length (cm)    5.801695\n",
       "sepal width (cm)     3.062185\n",
       "petal length (cm)    3.736441\n",
       "petal width (cm)     1.191597\n",
       "dtype: float64"
      ]
     },
     "execution_count": 5,
     "metadata": {},
     "output_type": "execute_result"
    }
   ],
   "source": [
    "X_train.mean()"
   ]
  },
  {
   "cell_type": "markdown",
   "metadata": {},
   "source": [
    "### Grid search sobre parametros de los transformadores\n",
    "\n",
    "Una de las ventajas de usar un pipeline, es que podemos definir un gridsearch donde los parametros de busqueda incluyan aquellos de los transformadores. Vamos a ver si es mejor usar la media o la mediana..."
   ]
  },
  {
   "cell_type": "code",
   "execution_count": 6,
   "metadata": {},
   "outputs": [],
   "source": [
    "import time"
   ]
  },
  {
   "cell_type": "code",
   "execution_count": 7,
   "metadata": {},
   "outputs": [
    {
     "name": "stdout",
     "output_type": "stream",
     "text": [
      "Fitting 3 folds for each of 32 candidates, totalling 96 fits\n"
     ]
    },
    {
     "name": "stderr",
     "output_type": "stream",
     "text": [
      "[Parallel(n_jobs=-1)]: Using backend LokyBackend with 4 concurrent workers.\n",
      "[Parallel(n_jobs=-1)]: Done  42 tasks      | elapsed:    3.0s\n",
      "[Parallel(n_jobs=-1)]: Done  96 out of  96 | elapsed:    5.6s finished\n"
     ]
    },
    {
     "name": "stdout",
     "output_type": "stream",
     "text": [
      "Best params:  {'clf__max_depth': 3, 'clf__min_samples_leaf': 15, 'imputer__strategy': 'mean'}\n",
      "Best score:  0.9583333333333334\n"
     ]
    }
   ],
   "source": [
    "## Import pipeline\n",
    "from sklearn.pipeline import Pipeline  ##\n",
    "\n",
    "## Import StandardScaler\n",
    "from sklearn.preprocessing import StandardScaler  ##\n",
    "\n",
    "## Import SimpleImputer\n",
    "from sklearn.impute import SimpleImputer  ##\n",
    "\n",
    "## Import RandomForestClassifier\n",
    "from sklearn.ensemble import RandomForestClassifier  ##\n",
    "\n",
    "## Import GridSearch y train_test_split\n",
    "from sklearn.model_selection import GridSearchCV  ##\n",
    "from sklearn.model_selection import train_test_split  ##\n",
    "\n",
    "## Dividimos los datos en test y train\n",
    "X_train, X_test, y_train, y_test = \\\n",
    "    train_test_split(X, y, \n",
    "                     test_size = 0.20, \n",
    "                     random_state = 11415,\n",
    "                     shuffle = True)  ##\n",
    "\n",
    "## Definimos los pasos del pipeline como tuplas (name, Transformer)\n",
    "imputation_step = ('imputer', SimpleImputer())\n",
    "scaling_step = ('scaler', StandardScaler())\n",
    "model_step = ('clf', RandomForestClassifier(random_state = 1))\n",
    "\n",
    "## Los ordenamos en una lista\n",
    "steps = [imputation_step, scaling_step, model_step]  ##\n",
    "\n",
    "## Finalmente llamamos al creador de pipeline\n",
    "pipe = Pipeline(steps)\n",
    "\n",
    "\n",
    "## Definimos el espacio de busqueda para el gridsearch.\n",
    "## Podemos acceder a los distintos hiperparametros de los Transformadores como nombre__hiperparametro\n",
    "\n",
    "param_grid = {'imputer__strategy': ['mean', 'median'],\n",
    "              'clf__max_depth': [3, 5, 10, 15],\n",
    "              'clf__min_samples_leaf': [2, 5, 10, 15]}\n",
    "\n",
    "## usamos el pipe como estimador en el gridsearch\n",
    "clf_gs = GridSearchCV(pipe, cv=3, n_jobs=-1, param_grid=param_grid, verbose=1)\n",
    "\n",
    "clf_gs.fit(X_train, y_train)\n",
    "\n",
    "## sleep 1 sec to avoid overprinting\n",
    "time.sleep(1)\n",
    "\n",
    "print('Best params: ', clf_gs.best_params_)\n",
    "print('Best score: ', clf_gs.best_score_)"
   ]
  },
  {
   "cell_type": "markdown",
   "metadata": {},
   "source": [
    "**Para poder hacer predicciones, simplemente debemos llamar al clf_gs con el metodo predict.**\n",
    "**El pipeline se encarga de hacer las transformaciones necesarias antes de pasarle los datos al predictor.**\n",
    "Esto es ideal para la productivización de un modelo. Nos permite recoger el dato \"crudo\" y pasarlo por una sola clase donde se tengan en cuenta todas las transformaciones necesarias antes de pasarlo al modelo para hacer la predicción"
   ]
  },
  {
   "cell_type": "code",
   "execution_count": 8,
   "metadata": {},
   "outputs": [],
   "source": [
    "y_test_pred = clf_gs.predict(X_test)  ##"
   ]
  },
  {
   "cell_type": "code",
   "execution_count": 9,
   "metadata": {},
   "outputs": [
    {
     "name": "stdout",
     "output_type": "stream",
     "text": [
      "              precision    recall  f1-score   support\n",
      "\n",
      "           0       1.00      1.00      1.00        13\n",
      "           1       0.92      0.92      0.92        12\n",
      "           2       0.80      0.80      0.80         5\n",
      "\n",
      "    accuracy                           0.93        30\n",
      "   macro avg       0.91      0.91      0.91        30\n",
      "weighted avg       0.93      0.93      0.93        30\n",
      "\n"
     ]
    }
   ],
   "source": [
    "from sklearn.metrics import classification_report  ##\n",
    "\n",
    "print(classification_report(y_test, y_test_pred))"
   ]
  },
  {
   "cell_type": "markdown",
   "metadata": {},
   "source": [
    "---"
   ]
  },
  {
   "cell_type": "markdown",
   "metadata": {},
   "source": [
    "#### Feature engineering usando Principal Component Analysis\n",
    "\n",
    "En la última sesión vimos como el PCA podía usarse tanto como una tranformación `many to many` para evitar la colinearidad de algunos predictores y como seleccion de variables para reducir la dimensionalidad. \n",
    "\n",
    "Realizar PCA sobre un set de datos multidimensional nos permitirá:\n",
    "\n",
    "1. Visualizar una proyección de los datos en 2-3 dimensiones\n",
    "1. Eliminar colinearidad\n",
    "1. Reducir el número de predictores: seleccionaremos un número límitado de componentes de forma que expliquemos la mayor parte de la varianza de los datos\n",
    "\n",
    "Por ejemplo..."
   ]
  },
  {
   "cell_type": "code",
   "execution_count": 10,
   "metadata": {},
   "outputs": [],
   "source": [
    "from sklearn.datasets import load_breast_cancer\n",
    "from sklearn.decomposition import PCA  ##\n",
    "from sklearn.preprocessing import MinMaxScaler\n",
    "from sklearn.pipeline import Pipeline\n",
    "\n",
    "data = load_breast_cancer()\n",
    "\n",
    "X = data.data\n",
    "y = data.target\n",
    "\n",
    "## Definimos los pasos del pipeline como tuplas (name, Transformer)\n",
    "scaling_step = ('scaler', MinMaxScaler())  ##\n",
    "pca_step = ('pca', PCA())  ##\n",
    "\n",
    "## Los ordenamos en una lista\n",
    "steps = [scaling_step, pca_step]  ##\n",
    "\n",
    "## Finalmente llamamos al creador de pipeline\n",
    "pipe = Pipeline(steps)\n",
    "\n",
    "X_pca = pipe.fit_transform(X)"
   ]
  },
  {
   "cell_type": "markdown",
   "metadata": {},
   "source": [
    "Plot the results"
   ]
  },
  {
   "cell_type": "code",
   "execution_count": 11,
   "metadata": {},
   "outputs": [
    {
     "data": {
      "text/plain": [
       "Text(0.5, 1.0, 'Explained Variance')"
      ]
     },
     "execution_count": 11,
     "metadata": {},
     "output_type": "execute_result"
    },
    {
     "data": {
      "image/png": "[encoded data removed]",
      "text/plain": [
       "<Figure size 864x360 with 2 Axes>"
      ]
     },
     "metadata": {
      "needs_background": "light"
     },
     "output_type": "display_data"
    }
   ],
   "source": [
    "%matplotlib inline\n",
    "import matplotlib.pyplot as plt\n",
    "\n",
    "f, ax = plt.subplots(ncols=2, figsize=(12, 5))\n",
    "\n",
    "ax[0].scatter(X_pca[y==0][:,0], X_pca[y==0][:, 1], c='green', alpha=0.5, label='Not Cancer')\n",
    "ax[0].scatter(X_pca[y==1][:,0], X_pca[y==1][:, 1], c='firebrick', alpha=0.5, label='Cancer')\n",
    "ax[0].legend(loc='best')\n",
    "ax[0].set_title('2D Projection')\n",
    "\n",
    "ax[1].plot(pipe['pca'].explained_variance_ratio_.cumsum())\n",
    "ax[1].set_xlabel('Num of PCA components')\n",
    "ax[1].set_title('Explained Variance')"
   ]
  },
  {
   "cell_type": "markdown",
   "metadata": {},
   "source": [
    "---"
   ]
  },
  {
   "cell_type": "markdown",
   "metadata": {},
   "source": [
    "### Ejercicio: Traduce el siguiente script a un pipeline y evalualo en el dataset de testeo.\n",
    "\n",
    "Nota: En vez de seleccionar manualmente el umbral de varianza explicada para el PCA, introduce el número de componentes en el gridsearch del pipeline."
   ]
  },
  {
   "cell_type": "code",
   "execution_count": 12,
   "metadata": {},
   "outputs": [
    {
     "name": "stdout",
     "output_type": "stream",
     "text": [
      "Fitting 5 folds for each of 75 candidates, totalling 375 fits\n"
     ]
    },
    {
     "name": "stderr",
     "output_type": "stream",
     "text": [
      "[Parallel(n_jobs=-1)]: Using backend LokyBackend with 4 concurrent workers.\n",
      "[Parallel(n_jobs=-1)]: Done  76 tasks      | elapsed:    3.8s\n",
      "[Parallel(n_jobs=-1)]: Done 375 out of 375 | elapsed:   18.0s finished\n"
     ]
    },
    {
     "data": {
      "text/plain": [
       "GridSearchCV(cv=StratifiedKFold(n_splits=5, random_state=1234, shuffle=True),\n",
       "             error_score=nan,\n",
       "             estimator=RandomForestClassifier(bootstrap=True, ccp_alpha=0.0,\n",
       "                                              class_weight=None,\n",
       "                                              criterion='gini', max_depth=None,\n",
       "                                              max_features='auto',\n",
       "                                              max_leaf_nodes=None,\n",
       "                                              max_samples=None,\n",
       "                                              min_impurity_decrease=0.0,\n",
       "                                              min_impurity_split=None,\n",
       "                                              min_samples_leaf=1,\n",
       "                                              min_samples_split=2,\n",
       "                                              min_weight_fraction_leaf=0.0,\n",
       "                                              n_estimators=100, n_jobs=None,\n",
       "                                              oob_score=False,\n",
       "                                              random_state=None, verbose=0,\n",
       "                                              warm_start=False),\n",
       "             iid='deprecated', n_jobs=-1,\n",
       "             param_grid={'max_depth': [2, 3, 4],\n",
       "                         'min_samples_leaf': [8, 9, 10, 11, 12],\n",
       "                         'min_samples_split': [3, 4, 5, 6, 7]},\n",
       "             pre_dispatch='2*n_jobs', refit=True, return_train_score=False,\n",
       "             scoring=None, verbose=1)"
      ]
     },
     "execution_count": 12,
     "metadata": {},
     "output_type": "execute_result"
    }
   ],
   "source": [
    "import pandas as pd\n",
    "from sklearn.datasets import load_wine\n",
    "data = load_wine()\n",
    "\n",
    "df = pd.DataFrame(data.data, columns=data.feature_names)\n",
    "df['y'] = data.target\n",
    "\n",
    "# train test split\n",
    "from sklearn.model_selection import train_test_split\n",
    "\n",
    "X_train, X_test, y_train, y_test = train_test_split(df.drop('y', axis=1), df.y,\n",
    "                                                    test_size = 0.33, random_state=123)\n",
    "###########################################\n",
    "## Transformation 1: Polynomial Features ##\n",
    "###########################################\n",
    "\n",
    "from sklearn.preprocessing import PolynomialFeatures\n",
    "\n",
    "#instantiate polynomial features\n",
    "poly = PolynomialFeatures(degree=2, interaction_only=True)\n",
    "\n",
    "# fit scaler to train data\n",
    "poly.fit(X_train)\n",
    "\n",
    "# scale X_train\n",
    "X_train_poly= poly.transform(X_train)\n",
    "\n",
    "#######################################\n",
    "## Transformation 2: feature scaling ##\n",
    "#######################################\n",
    "\n",
    "## It is important to only to fit the transformer on the train dataset!\n",
    "from sklearn.preprocessing import StandardScaler\n",
    "\n",
    "# instantiate scaler\n",
    "scaler = StandardScaler()\n",
    "\n",
    "# fit scaler to train data\n",
    "scaler.fit(X_train_poly)\n",
    "\n",
    "# scale X_train\n",
    "X_train_poly_scaled= scaler.transform(X_train_poly)\n",
    "\n",
    "###########################\n",
    "## Transformation 3: PCA ##\n",
    "###########################\n",
    "\n",
    "from sklearn.decomposition import PCA\n",
    "\n",
    "# instantiate pca\n",
    "pca = PCA()\n",
    "\n",
    "# fit PCA to scaled train data\n",
    "pca.fit(X_train_poly_scaled)\n",
    "\n",
    "# scale X_train\n",
    "X_train_poly_scaled_pca = pca.transform(X_train_poly_scaled)\n",
    "\n",
    "#########################################\n",
    "## Transformation 4: Feature Selection ##\n",
    "#########################################\n",
    "\n",
    "# Num of components needed to reach 95%\n",
    "num_comp_95 = pca.explained_variance_ratio_[pca.explained_variance_ratio_.cumsum() < 0.95].shape[0]\n",
    "\n",
    "# instantiate pca with number of components desired\n",
    "pca = PCA(num_comp_95)\n",
    "\n",
    "# refit PCA to scaled train data\n",
    "pca.fit(X_train_poly_scaled)\n",
    "\n",
    "# scale X_train\n",
    "X_train_final = pca.transform(X_train_poly_scaled)\n",
    "\n",
    "##################\n",
    "## Modelization ##\n",
    "##################\n",
    "\n",
    "from sklearn.model_selection import StratifiedKFold\n",
    "from sklearn.model_selection import GridSearchCV\n",
    "from sklearn.ensemble import RandomForestClassifier\n",
    "\n",
    "## Define stratified kfold\n",
    "skfold = StratifiedKFold(n_splits=5, shuffle=True, random_state=1234)\n",
    "\n",
    "## Instantiate Random Forest\n",
    "clf_rf = RandomForestClassifier()\n",
    "\n",
    "## set up a parameter grid for the gridsearch\n",
    "params_clf_rf = {'max_depth': [2, 3, 4],\n",
    "                 'min_samples_leaf': [8, 9, 10, 11, 12],\n",
    "                 'min_samples_split': [3, 4, 5, 6, 7]}\n",
    "\n",
    "## Instantiate the gridsearch\n",
    "clf_gs = GridSearchCV(estimator=clf_rf, cv=skfold, param_grid=params_clf_rf, verbose=1, n_jobs=-1)\n",
    "\n",
    "## Fit the gridsearch\n",
    "clf_gs.fit(X_train_final, y_train)"
   ]
  },
  {
   "cell_type": "markdown",
   "metadata": {},
   "source": [
    "### Solution"
   ]
  },
  {
   "cell_type": "code",
   "execution_count": 13,
   "metadata": {},
   "outputs": [
    {
     "name": "stderr",
     "output_type": "stream",
     "text": [
      "[Parallel(n_jobs=-1)]: Using backend LokyBackend with 4 concurrent workers.\n"
     ]
    },
    {
     "name": "stdout",
     "output_type": "stream",
     "text": [
      "Fitting 3 folds for each of 108 candidates, totalling 324 fits\n"
     ]
    },
    {
     "name": "stderr",
     "output_type": "stream",
     "text": [
      "[Parallel(n_jobs=-1)]: Done  42 tasks      | elapsed:    2.6s\n",
      "[Parallel(n_jobs=-1)]: Done 192 tasks      | elapsed:   11.3s\n",
      "[Parallel(n_jobs=-1)]: Done 324 out of 324 | elapsed:   19.0s finished\n"
     ]
    },
    {
     "data": {
      "text/plain": [
       "GridSearchCV(cv=StratifiedKFold(n_splits=3, random_state=1234, shuffle=True),\n",
       "             error_score=nan,\n",
       "             estimator=Pipeline(memory=None,\n",
       "                                steps=[('poly',\n",
       "                                        PolynomialFeatures(degree=2,\n",
       "                                                           include_bias=True,\n",
       "                                                           interaction_only=False,\n",
       "                                                           order='C')),\n",
       "                                       ('scaler',\n",
       "                                        StandardScaler(copy=True,\n",
       "                                                       with_mean=True,\n",
       "                                                       with_std=True)),\n",
       "                                       ('pca',\n",
       "                                        PCA(copy=True, iterated_power='auto',\n",
       "                                            n_components=None,\n",
       "                                            rando...\n",
       "                                                               n_jobs=None,\n",
       "                                                               oob_score=False,\n",
       "                                                               random_state=None,\n",
       "                                                               verbose=0,\n",
       "                                                               warm_start=False))],\n",
       "                                verbose=False),\n",
       "             iid='deprecated', n_jobs=-1,\n",
       "             param_grid={'clf__max_depth': [3, 4],\n",
       "                         'clf__min_samples_leaf': [8, 9, 10],\n",
       "                         'clf__min_samples_split': [5, 6, 7],\n",
       "                         'pca__n_components': [9, 10, 11],\n",
       "                         'poly__degree': [2, 3]},\n",
       "             pre_dispatch='2*n_jobs', refit=True, return_train_score=False,\n",
       "             scoring=None, verbose=1)"
      ]
     },
     "execution_count": 13,
     "metadata": {},
     "output_type": "execute_result"
    }
   ],
   "source": [
    "###########################################\n",
    "## Transformation 1: Polynomial Features ##\n",
    "###########################################\n",
    "\n",
    "from sklearn.preprocessing import PolynomialFeatures\n",
    "\n",
    "#instantiate polynomial features\n",
    "step_poly = ('poly', PolynomialFeatures())  ##\n",
    "\n",
    "#######################################\n",
    "## Transformation 2: feature scaling ##\n",
    "#######################################\n",
    "\n",
    "from sklearn.preprocessing import StandardScaler  ##\n",
    "\n",
    "step_scaler = ('scaler', StandardScaler())  ##\n",
    "\n",
    "###########################\n",
    "## Transformation 3: PCA ##\n",
    "###########################\n",
    "\n",
    "from sklearn.decomposition import PCA  ##\n",
    "\n",
    "step_pca = ('pca', PCA())  ##\n",
    "\n",
    "##################\n",
    "## Modelization ##\n",
    "##################\n",
    "\n",
    "from sklearn.ensemble import RandomForestClassifier  ##\n",
    "\n",
    "model_step = ('clf', RandomForestClassifier())  ##\n",
    "\n",
    "##########################\n",
    "## Make pipe            ##\n",
    "##########################\n",
    "\n",
    "from sklearn.pipeline import Pipeline  ##\n",
    "\n",
    "pipe_steps = [step_poly, step_scaler, step_pca, model_step]  ## \n",
    "pipe = Pipeline(pipe_steps)\n",
    "\n",
    "\n",
    "from sklearn.model_selection import StratifiedKFold\n",
    "from sklearn.model_selection import GridSearchCV\n",
    "\n",
    "## Define stratified kfold\n",
    "skfold = StratifiedKFold(n_splits=3, shuffle=True, random_state=1234)\n",
    "\n",
    "params_pipe = {'poly__degree': [2, 3],\n",
    "               'pca__n_components': [9, 10, 11],\n",
    "               'clf__max_depth': [3, 4],\n",
    "               'clf__min_samples_leaf': [8, 9, 10],\n",
    "               'clf__min_samples_split': [5, 6, 7]}\n",
    "\n",
    "## Instantiate the gridsearch\n",
    "clf_gs = GridSearchCV(pipe, cv=skfold, param_grid=params_pipe, verbose=1, n_jobs=-1)\n",
    "\n",
    "## Fit the gridsearch\n",
    "clf_gs.fit(X_train, y_train)"
   ]
  },
  {
   "cell_type": "code",
   "execution_count": 14,
   "metadata": {},
   "outputs": [
    {
     "name": "stdout",
     "output_type": "stream",
     "text": [
      "{'poly': PolynomialFeatures(degree=2, include_bias=True, interaction_only=False,\n",
      "                   order='C'), 'scaler': StandardScaler(copy=True, with_mean=True, with_std=True), 'pca': PCA(copy=True, iterated_power='auto', n_components=11, random_state=None,\n",
      "    svd_solver='auto', tol=0.0, whiten=False), 'clf': RandomForestClassifier(bootstrap=True, ccp_alpha=0.0, class_weight=None,\n",
      "                       criterion='gini', max_depth=4, max_features='auto',\n",
      "                       max_leaf_nodes=None, max_samples=None,\n",
      "                       min_impurity_decrease=0.0, min_impurity_split=None,\n",
      "                       min_samples_leaf=8, min_samples_split=5,\n",
      "                       min_weight_fraction_leaf=0.0, n_estimators=100,\n",
      "                       n_jobs=None, oob_score=False, random_state=None,\n",
      "                       verbose=0, warm_start=False)}\n"
     ]
    }
   ],
   "source": [
    "print(clf_gs.best_estimator_.named_steps)"
   ]
  },
  {
   "cell_type": "code",
   "execution_count": 15,
   "metadata": {},
   "outputs": [],
   "source": [
    "y_test_pred = clf_gs.predict(X_test)"
   ]
  },
  {
   "cell_type": "code",
   "execution_count": 16,
   "metadata": {
    "scrolled": true
   },
   "outputs": [
    {
     "name": "stdout",
     "output_type": "stream",
     "text": [
      "              precision    recall  f1-score   support\n",
      "\n",
      "           0       0.79      0.94      0.86        16\n",
      "           1       0.94      0.76      0.84        21\n",
      "           2       0.96      1.00      0.98        22\n",
      "\n",
      "    accuracy                           0.90        59\n",
      "   macro avg       0.90      0.90      0.89        59\n",
      "weighted avg       0.91      0.90      0.90        59\n",
      "\n"
     ]
    }
   ],
   "source": [
    "print(classification_report(y_test, y_test_pred))"
   ]
  },
  {
   "cell_type": "code",
   "execution_count": 17,
   "metadata": {},
   "outputs": [
    {
     "data": {
      "text/plain": [
       "array([[15,  1,  0],\n",
       "       [ 4, 16,  1],\n",
       "       [ 0,  0, 22]])"
      ]
     },
     "execution_count": 17,
     "metadata": {},
     "output_type": "execute_result"
    }
   ],
   "source": [
    "from sklearn.metrics import confusion_matrix\n",
    "\n",
    "cm = confusion_matrix(y_test, y_test_pred)\n",
    "cm"
   ]
  },
  {
   "cell_type": "markdown",
   "metadata": {},
   "source": [
    "## 2. Feature unions\n",
    "\n",
    "Hasta ahora, solo hemos trabajado con un tipo de variables: númericas. Sin embargo, si tuvieramos variables categóricas, deberíamos tratarlas de forma distinta. Por ejemplo, haciendo un **OneHotEncoding**.\n",
    "\n",
    "Las feature unions nos permiten trabajar con transformaciones según el tipo de variable, para despues unirlas antes de pasarlas al modelo de ML.\n",
    "\n",
    "![feat-union](img/pipeline+featunion.png)"
   ]
  },
  {
   "cell_type": "markdown",
   "metadata": {},
   "source": [
    "### Importamos el dataset con el que trabajaremos"
   ]
  },
  {
   "cell_type": "code",
   "execution_count": 18,
   "metadata": {},
   "outputs": [],
   "source": [
    "import pandas as pd\n",
    "\n",
    "data = pd.read_csv('data/abalone.csv',)"
   ]
  },
  {
   "cell_type": "markdown",
   "metadata": {},
   "source": [
    "## Custom transformers\n",
    "\n",
    "Con tal de poder interactuar con los `Pipelines`, sklearn nos da la opcion de crear nuestras propias transformaciones basandonos en su sintaxis.\n",
    "\n",
    "Para esto crearemos una clase que herede el `TransformerMixin`. Al heredar esta clase, si creamos una que tenga los metodos `fit` y `transform` nos dará automaticamente un metodo que sea `fit_transform` y que sea compatible con el resto de la `suite` de sklearn.\n",
    "\n",
    "Vamos a crear un `transformer` propio que nos devuelva las columnas elegidas durante la inicialización. Usaremos este `transformer` como primera etapa en el pipe de OHE para seleccionar la columna categorica\n",
    "\n",
    "Vamos a crear otro `transformer` que nos haga lo contrario, que nos elimine la columna especificada.\n",
    "\n",
    "De esta forma, podremos usar un solo punto de entrada al pipeline y será el pipeline el que se encargará de hacer la division entre variables numericas y categoricas, como en la imagen anterior"
   ]
  },
  {
   "cell_type": "code",
   "execution_count": 19,
   "metadata": {},
   "outputs": [],
   "source": [
    "from sklearn.base import TransformerMixin\n",
    "\n",
    "### aux functions\n",
    "\n",
    "class SelectColumns(TransformerMixin):\n",
    "    def __init__(self, columns: list) -> pd.DataFrame:\n",
    "        if not isinstance(columns, list):\n",
    "            raise ValueError('Specify the columns into a list')\n",
    "        self.columns = columns\n",
    "    def fit(self, X, y=None): # we do not need to specify the target in the transformer. We leave it as optional arg for consistency\n",
    "        return self\n",
    "    def transform(self, X):\n",
    "        return X[self.columns]\n",
    "    \n",
    "class DropColumns(TransformerMixin):\n",
    "    def __init__(self, columns: list) -> pd.DataFrame:\n",
    "        if not isinstance(columns, list):\n",
    "            raise ValueError('Specify the columns into a list')\n",
    "        self.columns = columns\n",
    "    def fit(self, X, y=None):\n",
    "        return self\n",
    "    def transform(self, X):\n",
    "        return X.drop(self.columns, axis=1)"
   ]
  },
  {
   "cell_type": "markdown",
   "metadata": {},
   "source": [
    "Vamos a probar..."
   ]
  },
  {
   "cell_type": "code",
   "execution_count": 20,
   "metadata": {},
   "outputs": [
    {
     "data": {
      "text/html": [
       "<div>\n",
       "<style scoped>\n",
       "    .dataframe tbody tr th:only-of-type {\n",
       "        vertical-align: middle;\n",
       "    }\n",
       "\n",
       "    .dataframe tbody tr th {\n",
       "        vertical-align: top;\n",
       "    }\n",
       "\n",
       "    .dataframe thead th {\n",
       "        text-align: right;\n",
       "    }\n",
       "</style>\n",
       "<table border=\"1\" class=\"dataframe\">\n",
       "  <thead>\n",
       "    <tr style=\"text-align: right;\">\n",
       "      <th></th>\n",
       "      <th>sex</th>\n",
       "    </tr>\n",
       "  </thead>\n",
       "  <tbody>\n",
       "    <tr>\n",
       "      <th>0</th>\n",
       "      <td>M</td>\n",
       "    </tr>\n",
       "    <tr>\n",
       "      <th>1</th>\n",
       "      <td>M</td>\n",
       "    </tr>\n",
       "    <tr>\n",
       "      <th>2</th>\n",
       "      <td>F</td>\n",
       "    </tr>\n",
       "    <tr>\n",
       "      <th>3</th>\n",
       "      <td>M</td>\n",
       "    </tr>\n",
       "    <tr>\n",
       "      <th>4</th>\n",
       "      <td>I</td>\n",
       "    </tr>\n",
       "    <tr>\n",
       "      <th>...</th>\n",
       "      <td>...</td>\n",
       "    </tr>\n",
       "    <tr>\n",
       "      <th>4172</th>\n",
       "      <td>F</td>\n",
       "    </tr>\n",
       "    <tr>\n",
       "      <th>4173</th>\n",
       "      <td>M</td>\n",
       "    </tr>\n",
       "    <tr>\n",
       "      <th>4174</th>\n",
       "      <td>M</td>\n",
       "    </tr>\n",
       "    <tr>\n",
       "      <th>4175</th>\n",
       "      <td>F</td>\n",
       "    </tr>\n",
       "    <tr>\n",
       "      <th>4176</th>\n",
       "      <td>M</td>\n",
       "    </tr>\n",
       "  </tbody>\n",
       "</table>\n",
       "<p>4177 rows × 1 columns</p>\n",
       "</div>"
      ],
      "text/plain": [
       "     sex\n",
       "0      M\n",
       "1      M\n",
       "2      F\n",
       "3      M\n",
       "4      I\n",
       "...   ..\n",
       "4172   F\n",
       "4173   M\n",
       "4174   M\n",
       "4175   F\n",
       "4176   M\n",
       "\n",
       "[4177 rows x 1 columns]"
      ]
     },
     "execution_count": 20,
     "metadata": {},
     "output_type": "execute_result"
    }
   ],
   "source": [
    "sel_col = SelectColumns(['sex'])\n",
    "sel_col.fit_transform(data)"
   ]
  },
  {
   "cell_type": "code",
   "execution_count": 21,
   "metadata": {},
   "outputs": [
    {
     "data": {
      "text/html": [
       "<div>\n",
       "<style scoped>\n",
       "    .dataframe tbody tr th:only-of-type {\n",
       "        vertical-align: middle;\n",
       "    }\n",
       "\n",
       "    .dataframe tbody tr th {\n",
       "        vertical-align: top;\n",
       "    }\n",
       "\n",
       "    .dataframe thead th {\n",
       "        text-align: right;\n",
       "    }\n",
       "</style>\n",
       "<table border=\"1\" class=\"dataframe\">\n",
       "  <thead>\n",
       "    <tr style=\"text-align: right;\">\n",
       "      <th></th>\n",
       "      <th>length</th>\n",
       "      <th>diameter</th>\n",
       "      <th>height</th>\n",
       "      <th>whole_weight</th>\n",
       "      <th>shucked_weight</th>\n",
       "      <th>viscera_weight</th>\n",
       "      <th>shell_weight</th>\n",
       "      <th>y_rings</th>\n",
       "    </tr>\n",
       "  </thead>\n",
       "  <tbody>\n",
       "    <tr>\n",
       "      <th>0</th>\n",
       "      <td>0.455</td>\n",
       "      <td>0.365</td>\n",
       "      <td>0.095</td>\n",
       "      <td>0.5140</td>\n",
       "      <td>0.2245</td>\n",
       "      <td>0.1010</td>\n",
       "      <td>0.1500</td>\n",
       "      <td>15</td>\n",
       "    </tr>\n",
       "    <tr>\n",
       "      <th>1</th>\n",
       "      <td>0.350</td>\n",
       "      <td>0.265</td>\n",
       "      <td>0.090</td>\n",
       "      <td>0.2255</td>\n",
       "      <td>0.0995</td>\n",
       "      <td>0.0485</td>\n",
       "      <td>0.0700</td>\n",
       "      <td>7</td>\n",
       "    </tr>\n",
       "    <tr>\n",
       "      <th>2</th>\n",
       "      <td>0.530</td>\n",
       "      <td>0.420</td>\n",
       "      <td>0.135</td>\n",
       "      <td>0.6770</td>\n",
       "      <td>0.2565</td>\n",
       "      <td>0.1415</td>\n",
       "      <td>0.2100</td>\n",
       "      <td>9</td>\n",
       "    </tr>\n",
       "    <tr>\n",
       "      <th>3</th>\n",
       "      <td>0.440</td>\n",
       "      <td>0.365</td>\n",
       "      <td>0.125</td>\n",
       "      <td>0.5160</td>\n",
       "      <td>0.2155</td>\n",
       "      <td>0.1140</td>\n",
       "      <td>0.1550</td>\n",
       "      <td>10</td>\n",
       "    </tr>\n",
       "    <tr>\n",
       "      <th>4</th>\n",
       "      <td>0.330</td>\n",
       "      <td>0.255</td>\n",
       "      <td>0.080</td>\n",
       "      <td>0.2050</td>\n",
       "      <td>0.0895</td>\n",
       "      <td>0.0395</td>\n",
       "      <td>0.0550</td>\n",
       "      <td>7</td>\n",
       "    </tr>\n",
       "    <tr>\n",
       "      <th>...</th>\n",
       "      <td>...</td>\n",
       "      <td>...</td>\n",
       "      <td>...</td>\n",
       "      <td>...</td>\n",
       "      <td>...</td>\n",
       "      <td>...</td>\n",
       "      <td>...</td>\n",
       "      <td>...</td>\n",
       "    </tr>\n",
       "    <tr>\n",
       "      <th>4172</th>\n",
       "      <td>0.565</td>\n",
       "      <td>0.450</td>\n",
       "      <td>0.165</td>\n",
       "      <td>0.8870</td>\n",
       "      <td>0.3700</td>\n",
       "      <td>0.2390</td>\n",
       "      <td>0.2490</td>\n",
       "      <td>11</td>\n",
       "    </tr>\n",
       "    <tr>\n",
       "      <th>4173</th>\n",
       "      <td>0.590</td>\n",
       "      <td>0.440</td>\n",
       "      <td>0.135</td>\n",
       "      <td>0.9660</td>\n",
       "      <td>0.4390</td>\n",
       "      <td>0.2145</td>\n",
       "      <td>0.2605</td>\n",
       "      <td>10</td>\n",
       "    </tr>\n",
       "    <tr>\n",
       "      <th>4174</th>\n",
       "      <td>0.600</td>\n",
       "      <td>0.475</td>\n",
       "      <td>0.205</td>\n",
       "      <td>1.1760</td>\n",
       "      <td>0.5255</td>\n",
       "      <td>0.2875</td>\n",
       "      <td>0.3080</td>\n",
       "      <td>9</td>\n",
       "    </tr>\n",
       "    <tr>\n",
       "      <th>4175</th>\n",
       "      <td>0.625</td>\n",
       "      <td>0.485</td>\n",
       "      <td>0.150</td>\n",
       "      <td>1.0945</td>\n",
       "      <td>0.5310</td>\n",
       "      <td>0.2610</td>\n",
       "      <td>0.2960</td>\n",
       "      <td>10</td>\n",
       "    </tr>\n",
       "    <tr>\n",
       "      <th>4176</th>\n",
       "      <td>0.710</td>\n",
       "      <td>0.555</td>\n",
       "      <td>0.195</td>\n",
       "      <td>1.9485</td>\n",
       "      <td>0.9455</td>\n",
       "      <td>0.3765</td>\n",
       "      <td>0.4950</td>\n",
       "      <td>12</td>\n",
       "    </tr>\n",
       "  </tbody>\n",
       "</table>\n",
       "<p>4177 rows × 8 columns</p>\n",
       "</div>"
      ],
      "text/plain": [
       "      length  diameter  height  whole_weight  shucked_weight  viscera_weight  \\\n",
       "0      0.455     0.365   0.095        0.5140          0.2245          0.1010   \n",
       "1      0.350     0.265   0.090        0.2255          0.0995          0.0485   \n",
       "2      0.530     0.420   0.135        0.6770          0.2565          0.1415   \n",
       "3      0.440     0.365   0.125        0.5160          0.2155          0.1140   \n",
       "4      0.330     0.255   0.080        0.2050          0.0895          0.0395   \n",
       "...      ...       ...     ...           ...             ...             ...   \n",
       "4172   0.565     0.450   0.165        0.8870          0.3700          0.2390   \n",
       "4173   0.590     0.440   0.135        0.9660          0.4390          0.2145   \n",
       "4174   0.600     0.475   0.205        1.1760          0.5255          0.2875   \n",
       "4175   0.625     0.485   0.150        1.0945          0.5310          0.2610   \n",
       "4176   0.710     0.555   0.195        1.9485          0.9455          0.3765   \n",
       "\n",
       "      shell_weight  y_rings  \n",
       "0           0.1500       15  \n",
       "1           0.0700        7  \n",
       "2           0.2100        9  \n",
       "3           0.1550       10  \n",
       "4           0.0550        7  \n",
       "...            ...      ...  \n",
       "4172        0.2490       11  \n",
       "4173        0.2605       10  \n",
       "4174        0.3080        9  \n",
       "4175        0.2960       10  \n",
       "4176        0.4950       12  \n",
       "\n",
       "[4177 rows x 8 columns]"
      ]
     },
     "execution_count": 21,
     "metadata": {},
     "output_type": "execute_result"
    }
   ],
   "source": [
    "drop_col = DropColumns(['sex'])\n",
    "drop_col.fit_transform(data)"
   ]
  },
  {
   "cell_type": "markdown",
   "metadata": {},
   "source": [
    "**transformation to one-hot-encode 'sex' feature**"
   ]
  },
  {
   "cell_type": "code",
   "execution_count": 22,
   "metadata": {},
   "outputs": [],
   "source": [
    "from sklearn.preprocessing import OneHotEncoder\n",
    "\n",
    "select_col_step = ('select', SelectColumns(['sex']))  ##\n",
    "\n",
    "one_hot_step = ('sex_one_hot', OneHotEncoder(sparse=False))\n",
    "\n",
    "cat_pipe_steps = [select_col_step, one_hot_step]\n",
    "\n",
    "cat_pipe = Pipeline(cat_pipe_steps)"
   ]
  },
  {
   "cell_type": "code",
   "execution_count": 23,
   "metadata": {},
   "outputs": [
    {
     "data": {
      "text/plain": [
       "array([[0., 0., 1.],\n",
       "       [0., 0., 1.],\n",
       "       [1., 0., 0.],\n",
       "       ...,\n",
       "       [0., 0., 1.],\n",
       "       [1., 0., 0.],\n",
       "       [0., 0., 1.]])"
      ]
     },
     "execution_count": 23,
     "metadata": {},
     "output_type": "execute_result"
    }
   ],
   "source": [
    "cat_pipe.fit_transform(data)"
   ]
  },
  {
   "cell_type": "code",
   "execution_count": 24,
   "metadata": {},
   "outputs": [
    {
     "data": {
      "text/plain": [
       "[array(['F', 'I', 'M'], dtype=object)]"
      ]
     },
     "execution_count": 24,
     "metadata": {},
     "output_type": "execute_result"
    }
   ],
   "source": [
    "cat_pipe['sex_one_hot'].categories_"
   ]
  },
  {
   "cell_type": "markdown",
   "metadata": {},
   "source": [
    "**Transformation of the numeric values by MinMaxScaler**"
   ]
  },
  {
   "cell_type": "code",
   "execution_count": 25,
   "metadata": {},
   "outputs": [],
   "source": [
    "from sklearn.preprocessing import MinMaxScaler\n",
    "\n",
    "drop_column_step = ('drop_column', DropColumns(['sex']))\n",
    "\n",
    "poly_step = ('poly', PolynomialFeatures(2,  interaction_only=True))\n",
    "\n",
    "scaler_step = ('scaler', MinMaxScaler())\n",
    "\n",
    "num_pipe_steps = [drop_column_step, poly_step, scaler_step]  ##\n",
    "\n",
    "num_pipe = Pipeline(num_pipe_steps)"
   ]
  },
  {
   "cell_type": "markdown",
   "metadata": {},
   "source": [
    "**Join the two pipes using feature union**"
   ]
  },
  {
   "cell_type": "code",
   "execution_count": 26,
   "metadata": {},
   "outputs": [],
   "source": [
    "from sklearn.pipeline import FeatureUnion\n",
    "\n",
    "transformer_list = [('num_pipe', num_pipe),\n",
    "                    ('cat_pipe', cat_pipe)]\n",
    "\n",
    "full_pipe = FeatureUnion(transformer_list=transformer_list)"
   ]
  },
  {
   "cell_type": "markdown",
   "metadata": {},
   "source": [
    "Now, `full_pipe` has the parallel pipeline represented in the image above.\n",
    "\n",
    "We can use it directly as a transformer to check the results or use it in a new pipeline as a preprocessing step before modelling."
   ]
  },
  {
   "cell_type": "markdown",
   "metadata": {},
   "source": [
    "### Use it as a transformer"
   ]
  },
  {
   "cell_type": "code",
   "execution_count": 27,
   "metadata": {},
   "outputs": [],
   "source": [
    "X_train, X_test, y_train, y_test = train_test_split(data.drop('y_rings', axis=1), data.y_rings, test_size=0.2)"
   ]
  },
  {
   "cell_type": "code",
   "execution_count": 28,
   "metadata": {},
   "outputs": [],
   "source": [
    "from sklearn.ensemble import RandomForestRegressor"
   ]
  },
  {
   "cell_type": "code",
   "execution_count": 29,
   "metadata": {},
   "outputs": [],
   "source": [
    "reg = RandomForestRegressor()"
   ]
  },
  {
   "cell_type": "code",
   "execution_count": 30,
   "metadata": {},
   "outputs": [],
   "source": [
    "X_train_trans = full_pipe.fit_transform(X_train)"
   ]
  },
  {
   "cell_type": "code",
   "execution_count": 31,
   "metadata": {},
   "outputs": [
    {
     "data": {
      "text/plain": [
       "RandomForestRegressor(bootstrap=True, ccp_alpha=0.0, criterion='mse',\n",
       "                      max_depth=None, max_features='auto', max_leaf_nodes=None,\n",
       "                      max_samples=None, min_impurity_decrease=0.0,\n",
       "                      min_impurity_split=None, min_samples_leaf=1,\n",
       "                      min_samples_split=2, min_weight_fraction_leaf=0.0,\n",
       "                      n_estimators=100, n_jobs=None, oob_score=False,\n",
       "                      random_state=None, verbose=0, warm_start=False)"
      ]
     },
     "execution_count": 31,
     "metadata": {},
     "output_type": "execute_result"
    }
   ],
   "source": [
    "reg.fit(X_train_trans, y_train)"
   ]
  },
  {
   "cell_type": "code",
   "execution_count": 32,
   "metadata": {},
   "outputs": [],
   "source": [
    "X_test_transformed = full_pipe.transform(X_test)  ##\n",
    "y_test_pred_pipe = reg.predict(X_test_transformed)"
   ]
  },
  {
   "cell_type": "code",
   "execution_count": 33,
   "metadata": {},
   "outputs": [
    {
     "name": "stdout",
     "output_type": "stream",
     "text": [
      "1.5273684210526315\n"
     ]
    }
   ],
   "source": [
    "from sklearn.metrics import mean_absolute_error\n",
    "\n",
    "print(mean_absolute_error(y_test, y_test_pred_pipe))"
   ]
  },
  {
   "cell_type": "code",
   "execution_count": 34,
   "metadata": {},
   "outputs": [],
   "source": [
    "bins = y_test.unique().shape[0]"
   ]
  },
  {
   "cell_type": "code",
   "execution_count": 35,
   "metadata": {},
   "outputs": [
    {
     "data": {
      "image/png": "[encoded data removed]",
      "text/plain": [
       "<Figure size 432x288 with 1 Axes>"
      ]
     },
     "metadata": {
      "needs_background": "light"
     },
     "output_type": "display_data"
    }
   ],
   "source": [
    "plt.hist(y_test, alpha=0.5, bins=bins, label='Real')\n",
    "plt.hist(y_test_pred_pipe, alpha=0.5, bins=bins, label='Predicted')\n",
    "plt.xlabel('rings')\n",
    "plt.legend(loc='best')\n",
    "plt.show()"
   ]
  },
  {
   "cell_type": "code",
   "execution_count": 36,
   "metadata": {},
   "outputs": [
    {
     "data": {
      "text/plain": [
       "Text(0, 0.5, 'Predicted Value')"
      ]
     },
     "execution_count": 36,
     "metadata": {},
     "output_type": "execute_result"
    },
    {
     "data": {
      "image/png": "[encoded data removed]",
      "text/plain": [
       "<Figure size 432x288 with 1 Axes>"
      ]
     },
     "metadata": {
      "needs_background": "light"
     },
     "output_type": "display_data"
    }
   ],
   "source": [
    "f, ax = plt.subplots()\n",
    "\n",
    "\n",
    "ax.scatter(y_test, y_test_pred_pipe)\n",
    "ax.set_xlabel('Real Value')\n",
    "ax.set_ylabel('Predicted Value')"
   ]
  },
  {
   "cell_type": "markdown",
   "metadata": {},
   "source": [
    "## Ejercicio: Repite el ejercicio anterion añadiendo el random forest al pipeline"
   ]
  },
  {
   "cell_type": "code",
   "execution_count": 37,
   "metadata": {},
   "outputs": [],
   "source": [
    "## numerical columns\n",
    "\n",
    "drop_column_step = ('drop_column', DropColumns(['sex']))  ##\n",
    "poly_step = ('poly', PolynomialFeatures(2, interaction_only=True))  ##\n",
    "scaler_step = ('scaler', MinMaxScaler())  ##\n",
    "num_pipe_steps = [drop_column_step, poly_step, scaler_step]  ##\n",
    "num_pipe = Pipeline(num_pipe_steps)  ##\n",
    "\n",
    "## Categorical columns\n",
    "\n",
    "select_col_step = ('select', SelectColumns(['sex']))  ##\n",
    "one_hot_step = ('sex_one_hot', OneHotEncoder(sparse=False))  ##\n",
    "cat_pipe_steps = [select_col_step, one_hot_step]  ##\n",
    "cat_pipe = Pipeline(cat_pipe_steps)  ##\n",
    "\n",
    "## Modelling step\n",
    "\n",
    "regressor_step = ('model', RandomForestRegressor())  ##\n",
    "\n",
    "## Compose Pipeline\n",
    "\n",
    "### Feature uninon over numerical and categorical transformation\n",
    "\n",
    "transformer_list = [('num_pipe', num_pipe), \n",
    "                    ('cat_pipe', cat_pipe)]  ##\n",
    "\n",
    "data_prep_pipe = FeatureUnion(transformer_list=transformer_list)  ##\n",
    "data_prep_step = ('data_prep', data_prep_pipe)  ##\n",
    "\n",
    "### Compose full pipe: RandomForest over data_prep_pipe\n",
    "\n",
    "pipe_steps = [data_prep_step, regressor_step]  ##\n",
    "\n",
    "pipe = Pipeline(pipe_steps)  ##"
   ]
  },
  {
   "cell_type": "code",
   "execution_count": 38,
   "metadata": {},
   "outputs": [
    {
     "data": {
      "text/html": [
       "<div>\n",
       "<style scoped>\n",
       "    .dataframe tbody tr th:only-of-type {\n",
       "        vertical-align: middle;\n",
       "    }\n",
       "\n",
       "    .dataframe tbody tr th {\n",
       "        vertical-align: top;\n",
       "    }\n",
       "\n",
       "    .dataframe thead th {\n",
       "        text-align: right;\n",
       "    }\n",
       "</style>\n",
       "<table border=\"1\" class=\"dataframe\">\n",
       "  <thead>\n",
       "    <tr style=\"text-align: right;\">\n",
       "      <th></th>\n",
       "      <th>sex</th>\n",
       "      <th>length</th>\n",
       "      <th>diameter</th>\n",
       "      <th>height</th>\n",
       "      <th>whole_weight</th>\n",
       "      <th>shucked_weight</th>\n",
       "      <th>viscera_weight</th>\n",
       "      <th>shell_weight</th>\n",
       "    </tr>\n",
       "  </thead>\n",
       "  <tbody>\n",
       "    <tr>\n",
       "      <th>2436</th>\n",
       "      <td>M</td>\n",
       "      <td>0.515</td>\n",
       "      <td>0.400</td>\n",
       "      <td>0.160</td>\n",
       "      <td>0.8175</td>\n",
       "      <td>0.2515</td>\n",
       "      <td>0.1560</td>\n",
       "      <td>0.300</td>\n",
       "    </tr>\n",
       "    <tr>\n",
       "      <th>655</th>\n",
       "      <td>M</td>\n",
       "      <td>0.295</td>\n",
       "      <td>0.215</td>\n",
       "      <td>0.075</td>\n",
       "      <td>0.1290</td>\n",
       "      <td>0.0500</td>\n",
       "      <td>0.0295</td>\n",
       "      <td>0.040</td>\n",
       "    </tr>\n",
       "    <tr>\n",
       "      <th>379</th>\n",
       "      <td>F</td>\n",
       "      <td>0.610</td>\n",
       "      <td>0.495</td>\n",
       "      <td>0.185</td>\n",
       "      <td>1.1085</td>\n",
       "      <td>0.3705</td>\n",
       "      <td>0.3135</td>\n",
       "      <td>0.330</td>\n",
       "    </tr>\n",
       "    <tr>\n",
       "      <th>3703</th>\n",
       "      <td>F</td>\n",
       "      <td>0.670</td>\n",
       "      <td>0.510</td>\n",
       "      <td>0.155</td>\n",
       "      <td>1.2780</td>\n",
       "      <td>0.5605</td>\n",
       "      <td>0.3045</td>\n",
       "      <td>0.358</td>\n",
       "    </tr>\n",
       "    <tr>\n",
       "      <th>2515</th>\n",
       "      <td>F</td>\n",
       "      <td>0.470</td>\n",
       "      <td>0.375</td>\n",
       "      <td>0.120</td>\n",
       "      <td>0.6015</td>\n",
       "      <td>0.2765</td>\n",
       "      <td>0.1455</td>\n",
       "      <td>0.135</td>\n",
       "    </tr>\n",
       "    <tr>\n",
       "      <th>...</th>\n",
       "      <td>...</td>\n",
       "      <td>...</td>\n",
       "      <td>...</td>\n",
       "      <td>...</td>\n",
       "      <td>...</td>\n",
       "      <td>...</td>\n",
       "      <td>...</td>\n",
       "      <td>...</td>\n",
       "    </tr>\n",
       "    <tr>\n",
       "      <th>2961</th>\n",
       "      <td>F</td>\n",
       "      <td>0.665</td>\n",
       "      <td>0.510</td>\n",
       "      <td>0.175</td>\n",
       "      <td>1.3805</td>\n",
       "      <td>0.6750</td>\n",
       "      <td>0.2985</td>\n",
       "      <td>0.325</td>\n",
       "    </tr>\n",
       "    <tr>\n",
       "      <th>2200</th>\n",
       "      <td>F</td>\n",
       "      <td>0.650</td>\n",
       "      <td>0.515</td>\n",
       "      <td>0.195</td>\n",
       "      <td>1.4005</td>\n",
       "      <td>0.5195</td>\n",
       "      <td>0.3600</td>\n",
       "      <td>0.440</td>\n",
       "    </tr>\n",
       "    <tr>\n",
       "      <th>98</th>\n",
       "      <td>M</td>\n",
       "      <td>0.470</td>\n",
       "      <td>0.370</td>\n",
       "      <td>0.130</td>\n",
       "      <td>0.5225</td>\n",
       "      <td>0.2010</td>\n",
       "      <td>0.1330</td>\n",
       "      <td>0.165</td>\n",
       "    </tr>\n",
       "    <tr>\n",
       "      <th>2557</th>\n",
       "      <td>I</td>\n",
       "      <td>0.390</td>\n",
       "      <td>0.295</td>\n",
       "      <td>0.100</td>\n",
       "      <td>0.2790</td>\n",
       "      <td>0.1155</td>\n",
       "      <td>0.0590</td>\n",
       "      <td>0.080</td>\n",
       "    </tr>\n",
       "    <tr>\n",
       "      <th>3183</th>\n",
       "      <td>M</td>\n",
       "      <td>0.565</td>\n",
       "      <td>0.440</td>\n",
       "      <td>0.115</td>\n",
       "      <td>0.9185</td>\n",
       "      <td>0.4040</td>\n",
       "      <td>0.1785</td>\n",
       "      <td>0.290</td>\n",
       "    </tr>\n",
       "  </tbody>\n",
       "</table>\n",
       "<p>3341 rows × 8 columns</p>\n",
       "</div>"
      ],
      "text/plain": [
       "     sex  length  diameter  height  whole_weight  shucked_weight  \\\n",
       "2436   M   0.515     0.400   0.160        0.8175          0.2515   \n",
       "655    M   0.295     0.215   0.075        0.1290          0.0500   \n",
       "379    F   0.610     0.495   0.185        1.1085          0.3705   \n",
       "3703   F   0.670     0.510   0.155        1.2780          0.5605   \n",
       "2515   F   0.470     0.375   0.120        0.6015          0.2765   \n",
       "...   ..     ...       ...     ...           ...             ...   \n",
       "2961   F   0.665     0.510   0.175        1.3805          0.6750   \n",
       "2200   F   0.650     0.515   0.195        1.4005          0.5195   \n",
       "98     M   0.470     0.370   0.130        0.5225          0.2010   \n",
       "2557   I   0.390     0.295   0.100        0.2790          0.1155   \n",
       "3183   M   0.565     0.440   0.115        0.9185          0.4040   \n",
       "\n",
       "      viscera_weight  shell_weight  \n",
       "2436          0.1560         0.300  \n",
       "655           0.0295         0.040  \n",
       "379           0.3135         0.330  \n",
       "3703          0.3045         0.358  \n",
       "2515          0.1455         0.135  \n",
       "...              ...           ...  \n",
       "2961          0.2985         0.325  \n",
       "2200          0.3600         0.440  \n",
       "98            0.1330         0.165  \n",
       "2557          0.0590         0.080  \n",
       "3183          0.1785         0.290  \n",
       "\n",
       "[3341 rows x 8 columns]"
      ]
     },
     "execution_count": 38,
     "metadata": {},
     "output_type": "execute_result"
    }
   ],
   "source": [
    "## Review raw data\n",
    "X_train"
   ]
  },
  {
   "cell_type": "code",
   "execution_count": 39,
   "metadata": {
    "scrolled": true
   },
   "outputs": [
    {
     "data": {
      "text/plain": [
       "Pipeline(memory=None,\n",
       "         steps=[('data_prep',\n",
       "                 FeatureUnion(n_jobs=None,\n",
       "                              transformer_list=[('num_pipe',\n",
       "                                                 Pipeline(memory=None,\n",
       "                                                          steps=[('drop_column',\n",
       "                                                                  <__main__.DropColumns object at 0x7fedd1995710>),\n",
       "                                                                 ('poly',\n",
       "                                                                  PolynomialFeatures(degree=2,\n",
       "                                                                                     include_bias=True,\n",
       "                                                                                     interaction_only=True,\n",
       "                                                                                     order='C')),\n",
       "                                                                 ('scaler',\n",
       "                                                                  MinMaxScaler(copy=True,\n",
       "                                                                               feature_range=(0,\n",
       "                                                                                              1)))],\n",
       "                                                          verbose=False)),\n",
       "                                                ('cat...\n",
       "                 RandomForestRegressor(bootstrap=True, ccp_alpha=0.0,\n",
       "                                       criterion='mse', max_depth=None,\n",
       "                                       max_features='auto', max_leaf_nodes=None,\n",
       "                                       max_samples=None,\n",
       "                                       min_impurity_decrease=0.0,\n",
       "                                       min_impurity_split=None,\n",
       "                                       min_samples_leaf=1, min_samples_split=2,\n",
       "                                       min_weight_fraction_leaf=0.0,\n",
       "                                       n_estimators=100, n_jobs=None,\n",
       "                                       oob_score=False, random_state=None,\n",
       "                                       verbose=0, warm_start=False))],\n",
       "         verbose=False)"
      ]
     },
     "execution_count": 39,
     "metadata": {},
     "output_type": "execute_result"
    }
   ],
   "source": [
    "## train all pipeline from raw data\n",
    "pipe.fit(X_train, y_train)"
   ]
  },
  {
   "cell_type": "code",
   "execution_count": 40,
   "metadata": {},
   "outputs": [],
   "source": [
    "## predict from raw data. Pipeline will be in charge of transformations\n",
    "y_predict = pipe.predict(X_test)"
   ]
  },
  {
   "cell_type": "code",
   "execution_count": 41,
   "metadata": {
    "scrolled": true
   },
   "outputs": [
    {
     "data": {
      "text/plain": [
       "<matplotlib.collections.PathCollection at 0x7fedd1a639d0>"
      ]
     },
     "execution_count": 41,
     "metadata": {},
     "output_type": "execute_result"
    },
    {
     "data": {
      "image/png": "[encoded data removed]",
      "text/plain": [
       "<Figure size 432x288 with 1 Axes>"
      ]
     },
     "metadata": {
      "needs_background": "light"
     },
     "output_type": "display_data"
    }
   ],
   "source": [
    "plt.scatter(y_test, y_predict)"
   ]
  }
 ],
 "metadata": {
  "kernelspec": {
   "display_name": "musi-aa",
   "language": "python",
   "name": "musi-aa"
  },
  "language_info": {
   "codemirror_mode": {
    "name": "ipython",
    "version": 3
   },
   "file_extension": ".py",
   "mimetype": "text/x-python",
   "name": "python",
   "nbconvert_exporter": "python",
   "pygments_lexer": "ipython3",
   "version": "3.7.11"
  },
  "varInspector": {
   "cols": {
    "lenName": 16,
    "lenType": 16,
    "lenVar": 40
   },
   "kernels_config": {
    "python": {
     "delete_cmd_postfix": "",
     "delete_cmd_prefix": "del ",
     "library": "var_list.py",
     "varRefreshCmd": "print(var_dic_list())"
    },
    "r": {
     "delete_cmd_postfix": ") ",
     "delete_cmd_prefix": "rm(",
     "library": "var_list.r",
     "varRefreshCmd": "cat(var_dic_list()) "
    }
   },
   "position": {
    "height": "511.85px",
    "left": "570px",
    "right": "20px",
    "top": "120px",
    "width": "664px"
   },
   "types_to_exclude": [
    "module",
    "function",
    "builtin_function_or_method",
    "instance",
    "_Feature"
   ],
   "window_display": false
  }
 },
 "nbformat": 4,
 "nbformat_minor": 4
}
