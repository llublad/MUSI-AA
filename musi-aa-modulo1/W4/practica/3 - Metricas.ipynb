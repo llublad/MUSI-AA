{
 "cells": [
  {
   "cell_type": "markdown",
   "metadata": {},
   "source": [
    "# Métricas\n",
    "\n",
    "En las sesiones anteriores hemos descrito a los algoritmos de aprendizaje automático supervisados como funciones de mapeo entre unas variables independientes de entrada, $X$, y una variable objetivo de salida $y$. El objetivo de estas funciones de mapeo, $\\hat{f}$, no es el de encontrar la función real subyacente a las observaciones, si no darnos una herramienta **útil** para predecir el valor esperado de la variable objetivo, $\\hat{y}$, dado un nuevo set de  observaciones.\n",
    "\n",
    "Hemos visto que tanto los modelos paramétricos (regresión lineal), como los no paramétricos (arbol de decisión), los modelos cambian su estado interno para ajustarse a los datos observados en base a la minimización de un coste asociado a las predicciones del modelo. Este proceso de aprendizaje, o entrenamiento, nos permite obtener el mejor estado interno para un modelo dado. Por ejemplo, en el caso de una regresión lineal, sería aquel modelo tipo $\\hat{y} = \\theta X$ donde $\\theta$ nos minimiza el error cuadrático medio sobre la muestra.\n",
    "\n",
    "Recordemos que nosotros no conocemos la función real a aproximar y, que dada la naturaleza p-dimensional de los datos, siendo $p$ el número de predictores, no será trivial averiguar la relación entre los predictores y la variable objetivo. Es natural entonces que nos preguntemos ¿es el modelo que he elegido?\n",
    "\n",
    "La única forma de responder a esta pregunta es utilizando un metodo de comparación directa. Entrenar varios tipos de modelos y evaluar el rendimiento de esos modelos en base a una métrica que nos permita compararlos en base a la **finalidad** del problema a resolver.\n",
    "\n",
    "En esta sesión trabajaremos sobre las métricas que nos permitiran evaluar y comparar distintos modelos."
   ]
  },
  {
   "cell_type": "markdown",
   "metadata": {},
   "source": [
    "---"
   ]
  },
  {
   "cell_type": "markdown",
   "metadata": {},
   "source": [
    "# 1. Métricas"
   ]
  },
  {
   "cell_type": "markdown",
   "metadata": {},
   "source": [
    "## 1.1 Metricas para problemas de regression\n",
    "\n",
    "Las métricas más comunes en los problemas de regresión son el **error cuadrático** y el **error absoluto**, y sus distintas modificaciones.\n",
    "\n",
    "### 1.1.2 Errores cuadráticos\n",
    "\n",
    "El **error cuadrático (Squared Error)** de un valor predicho con respecto al valor real, se calcula cómo:\n",
    "\n",
    "$$ SE = \\sum_j\\left[f(X_{j}) - y_j\\right]^2$$\n",
    "\n",
    "\n",
    "**Error cuadrático medio (Mean Squared Error)** Da una idea del error de nuestras predicciones dando más peso a los errores grandes.\n",
    "\n",
    "$$ MSE = \\frac{1}{m}\\sum_j^m \\left[f(X_{j \\cdot}) - y_j\\right]^2 $$\n",
    "\n",
    "**Raiz del error cuadrático medio (Root Mean Square Error)** La raíz cuadrada del MSE produce el error de la raíz cuadrada de la media o la desviación de la raíz cuadrada media (RMSE o RMSD). Tiene las mismas unidades que la cantidad que estima. Para un estimador sin sesgo (bies), el RMSE es la raíz cuadrada de la varianza, es decir la desviación estandar.\n",
    "\n",
    "$$ RMSE = \\sqrt{\\frac{1}{m}\\sum_j^m \\left[f(X_{j \\cdot}) - y_j\\right]^2} $$\n",
    "\n",
    "\n",
    ">**Tip**\n",
    ">\n",
    ">A pesar de ser una de las métricas más utilizadas, tiene el inconveniente de ser sensible a los valores extremos (outliers). Cuando este comportamiento pueda suponer un problema, los **errores absolutos** pueden darnos una mejor medida de rendimiento."
   ]
  },
  {
   "cell_type": "markdown",
   "metadata": {},
   "source": [
    "## Preparación del entorno"
   ]
  },
  {
   "cell_type": "code",
   "execution_count": 1,
   "metadata": {},
   "outputs": [],
   "source": [
    "import pandas as pd  ##\n",
    "import numpy as np  ##\n",
    "import seaborn as sns  ##\n",
    "import matplotlib.pyplot as plt  ##\n",
    "\n",
    "sns.set_style('darkgrid')\n",
    "sns.set_context('notebook')\n",
    "sns.set(rc={'figure.figsize':(12, 8)})"
   ]
  },
  {
   "cell_type": "code",
   "execution_count": 2,
   "metadata": {},
   "outputs": [],
   "source": [
    "## Escribe una función que devuelva el MSE y el RMSE dados dos arrays de numpy\n",
    "\n",
    "def MSE(x1, x2):\n",
    "    \"\"\"\n",
    "    Returns the Root Mean Squared Error of the two input vectors\n",
    "    \"\"\"\n",
    "    sq_error = np.square(x1 - x2)  ##\n",
    "    mean_sq_error = np.mean(sq_error)  ##\n",
    "    return mean_sq_error\n",
    "\n",
    "def RMSE(x1, x2):\n",
    "    \"\"\"\n",
    "    Returns the Root Mean Squared Error of two vectors. Depends on the MSE function\n",
    "    \"\"\"\n",
    "    mse = MSE(x1, x2)\n",
    "    root_mse = np.sqrt(mse)  ##\n",
    "    return root_mse"
   ]
  },
  {
   "cell_type": "code",
   "execution_count": 3,
   "metadata": {},
   "outputs": [],
   "source": [
    "## Utiliza la función del error cuadrático en las métricas de sklearn para crear la funcion de RMSE\n",
    "from sklearn.metrics import mean_squared_error  ##\n",
    "\n",
    "def RMSE_sk(y_true, y_pred):\n",
    "    return np.sqrt(mean_squared_error(y_true, y_pred))  ##"
   ]
  },
  {
   "cell_type": "markdown",
   "metadata": {},
   "source": [
    "### 1.1.3 Errores absolutos\n",
    "\n",
    "El **error absoluto** (Absolute Error) se define cómo:\n",
    "\n",
    "$$ AE = \\sum_j \\left|f(X_{j \\cdot}) - y_j\\right| $$\n",
    "\n",
    "#### Error absoluto medio (Mean Absolute Error)\n",
    "\n",
    "Es más robusto a los valores extremos y su interpretabilidad es más alta que la del RMSE ya que también está en las unidades de la variable a predecir con la ventaja de que el dato no ha sufrido ninguna transformación.\n",
    "\n",
    "$$ MAE = \\frac{1}{m} \\sum_j^m \\left|f(X_{j \\cdot}) - y_j\\right| $$\n",
    "\n",
    "#### Error absoluto medio porcentual (Mean Average Percentage Error)\n",
    "\n",
    "A pesar de su simpleza, presenta varios inconvenientes a la hora de usarlo de forma práctica. Por ejemplo, **no puede usarse cuando el valor de referencia es 0**. Además, **si se usa para elegir métodos predictivos seleccionará de forma sistemática un metodo que prediga valores bajos.**\n",
    "[wiki](https://en.wikipedia.org/wiki/Mean_absolute_percentage_error)\n",
    "\n",
    "$$ MAPE = \\frac{1}{m} \\sum_j^m \\left|\\frac{f(X_{j \\cdot}) - y_j}{y_j}\\right| $$\n"
   ]
  },
  {
   "cell_type": "code",
   "execution_count": 4,
   "metadata": {},
   "outputs": [],
   "source": [
    "## Escribe una función que devuelva el MAE y el MAPE dados dos arrays de numpy\n",
    "import numpy as np\n",
    "\n",
    "def MAE(y_true, y_pred):\n",
    "    \"\"\"\n",
    "    Returns de MAE of the two input vectors\n",
    "    \"\"\"\n",
    "    return np.mean(np.abs(y_pred - y_true))  ##\n",
    "\n",
    "def MAPE(y_true, y_pred):\n",
    "    \"\"\"\n",
    "    Returns de MAPE of two vectors.\n",
    "    \"\"\"\n",
    "    return np.mean(np.abs((y_pred - y_true) / y_true))  ##"
   ]
  },
  {
   "cell_type": "markdown",
   "metadata": {},
   "source": [
    "### 1.1.4 Generalización\n",
    "\n",
    "Las dos **métricas** expuestas anteriormente pueden considerarse como **distancias entre el vector de valores reales y el predicho**. De hecho, el RMSE corresponde a la **distancia euclidiana**, también conocida como norma $l_2$ o $\\lVert{v}\\rVert_2$.\n",
    "\n",
    "Por otro lado, el MAE corresponde a la norma $l_1$ o $\\lVert{v}\\rVert_1$. A esta distancia se la conoce como **distancia de manhattan**, porque sólo se puede viajar de un bloque a otro de la ciudad a traves de calles ortogonales.\n",
    "\n",
    "De forma general, una norma $l_k$ o $\\lVert{v}\\rVert_k$ se calcula:\n",
    "\n",
    "$$\\lVert{v}\\rVert_k = \\left(|v_0|^k + ...+ |v_m|^k \\right)^\\frac{1}{k}$$\n",
    "\n",
    "El concepto de distancia será particularmente útil en los problemas de segmentación (aprendizaje no supervisado)\n"
   ]
  },
  {
   "cell_type": "markdown",
   "metadata": {},
   "source": [
    "### 1.1.5 Coeficiente de determinación ($R^2$)\n",
    "\n",
    "El coeficiente determina la calidad del modelo para replicar los resultados, y la proporción de variación de los resultados que puede explicarse por el modelo. El valor más alto obtenible será 1, aunque hay casos en los que puede presentar valores negativos. De forma intuitiva, $R^2$ compara el \"fit\" de nuestro modelo al de una linea recta horizontal. Dada una regresión lineal simple, un $R^2$ negativo sólo es posible cuando la ordenada en el origen o la pendiente están restringidas de forma que el mejor modelo es peor que una linea horizontal.\n",
    "\n",
    "Si representamos la **varianza de la variable dependiente** por $\\sigma^{2}$ y la **varianza residual** por $\\sigma _{r}^{2}$, el coeficiente de determinación viene dado por la siguiente ecuación:\n",
    "\n",
    "$$ R^{2}=1- \\frac{\\sigma_{r}^{2}}{\\sigma ^{2}}$$\n",
    "\n",
    "\n",
    "Siendo $\\hat{y}_i$ el valor predicho de la muestra i y $y_i$ el valor real, el $R^2$ estimado sobre $n_{\\text{muestras}}$ se define como:\n",
    "\n",
    "$$ R^2(y, \\hat{y}) = 1 - \\frac{\\sum_{i=0}^{n_{\\text{samples}} - 1} (y_i - \\hat{y}_i)^2}{\\sum_{i=0}^{n_\\text{samples} - 1} (y_i - \\bar{y})^2}$$\n",
    "donde $$ \\bar{y} =  \\frac{1}{n_{\\text{samples}}} \\sum_{i=0}^{n_{\\text{samples}} - 1} y_i.$$\n"
   ]
  },
  {
   "cell_type": "code",
   "execution_count": 5,
   "metadata": {},
   "outputs": [],
   "source": [
    "### Crea una función que dados dos vectores calcule la función de R²\n",
    "def r_square(y_true, y_pred):\n",
    "    var_res = ((y_true - y_pred)**2).sum()\n",
    "    var_y = ((y_true - y_true.mean())**2).sum()\n",
    "    return 1 - var_res/var_y"
   ]
  },
  {
   "cell_type": "code",
   "execution_count": 6,
   "metadata": {},
   "outputs": [
    {
     "name": "stdout",
     "output_type": "stream",
     "text": [
      "OK\n"
     ]
    }
   ],
   "source": [
    "### Utiliza la función implementada en sklearn y compara los resultados\n",
    "from sklearn.metrics import r2_score ##\n",
    "\n",
    "y_true = np.random.random(10)\n",
    "y_pred = np.random.random(10)\n",
    "\n",
    "if r2_score(y_true, y_pred) == r_square(y_true, y_pred): ##\n",
    "    print('OK')"
   ]
  },
  {
   "cell_type": "markdown",
   "metadata": {},
   "source": [
    "#### 1.1.5.1 Consideraciones R²\n",
    "\n",
    "1. R² no puede determinar si los coeficientes y las predicciones tienen bies: Hay que checkear los residos --> Si observamos patrones en los plots de residuos es indicativo de un mal ajuste a pesar de un R2 elevado\n",
    "\n",
    "1. Cada vez que añadimos un predictor a un modelo, el R² aumenta aunque sea por suerte, pero nunca decrece. Por consiguiente, un modelo con muchos terminos puede parecer mejor simplemente por el hecho de tener más terminos. Para prevenir este efecto, podemos usar el **adjusted R²**, una versión modificada que se ajusta al número de predictores en el modelo. De ésta forma, el R² solo aumenta si el nuevo término mejora el modelo más que por mera suerte. Siempre es más bajo que el R²\n",
    "\n",
    "$$\\text{adjusted}~R^2 = \\bar{R}^2 = 1 - \\frac{N-1}{N-k-1}(1-R^2)$$\n",
    "\n",
    "\n",
    "n – numero de observaciones\n",
    "\n",
    "k – numero de parametros"
   ]
  },
  {
   "cell_type": "code",
   "execution_count": 7,
   "metadata": {},
   "outputs": [],
   "source": [
    "### crea una función que devuelva el R² ajustado\n",
    "\n",
    "def adj_r2_score(model, y_true, y_hat):\n",
    "    r2 = r2_score(y_true, y_hat)\n",
    "    n = y_true.shape[0]\n",
    "    k = model.coef_.shape[0]\n",
    "    num = n - 1\n",
    "    den = n - k - 1\n",
    "    return 1 - ((num) / (den) * (1 - r2))\n",
    "    "
   ]
  },
  {
   "cell_type": "code",
   "execution_count": 18,
   "metadata": {},
   "outputs": [
    {
     "data": {
      "image/png": "[encoded data removed]",
      "text/plain": [
       "<Figure size 576x432 with 1 Axes>"
      ]
     },
     "metadata": {
      "needs_background": "light"
     },
     "output_type": "display_data"
    }
   ],
   "source": [
    "%matplotlib inline\n",
    "import matplotlib.pyplot as plt\n",
    "\n",
    "## load linear regression ML model\n",
    "from sklearn.linear_model import LinearRegression ##\n",
    "\n",
    "## load the tool to construct polynomial features\n",
    "from sklearn.preprocessing import PolynomialFeatures ##\n",
    "\n",
    "## load diabetes dataset\n",
    "from sklearn.datasets import load_diabetes\n",
    "\n",
    "data = load_diabetes()  ##\n",
    "poly = PolynomialFeatures(2)  ##\n",
    "X_poly = poly.fit_transform(data.data)\n",
    "\n",
    "LR = LinearRegression()\n",
    "y = data.target\n",
    "\n",
    "r2 = []\n",
    "r2_adj = []\n",
    "## create a for loop training and predicting the y and calculating the r2 and r2 adj for each number of\n",
    "## features\n",
    "for n_cols in range(1, X_poly.shape[1]):\n",
    "    X = X_poly[:, :n_cols]\n",
    "    LR.fit(X, y)  ##\n",
    "    y_pred = LR.predict(X)  ##\n",
    "    r2.append(r2_score(y, y_pred))\n",
    "    r2_adj.append(adj_r2_score(LR, y, y_pred))\n",
    "\n",
    "plt.figure(figsize=(8,6))\n",
    "plt.plot(r2, label='r2')\n",
    "plt.plot(r2_adj, label='r2_adj')\n",
    "plt.legend(loc='lower right')\n",
    "plt.show()"
   ]
  },
  {
   "cell_type": "markdown",
   "metadata": {},
   "source": [
    "## 1.2 Metricas para problemas de clasificación"
   ]
  },
  {
   "cell_type": "markdown",
   "metadata": {},
   "source": [
    "Cuando hablamos de problemas de clasificación, existe una gran variedad de métricas que nos permiten determinar cómo de bueno es nuestro clasificador. La elección de la métrica vendrá determinada por:\n",
    "\n",
    "1. El tipo de predicción: si es una clase o la **probabilidad** de pertenecer a una clase\n",
    "2. Si se trata de un problema balanceado o no\n",
    "\n",
    "### 1.2.1 Matriz de confusión\n",
    "\n",
    "Antes de empezar, consideremos el caso básico de una clasificación binaria en el que intentamos predecir una clase. Imagina que hemos entrenado un modelo y realizado una serie de predicciones. Es fácil entonces crear una tabla que contenga la siguiente información.\n",
    "\n",
    "|                      | Observación: Perro                | Observación: Gato                 |\n",
    "|--------------------- |:---------------------------------:|:---------------------------------:|\n",
    "| **Predicción Perro** |<span style='color:green'>25</span>|<span style='color:red'>3</span>   |\n",
    "| **Predicción Gato**  |<span style='color:red'>9</span>   |<span style='color:green'>19</span>|\n",
    "\n",
    "Esta tabla se conoce cómo matriz de confusión (en ingles, confusion matrix) y es facilmente extendible a problemas de clasificación de varias categorías.\n",
    "\n",
    "Lo que nos dice esta matriz de forma simplificada es:\n",
    "\n",
    "1. En total tenemos 25+3+9+19 = 56 muestras sobre las que hemos realizado predicciones\n",
    "1. De las 56, 25 + 9 = 34 pertenecen a la clase *perro* y 3+19 = 21 pertenecen a la clase *gato*\n",
    "1. De los 34 *perros*, hemos predicho bien la categoría en 25 casos y mal en 9.\n",
    "1. De los 21 *gatos*, hemos predicho bien la categoría gato en 19 casos y mal en 3\n",
    "\n",
    "|                         | Observation Positive     | Observation Negative    |\n",
    "|-------------------------|:------------------------:|:-----------------------:|\n",
    "| **Prediction Positive** |     True Positive        | False Positive (Type I) |\n",
    "| **Prediction Negative** | False Negative (Type II) |     True Negative       |\n",
    "\n",
    "A partir de esta matriz, se construyen la mayoría de métricas asociadas con los problemas de clasificación.\n",
    "\n",
    "### 1.2.2 Métricas según clase predicha\n",
    "**Accuracy**\n",
    "\n",
    "De forma general, ¿cuantas veces predigo la clase correcta? La más común y muchas veces, la más susceptible a darnos un clasificador erroneo, sobre todo en sets de datos no balanceados.\n",
    "\n",
    "$$Accuracy = \\frac{TP+TN}{total} = \\frac{25+19}{56} \\sim 0.786$$\n",
    "\n",
    "**Error Rate**\n",
    "\n",
    "De similar modo, ¿Cuántas veces me equivoco?\n",
    "\n",
    "$$ Error Rate = 1 - Accuracy = \\frac{FP+FN}{total} = \\frac{9+3}{56} \\sim 0.214 $$\n",
    "\n",
    "**Recall (sensitivity)**\n",
    "\n",
    "Cuando es *perro*, ¿cuantas veces predecimos *perro*?\n",
    "\n",
    "$$ Recall = \\frac{TP}{actual Trues} = \\frac{TP}{TP + FN} = \\frac{25}{25 + 9} \\sim 0.735 $$\n",
    "\n",
    "**Specificity**\n",
    "\n",
    "Cuando es *gato*, ¿cuántas veces predecimos *gato*?\n",
    "\n",
    "$$ Specificity = \\frac{TN}{actual Falses} = \\frac{TN}{TN + FP} = \\frac{21}{19 + 9} \\sim 0.75 $$\n",
    "\n",
    "**Precision**\n",
    "\n",
    "Cuando predecimos *perro*, cuantas veces es correcto?\n",
    "\n",
    "$$ Precision = \\frac{TP}{predicted Trues} = \\frac{TP}{TP + FP} = \\frac{25}{25 + 3} \\sim 0.892 $$\n",
    "\n",
    "**F1-score**\n",
    "\n",
    "A menudo es conveniente **combinar la precision y el recall en una sola métrica** para comparar de forma sencilla dos clasificadores. En vez de calcular una media de la precisión y el recall, se calcula su **media harmónica**. De esta forma se da más peso a los valores bajos por lo que sólo se conseguirá un F1-score alto si ambas, Precision y Recall, son altas.\n",
    "\n",
    "$$F_1= \\frac{1}{\\frac{1}{precision} + \\frac{1}{recall}} = 2 \\times \\frac{precision \\times recall}{precision + recall} = \\frac{TP}{TP + \\frac{FN + FP}{2}} $$\n",
    "\n",
    "\n",
    "Vamos a ver un ejemplo de estas métricas. Para ello, usaremos los datos de vinos que vienen por defecto en la libreria de sklearn."
   ]
  },
  {
   "cell_type": "code",
   "execution_count": 73,
   "metadata": {},
   "outputs": [],
   "source": [
    "## Cargamos los datos de vinos\n",
    "import pandas as pd\n",
    "from sklearn.datasets import load_wine\n",
    "\n",
    "np.random.seed(42)\n",
    "\n",
    "data = load_wine()\n",
    "\n",
    "## Create dataframe with data.data\n",
    "df = pd.DataFrame(data.data)  ##\n",
    "df.columns = data.feature_names\n",
    "df['y'] = data.target\n",
    "\n",
    "# Vamos a forzar solo que distinga entre la clase 0 y las demas\n",
    "# Asigna a la variable 'y' la clase 0 cuando sea 0 y 1 en caso contrario\n",
    "df['y'] = df['y'].where(df['y']==1, 0)\n",
    "#df['y'] = np.where(df['y']==0, 0, 1)  ##\n",
    "# importa el modulo de regresión logística\n",
    "from sklearn.linear_model import LogisticRegression  ##\n",
    "\n",
    "# importa el modulo de StratifiedKfold\n",
    "from sklearn.model_selection import StratifiedKFold  ##\n",
    "\n",
    "# importa el modulo de cross_val_predict\n",
    "from sklearn.model_selection import cross_val_predict  ##\n",
    "\n",
    "#importa el modulo necesario para realizar la partición entre train y test\n",
    "from sklearn.model_selection import train_test_split  ##\n",
    "\n",
    "# divide el dataset en train y test con un tamaño de test del 10% de los datos\n",
    "X_train, X_test, y_train, y_test = train_test_split(df.drop(['y'], axis = 1), df['y'], test_size=0.1)  ##\n",
    "\n",
    "# usa el StratifiedKFold para dividir el X_train en 5 partes.\n",
    "kfold = StratifiedKFold(n_splits=5)  ## 30 ??\n",
    "\n",
    "# instancia una regresión logistica\n",
    "clf = LogisticRegression(solver='newton-cg')\n",
    "\n",
    "# usa la función de cross_val_predict para entrenar y evaluar la regresión logística usando el StratifiedKFold\n",
    "y_pred = cross_val_predict(clf, X_train, y_train, cv=kfold)"
   ]
  },
  {
   "cell_type": "markdown",
   "metadata": {},
   "source": [
    "Una vez hemos realizado las predicciones, veamos cómo se comporta calculando las métricas comentadas anteriormente"
   ]
  },
  {
   "cell_type": "code",
   "execution_count": 74,
   "metadata": {},
   "outputs": [],
   "source": [
    "from sklearn.metrics import confusion_matrix\n",
    "cm = confusion_matrix(y_train, y_pred)"
   ]
  },
  {
   "cell_type": "code",
   "execution_count": 75,
   "metadata": {},
   "outputs": [],
   "source": [
    "def plot_confusion_matrix(cm, labels=['0', '1']):\n",
    "    ax = plt.subplot()\n",
    "    sns.heatmap(cm, annot=True, ax = ax, cmap='Blues')\n",
    "\n",
    "    # labels, title and ticks\n",
    "    ax.set_xlabel('Predicted labels')\n",
    "    ax.set_ylabel('True labels')\n",
    "    if labels:\n",
    "        ax.xaxis.set_ticklabels(labels)\n",
    "        ax.yaxis.set_ticklabels(labels)\n",
    "\n",
    "    ax.set_title('Confusion Matrix')"
   ]
  },
  {
   "cell_type": "code",
   "execution_count": 76,
   "metadata": {},
   "outputs": [
    {
     "data": {
      "image/png": "[encoded data removed]",
      "text/plain": [
       "<Figure size 432x288 with 2 Axes>"
      ]
     },
     "metadata": {
      "needs_background": "light"
     },
     "output_type": "display_data"
    }
   ],
   "source": [
    "plot_confusion_matrix(cm)"
   ]
  },
  {
   "cell_type": "code",
   "execution_count": 77,
   "metadata": {},
   "outputs": [
    {
     "name": "stdout",
     "output_type": "stream",
     "text": [
      "Accuracy: 0.9625\n",
      "Precision: 0.967741935483871\n",
      "Recall: 0.9375\n",
      "F1: 0.9523809523809523\n"
     ]
    }
   ],
   "source": [
    "from sklearn.metrics import accuracy_score, precision_score, recall_score, f1_score\n",
    "\n",
    "print(\"Accuracy:\", accuracy_score(y_train, y_pred))\n",
    "print(\"Precision:\", precision_score(y_train, y_pred))\n",
    "print(\"Recall:\", recall_score(y_train, y_pred))\n",
    "print(\"F1:\", f1_score(y_train, y_pred))"
   ]
  },
  {
   "cell_type": "markdown",
   "metadata": {},
   "source": [
    "**Otra funcionalidad que nos da una visión panorámica de nuestro clasificador es...**"
   ]
  },
  {
   "cell_type": "code",
   "execution_count": 78,
   "metadata": {},
   "outputs": [
    {
     "name": "stdout",
     "output_type": "stream",
     "text": [
      "              precision    recall  f1-score   support\n",
      "\n",
      "           0       0.96      0.98      0.97        96\n",
      "           1       0.97      0.94      0.95        64\n",
      "\n",
      "    accuracy                           0.96       160\n",
      "   macro avg       0.96      0.96      0.96       160\n",
      "weighted avg       0.96      0.96      0.96       160\n",
      "\n"
     ]
    }
   ],
   "source": [
    "from sklearn.metrics import classification_report\n",
    "print(classification_report(y_train, y_pred))"
   ]
  },
  {
   "cell_type": "markdown",
   "metadata": {},
   "source": [
    "### 1.2.3 Metricas para predicciones probabilisticas\n",
    "\n",
    "Muchas veces no solo nos conformaremos con predecir una clase, si no que tendremos que predecir la *probabilidad* de pertenecer a una clase.\n",
    "\n",
    "Varios métodos de clasificación de ML son aptos para este tipo de tarea. En sklear, además del método `clf.predict()` de algunos estimadores, tendremos el método `clf.predict_proba()`, que nos devolverá la probabilidad de pertenecer a cada una de las clases.\n",
    "\n",
    "En realidad, un clasificador calcula la probabilidad y, en base a un umbral, decide la clase a la que pertenece.\n",
    "Por defecto, los algoritmos de ML de sklearn tienen un umbral de 0.5. Es decir, si la probabilidad de pertenecer a una clase es mayor que 0.5, le asigna la etiqueta de esa clase.\n",
    "\n",
    "**¿Qué implica esto?**\n",
    "\n",
    "Básicamente, implica que si jugamos con el umbral de decisión para un predictor probabilístico, podemos alterar las métricas de performance a nuestra voluntad...\n",
    "\n",
    "### Precision vs recall"
   ]
  },
  {
   "cell_type": "code",
   "execution_count": 79,
   "metadata": {},
   "outputs": [
    {
     "data": {
      "application/vnd.jupyter.widget-view+json": {
       "model_id": "16a75501b30140a59a2ea4268cfaf453",
       "version_major": 2,
       "version_minor": 0
      },
      "text/plain": [
       "interactive(children=(FloatSlider(value=0.5, description='threshold', max=1.0, step=0.05), Output()), _dom_cla…"
      ]
     },
     "metadata": {},
     "output_type": "display_data"
    },
    {
     "data": {
      "text/plain": [
       "<function __main__.plot_threshold(threshold=0.5)>"
      ]
     },
     "execution_count": 79,
     "metadata": {},
     "output_type": "execute_result"
    }
   ],
   "source": [
    "from ipywidgets import interact\n",
    "\n",
    "x = np.linspace(0,1,1000)\n",
    "y = np.random.binomial(1, x)\n",
    "\n",
    "def plot_threshold(threshold=0.5):\n",
    "    plt.figure(figsize=(10, 6))\n",
    "    true_pos = (x > threshold) * (y > 0)\n",
    "    plt.plot(x[true_pos], y[true_pos], '.', label=\"True Positive\")\n",
    "    false_pos = (x > threshold) * (y == 0)\n",
    "    plt.plot(x[false_pos], y[false_pos], '.', label=\"False Positive\")\n",
    "    true_neg = (x <= threshold) * (y == 0)\n",
    "    plt.plot(x[true_neg], y[true_neg], '.', label=\"True Negative\")\n",
    "    false_neg = (x <= threshold) * (y > 0)\n",
    "    plt.plot(x[false_neg], y[false_neg], '.', label=\"False Negative\")\n",
    "    plt.axvline(threshold, c='k')\n",
    "    plt.ylim(-0.5, 1.5)\n",
    "    plt.yticks([0,1])\n",
    "    plt.legend()\n",
    "    plt.xlabel('X')\n",
    "    plt.ylabel('y')\n",
    "    \n",
    "    try:\n",
    "        precision = 1.0 * sum(true_pos) / (sum(true_pos) + sum(false_pos))\n",
    "    except ZeroDivisionError:\n",
    "        precision = 1\n",
    "    recall = 1.0 * sum(true_pos) / (sum(true_pos) + sum(false_neg))\n",
    "    plt.title('Precision: %0.2f, Recall: %0.2f' % (precision, recall))\n",
    "    plt.show()\n",
    "\n",
    "interact(plot_threshold, threshold=(0, 1, 0.05))"
   ]
  },
  {
   "cell_type": "markdown",
   "metadata": {},
   "source": [
    "No tiene sentido hablar de éstas métricas de forma independiente, ya que podemos alterar virtualmente su valor al modificar el umbral de decisión. Por ejemplo, si seteamos el umbral de decision muy alto de forma que el clasificador nos devuelva siempre la clase 0, nuestro clasificador tendrá una precision del 100% y un recall nulo.\n",
    "\n",
    "En el caso contrario, si el umbral lo ponemos de forma que facilmente prediga la clase positiva, nuestro clasificador tendrá un recall del 100% a expensas de la precisión.\n",
    "\n",
    "Este comportamiento no tiene por que ser negativo per se. Dependerá del tipo de problema que estemos tratando. \n",
    "\n",
    "**Por ejemplo, en un caso de detección de cancer...que es mejor? Una precision alta o un recall alto?**"
   ]
  },
  {
   "cell_type": "code",
   "execution_count": 80,
   "metadata": {},
   "outputs": [],
   "source": [
    "# vamos a predecir las probabilidades del ejercicio anterior, utiliza `predict_proba` en el argumento method\n",
    "y_proba = cross_val_predict(clf, X_train, y_train, cv=kfold, method='predict_proba')  ##"
   ]
  },
  {
   "cell_type": "code",
   "execution_count": 81,
   "metadata": {},
   "outputs": [
    {
     "data": {
      "text/plain": [
       "[]"
      ]
     },
     "execution_count": 81,
     "metadata": {},
     "output_type": "execute_result"
    },
    {
     "data": {
      "image/png": "[encoded data removed]",
      "text/plain": [
       "<Figure size 432x288 with 1 Axes>"
      ]
     },
     "metadata": {
      "needs_background": "light"
     },
     "output_type": "display_data"
    }
   ],
   "source": [
    "# importa el metodo que nos permite encontrar la curva de precisión y recall\n",
    "from sklearn.metrics import precision_recall_curve  ##\n",
    "\n",
    "# calcula la precision, el recall y los umbrales\n",
    "prec, rec, thre = precision_recall_curve(y_true=y_train, probas_pred=y_proba[:,1])  # Nota: seleccionamos solo la segunda columna, corresponde a la clase 1\n",
    "\n",
    "# haz un plot de la precision y el recall en función de los umbrales\n",
    "plt.plot(thre, prec[:-1], label='precision')\n",
    "plt.plot(thre, rec[:-1], label='recall')\n",
    "plt.legend(loc='best')\n",
    "plt.xlabel('threshold')\n",
    "plt.plot()"
   ]
  },
  {
   "cell_type": "code",
   "execution_count": 82,
   "metadata": {},
   "outputs": [
    {
     "data": {
      "text/plain": [
       "Text(0.5, 1.0, 'Precision-Recall curve')"
      ]
     },
     "execution_count": 82,
     "metadata": {},
     "output_type": "execute_result"
    },
    {
     "data": {
      "image/png": "[encoded data removed]",
      "text/plain": [
       "<Figure size 432x288 with 1 Axes>"
      ]
     },
     "metadata": {
      "needs_background": "light"
     },
     "output_type": "display_data"
    }
   ],
   "source": [
    "# plotea la precisión en funcion del recall\n",
    "plt.plot(rec, prec)\n",
    "plt.xlabel('Recall')\n",
    "plt.ylabel('Precision')\n",
    "plt.title('Precision-Recall curve')"
   ]
  },
  {
   "cell_type": "markdown",
   "metadata": {},
   "source": [
    "### ROC Curve\n",
    "\n",
    "De forma similar a la curva de precision-recall, la curva ROC (*Receiver Operating Characteristic*) es otra herramienta típica usada en clasificadores binarios.\n",
    "\n",
    "A diferencia de la curva PR, la curva ROC compara el True Positive Rate (Recall) y el False Positive Rate (1 - specifity). Recuerda que la *specifity* es el True Negative Rate, el ratio de veces que la clase negativa se clasifica correctamente.\n",
    "\n",
    "Otra forma de comparar clasificadores es comparando el area bajo la curva ROC (Area Under the Curve, AUC). Éste parametro tiene cómo límite superior 1, mientras que un valor de 0.5 corresponde a un clasificador completamente aleatorio."
   ]
  },
  {
   "cell_type": "code",
   "execution_count": 87,
   "metadata": {},
   "outputs": [
    {
     "data": {
      "text/plain": [
       "<matplotlib.legend.Legend at 0x7ff7d582ae90>"
      ]
     },
     "execution_count": 87,
     "metadata": {},
     "output_type": "execute_result"
    },
    {
     "data": {
      "image/png": "[encoded data removed]",
      "text/plain": [
       "<Figure size 432x288 with 1 Axes>"
      ]
     },
     "metadata": {
      "needs_background": "light"
     },
     "output_type": "display_data"
    }
   ],
   "source": [
    "## Repite el ejercicio anterior pero con la curva ROC\n",
    "from sklearn.metrics import roc_curve, roc_auc_score\n",
    "\n",
    "# Nota: seleccionamos solo la segunda columna, corresponde a la clase 1 en y_proba\n",
    "fpr, tpr, thre = roc_curve(y_train, y_proba[:,1])  ##\n",
    "roc_auc = roc_auc_score(y_train, y_proba[:,1])  ##\n",
    "\n",
    "plt.plot(fpr, tpr, label='AUC = {a}'.format(a=round(roc_auc, 3)))\n",
    "plt.plot([0, 1], '--', c='black', label='Random Classifier')\n",
    "plt.xlabel('False Positive Rate')\n",
    "plt.ylabel('True Positive Rate')\n",
    "plt.legend(loc='best')"
   ]
  },
  {
   "cell_type": "markdown",
   "metadata": {},
   "source": [
    "Debido a que la curva ROC y la Prec vs Recall son muy parecidas, uno puede tener dudas al tener que elegir una de ellas. Cómo guía no exhaustiva, uno puede decantarse en función del problema que tenga. Concretamente, en casos no balanceados o cuando una clase nos importa más que la otra, la curva PR nos aportará más información que la curva ROC.\n"
   ]
  },
  {
   "cell_type": "markdown",
   "metadata": {},
   "source": [
    "## Mini Ejercicio\n",
    "\n",
    "En el fichero `data/credicard.csv` encontraremos un dataset sobre transacciones de tarjetas de credito. El objetivo es entrenar un modelo y evaluar su rendimiento para detectar los usos fraudulentos utilizando las métricas descritas anteriormente:\n",
    "\n",
    "1. Carga los datos en un df de pandas\n",
    "\n",
    "1. Comprueba rapidamente la distribucion de los datos (head, y describe)\n",
    "    1. Cómo sabemos que es un problema no balanceado ?\n",
    "    \n",
    "1. Separa el df en train y test con un 20% de los datos en test\n",
    "    1. Comprueba que y_train e y_test tienen una proporción similar de clases 0 y 1\n",
    "\n",
    "1. Inicializa una regresion logistica con 'liblinear' como solver\n",
    "1. Inicializa un Random Forest con `n_estimators=30`\n",
    "1. Inicializa un k-fold stratificado con un numero de splits = 3: `from sklearn.model_selection import StratifiedKFold`\n",
    "1. Utiliza la funcion `cross_val_predict` sobre el punto anterior y la regresion logística: `from sklearn.model_selection import cross_val_predict`\n",
    "1. Obtén los valores de las métricas de clasificación descritas anteriormente para evaluar los modelos. Qué modelo se comporta mejor ?\n",
    " "
   ]
  },
  {
   "cell_type": "markdown",
   "metadata": {},
   "source": [
    "## Solución mini ejercicio\n",
    "\n",
    "Nota: vuelvo a importar todas las funciones y paquetes para conseguir independencia a partir de este punto \n",
    "respecto de las celdas anteriores\n",
    "\n",
    "1. Carga los datos en un df de pandas"
   ]
  },
  {
   "cell_type": "code",
   "execution_count": 90,
   "metadata": {},
   "outputs": [],
   "source": [
    "import pandas as pd\n",
    "import numpy as np"
   ]
  },
  {
   "cell_type": "code",
   "execution_count": 102,
   "metadata": {},
   "outputs": [],
   "source": [
    "df = pd.read_csv('data/creditcard.csv')"
   ]
  },
  {
   "cell_type": "markdown",
   "metadata": {},
   "source": [
    "2. Comprueba rapidamente la distribucion de los datos (head, y describe)\n",
    "\n",
    "    1. Cómo sabemos que es un problema no balanceado ?\n",
    "    "
   ]
  },
  {
   "cell_type": "code",
   "execution_count": 103,
   "metadata": {},
   "outputs": [
    {
     "data": {
      "text/html": [
       "<div>\n",
       "<style scoped>\n",
       "    .dataframe tbody tr th:only-of-type {\n",
       "        vertical-align: middle;\n",
       "    }\n",
       "\n",
       "    .dataframe tbody tr th {\n",
       "        vertical-align: top;\n",
       "    }\n",
       "\n",
       "    .dataframe thead th {\n",
       "        text-align: right;\n",
       "    }\n",
       "</style>\n",
       "<table border=\"1\" class=\"dataframe\">\n",
       "  <thead>\n",
       "    <tr style=\"text-align: right;\">\n",
       "      <th></th>\n",
       "      <th>Time</th>\n",
       "      <th>V1</th>\n",
       "      <th>V2</th>\n",
       "      <th>V3</th>\n",
       "      <th>V4</th>\n",
       "      <th>V5</th>\n",
       "      <th>V6</th>\n",
       "      <th>V7</th>\n",
       "      <th>V8</th>\n",
       "      <th>V9</th>\n",
       "      <th>...</th>\n",
       "      <th>V21</th>\n",
       "      <th>V22</th>\n",
       "      <th>V23</th>\n",
       "      <th>V24</th>\n",
       "      <th>V25</th>\n",
       "      <th>V26</th>\n",
       "      <th>V27</th>\n",
       "      <th>V28</th>\n",
       "      <th>Amount</th>\n",
       "      <th>Class</th>\n",
       "    </tr>\n",
       "  </thead>\n",
       "  <tbody>\n",
       "    <tr>\n",
       "      <th>0</th>\n",
       "      <td>78823.0</td>\n",
       "      <td>-0.968847</td>\n",
       "      <td>1.330711</td>\n",
       "      <td>1.244983</td>\n",
       "      <td>1.456440</td>\n",
       "      <td>-0.430245</td>\n",
       "      <td>-0.255326</td>\n",
       "      <td>0.373425</td>\n",
       "      <td>0.423207</td>\n",
       "      <td>-0.493631</td>\n",
       "      <td>...</td>\n",
       "      <td>0.052182</td>\n",
       "      <td>0.399995</td>\n",
       "      <td>0.045530</td>\n",
       "      <td>0.627451</td>\n",
       "      <td>-0.116213</td>\n",
       "      <td>-0.263948</td>\n",
       "      <td>0.195760</td>\n",
       "      <td>0.130024</td>\n",
       "      <td>29.68</td>\n",
       "      <td>0</td>\n",
       "    </tr>\n",
       "    <tr>\n",
       "      <th>1</th>\n",
       "      <td>159447.0</td>\n",
       "      <td>2.068237</td>\n",
       "      <td>0.119307</td>\n",
       "      <td>-1.671769</td>\n",
       "      <td>0.447288</td>\n",
       "      <td>0.312053</td>\n",
       "      <td>-0.954658</td>\n",
       "      <td>0.146459</td>\n",
       "      <td>-0.208987</td>\n",
       "      <td>0.577810</td>\n",
       "      <td>...</td>\n",
       "      <td>-0.365032</td>\n",
       "      <td>-0.974555</td>\n",
       "      <td>0.360158</td>\n",
       "      <td>0.622201</td>\n",
       "      <td>-0.291979</td>\n",
       "      <td>0.167326</td>\n",
       "      <td>-0.066394</td>\n",
       "      <td>-0.030777</td>\n",
       "      <td>1.29</td>\n",
       "      <td>0</td>\n",
       "    </tr>\n",
       "    <tr>\n",
       "      <th>2</th>\n",
       "      <td>131307.0</td>\n",
       "      <td>1.914044</td>\n",
       "      <td>-0.924411</td>\n",
       "      <td>-0.196585</td>\n",
       "      <td>0.222221</td>\n",
       "      <td>-0.737681</td>\n",
       "      <td>0.718213</td>\n",
       "      <td>-1.106332</td>\n",
       "      <td>0.294056</td>\n",
       "      <td>2.287637</td>\n",
       "      <td>...</td>\n",
       "      <td>-0.087258</td>\n",
       "      <td>0.019354</td>\n",
       "      <td>0.162138</td>\n",
       "      <td>0.053170</td>\n",
       "      <td>-0.267564</td>\n",
       "      <td>-0.023381</td>\n",
       "      <td>0.036293</td>\n",
       "      <td>-0.026333</td>\n",
       "      <td>52.00</td>\n",
       "      <td>0</td>\n",
       "    </tr>\n",
       "    <tr>\n",
       "      <th>3</th>\n",
       "      <td>142751.0</td>\n",
       "      <td>0.204359</td>\n",
       "      <td>1.188141</td>\n",
       "      <td>0.097552</td>\n",
       "      <td>1.036841</td>\n",
       "      <td>0.767623</td>\n",
       "      <td>-0.215636</td>\n",
       "      <td>0.727098</td>\n",
       "      <td>-0.158858</td>\n",
       "      <td>-0.783536</td>\n",
       "      <td>...</td>\n",
       "      <td>-0.261813</td>\n",
       "      <td>-0.574198</td>\n",
       "      <td>-0.011498</td>\n",
       "      <td>0.530138</td>\n",
       "      <td>-0.726085</td>\n",
       "      <td>0.581594</td>\n",
       "      <td>0.171501</td>\n",
       "      <td>0.203013</td>\n",
       "      <td>2.69</td>\n",
       "      <td>0</td>\n",
       "    </tr>\n",
       "    <tr>\n",
       "      <th>4</th>\n",
       "      <td>83886.0</td>\n",
       "      <td>1.119377</td>\n",
       "      <td>0.172291</td>\n",
       "      <td>0.128569</td>\n",
       "      <td>0.963394</td>\n",
       "      <td>-0.053382</td>\n",
       "      <td>-0.418732</td>\n",
       "      <td>0.219798</td>\n",
       "      <td>-0.111494</td>\n",
       "      <td>-0.347000</td>\n",
       "      <td>...</td>\n",
       "      <td>0.097055</td>\n",
       "      <td>0.195532</td>\n",
       "      <td>-0.207797</td>\n",
       "      <td>0.028525</td>\n",
       "      <td>0.701166</td>\n",
       "      <td>-0.332946</td>\n",
       "      <td>0.002852</td>\n",
       "      <td>0.017578</td>\n",
       "      <td>59.20</td>\n",
       "      <td>0</td>\n",
       "    </tr>\n",
       "    <tr>\n",
       "      <th>5</th>\n",
       "      <td>53122.0</td>\n",
       "      <td>-1.715228</td>\n",
       "      <td>1.476880</td>\n",
       "      <td>1.150552</td>\n",
       "      <td>2.427501</td>\n",
       "      <td>0.045801</td>\n",
       "      <td>1.032506</td>\n",
       "      <td>0.391818</td>\n",
       "      <td>0.538053</td>\n",
       "      <td>-1.064795</td>\n",
       "      <td>...</td>\n",
       "      <td>0.244496</td>\n",
       "      <td>0.476681</td>\n",
       "      <td>-0.003271</td>\n",
       "      <td>-0.832590</td>\n",
       "      <td>-0.348669</td>\n",
       "      <td>-0.091207</td>\n",
       "      <td>-0.556606</td>\n",
       "      <td>0.068819</td>\n",
       "      <td>88.81</td>\n",
       "      <td>0</td>\n",
       "    </tr>\n",
       "    <tr>\n",
       "      <th>6</th>\n",
       "      <td>144173.0</td>\n",
       "      <td>-0.248242</td>\n",
       "      <td>0.950486</td>\n",
       "      <td>0.247770</td>\n",
       "      <td>-0.725559</td>\n",
       "      <td>0.386958</td>\n",
       "      <td>-0.897690</td>\n",
       "      <td>0.860687</td>\n",
       "      <td>-0.042141</td>\n",
       "      <td>-0.085116</td>\n",
       "      <td>...</td>\n",
       "      <td>-0.236128</td>\n",
       "      <td>-0.482022</td>\n",
       "      <td>0.077751</td>\n",
       "      <td>0.061699</td>\n",
       "      <td>-0.487893</td>\n",
       "      <td>0.120526</td>\n",
       "      <td>0.349504</td>\n",
       "      <td>0.150066</td>\n",
       "      <td>1.79</td>\n",
       "      <td>0</td>\n",
       "    </tr>\n",
       "    <tr>\n",
       "      <th>7</th>\n",
       "      <td>141447.0</td>\n",
       "      <td>-0.225998</td>\n",
       "      <td>-0.907527</td>\n",
       "      <td>2.203257</td>\n",
       "      <td>-1.077494</td>\n",
       "      <td>-1.389251</td>\n",
       "      <td>0.370586</td>\n",
       "      <td>-1.549398</td>\n",
       "      <td>0.393128</td>\n",
       "      <td>-2.201053</td>\n",
       "      <td>...</td>\n",
       "      <td>-0.047886</td>\n",
       "      <td>0.094017</td>\n",
       "      <td>-0.140987</td>\n",
       "      <td>-0.465093</td>\n",
       "      <td>-0.241902</td>\n",
       "      <td>0.304792</td>\n",
       "      <td>0.137749</td>\n",
       "      <td>0.085163</td>\n",
       "      <td>13.68</td>\n",
       "      <td>0</td>\n",
       "    </tr>\n",
       "    <tr>\n",
       "      <th>8</th>\n",
       "      <td>79109.0</td>\n",
       "      <td>1.152804</td>\n",
       "      <td>-0.081491</td>\n",
       "      <td>0.401910</td>\n",
       "      <td>1.252775</td>\n",
       "      <td>-0.475921</td>\n",
       "      <td>-0.308661</td>\n",
       "      <td>-0.108146</td>\n",
       "      <td>0.035307</td>\n",
       "      <td>0.779554</td>\n",
       "      <td>...</td>\n",
       "      <td>-0.284434</td>\n",
       "      <td>-0.810790</td>\n",
       "      <td>-0.047800</td>\n",
       "      <td>-0.180109</td>\n",
       "      <td>0.513166</td>\n",
       "      <td>-0.493220</td>\n",
       "      <td>0.018939</td>\n",
       "      <td>0.025181</td>\n",
       "      <td>46.91</td>\n",
       "      <td>0</td>\n",
       "    </tr>\n",
       "    <tr>\n",
       "      <th>9</th>\n",
       "      <td>158503.0</td>\n",
       "      <td>-0.689542</td>\n",
       "      <td>1.408663</td>\n",
       "      <td>0.239317</td>\n",
       "      <td>1.191910</td>\n",
       "      <td>0.139965</td>\n",
       "      <td>-0.779165</td>\n",
       "      <td>0.706988</td>\n",
       "      <td>0.094163</td>\n",
       "      <td>-1.198677</td>\n",
       "      <td>...</td>\n",
       "      <td>0.310711</td>\n",
       "      <td>0.863679</td>\n",
       "      <td>-0.436847</td>\n",
       "      <td>0.044233</td>\n",
       "      <td>0.751692</td>\n",
       "      <td>0.464173</td>\n",
       "      <td>-0.025733</td>\n",
       "      <td>0.021075</td>\n",
       "      <td>58.77</td>\n",
       "      <td>0</td>\n",
       "    </tr>\n",
       "  </tbody>\n",
       "</table>\n",
       "<p>10 rows × 31 columns</p>\n",
       "</div>"
      ],
      "text/plain": [
       "       Time        V1        V2        V3        V4        V5        V6  \\\n",
       "0   78823.0 -0.968847  1.330711  1.244983  1.456440 -0.430245 -0.255326   \n",
       "1  159447.0  2.068237  0.119307 -1.671769  0.447288  0.312053 -0.954658   \n",
       "2  131307.0  1.914044 -0.924411 -0.196585  0.222221 -0.737681  0.718213   \n",
       "3  142751.0  0.204359  1.188141  0.097552  1.036841  0.767623 -0.215636   \n",
       "4   83886.0  1.119377  0.172291  0.128569  0.963394 -0.053382 -0.418732   \n",
       "5   53122.0 -1.715228  1.476880  1.150552  2.427501  0.045801  1.032506   \n",
       "6  144173.0 -0.248242  0.950486  0.247770 -0.725559  0.386958 -0.897690   \n",
       "7  141447.0 -0.225998 -0.907527  2.203257 -1.077494 -1.389251  0.370586   \n",
       "8   79109.0  1.152804 -0.081491  0.401910  1.252775 -0.475921 -0.308661   \n",
       "9  158503.0 -0.689542  1.408663  0.239317  1.191910  0.139965 -0.779165   \n",
       "\n",
       "         V7        V8        V9  ...       V21       V22       V23       V24  \\\n",
       "0  0.373425  0.423207 -0.493631  ...  0.052182  0.399995  0.045530  0.627451   \n",
       "1  0.146459 -0.208987  0.577810  ... -0.365032 -0.974555  0.360158  0.622201   \n",
       "2 -1.106332  0.294056  2.287637  ... -0.087258  0.019354  0.162138  0.053170   \n",
       "3  0.727098 -0.158858 -0.783536  ... -0.261813 -0.574198 -0.011498  0.530138   \n",
       "4  0.219798 -0.111494 -0.347000  ...  0.097055  0.195532 -0.207797  0.028525   \n",
       "5  0.391818  0.538053 -1.064795  ...  0.244496  0.476681 -0.003271 -0.832590   \n",
       "6  0.860687 -0.042141 -0.085116  ... -0.236128 -0.482022  0.077751  0.061699   \n",
       "7 -1.549398  0.393128 -2.201053  ... -0.047886  0.094017 -0.140987 -0.465093   \n",
       "8 -0.108146  0.035307  0.779554  ... -0.284434 -0.810790 -0.047800 -0.180109   \n",
       "9  0.706988  0.094163 -1.198677  ...  0.310711  0.863679 -0.436847  0.044233   \n",
       "\n",
       "        V25       V26       V27       V28  Amount  Class  \n",
       "0 -0.116213 -0.263948  0.195760  0.130024   29.68      0  \n",
       "1 -0.291979  0.167326 -0.066394 -0.030777    1.29      0  \n",
       "2 -0.267564 -0.023381  0.036293 -0.026333   52.00      0  \n",
       "3 -0.726085  0.581594  0.171501  0.203013    2.69      0  \n",
       "4  0.701166 -0.332946  0.002852  0.017578   59.20      0  \n",
       "5 -0.348669 -0.091207 -0.556606  0.068819   88.81      0  \n",
       "6 -0.487893  0.120526  0.349504  0.150066    1.79      0  \n",
       "7 -0.241902  0.304792  0.137749  0.085163   13.68      0  \n",
       "8  0.513166 -0.493220  0.018939  0.025181   46.91      0  \n",
       "9  0.751692  0.464173 -0.025733  0.021075   58.77      0  \n",
       "\n",
       "[10 rows x 31 columns]"
      ]
     },
     "execution_count": 103,
     "metadata": {},
     "output_type": "execute_result"
    }
   ],
   "source": [
    "df.head(10)"
   ]
  },
  {
   "cell_type": "code",
   "execution_count": 105,
   "metadata": {
    "scrolled": true
   },
   "outputs": [
    {
     "data": {
      "text/html": [
       "<div>\n",
       "<style scoped>\n",
       "    .dataframe tbody tr th:only-of-type {\n",
       "        vertical-align: middle;\n",
       "    }\n",
       "\n",
       "    .dataframe tbody tr th {\n",
       "        vertical-align: top;\n",
       "    }\n",
       "\n",
       "    .dataframe thead th {\n",
       "        text-align: right;\n",
       "    }\n",
       "</style>\n",
       "<table border=\"1\" class=\"dataframe\">\n",
       "  <thead>\n",
       "    <tr style=\"text-align: right;\">\n",
       "      <th></th>\n",
       "      <th>Time</th>\n",
       "      <th>V1</th>\n",
       "      <th>V2</th>\n",
       "      <th>V3</th>\n",
       "      <th>V4</th>\n",
       "      <th>V5</th>\n",
       "      <th>V6</th>\n",
       "      <th>V7</th>\n",
       "      <th>V8</th>\n",
       "      <th>V9</th>\n",
       "      <th>...</th>\n",
       "      <th>V21</th>\n",
       "      <th>V22</th>\n",
       "      <th>V23</th>\n",
       "      <th>V24</th>\n",
       "      <th>V25</th>\n",
       "      <th>V26</th>\n",
       "      <th>V27</th>\n",
       "      <th>V28</th>\n",
       "      <th>Amount</th>\n",
       "      <th>Class</th>\n",
       "    </tr>\n",
       "  </thead>\n",
       "  <tbody>\n",
       "    <tr>\n",
       "      <th>count</th>\n",
       "      <td>57060.000000</td>\n",
       "      <td>57060.000000</td>\n",
       "      <td>57060.000000</td>\n",
       "      <td>57060.000000</td>\n",
       "      <td>57060.000000</td>\n",
       "      <td>57060.000000</td>\n",
       "      <td>57060.000000</td>\n",
       "      <td>57060.000000</td>\n",
       "      <td>57060.000000</td>\n",
       "      <td>57060.000000</td>\n",
       "      <td>...</td>\n",
       "      <td>57060.000000</td>\n",
       "      <td>57060.000000</td>\n",
       "      <td>57060.000000</td>\n",
       "      <td>57060.000000</td>\n",
       "      <td>57060.000000</td>\n",
       "      <td>57060.000000</td>\n",
       "      <td>57060.000000</td>\n",
       "      <td>57060.000000</td>\n",
       "      <td>57060.000000</td>\n",
       "      <td>57060.000000</td>\n",
       "    </tr>\n",
       "    <tr>\n",
       "      <th>mean</th>\n",
       "      <td>94771.575745</td>\n",
       "      <td>-0.007868</td>\n",
       "      <td>0.009697</td>\n",
       "      <td>-0.015515</td>\n",
       "      <td>0.009911</td>\n",
       "      <td>-0.001789</td>\n",
       "      <td>-0.001751</td>\n",
       "      <td>-0.000653</td>\n",
       "      <td>0.002372</td>\n",
       "      <td>-0.000175</td>\n",
       "      <td>...</td>\n",
       "      <td>0.005821</td>\n",
       "      <td>-0.002851</td>\n",
       "      <td>0.002122</td>\n",
       "      <td>0.001299</td>\n",
       "      <td>0.001410</td>\n",
       "      <td>0.000375</td>\n",
       "      <td>0.001013</td>\n",
       "      <td>-0.001557</td>\n",
       "      <td>89.009411</td>\n",
       "      <td>0.003453</td>\n",
       "    </tr>\n",
       "    <tr>\n",
       "      <th>std</th>\n",
       "      <td>47446.707109</td>\n",
       "      <td>1.972362</td>\n",
       "      <td>1.666217</td>\n",
       "      <td>1.562612</td>\n",
       "      <td>1.430714</td>\n",
       "      <td>1.445277</td>\n",
       "      <td>1.359269</td>\n",
       "      <td>1.328242</td>\n",
       "      <td>1.200784</td>\n",
       "      <td>1.093453</td>\n",
       "      <td>...</td>\n",
       "      <td>0.747438</td>\n",
       "      <td>0.725611</td>\n",
       "      <td>0.620435</td>\n",
       "      <td>0.604297</td>\n",
       "      <td>0.518103</td>\n",
       "      <td>0.482228</td>\n",
       "      <td>0.414603</td>\n",
       "      <td>0.307454</td>\n",
       "      <td>275.915287</td>\n",
       "      <td>0.058657</td>\n",
       "    </tr>\n",
       "    <tr>\n",
       "      <th>min</th>\n",
       "      <td>0.000000</td>\n",
       "      <td>-46.855047</td>\n",
       "      <td>-63.344698</td>\n",
       "      <td>-48.325589</td>\n",
       "      <td>-5.600607</td>\n",
       "      <td>-113.743307</td>\n",
       "      <td>-20.054615</td>\n",
       "      <td>-43.557242</td>\n",
       "      <td>-50.688419</td>\n",
       "      <td>-13.320155</td>\n",
       "      <td>...</td>\n",
       "      <td>-22.797604</td>\n",
       "      <td>-10.933144</td>\n",
       "      <td>-27.533643</td>\n",
       "      <td>-2.765519</td>\n",
       "      <td>-7.025783</td>\n",
       "      <td>-2.534330</td>\n",
       "      <td>-9.390980</td>\n",
       "      <td>-15.430084</td>\n",
       "      <td>0.000000</td>\n",
       "      <td>0.000000</td>\n",
       "    </tr>\n",
       "    <tr>\n",
       "      <th>25%</th>\n",
       "      <td>54083.000000</td>\n",
       "      <td>-0.923044</td>\n",
       "      <td>-0.589600</td>\n",
       "      <td>-0.904086</td>\n",
       "      <td>-0.839508</td>\n",
       "      <td>-0.689672</td>\n",
       "      <td>-0.773912</td>\n",
       "      <td>-0.546262</td>\n",
       "      <td>-0.207416</td>\n",
       "      <td>-0.635354</td>\n",
       "      <td>...</td>\n",
       "      <td>-0.228814</td>\n",
       "      <td>-0.545935</td>\n",
       "      <td>-0.161385</td>\n",
       "      <td>-0.354001</td>\n",
       "      <td>-0.314252</td>\n",
       "      <td>-0.325286</td>\n",
       "      <td>-0.071156</td>\n",
       "      <td>-0.053670</td>\n",
       "      <td>5.550000</td>\n",
       "      <td>0.000000</td>\n",
       "    </tr>\n",
       "    <tr>\n",
       "      <th>50%</th>\n",
       "      <td>84815.000000</td>\n",
       "      <td>0.016310</td>\n",
       "      <td>0.074846</td>\n",
       "      <td>0.174647</td>\n",
       "      <td>-0.015125</td>\n",
       "      <td>-0.053959</td>\n",
       "      <td>-0.278423</td>\n",
       "      <td>0.044841</td>\n",
       "      <td>0.023920</td>\n",
       "      <td>-0.049041</td>\n",
       "      <td>...</td>\n",
       "      <td>-0.029597</td>\n",
       "      <td>0.005419</td>\n",
       "      <td>-0.011499</td>\n",
       "      <td>0.042454</td>\n",
       "      <td>0.020013</td>\n",
       "      <td>-0.052538</td>\n",
       "      <td>0.000761</td>\n",
       "      <td>0.010700</td>\n",
       "      <td>21.900000</td>\n",
       "      <td>0.000000</td>\n",
       "    </tr>\n",
       "    <tr>\n",
       "      <th>75%</th>\n",
       "      <td>139234.750000</td>\n",
       "      <td>1.313631</td>\n",
       "      <td>0.807271</td>\n",
       "      <td>1.016980</td>\n",
       "      <td>0.752324</td>\n",
       "      <td>0.617179</td>\n",
       "      <td>0.384296</td>\n",
       "      <td>0.573895</td>\n",
       "      <td>0.327736</td>\n",
       "      <td>0.596743</td>\n",
       "      <td>...</td>\n",
       "      <td>0.186711</td>\n",
       "      <td>0.523476</td>\n",
       "      <td>0.147602</td>\n",
       "      <td>0.440730</td>\n",
       "      <td>0.350303</td>\n",
       "      <td>0.242140</td>\n",
       "      <td>0.090255</td>\n",
       "      <td>0.076613</td>\n",
       "      <td>76.900000</td>\n",
       "      <td>0.000000</td>\n",
       "    </tr>\n",
       "    <tr>\n",
       "      <th>max</th>\n",
       "      <td>172788.000000</td>\n",
       "      <td>2.454930</td>\n",
       "      <td>22.057729</td>\n",
       "      <td>4.079168</td>\n",
       "      <td>16.715537</td>\n",
       "      <td>29.016124</td>\n",
       "      <td>73.301626</td>\n",
       "      <td>120.589494</td>\n",
       "      <td>19.168327</td>\n",
       "      <td>10.326133</td>\n",
       "      <td>...</td>\n",
       "      <td>27.202839</td>\n",
       "      <td>8.316275</td>\n",
       "      <td>22.528412</td>\n",
       "      <td>4.584549</td>\n",
       "      <td>5.473885</td>\n",
       "      <td>3.415636</td>\n",
       "      <td>31.612198</td>\n",
       "      <td>14.929133</td>\n",
       "      <td>25691.160000</td>\n",
       "      <td>1.000000</td>\n",
       "    </tr>\n",
       "  </tbody>\n",
       "</table>\n",
       "<p>8 rows × 31 columns</p>\n",
       "</div>"
      ],
      "text/plain": [
       "                Time            V1            V2            V3            V4  \\\n",
       "count   57060.000000  57060.000000  57060.000000  57060.000000  57060.000000   \n",
       "mean    94771.575745     -0.007868      0.009697     -0.015515      0.009911   \n",
       "std     47446.707109      1.972362      1.666217      1.562612      1.430714   \n",
       "min         0.000000    -46.855047    -63.344698    -48.325589     -5.600607   \n",
       "25%     54083.000000     -0.923044     -0.589600     -0.904086     -0.839508   \n",
       "50%     84815.000000      0.016310      0.074846      0.174647     -0.015125   \n",
       "75%    139234.750000      1.313631      0.807271      1.016980      0.752324   \n",
       "max    172788.000000      2.454930     22.057729      4.079168     16.715537   \n",
       "\n",
       "                 V5            V6            V7            V8            V9  \\\n",
       "count  57060.000000  57060.000000  57060.000000  57060.000000  57060.000000   \n",
       "mean      -0.001789     -0.001751     -0.000653      0.002372     -0.000175   \n",
       "std        1.445277      1.359269      1.328242      1.200784      1.093453   \n",
       "min     -113.743307    -20.054615    -43.557242    -50.688419    -13.320155   \n",
       "25%       -0.689672     -0.773912     -0.546262     -0.207416     -0.635354   \n",
       "50%       -0.053959     -0.278423      0.044841      0.023920     -0.049041   \n",
       "75%        0.617179      0.384296      0.573895      0.327736      0.596743   \n",
       "max       29.016124     73.301626    120.589494     19.168327     10.326133   \n",
       "\n",
       "       ...           V21           V22           V23           V24  \\\n",
       "count  ...  57060.000000  57060.000000  57060.000000  57060.000000   \n",
       "mean   ...      0.005821     -0.002851      0.002122      0.001299   \n",
       "std    ...      0.747438      0.725611      0.620435      0.604297   \n",
       "min    ...    -22.797604    -10.933144    -27.533643     -2.765519   \n",
       "25%    ...     -0.228814     -0.545935     -0.161385     -0.354001   \n",
       "50%    ...     -0.029597      0.005419     -0.011499      0.042454   \n",
       "75%    ...      0.186711      0.523476      0.147602      0.440730   \n",
       "max    ...     27.202839      8.316275     22.528412      4.584549   \n",
       "\n",
       "                V25           V26           V27           V28        Amount  \\\n",
       "count  57060.000000  57060.000000  57060.000000  57060.000000  57060.000000   \n",
       "mean       0.001410      0.000375      0.001013     -0.001557     89.009411   \n",
       "std        0.518103      0.482228      0.414603      0.307454    275.915287   \n",
       "min       -7.025783     -2.534330     -9.390980    -15.430084      0.000000   \n",
       "25%       -0.314252     -0.325286     -0.071156     -0.053670      5.550000   \n",
       "50%        0.020013     -0.052538      0.000761      0.010700     21.900000   \n",
       "75%        0.350303      0.242140      0.090255      0.076613     76.900000   \n",
       "max        5.473885      3.415636     31.612198     14.929133  25691.160000   \n",
       "\n",
       "              Class  \n",
       "count  57060.000000  \n",
       "mean       0.003453  \n",
       "std        0.058657  \n",
       "min        0.000000  \n",
       "25%        0.000000  \n",
       "50%        0.000000  \n",
       "75%        0.000000  \n",
       "max        1.000000  \n",
       "\n",
       "[8 rows x 31 columns]"
      ]
     },
     "execution_count": 105,
     "metadata": {},
     "output_type": "execute_result"
    }
   ],
   "source": [
    "df.describe()"
   ]
  },
  {
   "cell_type": "code",
   "execution_count": 106,
   "metadata": {},
   "outputs": [
    {
     "data": {
      "text/plain": [
       "0.0034525061338941464"
      ]
     },
     "execution_count": 106,
     "metadata": {},
     "output_type": "execute_result"
    }
   ],
   "source": [
    "df['Class'].mean()"
   ]
  },
  {
   "cell_type": "markdown",
   "metadata": {},
   "source": [
    "Al parecer, sólo el 3'45 por mil de las transacciones son fraudulentas. \n",
    "Así que el problema está claramente **desbalanceado** a favor de *no fraude*."
   ]
  },
  {
   "cell_type": "markdown",
   "metadata": {},
   "source": [
    "3. Separa el df en train y test con un 20% de los datos en test\n",
    "    1. Comprueba que y_train e y_test tienen una proporción similar de clases 0 y 1"
   ]
  },
  {
   "cell_type": "code",
   "execution_count": 124,
   "metadata": {},
   "outputs": [
    {
     "name": "stdout",
     "output_type": "stream",
     "text": [
      "0.0034393620750087627 0.0035050823694356818\n"
     ]
    }
   ],
   "source": [
    "from sklearn.model_selection import train_test_split\n",
    "\n",
    "np.random.seed(22)\n",
    "\n",
    "X_train, X_test, y_train, y_test = train_test_split(\n",
    "    df.drop(['Class'], axis = 1), \n",
    "    df['Class'], \n",
    "    test_size=0.20,\n",
    "    stra)\n",
    "\n",
    "print(y_train.mean(), y_test.mean())"
   ]
  },
  {
   "cell_type": "markdown",
   "metadata": {},
   "source": [
    "4. Inicializa una regresion logistica con 'liblinear' como solver"
   ]
  },
  {
   "cell_type": "code",
   "execution_count": 131,
   "metadata": {},
   "outputs": [],
   "source": [
    "from sklearn.linear_model import LogisticRegression\n",
    "\n",
    "lr = LogisticRegression(solver='liblinear')"
   ]
  },
  {
   "cell_type": "markdown",
   "metadata": {},
   "source": [
    "5. Inicializa un Random Forest con `n_estimators=30`"
   ]
  },
  {
   "cell_type": "code",
   "execution_count": 132,
   "metadata": {},
   "outputs": [],
   "source": [
    "from sklearn.ensemble import RandomForestClassifier\n",
    "\n",
    "rf = RandomForestClassifier(n_estimators=30)"
   ]
  },
  {
   "cell_type": "markdown",
   "metadata": {},
   "source": [
    "6. Inicializa un k-fold stratificado con un numero de splits = 3: `from sklearn.model_selection import StratifiedKFold`"
   ]
  },
  {
   "cell_type": "code",
   "execution_count": 134,
   "metadata": {},
   "outputs": [],
   "source": [
    "from sklearn.model_selection import StratifiedKFold\n",
    "\n",
    "cv = StratifiedKFold(n_splits=3)"
   ]
  },
  {
   "cell_type": "markdown",
   "metadata": {},
   "source": [
    "7. Utiliza la funcion `cross_val_predict` sobre el punto anterior y la regresion logística: `from sklearn.model_selection import cross_val_predict`"
   ]
  },
  {
   "cell_type": "code",
   "execution_count": 135,
   "metadata": {},
   "outputs": [],
   "source": [
    "from sklearn.model_selection import cross_val_predict\n",
    "\n",
    "y_pred = cross_val_predict(estimator=lr, X=X_train, y=y_train, cv=cv)"
   ]
  },
  {
   "cell_type": "markdown",
   "metadata": {},
   "source": [
    "8. Obtén los valores de las métricas de clasificación descritas anteriormente para evaluar los modelos. Qué modelo se comporta mejor ?"
   ]
  },
  {
   "cell_type": "code",
   "execution_count": 136,
   "metadata": {},
   "outputs": [],
   "source": [
    "from sklearn.metrics import confusion_matrix\n",
    "cm = confusion_matrix(y_train, y_pred)"
   ]
  },
  {
   "cell_type": "code",
   "execution_count": 137,
   "metadata": {},
   "outputs": [],
   "source": [
    "def plot_confusion_matrix(cm, labels=['0', '1']):\n",
    "    ax = plt.subplot()\n",
    "    sns.heatmap(cm, annot=True, ax = ax, cmap='Blues')\n",
    "\n",
    "    # labels, title and ticks\n",
    "    ax.set_xlabel('Predicted labels')\n",
    "    ax.set_ylabel('True labels')\n",
    "    if labels:\n",
    "        ax.xaxis.set_ticklabels(labels)\n",
    "        ax.yaxis.set_ticklabels(labels)\n",
    "\n",
    "    ax.set_title('Confusion Matrix')"
   ]
  },
  {
   "cell_type": "code",
   "execution_count": 138,
   "metadata": {},
   "outputs": [
    {
     "data": {
      "image/png": "[encoded data removed]",
      "text/plain": [
       "<Figure size 432x288 with 2 Axes>"
      ]
     },
     "metadata": {
      "needs_background": "light"
     },
     "output_type": "display_data"
    }
   ],
   "source": [
    "plot_confusion_matrix(cm)"
   ]
  },
  {
   "cell_type": "code",
   "execution_count": 139,
   "metadata": {},
   "outputs": [
    {
     "name": "stdout",
     "output_type": "stream",
     "text": [
      "Accuracy: 0.9987513144058885\n",
      "Precision: 0.8787878787878788\n",
      "Recall: 0.7388535031847133\n",
      "F1: 0.8027681660899653\n"
     ]
    }
   ],
   "source": [
    "from sklearn.metrics import accuracy_score, precision_score, recall_score, f1_score\n",
    "\n",
    "print(\"Accuracy:\", accuracy_score(y_train, y_pred))\n",
    "print(\"Precision:\", precision_score(y_train, y_pred))\n",
    "print(\"Recall:\", recall_score(y_train, y_pred))\n",
    "print(\"F1:\", f1_score(y_train, y_pred))"
   ]
  },
  {
   "cell_type": "code",
   "execution_count": null,
   "metadata": {},
   "outputs": [],
   "source": []
  },
  {
   "cell_type": "markdown",
   "metadata": {},
   "source": [
    "Done!"
   ]
  }
 ],
 "metadata": {
  "kernelspec": {
   "display_name": "musi-aa",
   "language": "python",
   "name": "musi-aa"
  },
  "language_info": {
   "codemirror_mode": {
    "name": "ipython",
    "version": 3
   },
   "file_extension": ".py",
   "mimetype": "text/x-python",
   "name": "python",
   "nbconvert_exporter": "python",
   "pygments_lexer": "ipython3",
   "version": "3.7.11"
  },
  "varInspector": {
   "cols": {
    "lenName": 16,
    "lenType": 16,
    "lenVar": 40
   },
   "kernels_config": {
    "python": {
     "delete_cmd_postfix": "",
     "delete_cmd_prefix": "del ",
     "library": "var_list.py",
     "varRefreshCmd": "print(var_dic_list())"
    },
    "r": {
     "delete_cmd_postfix": ") ",
     "delete_cmd_prefix": "rm(",
     "library": "var_list.r",
     "varRefreshCmd": "cat(var_dic_list()) "
    }
   },
   "position": {
    "height": "397.85px",
    "left": "548px",
    "right": "20px",
    "top": "66px",
    "width": "606px"
   },
   "types_to_exclude": [
    "module",
    "function",
    "builtin_function_or_method",
    "instance",
    "_Feature"
   ],
   "window_display": false
  }
 },
 "nbformat": 4,
 "nbformat_minor": 4
}
