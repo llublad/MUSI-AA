{
 "cells": [
  {
   "cell_type": "markdown",
   "metadata": {},
   "source": [
    "# Aprendizaje estadístico y optimización matemágica"
   ]
  },
  {
   "cell_type": "markdown",
   "metadata": {},
   "source": [
    "## De aprendizaje automático a optimización matemática\n",
    "\n",
    "Los algoritmos de **machine learning** de tipo **supervisado** son aquellos que estiman una **función $\\hat{f}$ de mapeo** entre las variables de entrada y una variable de salida. \n",
    "\n",
    "Recordemos que esta función $\\hat{f}$ es una función que no tiene por qué ser la función real si no una aproximación que nos de unos **resultados de predicción aceptables** para el caso de uso sobre el que estemos entrenando el algoritmo.\n",
    "\n",
    "Si nos regimos bajo ese paradigma, podemos entender entonces que **dado un modelo inicial en función de unos parametros**, podemos simplificar **el proceso de aprendizaje** a encontrar esos **parametros que nos minimizan el error** que cometemos al comparar las predicciones con el resultado esperado.\n",
    "\n",
    "Pasamos entonces de un problema de aprendizaje estadístico a un problema de **optimización matemática** de la expresión del error que cometemos en las predicciones de forma que se minimize el error global sobre todo el dataset.\n",
    "\n",
    "\n",
    "## Función de perdida y de coste\n",
    "\n",
    "Con tal de poder resolver el problema de optimización para minimizar cuanto nos equivocamos necesitamos una expresión matemática sobre la que podamos operar. A la función de error para una instancia de entrenamiento, es decir, a la que aplica a un sola dupla **características - objetivo**, o sea ($X - y$), la llamaremos función de perdida (en inglés, *loss function*). Por otro lado, cuando **agreguemos** esa función a nivel de todo el dataset de entrenamiento, la llamaremos función de coste (en inglés, **cost function**).\n",
    "\n",
    "> **Función de perdida**  $L(\\hat{f}(\\omega), y)$\n",
    "> \n",
    "> Error de una instancia de entrenamiento\n",
    ">\n",
    "\n",
    "\n",
    "\n",
    "> **Función de Coste** $J(\\omega)$\n",
    ">\n",
    "> Error medio para todo el dataset de entreno. Se calcula agregando la funcion de perdida, por ejemplo la media de los errores sobre todo el dataset\n",
    "\n",
    "Esta función puede tomar varias formas y sobre todo dependerá de la tarea a realizar, si es regresión o clasificación."
   ]
  },
  {
   "cell_type": "markdown",
   "metadata": {},
   "source": [
    "## Optimización de la función de coste\n",
    "\n",
    "Una vez determinada una función de coste en función de los parametros de nuestro algoritmo, la optimización de esta función nos dara los parámetros de nuestro modelo\n",
    "que nos reducen el error de predicción.\n",
    "\n",
    "Si bien dependiendo de la función de coste la optimización se puede hacer de forma analític, una de las técnicas más extendidas de optimización en el campo del aprendizaje automático es el **descenso de gradiente**."
   ]
  },
  {
   "cell_type": "markdown",
   "metadata": {},
   "source": [
    "### Descenso de gradiente\n",
    "\n",
    "El **gradiente de una función** puede ser interpretado como el vector que nos indica la dirección y ratio con el que la función aumenta en un determinado punto.\n",
    "\n",
    "Sabemos que en los mínimos y máximos, tanto locales como globales, de una función el gradiente será igual a cero. El **descenso de gradiente** consiste precisamente en acercarse de forma iterativa a uno de esos mínimos moviendonos en la dirección contraria a la que nos indica el gradiente en un punto para unos parámetros dados.\n",
    "\n",
    "![gradient](./img/gradient.jpeg)\n",
    "\n",
    "Matemáticamente, esto se puede escribir cómo:\n",
    "\n",
    "$$\\omega_{i+1} = \\omega_{i} - \\alpha \\times \\frac{\\partial J(\\omega_i)}{\\partial \\omega}$$\n",
    "\n",
    "> Atención al signo negativo: siempre querremos movernos en la dirección opuesta al gradiente.\n",
    "\n",
    "Si iteramos sobre la expresión anterior a partir de unos pesos $\\omega$ inicializados aleatoriamente, nos acercaremos al mínimo en cada paso de manera proporcional al gradiente, que irá disminuyendo a medida que nos acerquemos al mínimo, y al hiperparametro $\\alpha$. Este hiperparametro permite ajustar la velocidad a la que el descenso de gradiente se acerca al mínimo global y será una de las principales palancas de acción sobre el entrenamiento sobre la que podremos jugar para poder encontrar el mínimo de la función de coste.\n",
    "\n",
    "## Conclusión\n",
    "\n",
    "El descenso de gradiente es una técnica muy presente en el campo del aprendizaje automático, especialmente en el aprendizaje profundo. Esta técnica nos permite optimizar la función de coste del algoritmo de forma que encontremos los parametros que minimizan el error en las predicciones. En resumen, la dinámica se resume en:\n",
    "\n",
    "\n",
    "1. Encontrar la función de coste del algoritmo\n",
    "\n",
    "2. Encontrar la el gradiente de la función de coste\n",
    "\n",
    "3. Aplicar el descenso de gradiente evaluando el dataset de entrenamiento en el gradiente de la función de coste."
   ]
  },
  {
   "cell_type": "markdown",
   "metadata": {},
   "source": [
    "# Caso práctico: Regresión lineal"
   ]
  },
  {
   "cell_type": "markdown",
   "metadata": {},
   "source": [
    "Vamos a ver la aplicación del descenso de gradiente sobre una regresión lineal"
   ]
  },
  {
   "cell_type": "markdown",
   "metadata": {},
   "source": [
    "Función real: las observaciones son fruto de una función desconocida $f$ más un error $\\epsilon$\n",
    "\n",
    "$$ y = f(x) + \\epsilon $$\n",
    "\n",
    "**Hipótesis:**\n",
    "\n",
    "Función a estimar f(x) es lineal, planteamos entonces:\n",
    "\n",
    "$$ \\hat{y} = \\hat{f}(x) = \\theta_0 + \\theta_1 x \\qquad (1)$$   \n",
    "\n",
    "## Función de coste\n",
    "\n",
    "Con la relación (1), teniendo los valores de la variable dependiente x y su observacion y para varios registros, podemos plantear las función de error y de coste cómo:\n",
    "\n",
    "\n",
    "$$ L_i(\\theta_0, \\theta_1) = (\\hat{f}(x_i) - y_i)^2 = ((\\theta_0 + \\theta_1 x_i) - y_i)^2 $$\n",
    "\n",
    "$$J(\\theta_0, \\theta_1) = \\frac{1}{2m}\\sum^m_i L_i(\\theta_0, \\theta_1) = \\frac{1}{2m}\\sum^m_i ((\\theta_0 + \\theta_1 x) - y_i)^2 $$"
   ]
  },
  {
   "cell_type": "code",
   "execution_count": 1,
   "metadata": {
    "ExecuteTime": {
     "end_time": "2018-08-25T03:56:23.993097Z",
     "start_time": "2018-08-25T03:56:23.138209Z"
    }
   },
   "outputs": [],
   "source": [
    "import numpy as np ##\n",
    "import matplotlib.pyplot as plt  ##\n",
    "import seaborn as sns  ##\n",
    "import pandas as pd  ##\n",
    "\n",
    "%matplotlib inline"
   ]
  },
  {
   "cell_type": "code",
   "execution_count": 2,
   "metadata": {
    "ExecuteTime": {
     "end_time": "2018-08-25T03:56:24.006246Z",
     "start_time": "2018-08-25T03:56:23.998204Z"
    }
   },
   "outputs": [],
   "source": [
    "sns.set_style('darkgrid')"
   ]
  },
  {
   "cell_type": "markdown",
   "metadata": {},
   "source": [
    "## Ex1 - Dataset de entrenamiento"
   ]
  },
  {
   "cell_type": "markdown",
   "metadata": {},
   "source": [
    "Vamos a generar un dataset sintetico de forma que siga una relacion lineal:\n",
    "\n",
    "$$y = \\theta_0 + \\theta_1 x $$ \n",
    "\n",
    "Esta será la función que querremos aproximar"
   ]
  },
  {
   "cell_type": "code",
   "execution_count": 3,
   "metadata": {},
   "outputs": [],
   "source": [
    "## Declara las variables theta_0 y theta_1"
   ]
  },
  {
   "cell_type": "code",
   "execution_count": 4,
   "metadata": {},
   "outputs": [],
   "source": [
    "theta_0 = 2.  ##\n",
    "theta_1 = 1.  ##"
   ]
  },
  {
   "cell_type": "code",
   "execution_count": 5,
   "metadata": {},
   "outputs": [],
   "source": [
    "## Genera un dataset aleatorio\n",
    "\n",
    "## Establece la semilla\n",
    "np.random.seed(42)  ##\n",
    "\n",
    "## declara el tamaño del dataset\n",
    "size = (200, 1)  ##\n",
    "\n",
    "X_1 = np.random.normal(0, 1, size=size)\n",
    "X_0 = np.ones(shape=size)  ## Vector de 1s con el tamaño de X_1\n",
    "\n",
    "error = np.random.normal(0, 1, size=size)\n",
    "\n",
    "# Genera la variable objetivo y en función a la eq lineal\n",
    "y = theta_0 * X_0 + theta_1 * X_1 + error"
   ]
  },
  {
   "cell_type": "markdown",
   "metadata": {},
   "source": [
    "#### Vamos a graficar nuestros datos para comprobar la relacion de y ~ X"
   ]
  },
  {
   "cell_type": "code",
   "execution_count": 6,
   "metadata": {
    "ExecuteTime": {
     "end_time": "2018-08-25T03:56:24.780299Z",
     "start_time": "2018-08-25T03:56:24.032204Z"
    }
   },
   "outputs": [
    {
     "data": {
      "image/png": "[encoded data removed]",
      "text/plain": [
       "<Figure size 432x288 with 1 Axes>"
      ]
     },
     "metadata": {},
     "output_type": "display_data"
    }
   ],
   "source": [
    "ax = sns.scatterplot(y=y[:,0], x=X_1[:,0],\n",
    "                    alpha = 0.5)"
   ]
  },
  {
   "cell_type": "markdown",
   "metadata": {},
   "source": [
    "## Ex2 - Solución analítica\n",
    "\n",
    "Dado que la función de coste puede resolverse de forma analítica, vamos a resolverla para encontrar los valores de $\\theta$ y poder comparar con los valores que obtenemos con gradiente descendiente\n",
    "\n",
    "Recordamos que la solución anlítica viene dada de forma matricial como:\n",
    "\n",
    "\n",
    "$$\\theta = [\\theta_0, \\theta_1] = (X^TX)^{-1}X^Ty$$\n",
    "\n",
    "[derivacion](https://towardsdatascience.com/analytical-solution-of-linear-regression-a0e870b038d5)"
   ]
  },
  {
   "cell_type": "code",
   "execution_count": 7,
   "metadata": {},
   "outputs": [],
   "source": [
    "## Juntamos los dos vectores en una matrix. Recuerda que X_0 = [1, ...,1] ya que multiplica a la theta_0 (ordenada en el origen)\n",
    "\n",
    "X = np.hstack([X_0, X_1])"
   ]
  },
  {
   "cell_type": "code",
   "execution_count": 8,
   "metadata": {},
   "outputs": [],
   "source": [
    "## calculamos la transpuesta\n",
    "\n",
    "X_t = X.transpose()  ##"
   ]
  },
  {
   "cell_type": "code",
   "execution_count": 9,
   "metadata": {},
   "outputs": [],
   "source": [
    "## calculamos el resultado del producto de la transpuesta y multiplicamos por la transpuesta otra vez\n",
    "\n",
    "XtX = X_t.dot(X)\n",
    "XtX_inv = np.linalg.inv(XtX)\n",
    "XtX_invXt = XtX_inv.dot(X_t) ## usa el metodo .dot"
   ]
  },
  {
   "cell_type": "code",
   "execution_count": 10,
   "metadata": {
    "ExecuteTime": {
     "end_time": "2018-08-25T03:56:24.792752Z",
     "start_time": "2018-08-25T03:56:24.783380Z"
    }
   },
   "outputs": [
    {
     "name": "stdout",
     "output_type": "stream",
     "text": [
      "[[2.08998074]\n",
      " [1.10086975]]\n"
     ]
    }
   ],
   "source": [
    "## Finalmente, multiplicamos por las y's conocidas\n",
    "theta_est = XtX_invXt.dot(y)\n",
    "\n",
    "print(theta_est)"
   ]
  },
  {
   "cell_type": "markdown",
   "metadata": {},
   "source": [
    "\n",
    "## Finalmente, vamos a plottear el resultado para comparar la linea real con la estimada"
   ]
  },
  {
   "cell_type": "code",
   "execution_count": 11,
   "metadata": {
    "ExecuteTime": {
     "end_time": "2018-08-25T03:56:25.168502Z",
     "start_time": "2018-08-25T03:56:24.808124Z"
    }
   },
   "outputs": [
    {
     "data": {
      "text/plain": [
       "<AxesSubplot:>"
      ]
     },
     "execution_count": 11,
     "metadata": {},
     "output_type": "execute_result"
    },
    {
     "data": {
      "image/png": "[encoded data removed]",
      "text/plain": [
       "<Figure size 432x288 with 1 Axes>"
      ]
     },
     "metadata": {},
     "output_type": "display_data"
    }
   ],
   "source": [
    "## Graficamos los datos de entrenamiento\n",
    "\n",
    "ax = sns.scatterplot(y=y[:,0], x=X[:, 1], label='Real')\n",
    "\n",
    "## Creamos una y estimada a partir de los datos de X y de theta_est\n",
    "y_hat = theta_est[0] * X_0 + theta_est[1] * X_1 ##\n",
    "\n",
    "sns.scatterplot(y=y_hat[:, 0], x=X[:, 1], label='Estimado')"
   ]
  },
  {
   "cell_type": "markdown",
   "metadata": {},
   "source": [
    "## Calcular el error\n"
   ]
  },
  {
   "cell_type": "code",
   "execution_count": 12,
   "metadata": {},
   "outputs": [],
   "source": [
    "error = (y_hat - y).transpose()  ##\n",
    "sum_squared_error = error.dot(error.transpose())  ## producto escalar del vector error sobre si mismo\n",
    "mean_squared_error = sum_squared_error / error.shape[0]"
   ]
  },
  {
   "cell_type": "code",
   "execution_count": 13,
   "metadata": {},
   "outputs": [
    {
     "name": "stdout",
     "output_type": "stream",
     "text": [
      "[[192.10612448]]\n"
     ]
    }
   ],
   "source": [
    "print(mean_squared_error)"
   ]
  },
  {
   "cell_type": "markdown",
   "metadata": {},
   "source": [
    "Vemos que los valores obtenidos son aproximados a los reales que hemos impuesto a principio del ejercicio.\n",
    "\n",
    "Al ser la solución analítica, es la solución óptima a la que querremos acercarnos via el descenso de gradiente.\n",
    "\n",
    "Destacar que **nunca** podremos llegar a una estimación perfecta de los parametros reales debido a la presencia de ruido en nuestras mediciones."
   ]
  },
  {
   "cell_type": "markdown",
   "metadata": {},
   "source": [
    "# Descenso de gradiente"
   ]
  },
  {
   "cell_type": "markdown",
   "metadata": {},
   "source": [
    "A continuación se muestra la derivación de la función de coste sobre la cual aplicaremos el método de descenso de gradiente."
   ]
  },
  {
   "cell_type": "markdown",
   "metadata": {},
   "source": [
    "**Función de coste**\n",
    "\n",
    "$$J(\\theta_0, \\theta_1) = \\frac{1}{2m}\\sum^m_i L_i(\\theta_0, \\theta_1) = \\frac{1}{2m}\\sum^m_i ((\\theta_0 + \\theta_1 x) - y_i)^2 $$\n",
    "\n",
    "**Gradientes**\n",
    "\n",
    "\n",
    "$$ \\frac{\\partial J(\\theta_0, \\theta_1)}{\\partial \\theta_0} = \\frac{1}{m}\\sum_{i=1}^{m}((\\theta_0 + \\theta_1 x) - y_i)) $$\n",
    "\n",
    "$$ \\frac{\\partial J(\\theta_0, \\theta_1)}{\\partial \\theta_1} = \\frac{1}{m}\\sum_{i=1}^{m}((\\theta_0 + \\theta_1 x_i) - y_i))x_i $$\n",
    "\n",
    "**Descenso de gradiente**\n",
    "\n",
    "$$\\theta_0^{t+1} := \\theta_0^t - \\alpha \\times \\frac{\\partial J(\\theta_0, \\theta_1)}{\\partial \\theta_0}$$\n",
    "\n",
    "$$\\theta_1^{t+1} := \\theta_1^t - \\alpha \\times \\frac{\\partial J(\\theta_0, \\theta_1)}{\\partial \\theta_1}$$"
   ]
  },
  {
   "cell_type": "markdown",
   "metadata": {},
   "source": [
    "## Ex-1: Crea una función que calcule el coste de la función"
   ]
  },
  {
   "cell_type": "code",
   "execution_count": null,
   "metadata": {},
   "outputs": [],
   "source": [
    "def cost_j(theta_0: float, theta_1: float, X: np.array, y: np.array) -> float:\n",
    "    \"\"\"Calcula el error cuadrático medio\n",
    "    \"\"\"\n",
    "    m = ##\n",
    "    y_pred = ##\n",
    "    coste = ##\n",
    "    coste_quad = coste.T.dot(coste) ## Esto se puede escribir como np.sum(np.square(y_pred - y))\n",
    "    coste_quad_medio = ##\n",
    "    return float(coste_quad_medio)"
   ]
  },
  {
   "cell_type": "markdown",
   "metadata": {},
   "source": [
    "# Ex-2: Crea una función que devuelva una tupla con los gradientes parciales para $\\theta_0$ y $\\theta_1$"
   ]
  },
  {
   "cell_type": "code",
   "execution_count": null,
   "metadata": {},
   "outputs": [],
   "source": [
    "def gradiente(theta_0: float, theta_1: float, X: np.array, y: np.array) -> float:\n",
    "    m = #\n",
    "    y_pred = theta_0 + theta_1*X\n",
    "    z = y_pred - y\n",
    "    grad_theta_0 = ##\n",
    "    grad_theta_1 = float(z.T.dot(X)/m)\n",
    "    return grad_theta_0, grad_theta_1"
   ]
  },
  {
   "cell_type": "code",
   "execution_count": null,
   "metadata": {},
   "outputs": [],
   "source": [
    "gradiente(1000,600, X_1, y)"
   ]
  },
  {
   "cell_type": "markdown",
   "metadata": {},
   "source": [
    "#### Ex-3: Inicializa aleatoriamente $\\theta_0$ y $\\theta_1$ y aplica el algoritmo de descenso de gradiente"
   ]
  },
  {
   "cell_type": "code",
   "execution_count": null,
   "metadata": {},
   "outputs": [],
   "source": [
    "## Inicalizacion de parametros\n",
    "theta_0 = ##\n",
    "theta_1 = ##\n",
    "\n",
    "## Selección de hiperparametros\n",
    "\n",
    "alpha = ##\n",
    "num_iteraciones = ##\n",
    "\n",
    "training_report = []\n",
    "\n",
    "for it in range(num_iteraciones):\n",
    "    # calculamos el coste\n",
    "    FOR \n",
    "        coste = ##\n",
    "\n",
    "        # calculamos el gradiente\n",
    "        grad_theta_0, grad_theta_1 = ##\n",
    "\n",
    "        # Actualizamos los parametros theta\n",
    "        theta_0 = theta_0 - alpha*grad_theta_0\n",
    "        theta_1 = theta_1 - alpha*grad_theta_1\n",
    "\n",
    "        ## Añadir info al informe\n",
    "\n",
    "        # Crea un diccionario con la información\n",
    "        tmp_report = {'iteracion':it,\n",
    "                      'batch': i,\n",
    "                      'batch_size': batch_size,\n",
    "                      'theta_0': theta_0,\n",
    "                      'theta_1': theta_1,\n",
    "                      'coste': coste}\n",
    "\n",
    "        training_report.append(tmp_report)"
   ]
  },
  {
   "cell_type": "code",
   "execution_count": null,
   "metadata": {},
   "outputs": [],
   "source": [
    "df_training_report = pd.DataFrame(training_report)"
   ]
  },
  {
   "cell_type": "code",
   "execution_count": null,
   "metadata": {},
   "outputs": [],
   "source": [
    "df_training_report.tail(1)"
   ]
  },
  {
   "cell_type": "code",
   "execution_count": null,
   "metadata": {},
   "outputs": [],
   "source": [
    "df_training_report[['iteracion', 'coste']].plot(kind='line', x='iteracion', y='coste')"
   ]
  },
  {
   "cell_type": "markdown",
   "metadata": {},
   "source": [
    "## Ejercicios:\n",
    "\n",
    "1 - Encapsula la lógica en una funcion que tome como argumentos: `alpha, num_iteraciones, X, y` y realiza varios experimentos con distintos learning rates e iteraciones\n",
    "\n",
    "2 - La lógica anterior usa todos los datos disponibles para entrenar el modelo. Cómo se llama a este tipo de entrenamiento ?\n",
    "\n",
    "3 - Modifica la funcion en el ejercicio 1 de forma que se pueda especificar el tamaño del batch de entrenamiento."
   ]
  },
  {
   "cell_type": "code",
   "execution_count": null,
   "metadata": {},
   "outputs": [],
   "source": [
    "##\n",
    "\n",
    "def train_batch_gd(alpha, num_iteraciones, X, y, batch_size):\n",
    "    logic"
   ]
  }
 ],
 "metadata": {
  "gist": {
   "data": {
    "description": "Gradient Descent-Python",
    "public": true
   },
   "id": ""
  },
  "hide_input": false,
  "kernelspec": {
   "display_name": "Python (musi-aa)",
   "language": "python",
   "name": "musi-aa"
  },
  "language_info": {
   "codemirror_mode": {
    "name": "ipython",
    "version": 3
   },
   "file_extension": ".py",
   "mimetype": "text/x-python",
   "name": "python",
   "nbconvert_exporter": "python",
   "pygments_lexer": "ipython3",
   "version": "3.9.7"
  },
  "toc": {
   "base_numbering": 1,
   "nav_menu": {},
   "number_sections": true,
   "sideBar": true,
   "skip_h1_title": false,
   "title_cell": "Table of Contents",
   "title_sidebar": "Contents",
   "toc_cell": false,
   "toc_position": {
    "height": "calc(100% - 180px)",
    "left": "10px",
    "top": "150px",
    "width": "279.233px"
   },
   "toc_section_display": true,
   "toc_window_display": true
  },
  "varInspector": {
   "cols": {
    "lenName": 16,
    "lenType": 16,
    "lenVar": 40
   },
   "kernels_config": {
    "python": {
     "delete_cmd_postfix": "",
     "delete_cmd_prefix": "del ",
     "library": "var_list.py",
     "varRefreshCmd": "print(var_dic_list())"
    },
    "r": {
     "delete_cmd_postfix": ") ",
     "delete_cmd_prefix": "rm(",
     "library": "var_list.r",
     "varRefreshCmd": "cat(var_dic_list()) "
    }
   },
   "position": {
    "height": "461.183px",
    "left": "846.167px",
    "right": "138.333px",
    "top": "127px",
    "width": "559.667px"
   },
   "types_to_exclude": [
    "module",
    "function",
    "builtin_function_or_method",
    "instance",
    "_Feature"
   ],
   "window_display": false
  }
 },
 "nbformat": 4,
 "nbformat_minor": 4
}
