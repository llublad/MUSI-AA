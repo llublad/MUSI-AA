{
 "cells": [
  {
   "cell_type": "markdown",
   "id": "343aa593-7b49-418c-804f-d07d00f993bd",
   "metadata": {},
   "source": [
    "# Estudi del *data set* hotel_review"
   ]
  },
  {
   "cell_type": "markdown",
   "id": "88967b93-f8e4-4ad9-8ff7-8a4dc7c24a51",
   "metadata": {},
   "source": [
    "## Objectiu"
   ]
  },
  {
   "cell_type": "markdown",
   "id": "f3ace2c9-db5d-40e5-937c-bb4aebc5177f",
   "metadata": {},
   "source": [
    "En aquest quadern estudirem una a una i en conjunt\n",
    "les variables del *data set* de la pràctica entregable \n",
    "`hotel_review_analysis`\n",
    "de l'assignatura `Aprenentage Automàtic`\n",
    "del Dr. Juan Huguet. \n",
    "\n",
    "L'objectiu d'aquest estudi és determinar quines noves característiques \n",
    "podem extreure o completar des de fonts externes \n",
    "per tal de millorar l'*accuracy* del model \n",
    "que es preten implementar i \n",
    "d'aquesta forma poder subministrar a la cadena hotelera \n",
    "que ens ha contractat \n",
    "una resposta amb més fonament.\n",
    "\n",
    "La resposta que s'espera són un conjunt de \n",
    "consells que li permetin elevar l'opinió dels clients."
   ]
  },
  {
   "cell_type": "markdown",
   "id": "283e1ed4-e2d0-4edc-beb7-cdab0a0ef671",
   "metadata": {},
   "source": [
    "## Carregam les dades"
   ]
  },
  {
   "cell_type": "markdown",
   "id": "e9f31a27-722c-464d-9e4b-9d81de0af7a4",
   "metadata": {},
   "source": [
    "Procedim a carregar els registres dins un *data frame* per tal de poder fer-hi \n",
    "feina de forma còmoda."
   ]
  },
  {
   "cell_type": "code",
   "execution_count": 1,
   "id": "684ebc34-ad33-45ed-be77-e59eb451db96",
   "metadata": {
    "tags": []
   },
   "outputs": [],
   "source": [
    "import numpy as np\n",
    "import pandas as pd"
   ]
  },
  {
   "cell_type": "code",
   "execution_count": 2,
   "id": "0e672aa1-82b1-49a3-b3c6-2795528b2a5b",
   "metadata": {},
   "outputs": [
    {
     "name": "stdout",
     "output_type": "stream",
     "text": [
      "Loading data/hotel_reviews_dataset_part_1.csv\n",
      "Loading data/hotel_reviews_dataset_part_2.csv\n",
      "Loading data/hotel_reviews_dataset_part_3.csv\n",
      "Loading data/hotel_reviews_dataset_part_4.csv\n"
     ]
    }
   ],
   "source": [
    "data_file_list = [\n",
    "    'data/hotel_reviews_dataset_part_1.csv',\n",
    "    'data/hotel_reviews_dataset_part_2.csv', \n",
    "    'data/hotel_reviews_dataset_part_3.csv',\n",
    "    'data/hotel_reviews_dataset_part_4.csv']\n",
    "\n",
    "df = pd.DataFrame()\n",
    "\n",
    "for file in data_file_list:\n",
    "    print(f\"Loading {file}\")\n",
    "    df = pd.concat([df, pd.read_csv(file)], ignore_index = True)"
   ]
  },
  {
   "cell_type": "markdown",
   "id": "8f8b259b-6ef4-4c2b-8e5f-49c0ffeee7b3",
   "metadata": {},
   "source": [
    "Inspeccionam ..."
   ]
  },
  {
   "cell_type": "code",
   "execution_count": 3,
   "id": "4fbcad38-b6cf-4172-9cb5-222d3254ebf7",
   "metadata": {
    "tags": []
   },
   "outputs": [
    {
     "data": {
      "text/html": [
       "<div>\n",
       "<style scoped>\n",
       "    .dataframe tbody tr th:only-of-type {\n",
       "        vertical-align: middle;\n",
       "    }\n",
       "\n",
       "    .dataframe tbody tr th {\n",
       "        vertical-align: top;\n",
       "    }\n",
       "\n",
       "    .dataframe thead th {\n",
       "        text-align: right;\n",
       "    }\n",
       "</style>\n",
       "<table border=\"1\" class=\"dataframe\">\n",
       "  <thead>\n",
       "    <tr style=\"text-align: right;\">\n",
       "      <th></th>\n",
       "      <th>Hotel_Address</th>\n",
       "      <th>Additional_Number_of_Scoring</th>\n",
       "      <th>Review_Date</th>\n",
       "      <th>Average_Score</th>\n",
       "      <th>Hotel_Name</th>\n",
       "      <th>Reviewer_Nationality</th>\n",
       "      <th>Negative_Review</th>\n",
       "      <th>Review_Total_Negative_Word_Counts</th>\n",
       "      <th>Total_Number_of_Reviews</th>\n",
       "      <th>Positive_Review</th>\n",
       "      <th>Review_Total_Positive_Word_Counts</th>\n",
       "      <th>Total_Number_of_Reviews_Reviewer_Has_Given</th>\n",
       "      <th>Reviewer_Score</th>\n",
       "      <th>Tags</th>\n",
       "      <th>days_since_review</th>\n",
       "      <th>lat</th>\n",
       "      <th>lng</th>\n",
       "    </tr>\n",
       "  </thead>\n",
       "  <tbody>\n",
       "    <tr>\n",
       "      <th>0</th>\n",
       "      <td>s Gravesandestraat 55 Oost 1092 AA Amsterdam ...</td>\n",
       "      <td>194</td>\n",
       "      <td>8/3/2017</td>\n",
       "      <td>7.7</td>\n",
       "      <td>Hotel Arena</td>\n",
       "      <td>Russia</td>\n",
       "      <td>I am so angry that i made this post available...</td>\n",
       "      <td>397</td>\n",
       "      <td>1403</td>\n",
       "      <td>Only the park outside of the hotel was beauti...</td>\n",
       "      <td>11</td>\n",
       "      <td>7</td>\n",
       "      <td>2.9</td>\n",
       "      <td>[' Leisure trip ', ' Couple ', ' Duplex Double...</td>\n",
       "      <td>0 days</td>\n",
       "      <td>52.360576</td>\n",
       "      <td>4.915968</td>\n",
       "    </tr>\n",
       "    <tr>\n",
       "      <th>1</th>\n",
       "      <td>s Gravesandestraat 55 Oost 1092 AA Amsterdam ...</td>\n",
       "      <td>194</td>\n",
       "      <td>8/3/2017</td>\n",
       "      <td>7.7</td>\n",
       "      <td>Hotel Arena</td>\n",
       "      <td>Ireland</td>\n",
       "      <td>No Negative</td>\n",
       "      <td>0</td>\n",
       "      <td>1403</td>\n",
       "      <td>No real complaints the hotel was great great ...</td>\n",
       "      <td>105</td>\n",
       "      <td>7</td>\n",
       "      <td>7.5</td>\n",
       "      <td>[' Leisure trip ', ' Couple ', ' Duplex Double...</td>\n",
       "      <td>0 days</td>\n",
       "      <td>52.360576</td>\n",
       "      <td>4.915968</td>\n",
       "    </tr>\n",
       "    <tr>\n",
       "      <th>2</th>\n",
       "      <td>s Gravesandestraat 55 Oost 1092 AA Amsterdam ...</td>\n",
       "      <td>194</td>\n",
       "      <td>7/31/2017</td>\n",
       "      <td>7.7</td>\n",
       "      <td>Hotel Arena</td>\n",
       "      <td>Australia</td>\n",
       "      <td>Rooms are nice but for elderly a bit difficul...</td>\n",
       "      <td>42</td>\n",
       "      <td>1403</td>\n",
       "      <td>Location was good and staff were ok It is cut...</td>\n",
       "      <td>21</td>\n",
       "      <td>9</td>\n",
       "      <td>7.1</td>\n",
       "      <td>[' Leisure trip ', ' Family with young childre...</td>\n",
       "      <td>3 days</td>\n",
       "      <td>52.360576</td>\n",
       "      <td>4.915968</td>\n",
       "    </tr>\n",
       "    <tr>\n",
       "      <th>3</th>\n",
       "      <td>s Gravesandestraat 55 Oost 1092 AA Amsterdam ...</td>\n",
       "      <td>194</td>\n",
       "      <td>7/31/2017</td>\n",
       "      <td>7.7</td>\n",
       "      <td>Hotel Arena</td>\n",
       "      <td>United Kingdom</td>\n",
       "      <td>My room was dirty and I was afraid to walk ba...</td>\n",
       "      <td>210</td>\n",
       "      <td>1403</td>\n",
       "      <td>Great location in nice surroundings the bar a...</td>\n",
       "      <td>26</td>\n",
       "      <td>1</td>\n",
       "      <td>3.8</td>\n",
       "      <td>[' Leisure trip ', ' Solo traveler ', ' Duplex...</td>\n",
       "      <td>3 days</td>\n",
       "      <td>52.360576</td>\n",
       "      <td>4.915968</td>\n",
       "    </tr>\n",
       "  </tbody>\n",
       "</table>\n",
       "</div>"
      ],
      "text/plain": [
       "                                       Hotel_Address  \\\n",
       "0   s Gravesandestraat 55 Oost 1092 AA Amsterdam ...   \n",
       "1   s Gravesandestraat 55 Oost 1092 AA Amsterdam ...   \n",
       "2   s Gravesandestraat 55 Oost 1092 AA Amsterdam ...   \n",
       "3   s Gravesandestraat 55 Oost 1092 AA Amsterdam ...   \n",
       "\n",
       "   Additional_Number_of_Scoring Review_Date  Average_Score   Hotel_Name  \\\n",
       "0                           194    8/3/2017            7.7  Hotel Arena   \n",
       "1                           194    8/3/2017            7.7  Hotel Arena   \n",
       "2                           194   7/31/2017            7.7  Hotel Arena   \n",
       "3                           194   7/31/2017            7.7  Hotel Arena   \n",
       "\n",
       "  Reviewer_Nationality                                    Negative_Review  \\\n",
       "0              Russia    I am so angry that i made this post available...   \n",
       "1             Ireland                                         No Negative   \n",
       "2           Australia    Rooms are nice but for elderly a bit difficul...   \n",
       "3      United Kingdom    My room was dirty and I was afraid to walk ba...   \n",
       "\n",
       "   Review_Total_Negative_Word_Counts  Total_Number_of_Reviews  \\\n",
       "0                                397                     1403   \n",
       "1                                  0                     1403   \n",
       "2                                 42                     1403   \n",
       "3                                210                     1403   \n",
       "\n",
       "                                     Positive_Review  \\\n",
       "0   Only the park outside of the hotel was beauti...   \n",
       "1   No real complaints the hotel was great great ...   \n",
       "2   Location was good and staff were ok It is cut...   \n",
       "3   Great location in nice surroundings the bar a...   \n",
       "\n",
       "   Review_Total_Positive_Word_Counts  \\\n",
       "0                                 11   \n",
       "1                                105   \n",
       "2                                 21   \n",
       "3                                 26   \n",
       "\n",
       "   Total_Number_of_Reviews_Reviewer_Has_Given  Reviewer_Score  \\\n",
       "0                                           7             2.9   \n",
       "1                                           7             7.5   \n",
       "2                                           9             7.1   \n",
       "3                                           1             3.8   \n",
       "\n",
       "                                                Tags days_since_review  \\\n",
       "0  [' Leisure trip ', ' Couple ', ' Duplex Double...            0 days   \n",
       "1  [' Leisure trip ', ' Couple ', ' Duplex Double...            0 days   \n",
       "2  [' Leisure trip ', ' Family with young childre...            3 days   \n",
       "3  [' Leisure trip ', ' Solo traveler ', ' Duplex...            3 days   \n",
       "\n",
       "         lat       lng  \n",
       "0  52.360576  4.915968  \n",
       "1  52.360576  4.915968  \n",
       "2  52.360576  4.915968  \n",
       "3  52.360576  4.915968  "
      ]
     },
     "execution_count": 3,
     "metadata": {},
     "output_type": "execute_result"
    }
   ],
   "source": [
    "df.head(4)"
   ]
  },
  {
   "cell_type": "code",
   "execution_count": 4,
   "id": "031d6714-e88f-479f-91ce-2f66fd8c15ce",
   "metadata": {},
   "outputs": [
    {
     "data": {
      "text/html": [
       "<div>\n",
       "<style scoped>\n",
       "    .dataframe tbody tr th:only-of-type {\n",
       "        vertical-align: middle;\n",
       "    }\n",
       "\n",
       "    .dataframe tbody tr th {\n",
       "        vertical-align: top;\n",
       "    }\n",
       "\n",
       "    .dataframe thead th {\n",
       "        text-align: right;\n",
       "    }\n",
       "</style>\n",
       "<table border=\"1\" class=\"dataframe\">\n",
       "  <thead>\n",
       "    <tr style=\"text-align: right;\">\n",
       "      <th></th>\n",
       "      <th>Additional_Number_of_Scoring</th>\n",
       "      <th>Average_Score</th>\n",
       "      <th>Review_Total_Negative_Word_Counts</th>\n",
       "      <th>Total_Number_of_Reviews</th>\n",
       "      <th>Review_Total_Positive_Word_Counts</th>\n",
       "      <th>Total_Number_of_Reviews_Reviewer_Has_Given</th>\n",
       "      <th>Reviewer_Score</th>\n",
       "      <th>lat</th>\n",
       "      <th>lng</th>\n",
       "    </tr>\n",
       "  </thead>\n",
       "  <tbody>\n",
       "    <tr>\n",
       "      <th>count</th>\n",
       "      <td>515738.000000</td>\n",
       "      <td>515738.000000</td>\n",
       "      <td>515738.000000</td>\n",
       "      <td>515738.000000</td>\n",
       "      <td>515738.000000</td>\n",
       "      <td>515738.000000</td>\n",
       "      <td>515738.000000</td>\n",
       "      <td>512470.000000</td>\n",
       "      <td>512470.000000</td>\n",
       "    </tr>\n",
       "    <tr>\n",
       "      <th>mean</th>\n",
       "      <td>498.081836</td>\n",
       "      <td>8.397487</td>\n",
       "      <td>18.539450</td>\n",
       "      <td>2743.743944</td>\n",
       "      <td>17.776458</td>\n",
       "      <td>7.166001</td>\n",
       "      <td>8.395077</td>\n",
       "      <td>49.442439</td>\n",
       "      <td>2.823803</td>\n",
       "    </tr>\n",
       "    <tr>\n",
       "      <th>std</th>\n",
       "      <td>500.538467</td>\n",
       "      <td>0.548048</td>\n",
       "      <td>29.690831</td>\n",
       "      <td>2317.464868</td>\n",
       "      <td>21.804185</td>\n",
       "      <td>11.040228</td>\n",
       "      <td>1.637856</td>\n",
       "      <td>3.466325</td>\n",
       "      <td>4.579425</td>\n",
       "    </tr>\n",
       "    <tr>\n",
       "      <th>min</th>\n",
       "      <td>1.000000</td>\n",
       "      <td>5.200000</td>\n",
       "      <td>0.000000</td>\n",
       "      <td>43.000000</td>\n",
       "      <td>0.000000</td>\n",
       "      <td>1.000000</td>\n",
       "      <td>2.500000</td>\n",
       "      <td>41.328376</td>\n",
       "      <td>-0.369758</td>\n",
       "    </tr>\n",
       "    <tr>\n",
       "      <th>25%</th>\n",
       "      <td>169.000000</td>\n",
       "      <td>8.100000</td>\n",
       "      <td>2.000000</td>\n",
       "      <td>1161.000000</td>\n",
       "      <td>5.000000</td>\n",
       "      <td>1.000000</td>\n",
       "      <td>7.500000</td>\n",
       "      <td>48.214662</td>\n",
       "      <td>-0.143372</td>\n",
       "    </tr>\n",
       "    <tr>\n",
       "      <th>50%</th>\n",
       "      <td>341.000000</td>\n",
       "      <td>8.400000</td>\n",
       "      <td>9.000000</td>\n",
       "      <td>2134.000000</td>\n",
       "      <td>11.000000</td>\n",
       "      <td>3.000000</td>\n",
       "      <td>8.800000</td>\n",
       "      <td>51.499981</td>\n",
       "      <td>0.010607</td>\n",
       "    </tr>\n",
       "    <tr>\n",
       "      <th>75%</th>\n",
       "      <td>660.000000</td>\n",
       "      <td>8.800000</td>\n",
       "      <td>23.000000</td>\n",
       "      <td>3613.000000</td>\n",
       "      <td>22.000000</td>\n",
       "      <td>8.000000</td>\n",
       "      <td>9.600000</td>\n",
       "      <td>51.516288</td>\n",
       "      <td>4.834443</td>\n",
       "    </tr>\n",
       "    <tr>\n",
       "      <th>max</th>\n",
       "      <td>2682.000000</td>\n",
       "      <td>9.800000</td>\n",
       "      <td>408.000000</td>\n",
       "      <td>16670.000000</td>\n",
       "      <td>395.000000</td>\n",
       "      <td>355.000000</td>\n",
       "      <td>10.000000</td>\n",
       "      <td>52.400181</td>\n",
       "      <td>16.429233</td>\n",
       "    </tr>\n",
       "  </tbody>\n",
       "</table>\n",
       "</div>"
      ],
      "text/plain": [
       "       Additional_Number_of_Scoring  Average_Score  \\\n",
       "count                 515738.000000  515738.000000   \n",
       "mean                     498.081836       8.397487   \n",
       "std                      500.538467       0.548048   \n",
       "min                        1.000000       5.200000   \n",
       "25%                      169.000000       8.100000   \n",
       "50%                      341.000000       8.400000   \n",
       "75%                      660.000000       8.800000   \n",
       "max                     2682.000000       9.800000   \n",
       "\n",
       "       Review_Total_Negative_Word_Counts  Total_Number_of_Reviews  \\\n",
       "count                      515738.000000            515738.000000   \n",
       "mean                           18.539450              2743.743944   \n",
       "std                            29.690831              2317.464868   \n",
       "min                             0.000000                43.000000   \n",
       "25%                             2.000000              1161.000000   \n",
       "50%                             9.000000              2134.000000   \n",
       "75%                            23.000000              3613.000000   \n",
       "max                           408.000000             16670.000000   \n",
       "\n",
       "       Review_Total_Positive_Word_Counts  \\\n",
       "count                      515738.000000   \n",
       "mean                           17.776458   \n",
       "std                            21.804185   \n",
       "min                             0.000000   \n",
       "25%                             5.000000   \n",
       "50%                            11.000000   \n",
       "75%                            22.000000   \n",
       "max                           395.000000   \n",
       "\n",
       "       Total_Number_of_Reviews_Reviewer_Has_Given  Reviewer_Score  \\\n",
       "count                               515738.000000   515738.000000   \n",
       "mean                                     7.166001        8.395077   \n",
       "std                                     11.040228        1.637856   \n",
       "min                                      1.000000        2.500000   \n",
       "25%                                      1.000000        7.500000   \n",
       "50%                                      3.000000        8.800000   \n",
       "75%                                      8.000000        9.600000   \n",
       "max                                    355.000000       10.000000   \n",
       "\n",
       "                 lat            lng  \n",
       "count  512470.000000  512470.000000  \n",
       "mean       49.442439       2.823803  \n",
       "std         3.466325       4.579425  \n",
       "min        41.328376      -0.369758  \n",
       "25%        48.214662      -0.143372  \n",
       "50%        51.499981       0.010607  \n",
       "75%        51.516288       4.834443  \n",
       "max        52.400181      16.429233  "
      ]
     },
     "execution_count": 4,
     "metadata": {},
     "output_type": "execute_result"
    }
   ],
   "source": [
    "df.describe()"
   ]
  },
  {
   "cell_type": "markdown",
   "id": "aa539843-67a4-42a8-8a7b-cd01a2756975",
   "metadata": {},
   "source": [
    "Ens crida l'atenció que la latitud i la longitud tenguin un recorregut tan petit. \n",
    "Sembla com si tots els hotels que la tenen informada, siguin de la mateixa regió. \n",
    "Alguns valors (de latitud i longitud) no estan informats.\n",
    "\n",
    "La variable `days_since_review` no és numèrica (!). \n",
    "S'haurà d'analitzar el seu contingut per veure si pot ser \n",
    "transformada a numèrica (entera)."
   ]
  },
  {
   "cell_type": "markdown",
   "id": "6eba182a-4718-434f-8bbe-4df7e6b44bad",
   "metadata": {
    "tags": []
   },
   "source": [
    "### Valoració de l'impacte dels valors *nan*\n",
    "\n",
    "Miram si tenim valors *nan* a qualque columna ..."
   ]
  },
  {
   "cell_type": "code",
   "execution_count": 5,
   "id": "98ea3237-4fcf-4c0a-91e7-1195f1395240",
   "metadata": {},
   "outputs": [
    {
     "name": "stdout",
     "output_type": "stream",
     "text": [
      "<class 'pandas.core.frame.DataFrame'>\n",
      "RangeIndex: 515738 entries, 0 to 515737\n",
      "Data columns (total 17 columns):\n",
      " #   Column                                      Non-Null Count   Dtype  \n",
      "---  ------                                      --------------   -----  \n",
      " 0   Hotel_Address                               515738 non-null  object \n",
      " 1   Additional_Number_of_Scoring                515738 non-null  int64  \n",
      " 2   Review_Date                                 515738 non-null  object \n",
      " 3   Average_Score                               515738 non-null  float64\n",
      " 4   Hotel_Name                                  515738 non-null  object \n",
      " 5   Reviewer_Nationality                        515738 non-null  object \n",
      " 6   Negative_Review                             515738 non-null  object \n",
      " 7   Review_Total_Negative_Word_Counts           515738 non-null  int64  \n",
      " 8   Total_Number_of_Reviews                     515738 non-null  int64  \n",
      " 9   Positive_Review                             515738 non-null  object \n",
      " 10  Review_Total_Positive_Word_Counts           515738 non-null  int64  \n",
      " 11  Total_Number_of_Reviews_Reviewer_Has_Given  515738 non-null  int64  \n",
      " 12  Reviewer_Score                              515738 non-null  float64\n",
      " 13  Tags                                        515738 non-null  object \n",
      " 14  days_since_review                           515738 non-null  object \n",
      " 15  lat                                         512470 non-null  float64\n",
      " 16  lng                                         512470 non-null  float64\n",
      "dtypes: float64(4), int64(5), object(8)\n",
      "memory usage: 66.9+ MB\n"
     ]
    }
   ],
   "source": [
    "df.info(show_counts=True)"
   ]
  },
  {
   "cell_type": "markdown",
   "id": "46fc0c03-5c9b-4bad-aebf-3266cc1210e1",
   "metadata": {},
   "source": [
    "Com ja havíem detectat, \n",
    "confirmam que **hi ha valors nuls** \n",
    "a les coordenades geogràfiques d'alguns registres.\n",
    "Ho haurem de tenir en compte si interessàs classificar els hotels en categories\n",
    "que depenguin de la seva ubicació i la inferim de les coordenades geogràfiques."
   ]
  },
  {
   "cell_type": "markdown",
   "id": "643b2a50-5d16-4e1f-be6a-e9551b7e2203",
   "metadata": {
    "tags": []
   },
   "source": [
    "## Estudi de les variables predictores"
   ]
  },
  {
   "cell_type": "markdown",
   "id": "4fd9fbad-1894-4775-8b5b-3c6632047d13",
   "metadata": {},
   "source": [
    "### Llibreries addicionals"
   ]
  },
  {
   "cell_type": "markdown",
   "id": "ace2487d-3b54-45d7-8c72-36aca72e81d0",
   "metadata": {},
   "source": [
    "Per poder estudiar millor les variables que tenim \n",
    "necessitarem (instal·lar): "
   ]
  },
  {
   "cell_type": "code",
   "execution_count": 6,
   "id": "c9a4e745-834b-4f18-bbde-02e31db278c0",
   "metadata": {},
   "outputs": [],
   "source": [
    "# !conda install geopandas\n",
    "## !pip install geopandas\n",
    "\n",
    "#\n",
    "# Aquesta llibreria amplia pandas amb eines que permeten tractaments geogràfics\n",
    "#\n",
    "import geopandas as gpd"
   ]
  },
  {
   "cell_type": "markdown",
   "id": "e10a47ad-c524-45ec-bcf5-95ee947cf936",
   "metadata": {
    "tags": []
   },
   "source": [
    "### Variables que depenen de l'establiment"
   ]
  },
  {
   "cell_type": "markdown",
   "id": "f562b196-ccb7-40a9-8c7f-4e2e18e82282",
   "metadata": {},
   "source": [
    "Al conjunt de dades subministrat hi ha variables que depenen de l'establiment hoteler i \n",
    "d'altres que són pròpiament de la revisió que ha fet el client."
   ]
  },
  {
   "cell_type": "markdown",
   "id": "cac5e86d-66dc-430f-aa7f-f8fb6b3f8899",
   "metadata": {},
   "source": [
    "Per tal de tenir una millor visió de les variables relacionades\n",
    "amb l'establiment hoteler, \n",
    "les agruparem en un *data frame*:"
   ]
  },
  {
   "cell_type": "code",
   "execution_count": 7,
   "id": "3f90abfb-8f2f-4984-a2b6-0d4720dacdcd",
   "metadata": {},
   "outputs": [],
   "source": [
    "hotel_columns = [\n",
    "    'Hotel_Address',\n",
    "    'Additional_Number_of_Scoring',\n",
    "    'Average_Score',\n",
    "    'Hotel_Name',\n",
    "    'Total_Number_of_Reviews',\n",
    "    'lat',\n",
    "    'lng']\n",
    "\n",
    "#\n",
    "# Hem de dir-li a pandas que també volem els nuls perquè lat i lng en tenen\n",
    "#\n",
    "df_hotel = df[hotel_columns].groupby(hotel_columns, dropna = False).first().reset_index()"
   ]
  },
  {
   "cell_type": "code",
   "execution_count": 8,
   "id": "74d210c1-74e4-4d36-a059-3fee57a6b8de",
   "metadata": {},
   "outputs": [
    {
     "data": {
      "text/html": [
       "<div>\n",
       "<style scoped>\n",
       "    .dataframe tbody tr th:only-of-type {\n",
       "        vertical-align: middle;\n",
       "    }\n",
       "\n",
       "    .dataframe tbody tr th {\n",
       "        vertical-align: top;\n",
       "    }\n",
       "\n",
       "    .dataframe thead th {\n",
       "        text-align: right;\n",
       "    }\n",
       "</style>\n",
       "<table border=\"1\" class=\"dataframe\">\n",
       "  <thead>\n",
       "    <tr style=\"text-align: right;\">\n",
       "      <th></th>\n",
       "      <th>Hotel_Address</th>\n",
       "      <th>Additional_Number_of_Scoring</th>\n",
       "      <th>Average_Score</th>\n",
       "      <th>Hotel_Name</th>\n",
       "      <th>Total_Number_of_Reviews</th>\n",
       "      <th>lat</th>\n",
       "      <th>lng</th>\n",
       "    </tr>\n",
       "  </thead>\n",
       "  <tbody>\n",
       "    <tr>\n",
       "      <th>0</th>\n",
       "      <td>s Gravesandestraat 55 Oost 1092 AA Amsterdam ...</td>\n",
       "      <td>194</td>\n",
       "      <td>7.7</td>\n",
       "      <td>Hotel Arena</td>\n",
       "      <td>1403</td>\n",
       "      <td>52.360576</td>\n",
       "      <td>4.915968</td>\n",
       "    </tr>\n",
       "    <tr>\n",
       "      <th>1</th>\n",
       "      <td>1 15 Templeton Place Earl s Court Kensington a...</td>\n",
       "      <td>244</td>\n",
       "      <td>8.5</td>\n",
       "      <td>K K Hotel George</td>\n",
       "      <td>1831</td>\n",
       "      <td>51.491888</td>\n",
       "      <td>-0.194971</td>\n",
       "    </tr>\n",
       "    <tr>\n",
       "      <th>2</th>\n",
       "      <td>1 2 Serjeant s Inn Fleet Street City of London...</td>\n",
       "      <td>639</td>\n",
       "      <td>9.2</td>\n",
       "      <td>Apex Temple Court Hotel</td>\n",
       "      <td>2619</td>\n",
       "      <td>51.513734</td>\n",
       "      <td>-0.108751</td>\n",
       "    </tr>\n",
       "    <tr>\n",
       "      <th>3</th>\n",
       "      <td>1 3 Queens Garden Westminster Borough London W...</td>\n",
       "      <td>1058</td>\n",
       "      <td>7.7</td>\n",
       "      <td>The Park Grand London Paddington</td>\n",
       "      <td>4380</td>\n",
       "      <td>51.514218</td>\n",
       "      <td>-0.180903</td>\n",
       "    </tr>\n",
       "    <tr>\n",
       "      <th>4</th>\n",
       "      <td>1 3 Rue d Argentine 16th arr 75116 Paris France</td>\n",
       "      <td>26</td>\n",
       "      <td>8.4</td>\n",
       "      <td>Monhotel Lounge SPA</td>\n",
       "      <td>171</td>\n",
       "      <td>48.874348</td>\n",
       "      <td>2.289733</td>\n",
       "    </tr>\n",
       "    <tr>\n",
       "      <th>...</th>\n",
       "      <td>...</td>\n",
       "      <td>...</td>\n",
       "      <td>...</td>\n",
       "      <td>...</td>\n",
       "      <td>...</td>\n",
       "      <td>...</td>\n",
       "      <td>...</td>\n",
       "    </tr>\n",
       "    <tr>\n",
       "      <th>1489</th>\n",
       "      <td>Wiedner Hauptstra e 44 04 Wieden 1040 Vienna A...</td>\n",
       "      <td>260</td>\n",
       "      <td>8.0</td>\n",
       "      <td>Suite Hotel 900 m zur Oper</td>\n",
       "      <td>3461</td>\n",
       "      <td>48.193523</td>\n",
       "      <td>16.366915</td>\n",
       "    </tr>\n",
       "    <tr>\n",
       "      <th>1490</th>\n",
       "      <td>Wildpretmarkt 5 01 Innere Stadt 1010 Vienna Au...</td>\n",
       "      <td>82</td>\n",
       "      <td>8.9</td>\n",
       "      <td>Hotel Amadeus</td>\n",
       "      <td>717</td>\n",
       "      <td>48.210447</td>\n",
       "      <td>16.371578</td>\n",
       "    </tr>\n",
       "    <tr>\n",
       "      <th>1491</th>\n",
       "      <td>Wilton Place Knightsbridge Westminster Borough...</td>\n",
       "      <td>70</td>\n",
       "      <td>9.1</td>\n",
       "      <td>The Berkeley</td>\n",
       "      <td>232</td>\n",
       "      <td>51.502091</td>\n",
       "      <td>-0.157779</td>\n",
       "    </tr>\n",
       "    <tr>\n",
       "      <th>1492</th>\n",
       "      <td>Wrights Lane Kensington and Chelsea London W8 ...</td>\n",
       "      <td>1172</td>\n",
       "      <td>7.8</td>\n",
       "      <td>Holiday Inn London Kensington</td>\n",
       "      <td>5945</td>\n",
       "      <td>51.499981</td>\n",
       "      <td>-0.192879</td>\n",
       "    </tr>\n",
       "    <tr>\n",
       "      <th>1493</th>\n",
       "      <td>Wurzbachgasse 21 15 Rudolfsheim F nfhaus 1150 ...</td>\n",
       "      <td>168</td>\n",
       "      <td>8.1</td>\n",
       "      <td>Atlantis Hotel Vienna</td>\n",
       "      <td>2823</td>\n",
       "      <td>48.203745</td>\n",
       "      <td>16.335677</td>\n",
       "    </tr>\n",
       "  </tbody>\n",
       "</table>\n",
       "<p>1494 rows × 7 columns</p>\n",
       "</div>"
      ],
      "text/plain": [
       "                                          Hotel_Address  \\\n",
       "0      s Gravesandestraat 55 Oost 1092 AA Amsterdam ...   \n",
       "1     1 15 Templeton Place Earl s Court Kensington a...   \n",
       "2     1 2 Serjeant s Inn Fleet Street City of London...   \n",
       "3     1 3 Queens Garden Westminster Borough London W...   \n",
       "4       1 3 Rue d Argentine 16th arr 75116 Paris France   \n",
       "...                                                 ...   \n",
       "1489  Wiedner Hauptstra e 44 04 Wieden 1040 Vienna A...   \n",
       "1490  Wildpretmarkt 5 01 Innere Stadt 1010 Vienna Au...   \n",
       "1491  Wilton Place Knightsbridge Westminster Borough...   \n",
       "1492  Wrights Lane Kensington and Chelsea London W8 ...   \n",
       "1493  Wurzbachgasse 21 15 Rudolfsheim F nfhaus 1150 ...   \n",
       "\n",
       "      Additional_Number_of_Scoring  Average_Score  \\\n",
       "0                              194            7.7   \n",
       "1                              244            8.5   \n",
       "2                              639            9.2   \n",
       "3                             1058            7.7   \n",
       "4                               26            8.4   \n",
       "...                            ...            ...   \n",
       "1489                           260            8.0   \n",
       "1490                            82            8.9   \n",
       "1491                            70            9.1   \n",
       "1492                          1172            7.8   \n",
       "1493                           168            8.1   \n",
       "\n",
       "                            Hotel_Name  Total_Number_of_Reviews        lat  \\\n",
       "0                          Hotel Arena                     1403  52.360576   \n",
       "1                     K K Hotel George                     1831  51.491888   \n",
       "2              Apex Temple Court Hotel                     2619  51.513734   \n",
       "3     The Park Grand London Paddington                     4380  51.514218   \n",
       "4                  Monhotel Lounge SPA                      171  48.874348   \n",
       "...                                ...                      ...        ...   \n",
       "1489        Suite Hotel 900 m zur Oper                     3461  48.193523   \n",
       "1490                     Hotel Amadeus                      717  48.210447   \n",
       "1491                      The Berkeley                      232  51.502091   \n",
       "1492     Holiday Inn London Kensington                     5945  51.499981   \n",
       "1493             Atlantis Hotel Vienna                     2823  48.203745   \n",
       "\n",
       "            lng  \n",
       "0      4.915968  \n",
       "1     -0.194971  \n",
       "2     -0.108751  \n",
       "3     -0.180903  \n",
       "4      2.289733  \n",
       "...         ...  \n",
       "1489  16.366915  \n",
       "1490  16.371578  \n",
       "1491  -0.157779  \n",
       "1492  -0.192879  \n",
       "1493  16.335677  \n",
       "\n",
       "[1494 rows x 7 columns]"
      ]
     },
     "execution_count": 8,
     "metadata": {},
     "output_type": "execute_result"
    }
   ],
   "source": [
    "df_hotel"
   ]
  },
  {
   "cell_type": "markdown",
   "id": "606cb48e-661c-4b03-8e70-c37a1b015727",
   "metadata": {},
   "source": [
    "Pel que sembla hi ha 1494 establiments."
   ]
  },
  {
   "cell_type": "markdown",
   "id": "c02fcfa8-27cf-4ebf-85a4-5fc53cdca770",
   "metadata": {},
   "source": [
    "A continuació farem un petit estudi del significat \n",
    "de cada variable i de les propietats que \n",
    "pensam que poden ésser útils per a l'[objectiu](#Objectiu)\n",
    "del client."
   ]
  },
  {
   "cell_type": "markdown",
   "id": "24cb8a1f-5af3-4427-a751-9739306deeb9",
   "metadata": {},
   "source": [
    "#### Hotel_Address"
   ]
  },
  {
   "cell_type": "markdown",
   "id": "37636f47-e2f5-47c4-89d3-15f04478d0ae",
   "metadata": {},
   "source": [
    "És un camp de texte lliure que conté l'adreça de l'Hotel. \n",
    "El nom del païs sembla estar sempre al final del camp.\n",
    "\n",
    "Segurament seria possible inferir les seves coordeandes geogràfiques \n",
    "a partir de l'adreça per tal de poder-li donar una puntuació \n",
    "segons la distància al centre del nucli de població o a monuments \n",
    "singulars. \n",
    "De totes formes, com que a la gran majoria dels establiments \n",
    "ja tenim les coordenades geogràfiques als camps `lat`i `lng`, \n",
    "en principi de l'adreça només \n",
    "**sembla d'interès l'extracció del nom del país**.\n",
    "\n",
    "El país de l'establiment pot tenir interès a l'hora de confrontar \n",
    "les espectatives dels clients amb les ressenyes que han fet."
   ]
  },
  {
   "cell_type": "markdown",
   "id": "1bdf23c9-e3eb-4898-8b1e-4d1bcda7723f",
   "metadata": {},
   "source": [
    "Feim unes proves per veure si es possible extreure el nom del país de forma fiable:"
   ]
  },
  {
   "cell_type": "code",
   "execution_count": 9,
   "id": "7dd9fb49-4085-41f9-a119-ad6f63bad255",
   "metadata": {},
   "outputs": [],
   "source": [
    "#\n",
    "# El ds *naturalearth_lowres* té una representació de la terra per països\n",
    "#\n",
    "world = gpd.read_file(gpd.datasets.get_path('naturalearth_lowres'))"
   ]
  },
  {
   "cell_type": "code",
   "execution_count": 10,
   "id": "016a3065-00a7-44df-853a-a6ce34896d26",
   "metadata": {},
   "outputs": [],
   "source": [
    "#\n",
    "# També conté una columna (name) amb el nom de cada país\n",
    "#\n",
    "country_list = world['name']"
   ]
  },
  {
   "cell_type": "markdown",
   "id": "87969867-bbc1-4cf1-971e-a78ffdcad821",
   "metadata": {},
   "source": [
    "Vegem si és fàcil treure'n el nom del païs."
   ]
  },
  {
   "cell_type": "code",
   "execution_count": 11,
   "id": "f5907041-b028-43dd-8d0c-7e433279369a",
   "metadata": {},
   "outputs": [],
   "source": [
    "country = []\n",
    "for address in df_hotel['Hotel_Address']:\n",
    "    country_name = None\n",
    "    i = 0\n",
    "    while (country_name == None) and (i < len(country_list)):\n",
    "        if address.endswith(country_list[i]):\n",
    "            country_name = country_list[i]\n",
    "        i += 1\n",
    "    country.append(country_name)\n",
    "df_hotel['Hotel_Country'] = country"
   ]
  },
  {
   "cell_type": "code",
   "execution_count": 12,
   "id": "1581a153-dde9-4e29-a3ab-e60a54fbbf08",
   "metadata": {},
   "outputs": [
    {
     "data": {
      "text/html": [
       "<div>\n",
       "<style scoped>\n",
       "    .dataframe tbody tr th:only-of-type {\n",
       "        vertical-align: middle;\n",
       "    }\n",
       "\n",
       "    .dataframe tbody tr th {\n",
       "        vertical-align: top;\n",
       "    }\n",
       "\n",
       "    .dataframe thead th {\n",
       "        text-align: right;\n",
       "    }\n",
       "</style>\n",
       "<table border=\"1\" class=\"dataframe\">\n",
       "  <thead>\n",
       "    <tr style=\"text-align: right;\">\n",
       "      <th></th>\n",
       "      <th>Hotel_Address</th>\n",
       "      <th>Hotel_Country</th>\n",
       "    </tr>\n",
       "  </thead>\n",
       "  <tbody>\n",
       "    <tr>\n",
       "      <th>0</th>\n",
       "      <td>s Gravesandestraat 55 Oost 1092 AA Amsterdam ...</td>\n",
       "      <td>Netherlands</td>\n",
       "    </tr>\n",
       "    <tr>\n",
       "      <th>1</th>\n",
       "      <td>1 15 Templeton Place Earl s Court Kensington a...</td>\n",
       "      <td>United Kingdom</td>\n",
       "    </tr>\n",
       "    <tr>\n",
       "      <th>2</th>\n",
       "      <td>1 2 Serjeant s Inn Fleet Street City of London...</td>\n",
       "      <td>United Kingdom</td>\n",
       "    </tr>\n",
       "    <tr>\n",
       "      <th>3</th>\n",
       "      <td>1 3 Queens Garden Westminster Borough London W...</td>\n",
       "      <td>United Kingdom</td>\n",
       "    </tr>\n",
       "    <tr>\n",
       "      <th>4</th>\n",
       "      <td>1 3 Rue d Argentine 16th arr 75116 Paris France</td>\n",
       "      <td>France</td>\n",
       "    </tr>\n",
       "  </tbody>\n",
       "</table>\n",
       "</div>"
      ],
      "text/plain": [
       "                                       Hotel_Address   Hotel_Country\n",
       "0   s Gravesandestraat 55 Oost 1092 AA Amsterdam ...     Netherlands\n",
       "1  1 15 Templeton Place Earl s Court Kensington a...  United Kingdom\n",
       "2  1 2 Serjeant s Inn Fleet Street City of London...  United Kingdom\n",
       "3  1 3 Queens Garden Westminster Borough London W...  United Kingdom\n",
       "4    1 3 Rue d Argentine 16th arr 75116 Paris France          France"
      ]
     },
     "execution_count": 12,
     "metadata": {},
     "output_type": "execute_result"
    }
   ],
   "source": [
    "df_hotel[['Hotel_Address', 'Hotel_Country']].head(5)"
   ]
  },
  {
   "cell_type": "code",
   "execution_count": 13,
   "id": "df38d1e5-c1a3-411e-9545-040ab6de88e8",
   "metadata": {},
   "outputs": [
    {
     "data": {
      "text/plain": [
       "array(['Netherlands', 'United Kingdom', 'France', 'Spain', 'Italy',\n",
       "       'Austria'], dtype=object)"
      ]
     },
     "execution_count": 13,
     "metadata": {},
     "output_type": "execute_result"
    }
   ],
   "source": [
    "df_hotel['Hotel_Country'].unique()"
   ]
  },
  {
   "cell_type": "markdown",
   "id": "9d3851b7-98d1-47ef-81df-a6a4faf101b4",
   "metadata": {},
   "source": [
    "Sembla que en el conjunt de dades tan sols tenim 6 països.\n",
    "\n",
    "Per tant una **codificació del tipus *OHE* per la nova columna país** \n",
    "podria ser l'apropiada."
   ]
  },
  {
   "cell_type": "markdown",
   "id": "def5ccdb-e78c-4566-900e-c890a7095620",
   "metadata": {},
   "source": [
    "#### Additional_Number_of_Scoring"
   ]
  },
  {
   "cell_type": "markdown",
   "id": "7e435ef3-7155-4c40-80f0-8d35e6e892c0",
   "metadata": {},
   "source": [
    "És un camp numèric enter. \n",
    "Sembla contenir el número de puntuacions addicionals que no \n",
    "estan contingudes al conjunt de dades subministrat."
   ]
  },
  {
   "cell_type": "code",
   "execution_count": 14,
   "id": "0fbc166f-8fa5-4bc0-91a1-22b21f730367",
   "metadata": {},
   "outputs": [
    {
     "data": {
      "text/plain": [
       "count    1494.000000\n",
       "mean      190.715529\n",
       "std       245.254967\n",
       "min         1.000000\n",
       "25%        53.000000\n",
       "50%       106.000000\n",
       "75%       231.000000\n",
       "max      2682.000000\n",
       "Name: Additional_Number_of_Scoring, dtype: float64"
      ]
     },
     "execution_count": 14,
     "metadata": {},
     "output_type": "execute_result"
    }
   ],
   "source": [
    "df_hotel['Additional_Number_of_Scoring'].describe()"
   ]
  },
  {
   "cell_type": "markdown",
   "id": "e4ef0f20-0993-489d-be9d-f42434e15dca",
   "metadata": {},
   "source": [
    "#### Average_Score"
   ]
  },
  {
   "cell_type": "markdown",
   "id": "9e0dcf2b-c214-4c5a-876f-29ab44f3b883",
   "metadata": {},
   "source": [
    "Un camp amb un número decimal. \n",
    "Sembla ser la puntuació entre 0 i 10 que té l'establiment.\n",
    "El valor més petit en el conjunt subministrat és 5.2"
   ]
  },
  {
   "cell_type": "code",
   "execution_count": 15,
   "id": "a6c039d1-221d-4957-82d6-64c69f50658a",
   "metadata": {},
   "outputs": [
    {
     "data": {
      "text/plain": [
       "count    1494.000000\n",
       "mean        8.467135\n",
       "std         0.548050\n",
       "min         5.200000\n",
       "25%         8.100000\n",
       "50%         8.500000\n",
       "75%         8.900000\n",
       "max         9.800000\n",
       "Name: Average_Score, dtype: float64"
      ]
     },
     "execution_count": 15,
     "metadata": {},
     "output_type": "execute_result"
    }
   ],
   "source": [
    "df_hotel['Average_Score'].describe()"
   ]
  },
  {
   "cell_type": "markdown",
   "id": "a03e0fa5-5340-4fc3-b25c-50238f8015f4",
   "metadata": {},
   "source": [
    "#### Hotel_Name"
   ]
  },
  {
   "cell_type": "markdown",
   "id": "89a73446-3f94-40fb-b26a-07f9a4243d14",
   "metadata": {
    "tags": []
   },
   "source": [
    "És el nom de l'Hotel."
   ]
  },
  {
   "cell_type": "code",
   "execution_count": 16,
   "id": "4bb54735-87ee-46dc-bf8d-1bb0be5f53d7",
   "metadata": {},
   "outputs": [
    {
     "data": {
      "text/plain": [
       "count             1494\n",
       "unique            1492\n",
       "top       Hotel Regina\n",
       "freq                 3\n",
       "Name: Hotel_Name, dtype: object"
      ]
     },
     "execution_count": 16,
     "metadata": {},
     "output_type": "execute_result"
    }
   ],
   "source": [
    "df_hotel['Hotel_Name'].describe()"
   ]
  },
  {
   "cell_type": "markdown",
   "id": "5dcce579-d843-4931-8c8b-ce620f1eb411",
   "metadata": {},
   "source": [
    "Sembla que tenim un dels noms dels hotels, repetit. \n",
    "Vegem si és a diferents ciutats ..."
   ]
  },
  {
   "cell_type": "code",
   "execution_count": 17,
   "id": "004f8439-ef5e-4800-b597-5910e3c16853",
   "metadata": {},
   "outputs": [
    {
     "data": {
      "text/html": [
       "<div>\n",
       "<style scoped>\n",
       "    .dataframe tbody tr th:only-of-type {\n",
       "        vertical-align: middle;\n",
       "    }\n",
       "\n",
       "    .dataframe tbody tr th {\n",
       "        vertical-align: top;\n",
       "    }\n",
       "\n",
       "    .dataframe thead th {\n",
       "        text-align: right;\n",
       "    }\n",
       "</style>\n",
       "<table border=\"1\" class=\"dataframe\">\n",
       "  <thead>\n",
       "    <tr style=\"text-align: right;\">\n",
       "      <th></th>\n",
       "      <th>Hotel_Name</th>\n",
       "      <th>Hotel_Country</th>\n",
       "    </tr>\n",
       "  </thead>\n",
       "  <tbody>\n",
       "    <tr>\n",
       "      <th>851</th>\n",
       "      <td>Hotel Regina</td>\n",
       "      <td>Spain</td>\n",
       "    </tr>\n",
       "    <tr>\n",
       "      <th>1251</th>\n",
       "      <td>Hotel Regina</td>\n",
       "      <td>Austria</td>\n",
       "    </tr>\n",
       "    <tr>\n",
       "      <th>1336</th>\n",
       "      <td>Hotel Regina</td>\n",
       "      <td>Italy</td>\n",
       "    </tr>\n",
       "  </tbody>\n",
       "</table>\n",
       "</div>"
      ],
      "text/plain": [
       "        Hotel_Name Hotel_Country\n",
       "851   Hotel Regina         Spain\n",
       "1251  Hotel Regina       Austria\n",
       "1336  Hotel Regina         Italy"
      ]
     },
     "execution_count": 17,
     "metadata": {},
     "output_type": "execute_result"
    }
   ],
   "source": [
    "df_hotel[df_hotel['Hotel_Name'] == 'Hotel Regina'][['Hotel_Name', 'Hotel_Country']]"
   ]
  },
  {
   "cell_type": "markdown",
   "id": "d4c8fada-e42c-4269-8453-f812cb1bc538",
   "metadata": {},
   "source": [
    "A l'hora de separar els hotels per a entrenament i prova, \n",
    "s'haurà de tenir en compte que el nom de l'establiment hoteler no és \n",
    "clau única, i **fer servir una dupla** \n",
    "que ho garanteixi com podria ser \n",
    "**(`Hotel_Name`, `Hotel_Country`)**."
   ]
  },
  {
   "cell_type": "markdown",
   "id": "94ce5ea5-0616-4eb7-9e02-06553bf27991",
   "metadata": {},
   "source": [
    "#### Total_Number_of_Reviews"
   ]
  },
  {
   "cell_type": "markdown",
   "id": "ce8c9cfe-db36-419d-bc8a-ace1e357449a",
   "metadata": {},
   "source": [
    "És un camp numèric amb el número d'opinions que en total s'han fet de l'establiment hoteler."
   ]
  },
  {
   "cell_type": "code",
   "execution_count": 18,
   "id": "9d26c6b1-1faf-4d4d-a79e-edd31b739569",
   "metadata": {},
   "outputs": [
    {
     "data": {
      "text/plain": [
       "count     1494.000000\n",
       "mean      1297.222222\n",
       "std       1371.420726\n",
       "min         43.000000\n",
       "25%        422.000000\n",
       "50%        867.000000\n",
       "75%       1670.250000\n",
       "max      16670.000000\n",
       "Name: Total_Number_of_Reviews, dtype: float64"
      ]
     },
     "execution_count": 18,
     "metadata": {},
     "output_type": "execute_result"
    }
   ],
   "source": [
    "df_hotel['Total_Number_of_Reviews'].describe()"
   ]
  },
  {
   "cell_type": "code",
   "execution_count": 19,
   "id": "2c5822a8-8923-4d65-9a04-cc464af4b013",
   "metadata": {},
   "outputs": [
    {
     "name": "stdout",
     "output_type": "stream",
     "text": [
      "1938050\n",
      "515738\n"
     ]
    }
   ],
   "source": [
    "print(df_hotel['Total_Number_of_Reviews'].sum())\n",
    "print(len(df))"
   ]
  },
  {
   "cell_type": "markdown",
   "id": "6b5523b4-9d37-4de7-86c3-cfd7fdc9be8e",
   "metadata": {},
   "source": [
    "La suma del camp és molt superior al número de registres del conjunt de dades, \n",
    "així que podem presumir que existeixen opinions que no tenim al nostre conjunt."
   ]
  },
  {
   "cell_type": "markdown",
   "id": "8d6cd556-2579-4190-8c07-ccdc69f7aad9",
   "metadata": {},
   "source": [
    "#### Coordenades espaials (lat, lng)"
   ]
  },
  {
   "cell_type": "markdown",
   "id": "7ea9e658-f5a1-4ade-a44b-4242d1cda15a",
   "metadata": {},
   "source": [
    "##### Representació dins un pla cartessià simple"
   ]
  },
  {
   "cell_type": "markdown",
   "id": "07992389-ffe2-468d-ab2e-9d48239ed48f",
   "metadata": {},
   "source": [
    "Per tal de veure gràficament on són els hotels es representa la seva ubicació com a punts en un pla."
   ]
  },
  {
   "cell_type": "code",
   "execution_count": 20,
   "id": "0df77a62-ff9f-42f5-af99-d60f14e6dde2",
   "metadata": {},
   "outputs": [],
   "source": [
    "#\n",
    "# Necessitam dibuixar\n",
    "#\n",
    "\n",
    "import matplotlib.pyplot as plt"
   ]
  },
  {
   "cell_type": "code",
   "execution_count": 21,
   "id": "528a8b12-659c-4a86-a0a8-e8f5d4ff55b6",
   "metadata": {},
   "outputs": [
    {
     "data": {
      "image/png": "[encoded data removed]",
      "text/plain": [
       "<Figure size 432x288 with 1 Axes>"
      ]
     },
     "metadata": {
      "needs_background": "light"
     },
     "output_type": "display_data"
    }
   ],
   "source": [
    "# dibuixarem només un pic cada punt\n",
    "dfgeol = df_hotel[['lng', 'lat']].dropna()\n",
    "\n",
    "plt.scatter(x = dfgeol['lng'], y = dfgeol['lat'])\n",
    "plt.show()"
   ]
  },
  {
   "cell_type": "code",
   "execution_count": 22,
   "id": "b19836e5-b6eb-4574-941c-952c6734fc59",
   "metadata": {},
   "outputs": [
    {
     "data": {
      "text/plain": [
       "(1477, 2)"
      ]
     },
     "execution_count": 22,
     "metadata": {},
     "output_type": "execute_result"
    }
   ],
   "source": [
    "dfgeol.shape"
   ]
  },
  {
   "cell_type": "markdown",
   "id": "54e6db5e-da46-4648-ab7c-402ef431a562",
   "metadata": {},
   "source": [
    "Surten menys hotels que els del *df*. \n",
    "Això ens confirma el que ja havíem vist, \n",
    "que hi ha alguns hotels sense coordenades \n",
    "geogràfiques informades. \n",
    "Anem a veure quins són:"
   ]
  },
  {
   "cell_type": "code",
   "execution_count": 23,
   "id": "301b32e5-4ecb-4f7b-a3d2-9501e5a3070e",
   "metadata": {
    "tags": []
   },
   "outputs": [
    {
     "data": {
      "text/html": [
       "<div>\n",
       "<style scoped>\n",
       "    .dataframe tbody tr th:only-of-type {\n",
       "        vertical-align: middle;\n",
       "    }\n",
       "\n",
       "    .dataframe tbody tr th {\n",
       "        vertical-align: top;\n",
       "    }\n",
       "\n",
       "    .dataframe thead th {\n",
       "        text-align: right;\n",
       "    }\n",
       "</style>\n",
       "<table border=\"1\" class=\"dataframe\">\n",
       "  <thead>\n",
       "    <tr style=\"text-align: right;\">\n",
       "      <th></th>\n",
       "      <th>Hotel_Address</th>\n",
       "      <th>Additional_Number_of_Scoring</th>\n",
       "      <th>Average_Score</th>\n",
       "      <th>Hotel_Name</th>\n",
       "      <th>Total_Number_of_Reviews</th>\n",
       "      <th>lat</th>\n",
       "      <th>lng</th>\n",
       "      <th>Hotel_Country</th>\n",
       "    </tr>\n",
       "  </thead>\n",
       "  <tbody>\n",
       "    <tr>\n",
       "      <th>279</th>\n",
       "      <td>20 Rue De La Ga t 14th arr 75014 Paris France</td>\n",
       "      <td>22</td>\n",
       "      <td>7.8</td>\n",
       "      <td>Mercure Paris Gare Montparnasse</td>\n",
       "      <td>377</td>\n",
       "      <td>NaN</td>\n",
       "      <td>NaN</td>\n",
       "      <td>France</td>\n",
       "    </tr>\n",
       "    <tr>\n",
       "      <th>331</th>\n",
       "      <td>23 Rue Damr mont 18th arr 75018 Paris France</td>\n",
       "      <td>21</td>\n",
       "      <td>8.3</td>\n",
       "      <td>Holiday Inn Paris Montmartre</td>\n",
       "      <td>298</td>\n",
       "      <td>NaN</td>\n",
       "      <td>NaN</td>\n",
       "      <td>France</td>\n",
       "    </tr>\n",
       "    <tr>\n",
       "      <th>516</th>\n",
       "      <td>4 rue de la P pini re 8th arr 75008 Paris France</td>\n",
       "      <td>172</td>\n",
       "      <td>8.8</td>\n",
       "      <td>Maison Albar Hotel Paris Op ra Diamond</td>\n",
       "      <td>1524</td>\n",
       "      <td>NaN</td>\n",
       "      <td>NaN</td>\n",
       "      <td>France</td>\n",
       "    </tr>\n",
       "    <tr>\n",
       "      <th>840</th>\n",
       "      <td>Bail n 4 6 Eixample 08010 Barcelona Spain</td>\n",
       "      <td>96</td>\n",
       "      <td>8.9</td>\n",
       "      <td>NH Collection Barcelona Podium</td>\n",
       "      <td>883</td>\n",
       "      <td>NaN</td>\n",
       "      <td>NaN</td>\n",
       "      <td>Spain</td>\n",
       "    </tr>\n",
       "    <tr>\n",
       "      <th>957</th>\n",
       "      <td>Gr nentorgasse 30 09 Alsergrund 1090 Vienna Au...</td>\n",
       "      <td>44</td>\n",
       "      <td>8.0</td>\n",
       "      <td>City Hotel Deutschmeister</td>\n",
       "      <td>675</td>\n",
       "      <td>NaN</td>\n",
       "      <td>NaN</td>\n",
       "      <td>Austria</td>\n",
       "    </tr>\n",
       "    <tr>\n",
       "      <th>987</th>\n",
       "      <td>Hasenauerstra e 12 19 D bling 1190 Vienna Austria</td>\n",
       "      <td>37</td>\n",
       "      <td>8.6</td>\n",
       "      <td>Hotel Park Villa</td>\n",
       "      <td>564</td>\n",
       "      <td>NaN</td>\n",
       "      <td>NaN</td>\n",
       "      <td>Austria</td>\n",
       "    </tr>\n",
       "    <tr>\n",
       "      <th>1022</th>\n",
       "      <td>Josefst dter Stra e 10 12 08 Josefstadt 1080 V...</td>\n",
       "      <td>333</td>\n",
       "      <td>8.3</td>\n",
       "      <td>Fleming s Selection Hotel Wien City</td>\n",
       "      <td>3672</td>\n",
       "      <td>NaN</td>\n",
       "      <td>NaN</td>\n",
       "      <td>Austria</td>\n",
       "    </tr>\n",
       "    <tr>\n",
       "      <th>1023</th>\n",
       "      <td>Josefst dter Stra e 22 08 Josefstadt 1080 Vien...</td>\n",
       "      <td>39</td>\n",
       "      <td>8.4</td>\n",
       "      <td>Cordial Theaterhotel Wien</td>\n",
       "      <td>422</td>\n",
       "      <td>NaN</td>\n",
       "      <td>NaN</td>\n",
       "      <td>Austria</td>\n",
       "    </tr>\n",
       "    <tr>\n",
       "      <th>1053</th>\n",
       "      <td>Landstra er G rtel 5 03 Landstra e 1030 Vienna...</td>\n",
       "      <td>101</td>\n",
       "      <td>8.5</td>\n",
       "      <td>Hotel Daniel Vienna</td>\n",
       "      <td>1405</td>\n",
       "      <td>NaN</td>\n",
       "      <td>NaN</td>\n",
       "      <td>Austria</td>\n",
       "    </tr>\n",
       "    <tr>\n",
       "      <th>1137</th>\n",
       "      <td>Paragonstra e 1 11 Simmering 1110 Vienna Austria</td>\n",
       "      <td>36</td>\n",
       "      <td>8.1</td>\n",
       "      <td>Roomz Vienna</td>\n",
       "      <td>568</td>\n",
       "      <td>NaN</td>\n",
       "      <td>NaN</td>\n",
       "      <td>Austria</td>\n",
       "    </tr>\n",
       "    <tr>\n",
       "      <th>1161</th>\n",
       "      <td>Pau Clar s 122 Eixample 08009 Barcelona Spain</td>\n",
       "      <td>20</td>\n",
       "      <td>7.6</td>\n",
       "      <td>Renaissance Barcelona Hotel</td>\n",
       "      <td>104</td>\n",
       "      <td>NaN</td>\n",
       "      <td>NaN</td>\n",
       "      <td>Spain</td>\n",
       "    </tr>\n",
       "    <tr>\n",
       "      <th>1270</th>\n",
       "      <td>Savoyenstra e 2 16 Ottakring 1160 Vienna Austria</td>\n",
       "      <td>86</td>\n",
       "      <td>8.3</td>\n",
       "      <td>Austria Trend Hotel Schloss Wilhelminenberg Wien</td>\n",
       "      <td>1558</td>\n",
       "      <td>NaN</td>\n",
       "      <td>NaN</td>\n",
       "      <td>Austria</td>\n",
       "    </tr>\n",
       "    <tr>\n",
       "      <th>1286</th>\n",
       "      <td>Sep lveda 180 Eixample 08011 Barcelona Spain</td>\n",
       "      <td>18</td>\n",
       "      <td>8.3</td>\n",
       "      <td>Hotel Advance</td>\n",
       "      <td>156</td>\n",
       "      <td>NaN</td>\n",
       "      <td>NaN</td>\n",
       "      <td>Spain</td>\n",
       "    </tr>\n",
       "    <tr>\n",
       "      <th>1287</th>\n",
       "      <td>Sieveringer Stra e 4 19 D bling 1190 Vienna Au...</td>\n",
       "      <td>115</td>\n",
       "      <td>8.0</td>\n",
       "      <td>Derag Livinghotel Kaiser Franz Joseph Vienna</td>\n",
       "      <td>1496</td>\n",
       "      <td>NaN</td>\n",
       "      <td>NaN</td>\n",
       "      <td>Austria</td>\n",
       "    </tr>\n",
       "    <tr>\n",
       "      <th>1314</th>\n",
       "      <td>Taborstra e 8 A 02 Leopoldstadt 1020 Vienna Au...</td>\n",
       "      <td>211</td>\n",
       "      <td>8.6</td>\n",
       "      <td>Hotel City Central</td>\n",
       "      <td>2923</td>\n",
       "      <td>NaN</td>\n",
       "      <td>NaN</td>\n",
       "      <td>Austria</td>\n",
       "    </tr>\n",
       "    <tr>\n",
       "      <th>1467</th>\n",
       "      <td>W hringer Stra e 12 09 Alsergrund 1090 Vienna ...</td>\n",
       "      <td>122</td>\n",
       "      <td>8.0</td>\n",
       "      <td>Hotel Pension Baron am Schottentor</td>\n",
       "      <td>1315</td>\n",
       "      <td>NaN</td>\n",
       "      <td>NaN</td>\n",
       "      <td>Austria</td>\n",
       "    </tr>\n",
       "    <tr>\n",
       "      <th>1468</th>\n",
       "      <td>W hringer Stra e 33 35 09 Alsergrund 1090 Vien...</td>\n",
       "      <td>214</td>\n",
       "      <td>7.8</td>\n",
       "      <td>Hotel Atlanta</td>\n",
       "      <td>2724</td>\n",
       "      <td>NaN</td>\n",
       "      <td>NaN</td>\n",
       "      <td>Austria</td>\n",
       "    </tr>\n",
       "  </tbody>\n",
       "</table>\n",
       "</div>"
      ],
      "text/plain": [
       "                                          Hotel_Address  \\\n",
       "279       20 Rue De La Ga t 14th arr 75014 Paris France   \n",
       "331        23 Rue Damr mont 18th arr 75018 Paris France   \n",
       "516    4 rue de la P pini re 8th arr 75008 Paris France   \n",
       "840           Bail n 4 6 Eixample 08010 Barcelona Spain   \n",
       "957   Gr nentorgasse 30 09 Alsergrund 1090 Vienna Au...   \n",
       "987   Hasenauerstra e 12 19 D bling 1190 Vienna Austria   \n",
       "1022  Josefst dter Stra e 10 12 08 Josefstadt 1080 V...   \n",
       "1023  Josefst dter Stra e 22 08 Josefstadt 1080 Vien...   \n",
       "1053  Landstra er G rtel 5 03 Landstra e 1030 Vienna...   \n",
       "1137   Paragonstra e 1 11 Simmering 1110 Vienna Austria   \n",
       "1161      Pau Clar s 122 Eixample 08009 Barcelona Spain   \n",
       "1270   Savoyenstra e 2 16 Ottakring 1160 Vienna Austria   \n",
       "1286       Sep lveda 180 Eixample 08011 Barcelona Spain   \n",
       "1287  Sieveringer Stra e 4 19 D bling 1190 Vienna Au...   \n",
       "1314  Taborstra e 8 A 02 Leopoldstadt 1020 Vienna Au...   \n",
       "1467  W hringer Stra e 12 09 Alsergrund 1090 Vienna ...   \n",
       "1468  W hringer Stra e 33 35 09 Alsergrund 1090 Vien...   \n",
       "\n",
       "      Additional_Number_of_Scoring  Average_Score  \\\n",
       "279                             22            7.8   \n",
       "331                             21            8.3   \n",
       "516                            172            8.8   \n",
       "840                             96            8.9   \n",
       "957                             44            8.0   \n",
       "987                             37            8.6   \n",
       "1022                           333            8.3   \n",
       "1023                            39            8.4   \n",
       "1053                           101            8.5   \n",
       "1137                            36            8.1   \n",
       "1161                            20            7.6   \n",
       "1270                            86            8.3   \n",
       "1286                            18            8.3   \n",
       "1287                           115            8.0   \n",
       "1314                           211            8.6   \n",
       "1467                           122            8.0   \n",
       "1468                           214            7.8   \n",
       "\n",
       "                                            Hotel_Name  \\\n",
       "279                    Mercure Paris Gare Montparnasse   \n",
       "331                       Holiday Inn Paris Montmartre   \n",
       "516             Maison Albar Hotel Paris Op ra Diamond   \n",
       "840                     NH Collection Barcelona Podium   \n",
       "957                          City Hotel Deutschmeister   \n",
       "987                                   Hotel Park Villa   \n",
       "1022               Fleming s Selection Hotel Wien City   \n",
       "1023                         Cordial Theaterhotel Wien   \n",
       "1053                               Hotel Daniel Vienna   \n",
       "1137                                      Roomz Vienna   \n",
       "1161                       Renaissance Barcelona Hotel   \n",
       "1270  Austria Trend Hotel Schloss Wilhelminenberg Wien   \n",
       "1286                                     Hotel Advance   \n",
       "1287      Derag Livinghotel Kaiser Franz Joseph Vienna   \n",
       "1314                                Hotel City Central   \n",
       "1467                Hotel Pension Baron am Schottentor   \n",
       "1468                                     Hotel Atlanta   \n",
       "\n",
       "      Total_Number_of_Reviews  lat  lng Hotel_Country  \n",
       "279                       377  NaN  NaN        France  \n",
       "331                       298  NaN  NaN        France  \n",
       "516                      1524  NaN  NaN        France  \n",
       "840                       883  NaN  NaN         Spain  \n",
       "957                       675  NaN  NaN       Austria  \n",
       "987                       564  NaN  NaN       Austria  \n",
       "1022                     3672  NaN  NaN       Austria  \n",
       "1023                      422  NaN  NaN       Austria  \n",
       "1053                     1405  NaN  NaN       Austria  \n",
       "1137                      568  NaN  NaN       Austria  \n",
       "1161                      104  NaN  NaN         Spain  \n",
       "1270                     1558  NaN  NaN       Austria  \n",
       "1286                      156  NaN  NaN         Spain  \n",
       "1287                     1496  NaN  NaN       Austria  \n",
       "1314                     2923  NaN  NaN       Austria  \n",
       "1467                     1315  NaN  NaN       Austria  \n",
       "1468                     2724  NaN  NaN       Austria  "
      ]
     },
     "execution_count": 23,
     "metadata": {},
     "output_type": "execute_result"
    }
   ],
   "source": [
    "df_hotel[df_hotel['lat'].isna()]"
   ]
  },
  {
   "cell_type": "markdown",
   "id": "58871c95-1c87-4e22-9bfa-54ccae6f7ce8",
   "metadata": {},
   "source": [
    "Com que sembla que el número d'hotel sense geo-referenciar \n",
    "és un percentatge petit i \n",
    "a més encara no sabem si les coordenades poden ser importants, \n",
    "de moment decidim no establir cap criteri o mètode per a \n",
    "assignar-lis un valor en el moment del seu processat \n",
    "dins el *pipeline*."
   ]
  },
  {
   "cell_type": "markdown",
   "id": "4c04d117-51ba-468e-80da-019077ad5e64",
   "metadata": {},
   "source": [
    "##### Representació dins un mapamundi"
   ]
  },
  {
   "cell_type": "markdown",
   "id": "e177c78e-31cd-41fa-af22-130a67bad5d6",
   "metadata": {},
   "source": [
    "Del la representació al pla cartesià anterior, \n",
    "podem albirar que les 1472 duples de coordenades \n",
    "estan molt concentrades a 6 localitzacions.\n",
    "\n",
    "Anem a dibuixar-les damunt un mapamundi per veure on són."
   ]
  },
  {
   "cell_type": "code",
   "execution_count": 24,
   "id": "08badeaf-192f-4a54-888e-20f71fe1f43c",
   "metadata": {
    "tags": []
   },
   "outputs": [
    {
     "data": {
      "image/png": "[encoded data removed]",
      "text/plain": [
       "<Figure size 1080x720 with 1 Axes>"
      ]
     },
     "metadata": {
      "needs_background": "light"
     },
     "output_type": "display_data"
    }
   ],
   "source": [
    "# la projecció EPSG:4326 és en coordenades geogràfiques (longitud, latitud)\n",
    "gdf = gpd.GeoSeries(data = gpd.points_from_xy(dfgeol['lng'], dfgeol['lat']), \n",
    "                    crs = \"EPSG:4326\")\n",
    "\n",
    "gdf.plot(ax = world.plot(figsize = (15, 10)), \n",
    "         marker = 'o', \n",
    "         color = 'red',\n",
    "         alpha = 0.2,\n",
    "         markersize = 10);"
   ]
  },
  {
   "cell_type": "markdown",
   "id": "6fe2ea3f-43b9-452b-a47d-55d81f451411",
   "metadata": {
    "tags": []
   },
   "source": [
    "Sembla que els hotels que tenen les coordenades informades \n",
    "s'ubiquen als 6 països d'Europa que ja hem inferit de les adreces ..."
   ]
  },
  {
   "cell_type": "code",
   "execution_count": 25,
   "id": "f99098a2-cd8e-4e17-ac41-636c31e73aab",
   "metadata": {},
   "outputs": [
    {
     "data": {
      "image/png": "[encoded data removed]",
      "text/plain": [
       "<Figure size 432x720 with 1 Axes>"
      ]
     },
     "metadata": {
      "needs_background": "light"
     },
     "output_type": "display_data"
    }
   ],
   "source": [
    "# Països\n",
    "country_list = df_hotel['Hotel_Country'].unique()\n",
    "\n",
    "ax = world.loc[world['name'].isin(country_list), : ].plot(\n",
    "    figsize = (6, 10),\n",
    "    edgecolor = 'black',\n",
    "    column = 'name', \n",
    "    legend = True\n",
    ")\n",
    "\n",
    "ax.set_xlim(left = dfgeol['lng'].min() - 10, right = dfgeol['lng'].max() + 10)\n",
    "ax.set_ylim(bottom = dfgeol['lat'].min() - 10, top = dfgeol['lat'].max() + 10)\n",
    "\n",
    "gdf.plot(ax = ax,\n",
    "         color = 'red', \n",
    "         alpha = 0.1)\n",
    "\n",
    "plt.show()"
   ]
  },
  {
   "cell_type": "markdown",
   "id": "a4b420c4-4378-44d7-92eb-024e31b29269",
   "metadata": {},
   "source": [
    "En concret sembla que a prop o dins d'una sola ciutat (turística) per a cada païs. "
   ]
  },
  {
   "cell_type": "markdown",
   "id": "b711e0e6-9f47-4a6a-8bc5-65fb4159a9fd",
   "metadata": {},
   "source": [
    "Inicialment se pensava que podria ser d'interès crear una nova característica que fos \n",
    "l'`hemisferi` per tal de poder modelar quins són els mesos de l'any en que fa més calor per exemple. \n",
    "Però com que només estan situats dins l'hemisferi nord, no té sentit crear-la, \n",
    "al manco per aquest conjunt de dades. \n",
    "\n",
    "El que sí se podria intentar seria calcular la seva distància al mar, \n",
    "perquè combinada amb la latitud i el mes de l'any pot donar una idea del clima en aquell mes i\n",
    "pot ser el clima o el mes tengui relació amb les opinions."
   ]
  },
  {
   "cell_type": "markdown",
   "id": "ae165d9e-d370-4cc3-8d85-61629c5324e7",
   "metadata": {
    "tags": []
   },
   "source": [
    "##### Distància a la mar"
   ]
  },
  {
   "cell_type": "markdown",
   "id": "d3d5fa26-dc97-4eb8-887e-77c79218bf99",
   "metadata": {},
   "source": [
    "Per calcular la distància fins a la mar, \n",
    "serà necessari obtenir un polígon del perfil dels continents."
   ]
  },
  {
   "cell_type": "code",
   "execution_count": 26,
   "id": "13b88e36-3e25-415e-b6fe-e6bd8abbcb49",
   "metadata": {},
   "outputs": [
    {
     "data": {
      "image/png": "[encoded data removed]",
      "text/plain": [
       "<Figure size 432x288 with 1 Axes>"
      ]
     },
     "metadata": {
      "needs_background": "light"
     },
     "output_type": "display_data"
    }
   ],
   "source": [
    "from shapely.ops import cascaded_union\n",
    "\n",
    "# Obtenim les formes de tots els polígons\n",
    "polygons = gpd.GeoSeries(world['geometry'])\n",
    "\n",
    "# Els unim per a formar la línia de la costa\n",
    "boundary = gpd.GeoSeries(cascaded_union(polygons))\n",
    "\n",
    "# Vegem que tal ha quedat ...\n",
    "boundary.plot(color = 'none')\n",
    "plt.show()"
   ]
  },
  {
   "cell_type": "markdown",
   "id": "d5159d28-539c-431b-98f2-f73da610a243",
   "metadata": {},
   "source": [
    "Amb aquest perfil de la zona terrestre, \n",
    "podrem calcular la distància al llindar del polígon \n",
    "(que serà la distància fins a la mar)."
   ]
  },
  {
   "cell_type": "code",
   "execution_count": 27,
   "id": "2d9efe72-652d-4f26-8d2b-79ab944ddb90",
   "metadata": {},
   "outputs": [],
   "source": [
    "# Ens asseguram de que el sistema de projecció sigui el mateix ...\n",
    "boundary.crs = gdf.crs\n",
    "\n",
    "# I projectam ambdós ens geomètrics a metres\n",
    "boundarym = boundary.to_crs(crs = \"EPSG:3857\")\n",
    "\n",
    "gdfm = gdf.to_crs(crs = \"EPSG:3857\")"
   ]
  },
  {
   "cell_type": "code",
   "execution_count": 28,
   "id": "454d5405-4573-4a42-b75c-9ee38199b3c8",
   "metadata": {},
   "outputs": [],
   "source": [
    "# Calculam les distàncies\n",
    "dist = []\n",
    "for location in gdfm:\n",
    "    dist.append(int(boundarym.boundary.distance(location)))\n",
    "\n",
    "dist = pd.Series(dist)"
   ]
  },
  {
   "cell_type": "code",
   "execution_count": 29,
   "id": "1bcc6171-f53c-401d-b6d0-ba9b36b30a73",
   "metadata": {},
   "outputs": [
    {
     "data": {
      "text/plain": [
       "count      1477.000000\n",
       "mean     186234.869330\n",
       "std      131241.250614\n",
       "min        7880.000000\n",
       "25%      128246.000000\n",
       "50%      174878.000000\n",
       "75%      242415.000000\n",
       "max      514008.000000\n",
       "dtype: float64"
      ]
     },
     "execution_count": 29,
     "metadata": {},
     "output_type": "execute_result"
    }
   ],
   "source": [
    "# I miram que tal ha anat ... \n",
    "\n",
    "dist.describe()"
   ]
  },
  {
   "cell_type": "markdown",
   "id": "0044e7d2-526e-45ec-b4f8-dd18ba267de2",
   "metadata": {},
   "source": [
    "Vaja, ... la distància mínima que ens surt, són quasi 8 km !\n",
    "\n",
    "Comprovarem si és cert ..."
   ]
  },
  {
   "cell_type": "code",
   "execution_count": 30,
   "id": "16cc9fb5-aae3-400c-80e6-82be58d51e85",
   "metadata": {},
   "outputs": [
    {
     "name": "stdout",
     "output_type": "stream",
     "text": [
      "1180    POINT (2.19015 41.36844)\n",
      "dtype: geometry\n"
     ]
    }
   ],
   "source": [
    "print(gdf[dist[dist == dist.min()].index])"
   ]
  },
  {
   "cell_type": "markdown",
   "id": "a991fcc6-3ed0-4e97-b2e4-98cf95666340",
   "metadata": {},
   "source": [
    "Segons *Google Maps*, \n",
    "aquestes coordenades estan a la vorera de mar, \n",
    "així que sembla que el càlcul que feim **no funciona** prou bé. \n",
    "\n",
    ":-(\n",
    "\n",
    "[Localitzar a Google Maps](https://www.google.com/maps/search/41.36844+2.19015)\n",
    "\n",
    "![Image](img/google_maps_1.png)"
   ]
  },
  {
   "cell_type": "markdown",
   "id": "a334711c-b879-4689-9bce-51254d4cca2e",
   "metadata": {},
   "source": [
    "Un hotel que està al moll, segons els càlculs resulta estar ubicat \n",
    "quasi a 8 km de la mar. :-(\n",
    "\n",
    "Probablement la resolució del polígon que feim servir no sigui prou gran \n",
    "com per a poder fer un càlcul precís. \n",
    "Per tant prescindirem de la classificació de l'establiment que \n",
    "podriem fer si sapiguessim la seva distància a la mar \n",
    "(establiment de platja, establiment d'interior)."
   ]
  },
  {
   "cell_type": "markdown",
   "id": "df02241c-6c86-4bed-9e40-de0a51eb0d18",
   "metadata": {
    "tags": []
   },
   "source": [
    "### Variables de la valoració del client de l'hotel"
   ]
  },
  {
   "cell_type": "markdown",
   "id": "78a81595-e2ab-4c57-9ff6-da85d90721d8",
   "metadata": {},
   "source": [
    "#### Review_Date"
   ]
  },
  {
   "cell_type": "markdown",
   "id": "b2707065-8bea-4189-8be6-42f0859bc3af",
   "metadata": {},
   "source": [
    "És la data en que es va generar l'opinió. \n",
    "\n",
    "Si se n'extreu el **mes**, segurament **combinat amb el país o la latitud** geogràfica \n",
    "de l'establiment, ens pugui ajudar a donar més sentit \n",
    "a les opinions, perquè el més probable és que els clients\n",
    "donassin la seva opinió just després de la seva estada."
   ]
  },
  {
   "cell_type": "markdown",
   "id": "f5bd841b-4fdc-4a8c-b554-3a47019b0e12",
   "metadata": {},
   "source": [
    "Anem a provar el codi per fer la descomposició de la data."
   ]
  },
  {
   "cell_type": "code",
   "execution_count": 31,
   "id": "ee465673-56fe-4de4-b126-b9b0594e08a0",
   "metadata": {},
   "outputs": [
    {
     "data": {
      "text/html": [
       "<div>\n",
       "<style scoped>\n",
       "    .dataframe tbody tr th:only-of-type {\n",
       "        vertical-align: middle;\n",
       "    }\n",
       "\n",
       "    .dataframe tbody tr th {\n",
       "        vertical-align: top;\n",
       "    }\n",
       "\n",
       "    .dataframe thead th {\n",
       "        text-align: right;\n",
       "    }\n",
       "</style>\n",
       "<table border=\"1\" class=\"dataframe\">\n",
       "  <thead>\n",
       "    <tr style=\"text-align: right;\">\n",
       "      <th></th>\n",
       "      <th>0</th>\n",
       "      <th>1</th>\n",
       "    </tr>\n",
       "  </thead>\n",
       "  <tbody>\n",
       "    <tr>\n",
       "      <th>0</th>\n",
       "      <td>2017</td>\n",
       "      <td>8</td>\n",
       "    </tr>\n",
       "    <tr>\n",
       "      <th>1</th>\n",
       "      <td>2017</td>\n",
       "      <td>8</td>\n",
       "    </tr>\n",
       "    <tr>\n",
       "      <th>2</th>\n",
       "      <td>2017</td>\n",
       "      <td>7</td>\n",
       "    </tr>\n",
       "    <tr>\n",
       "      <th>3</th>\n",
       "      <td>2017</td>\n",
       "      <td>7</td>\n",
       "    </tr>\n",
       "    <tr>\n",
       "      <th>4</th>\n",
       "      <td>2017</td>\n",
       "      <td>7</td>\n",
       "    </tr>\n",
       "    <tr>\n",
       "      <th>...</th>\n",
       "      <td>...</td>\n",
       "      <td>...</td>\n",
       "    </tr>\n",
       "    <tr>\n",
       "      <th>515733</th>\n",
       "      <td>2015</td>\n",
       "      <td>8</td>\n",
       "    </tr>\n",
       "    <tr>\n",
       "      <th>515734</th>\n",
       "      <td>2015</td>\n",
       "      <td>8</td>\n",
       "    </tr>\n",
       "    <tr>\n",
       "      <th>515735</th>\n",
       "      <td>2015</td>\n",
       "      <td>8</td>\n",
       "    </tr>\n",
       "    <tr>\n",
       "      <th>515736</th>\n",
       "      <td>2015</td>\n",
       "      <td>8</td>\n",
       "    </tr>\n",
       "    <tr>\n",
       "      <th>515737</th>\n",
       "      <td>2015</td>\n",
       "      <td>8</td>\n",
       "    </tr>\n",
       "  </tbody>\n",
       "</table>\n",
       "<p>515738 rows × 2 columns</p>\n",
       "</div>"
      ],
      "text/plain": [
       "           0  1\n",
       "0       2017  8\n",
       "1       2017  8\n",
       "2       2017  7\n",
       "3       2017  7\n",
       "4       2017  7\n",
       "...      ... ..\n",
       "515733  2015  8\n",
       "515734  2015  8\n",
       "515735  2015  8\n",
       "515736  2015  8\n",
       "515737  2015  8\n",
       "\n",
       "[515738 rows x 2 columns]"
      ]
     },
     "execution_count": 31,
     "metadata": {},
     "output_type": "execute_result"
    }
   ],
   "source": [
    "pd.DataFrame(zip(pd.to_datetime(df['Review_Date']).dt.year, \n",
    "                pd.to_datetime(df['Review_Date']).dt.month))"
   ]
  },
  {
   "cell_type": "markdown",
   "id": "398267d9-5cbb-4a28-880e-71e7185c24e3",
   "metadata": {},
   "source": [
    "#### Reviewer_Nationality"
   ]
  },
  {
   "cell_type": "markdown",
   "id": "c0d9f475-c4ff-46af-89a6-9fd8aa5e8b68",
   "metadata": {},
   "source": [
    "És un camp de texte amb el nom del país de la persona que fa la ressenya."
   ]
  },
  {
   "cell_type": "code",
   "execution_count": 32,
   "id": "694869fa-20ca-419b-8790-1de59d368fa4",
   "metadata": {},
   "outputs": [
    {
     "data": {
      "text/plain": [
       "count               515738\n",
       "unique                 227\n",
       "top        United Kingdom \n",
       "freq                245246\n",
       "Name: Reviewer_Nationality, dtype: object"
      ]
     },
     "execution_count": 32,
     "metadata": {},
     "output_type": "execute_result"
    }
   ],
   "source": [
    "df['Reviewer_Nationality'].describe()"
   ]
  },
  {
   "cell_type": "markdown",
   "id": "0a4ebe63-ef41-41e7-956e-1a2efa116ea4",
   "metadata": {},
   "source": [
    "Pensam que la nacionalitat també pot donar pistes de les espectatives \n",
    "del client i per tant ajudar a entendre el perquè de les opinions."
   ]
  },
  {
   "cell_type": "markdown",
   "id": "fbe7e512-5eba-4d73-917d-6f4e0d1e56da",
   "metadata": {},
   "source": [
    "#### Negative_Review"
   ]
  },
  {
   "cell_type": "code",
   "execution_count": 33,
   "id": "092bae2d-e7d4-48ba-87dc-dab8e0b59f25",
   "metadata": {},
   "outputs": [
    {
     "data": {
      "text/plain": [
       "count          515738\n",
       "unique         330011\n",
       "top       No Negative\n",
       "freq           127890\n",
       "Name: Negative_Review, dtype: object"
      ]
     },
     "execution_count": 33,
     "metadata": {},
     "output_type": "execute_result"
    }
   ],
   "source": [
    "df['Negative_Review'].describe()"
   ]
  },
  {
   "cell_type": "markdown",
   "id": "71cfb7d7-e4b7-4589-88fa-4e42b4488b13",
   "metadata": {},
   "source": [
    "#### Review_Total_Negative_Word_Counts"
   ]
  },
  {
   "cell_type": "code",
   "execution_count": 34,
   "id": "a8281793-c0a6-4e22-ae3a-0cdae948b8fc",
   "metadata": {},
   "outputs": [
    {
     "data": {
      "text/plain": [
       "count    515738.000000\n",
       "mean         18.539450\n",
       "std          29.690831\n",
       "min           0.000000\n",
       "25%           2.000000\n",
       "50%           9.000000\n",
       "75%          23.000000\n",
       "max         408.000000\n",
       "Name: Review_Total_Negative_Word_Counts, dtype: float64"
      ]
     },
     "execution_count": 34,
     "metadata": {},
     "output_type": "execute_result"
    }
   ],
   "source": [
    "df['Review_Total_Negative_Word_Counts'].describe()"
   ]
  },
  {
   "cell_type": "markdown",
   "id": "efff0e2e-b6e9-4e22-bb6a-76d15e4fe553",
   "metadata": {},
   "source": [
    "#### Positive_Review"
   ]
  },
  {
   "cell_type": "code",
   "execution_count": 35,
   "id": "a043df15-5556-40e7-a4d2-3f5a9921cb53",
   "metadata": {},
   "outputs": [
    {
     "data": {
      "text/plain": [
       "count          515738\n",
       "unique         412601\n",
       "top       No Positive\n",
       "freq            35946\n",
       "Name: Positive_Review, dtype: object"
      ]
     },
     "execution_count": 35,
     "metadata": {},
     "output_type": "execute_result"
    }
   ],
   "source": [
    "df['Positive_Review'].describe()"
   ]
  },
  {
   "cell_type": "markdown",
   "id": "3f640bbd-dcdd-4c84-8fcd-c1b3561cdce2",
   "metadata": {},
   "source": [
    "#### Review_Total_Positive_Word_Counts"
   ]
  },
  {
   "cell_type": "code",
   "execution_count": 36,
   "id": "82c5667d-92ba-406f-a19d-5dc4ba1b4dd3",
   "metadata": {},
   "outputs": [
    {
     "data": {
      "text/plain": [
       "count    515738.000000\n",
       "mean         17.776458\n",
       "std          21.804185\n",
       "min           0.000000\n",
       "25%           5.000000\n",
       "50%          11.000000\n",
       "75%          22.000000\n",
       "max         395.000000\n",
       "Name: Review_Total_Positive_Word_Counts, dtype: float64"
      ]
     },
     "execution_count": 36,
     "metadata": {},
     "output_type": "execute_result"
    }
   ],
   "source": [
    "df['Review_Total_Positive_Word_Counts'].describe()"
   ]
  },
  {
   "cell_type": "markdown",
   "id": "7e4c4128-e292-4dd8-ab98-a6f8db90acda",
   "metadata": {},
   "source": [
    "#### Total_Number_of_Reviews_Reviewer_Has_Given"
   ]
  },
  {
   "cell_type": "markdown",
   "id": "c7d0997b-3b32-4556-9a7e-64b069a62a95",
   "metadata": {},
   "source": [
    "Aquest camp ens dona una idea de l'experiència \n",
    "que té la persona que escriu la seva valoració. \n",
    "\n",
    "Pensam que serà una variable poc explicativa."
   ]
  },
  {
   "cell_type": "code",
   "execution_count": 37,
   "id": "5c0d34dd-4c6e-4591-9fe1-0cabe79826d5",
   "metadata": {
    "tags": []
   },
   "outputs": [
    {
     "data": {
      "text/plain": [
       "count    515738.000000\n",
       "mean          7.166001\n",
       "std          11.040228\n",
       "min           1.000000\n",
       "25%           1.000000\n",
       "50%           3.000000\n",
       "75%           8.000000\n",
       "max         355.000000\n",
       "Name: Total_Number_of_Reviews_Reviewer_Has_Given, dtype: float64"
      ]
     },
     "execution_count": 37,
     "metadata": {},
     "output_type": "execute_result"
    }
   ],
   "source": [
    "df['Total_Number_of_Reviews_Reviewer_Has_Given'].describe()"
   ]
  },
  {
   "cell_type": "markdown",
   "id": "eb938f19-4496-4d41-a683-1c03829861fa",
   "metadata": {},
   "source": [
    "#### Reviewer_Score"
   ]
  },
  {
   "cell_type": "markdown",
   "id": "7aaf9e77-4bec-4abd-924a-4e30c1400c39",
   "metadata": {},
   "source": [
    "Conté la puntuació numèrica, segurament dins del rang 0 a 10\n",
    "que ha donat l'hoste a la seva estada.\n",
    "\n",
    "Aquesta variable serà la que XXXX"
   ]
  },
  {
   "cell_type": "code",
   "execution_count": 38,
   "id": "2884d14e-c070-45d4-a699-9b9bd6cb719d",
   "metadata": {
    "tags": []
   },
   "outputs": [
    {
     "data": {
      "text/plain": [
       "count    515738.000000\n",
       "mean          8.395077\n",
       "std           1.637856\n",
       "min           2.500000\n",
       "25%           7.500000\n",
       "50%           8.800000\n",
       "75%           9.600000\n",
       "max          10.000000\n",
       "Name: Reviewer_Score, dtype: float64"
      ]
     },
     "execution_count": 38,
     "metadata": {},
     "output_type": "execute_result"
    }
   ],
   "source": [
    "df['Reviewer_Score'].describe()"
   ]
  },
  {
   "cell_type": "markdown",
   "id": "40157fe5-d3f3-439c-a78b-4aa1878d8315",
   "metadata": {},
   "source": [
    "#### Tags"
   ]
  },
  {
   "cell_type": "markdown",
   "id": "e764d129-4c54-4a81-b5b6-923c06ff53c3",
   "metadata": {},
   "source": [
    "Aquest camp inclou una llista d'etiquetes de texte per a cada opinió."
   ]
  },
  {
   "cell_type": "code",
   "execution_count": 39,
   "id": "7cea6051-141d-4b75-8f1a-e921f4443a55",
   "metadata": {
    "tags": []
   },
   "outputs": [
    {
     "data": {
      "text/plain": [
       "count                                                515738\n",
       "unique                                                55242\n",
       "top       [' Leisure trip ', ' Couple ', ' Double Room '...\n",
       "freq                                                   5101\n",
       "Name: Tags, dtype: object"
      ]
     },
     "execution_count": 39,
     "metadata": {},
     "output_type": "execute_result"
    }
   ],
   "source": [
    "df['Tags'].describe()"
   ]
  },
  {
   "cell_type": "code",
   "execution_count": 40,
   "id": "34390362-5712-4895-9265-705eb476dad5",
   "metadata": {
    "tags": []
   },
   "outputs": [
    {
     "data": {
      "text/plain": [
       "[' Leisure trip ', ' Couple ', ' Double Room ', ' Stayed 1 night ', ' Submitted from a mobile device ']                                  5101\n",
       "[' Leisure trip ', ' Couple ', ' Standard Double Room ', ' Stayed 1 night ', ' Submitted from a mobile device ']                         4931\n",
       "[' Leisure trip ', ' Couple ', ' Superior Double Room ', ' Stayed 1 night ', ' Submitted from a mobile device ']                         4366\n",
       "[' Leisure trip ', ' Couple ', ' Deluxe Double Room ', ' Stayed 1 night ', ' Submitted from a mobile device ']                           3991\n",
       "[' Leisure trip ', ' Couple ', ' Double Room ', ' Stayed 2 nights ', ' Submitted from a mobile device ']                                 3291\n",
       "                                                                                                                                         ... \n",
       "[' Leisure trip ', ' Family with older children ', ' Suite Family Room ', ' Stayed 5 nights ', ' Submitted from a mobile device ']          1\n",
       "[' Business trip ', ' Travelers with friends ', ' Superior Room ', ' Stayed 1 night ', ' Submitted from a mobile device ']                  1\n",
       "[' Business trip ', ' Solo traveler ', ' Superior Double Room with Terrace ', ' Stayed 1 night ', ' Submitted from a mobile device ']       1\n",
       "[' Leisure trip ', ' Family with young children ', ' Suite Family Room ', ' Stayed 1 night ', ' Submitted from a mobile device ']           1\n",
       "[' Leisure trip ', ' Family with young children ', ' Standard Double or Twin Room ', ' Stayed 10 nights ']                                  1\n",
       "Name: Tags, Length: 55242, dtype: int64"
      ]
     },
     "execution_count": 40,
     "metadata": {},
     "output_type": "execute_result"
    }
   ],
   "source": [
    "df['Tags'].value_counts()"
   ]
  },
  {
   "cell_type": "markdown",
   "id": "139d0ef0-d635-4d79-88e7-f5e5a7db2678",
   "metadata": {},
   "source": [
    "La llista sembla contenir les característiques del client i de l'allotjament,\n",
    "a més de que en alguns casos també indica el dispositiu \n",
    "que s'ha fet servir per tal d'enviar-la."
   ]
  },
  {
   "cell_type": "markdown",
   "id": "53264cb8-f048-4e9d-a2c6-2d0ed7d14c7e",
   "metadata": {},
   "source": [
    "Pensam que seria d'interès poder **reescriure aquestes etiquetes \n",
    "en forma de tupla de variables predictores** que permetin extreure'n \n",
    "informació útil pel nostre model."
   ]
  },
  {
   "cell_type": "markdown",
   "id": "03c4f900-a0f9-48d3-9a68-4fc0cebe2c0f",
   "metadata": {},
   "source": [
    "Anem a veure que tenim i com ho podem fer:"
   ]
  },
  {
   "cell_type": "code",
   "execution_count": 41,
   "id": "1c705795-02af-4fd1-a552-d6b6b119cf60",
   "metadata": {},
   "outputs": [
    {
     "data": {
      "text/plain": [
       "0         [' Leisure trip ', ' Couple ', ' Duplex Double...\n",
       "1         [' Leisure trip ', ' Couple ', ' Duplex Double...\n",
       "2         [' Leisure trip ', ' Family with young childre...\n",
       "3         [' Leisure trip ', ' Solo traveler ', ' Duplex...\n",
       "4         [' Leisure trip ', ' Couple ', ' Suite ', ' St...\n",
       "                                ...                        \n",
       "515733    [' Leisure trip ', ' Family with older childre...\n",
       "515734    [' Leisure trip ', ' Family with young childre...\n",
       "515735    [' Leisure trip ', ' Family with older childre...\n",
       "515736    [' Leisure trip ', ' Group ', ' Standard Tripl...\n",
       "515737    [' Leisure trip ', ' Family with young childre...\n",
       "Name: Tags, Length: 515738, dtype: object"
      ]
     },
     "execution_count": 41,
     "metadata": {},
     "output_type": "execute_result"
    }
   ],
   "source": [
    "df['Tags']"
   ]
  },
  {
   "cell_type": "markdown",
   "id": "1bee0fad-e4f9-4e9b-9ad8-f7340eadb779",
   "metadata": {},
   "source": [
    "Les comptam ..."
   ]
  },
  {
   "cell_type": "code",
   "execution_count": 42,
   "id": "6e27df21-bf71-4eae-87fd-8b32d635943d",
   "metadata": {},
   "outputs": [],
   "source": [
    "from collections import Counter\n",
    "from ast import literal_eval\n",
    "\n",
    "tag_counts = Counter()\n",
    "\n",
    "for i in df['Tags']:\n",
    "    tag_counts.update(literal_eval(i))"
   ]
  },
  {
   "cell_type": "markdown",
   "id": "5ceb3c9b-b8f2-4ebe-b7d4-edc645d4a4b7",
   "metadata": {},
   "source": [
    "Les ordenam per freqüència d'aparició ..."
   ]
  },
  {
   "cell_type": "code",
   "execution_count": 43,
   "id": "70fc1719-f9ce-445a-a916-202bee4475c4",
   "metadata": {},
   "outputs": [],
   "source": [
    "df_labels = pd.DataFrame(sorted(tag_counts.items(), key=lambda t: t[1]),\n",
    "                        columns = ['label', 'freq'])"
   ]
  },
  {
   "cell_type": "markdown",
   "id": "7a056b91-2869-4879-a437-153046eb7efe",
   "metadata": {},
   "source": [
    "I miram quines són les més informatives.\n",
    "Consideram que són les que tenen una freqüencia relativa entre el 5% i el 95%."
   ]
  },
  {
   "cell_type": "code",
   "execution_count": 46,
   "id": "ecabf0e2-57a9-498a-8aee-27a7554d48ae",
   "metadata": {
    "tags": []
   },
   "outputs": [
    {
     "data": {
      "text/html": [
       "<div>\n",
       "<style scoped>\n",
       "    .dataframe tbody tr th:only-of-type {\n",
       "        vertical-align: middle;\n",
       "    }\n",
       "\n",
       "    .dataframe tbody tr th {\n",
       "        vertical-align: top;\n",
       "    }\n",
       "\n",
       "    .dataframe thead th {\n",
       "        text-align: right;\n",
       "    }\n",
       "</style>\n",
       "<table border=\"1\" class=\"dataframe\">\n",
       "  <thead>\n",
       "    <tr style=\"text-align: right;\">\n",
       "      <th></th>\n",
       "      <th>label</th>\n",
       "      <th>freq</th>\n",
       "    </tr>\n",
       "  </thead>\n",
       "  <tbody>\n",
       "    <tr>\n",
       "      <th>2413</th>\n",
       "      <td>Family with older children</td>\n",
       "      <td>26349</td>\n",
       "    </tr>\n",
       "    <tr>\n",
       "      <th>2414</th>\n",
       "      <td>Superior Double Room</td>\n",
       "      <td>31393</td>\n",
       "    </tr>\n",
       "    <tr>\n",
       "      <th>2415</th>\n",
       "      <td>Standard Double Room</td>\n",
       "      <td>32248</td>\n",
       "    </tr>\n",
       "    <tr>\n",
       "      <th>2416</th>\n",
       "      <td>Double Room</td>\n",
       "      <td>35207</td>\n",
       "    </tr>\n",
       "    <tr>\n",
       "      <th>2417</th>\n",
       "      <td>Stayed 4 nights</td>\n",
       "      <td>47817</td>\n",
       "    </tr>\n",
       "    <tr>\n",
       "      <th>2418</th>\n",
       "      <td>Family with young children</td>\n",
       "      <td>61015</td>\n",
       "    </tr>\n",
       "    <tr>\n",
       "      <th>2419</th>\n",
       "      <td>Group</td>\n",
       "      <td>65392</td>\n",
       "    </tr>\n",
       "    <tr>\n",
       "      <th>2420</th>\n",
       "      <td>Business trip</td>\n",
       "      <td>82939</td>\n",
       "    </tr>\n",
       "    <tr>\n",
       "      <th>2421</th>\n",
       "      <td>Stayed 3 nights</td>\n",
       "      <td>95821</td>\n",
       "    </tr>\n",
       "    <tr>\n",
       "      <th>2422</th>\n",
       "      <td>Solo traveler</td>\n",
       "      <td>108545</td>\n",
       "    </tr>\n",
       "    <tr>\n",
       "      <th>2423</th>\n",
       "      <td>Stayed 2 nights</td>\n",
       "      <td>133937</td>\n",
       "    </tr>\n",
       "    <tr>\n",
       "      <th>2424</th>\n",
       "      <td>Stayed 1 night</td>\n",
       "      <td>193645</td>\n",
       "    </tr>\n",
       "    <tr>\n",
       "      <th>2425</th>\n",
       "      <td>Couple</td>\n",
       "      <td>252294</td>\n",
       "    </tr>\n",
       "    <tr>\n",
       "      <th>2426</th>\n",
       "      <td>Submitted from a mobile device</td>\n",
       "      <td>307640</td>\n",
       "    </tr>\n",
       "    <tr>\n",
       "      <th>2427</th>\n",
       "      <td>Leisure trip</td>\n",
       "      <td>417778</td>\n",
       "    </tr>\n",
       "  </tbody>\n",
       "</table>\n",
       "</div>"
      ],
      "text/plain": [
       "                                 label    freq\n",
       "2413       Family with older children    26349\n",
       "2414             Superior Double Room    31393\n",
       "2415             Standard Double Room    32248\n",
       "2416                      Double Room    35207\n",
       "2417                  Stayed 4 nights    47817\n",
       "2418       Family with young children    61015\n",
       "2419                            Group    65392\n",
       "2420                    Business trip    82939\n",
       "2421                  Stayed 3 nights    95821\n",
       "2422                    Solo traveler   108545\n",
       "2423                  Stayed 2 nights   133937\n",
       "2424                   Stayed 1 night   193645\n",
       "2425                           Couple   252294\n",
       "2426   Submitted from a mobile device   307640\n",
       "2427                     Leisure trip   417778"
      ]
     },
     "execution_count": 46,
     "metadata": {},
     "output_type": "execute_result"
    }
   ],
   "source": [
    "is_into_ab = lambda x, a, b: (x >= a) & (x < b)\n",
    "\n",
    "df_labels[is_into_ab(df_labels['freq'] / len(df), 0.05, 0.95)]"
   ]
  },
  {
   "cell_type": "markdown",
   "id": "ae47c87b-79e6-438a-bcaa-b7900761042b",
   "metadata": {},
   "source": [
    "Pel que sembla aquestes etiquetes es poden agrupar en 4 semàntiques, \n",
    "que serien: \n",
    "\n",
    "- tipologia del client\n",
    "- tipus de viatge\n",
    "- durada de l'estada\n",
    "- tipus d'habitació\n",
    "- dispositiu utilitzat\n",
    "\n",
    "Si bé es pot veure clarament que les etiquetes que pertanyen \n",
    "al tipus d'habitació tenen una freqüència baixa i per tant \n",
    "no ens permetran crear una partició o quasi partició del \n",
    "registres. \n",
    "I saber si s'ha utilitzat un mòbil pensam que \n",
    "no aporta valor al que volem explicar. \n",
    "\n",
    "Ens quedarem tan sols amb les tres primeres semàntiques \n",
    "que definirem amb algunes **variables *dummy***\n",
    "que creim que podrien aportar valor. \n",
    "\n",
    "Podem resumir l'assignació que proposam a la següent taula: \n",
    "\n",
    "| Semàntica          | Variable *dummy*     | Val 1 només si existeix l'etiqueta |\n",
    "| --- | --- | --- |\n",
    "| tipologia client   | `gt_fam_old_child`   | `Family with older children` |\n",
    "| ídem               | `gt_fam_young_child` | `Family with young children` |\n",
    "| ídem               | `gt_group`           | `Group` |\n",
    "| ídem               | `gt_solo`            | `Solo traveler` |\n",
    "| ídem               | `gt_couple`          | `Couple` |\n",
    "| tipus de viatge    | `tt_business`        | `Business trip` |\n",
    "| ídem               | `tt_leisure`         | `Leisure trip` |\n",
    "| durada de l'estada | `stayed_1`           | `Stayed 1 night` |\n",
    "| ídem               | `stayed_2`           | `Stayed 2 nights` |\n",
    "| ídem               | `stayed_3`           | `Stayed 3 nights` |\n",
    "| ídem               | `stayed_4`           | `Stayed 4 nights` |\n"
   ]
  },
  {
   "cell_type": "markdown",
   "id": "90058e0d-b8c6-4e2e-b790-bb1afd41b046",
   "metadata": {},
   "source": [
    "#### days_since_review"
   ]
  },
  {
   "cell_type": "markdown",
   "id": "105ba069-b67e-4bbc-ba8a-d0a912d92d1e",
   "metadata": {},
   "source": [
    "És un camp de texte que informa del número de dies que ha passat des de la \n",
    "gravació de la valoració. \n",
    "Per tal de poder-ne fer un petit estudi, mirarem de extreure el temps\n",
    "transcorregut en forma de número."
   ]
  },
  {
   "cell_type": "code",
   "execution_count": 47,
   "id": "d9f32da5-d0ff-438c-b62c-97dad91f6e9c",
   "metadata": {},
   "outputs": [
    {
     "data": {
      "text/plain": [
       "1 days     2585\n",
       "322 day    2308\n",
       "120 day    2284\n",
       "338 day    1963\n",
       "534 day    1940\n",
       "           ... \n",
       "327 day     199\n",
       "615 day     194\n",
       "122 day     192\n",
       "124 day     173\n",
       "123 day     143\n",
       "Name: days_since_review, Length: 731, dtype: int64"
      ]
     },
     "execution_count": 47,
     "metadata": {},
     "output_type": "execute_result"
    }
   ],
   "source": [
    "df['days_since_review'].value_counts()"
   ]
  },
  {
   "cell_type": "markdown",
   "id": "eaebd3db-25ba-46fb-9bd8-a9be47cb9b4e",
   "metadata": {},
   "source": [
    "La columna `days_since_review` \n",
    "és una candidata a ser convertida a numèrica."
   ]
  },
  {
   "cell_type": "markdown",
   "id": "8c4a8bcc-a0fe-4246-9c8d-f00ede3a2251",
   "metadata": {},
   "source": [
    "Comprovam si les unitats són sempre `day` o `days`"
   ]
  },
  {
   "cell_type": "code",
   "execution_count": 48,
   "id": "86ec7353-4c9c-4157-bbcf-a6a4b915ddf3",
   "metadata": {},
   "outputs": [
    {
     "data": {
      "text/plain": [
       "Series([], Name: days_since_review, dtype: int64)"
      ]
     },
     "execution_count": 48,
     "metadata": {},
     "output_type": "execute_result"
    }
   ],
   "source": [
    "df[~df['days_since_review'].str.contains('days?$', regex = True)]['days_since_review'].value_counts()"
   ]
  },
  {
   "cell_type": "markdown",
   "id": "d49acec9-f798-4e9c-a948-e3d497e84c3f",
   "metadata": {},
   "source": [
    "Sembla que l'unitat de mesura sempre són dies. \n",
    "Així que **la podrem transformar de forma senzilla a numèrica** \n",
    "per tal de poder fer-la servir de forma més eficaç."
   ]
  },
  {
   "cell_type": "markdown",
   "id": "8086b8ee-883a-4ecf-b88c-b0e500e09846",
   "metadata": {},
   "source": [
    "## Conclusions"
   ]
  },
  {
   "cell_type": "markdown",
   "id": "5fce17f1-f2d2-4f8a-8f89-57eb7cfdf94c",
   "metadata": {},
   "source": [
    "L'objectiu d'aquest treball és formalitzar una sèrie de consells \n",
    "pel nostre client per tal de que pugui posar en marxa \n",
    "iniciatives o accions encaminades a corregir les falles que \n",
    "han afectat més negativament a l'experiència dels seus hostes. \n",
    "Ho farem analitzant quines són les conseqüències \n",
    "derivades d'aquestes falles i que, \n",
    "percebudes pels seus hostes, \n",
    "n'han provocat una opinió negativa. \n",
    "\n",
    "Per tal de contextualitzar la anàlisi de les opinions negatives \n",
    "ens dotarem d'una sèrie *features*, \n",
    "algunes d'elles seran les que apareixen al conjunt subministrat, \n",
    "d'altres sortiran a partir d'una transformació. \n",
    "\n",
    "Per a la selecció i gènesi d'aquest nou conjunt de *features*, \n",
    "hem analitzat breument cada una de les variables subministrades, \n",
    "tenguent en compte però que formen part d'un conjunt \n",
    "i per tant sense perdre de vista les possibles sinèrgies. \n",
    "\n",
    "Esperam que algunes variables com per exemple `days_since_review` \n",
    "no ens aportin informació significativa a l'hora d'aconseguir el \n",
    "nostre objectiu, \n",
    "i al contrari, \n",
    "pensam que altres com el mes de l'any \n",
    "o el país de l'establient hoteler\n",
    "siguin explicatives en major proporció.\n",
    "\n",
    "Hem assatjat els mètodes d'extracció d'informació, \n",
    "que per tal de poder fer tot aquest procés de forma compacta, \n",
    "encapsularem dins d'unes estructures *pipe line* \n",
    "en un altre *note book* que hem lliurat."
   ]
  }
 ],
 "metadata": {
  "kernelspec": {
   "display_name": "musi-aa",
   "language": "python",
   "name": "musi-aa"
  },
  "language_info": {
   "codemirror_mode": {
    "name": "ipython",
    "version": 3
   },
   "file_extension": ".py",
   "mimetype": "text/x-python",
   "name": "python",
   "nbconvert_exporter": "python",
   "pygments_lexer": "ipython3",
   "version": "3.7.11"
  }
 },
 "nbformat": 4,
 "nbformat_minor": 5
}
