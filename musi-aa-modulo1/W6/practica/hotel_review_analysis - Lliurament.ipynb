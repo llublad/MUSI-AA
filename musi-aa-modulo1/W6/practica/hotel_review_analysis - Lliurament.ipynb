{
 "cells": [
  {
   "cell_type": "markdown",
   "id": "053e8d41",
   "metadata": {},
   "source": [
    "# Intro to ML"
   ]
  },
  {
   "cell_type": "markdown",
   "id": "286583ad",
   "metadata": {},
   "source": [
    "La práctica de hoy consiste en un simulacro de como empezar un proyecto de analítica / Machine Learning desde el principio.\n",
    "\n",
    "Cómo hemos comentado en clases anteriores, el primer paso, antes incluso que ponerse a analizar el dataset, es plantearse la estrategía a seguir o como plasmar un problema de negocio en un problema de datos.\n",
    "\n",
    "Nuestro cliente, una importante hotelera mallorquina (oh, sorpresa). No tiene muy claro que es lo que quiere, simplemente sabe que todo el mundo usa IA actualmente y no quiere quedarse atrás. Hablando con ellos, hemos accedido a hacer una propuesta para ayudarles a entender que valor podrían extraer del análisis de datos / modelización. Por el momento, sabemos que están preocupados por la reputación de sus hoteles y que les interesa saber que motiva que un cliente deje una buena review.\n",
    "\n",
    "Para tal proposito, disponemos de un dataset con reviews de hoteles en Europa. El dataset se encuentra en la carpeta `data` junto con una descripción de los campos disponibles."
   ]
  },
  {
   "cell_type": "markdown",
   "id": "90de4743",
   "metadata": {},
   "source": [
    "## Trabajo por equipos"
   ]
  },
  {
   "cell_type": "markdown",
   "id": "bae0d759",
   "metadata": {},
   "source": [
    "#### 1. Revisa el fichero `data_format.txt` para saber que variables tenemos disponibles. A partir de las variables, plantea al menos 3 preguntas que te permitan entender el dataset: por ejemplo:\n",
    "\n",
    "> Cómo varía la puntuación media de un hotel a lo largo del tiempo ?\n",
    "\n",
    "1. Vemos que tenemos una variable temporal `review_date` disponible. Plantea cómo podríamos transformar esta variable de forma que pueda aportar valor a la modelizción. Piensa que en un contexto de turismo la estacionalidad es un factor muy importante.\n",
    "\n",
    "1. Vemos que de todas las variables que tenemos, 3 son texto (2 texto libre y 1 tags). Piensa como vas a tratar esas variables. (Nota: muchas veces nos sabremos de antemano cómo tratar una transformación de un tipo de dato. Usar google es legal.)\n",
    "\n",
    "1. Vemos que como variable numéricas tenemos la Lat/Long. Cómo podríamos usarla ? Que tipo de nuevas features se podrían calcular a partir de ellas que nos aporten informacion ?\n",
    "\n",
    "1. Si queremos saber que afecta a una review positiva/negativa, como podríamos reducir el problema de ML supervisado ? Preferímos regresion o clasificacion?\n",
    "\n"
   ]
  },
  {
   "cell_type": "markdown",
   "id": "5a25e7b2",
   "metadata": {
    "tags": []
   },
   "source": [
    "## Trabajo entregable"
   ]
  },
  {
   "cell_type": "markdown",
   "id": "0c716115",
   "metadata": {},
   "source": [
    "**Ahora que más o menos tenemos una idea inicial de como tratar el dataset...**\n",
    "\n",
    "NOTA: el objetivo es ver que sabemos usar los pipelines de sklear. No nos volvamos locos con hacer un trabajo completo.\n",
    "\n",
    "1. Carga las librerías básicas para el analisis de datos\n",
    "1. Realiza una limpieza no exhaustiva de los datos\n",
    "1. Separa los datos en train y test. OJO: no queremos filtrar información! Hay que pensar bien como queremos hacer la separación...\n",
    "1. Plantea una primera aproximación utilizando un modelo lineal y dibuja una arquitectura de cómo quedaría el `pipeline` de transformación + modelización tipo el mostrado en la clase práctiva de la W5\n",
    "1. Entrena el modelo y revisa las variables/palabras que son sido más importantes.\n",
    "1. Cuentale al cliente un mensaje clave sobre que tipo de cosas tienen más en cuenta los clientes: `Si no quieres una mala review no sirvas comida fría`"
   ]
  },
  {
   "cell_type": "markdown",
   "id": "f15e3511-d70b-4152-91df-560f14958593",
   "metadata": {},
   "source": [
    "## Resposta"
   ]
  },
  {
   "cell_type": "markdown",
   "id": "7095cbc2-6db2-485a-b31a-f6b4d132d864",
   "metadata": {},
   "source": [
    "### 1. Carga las librerías básicas para el analisis de datos"
   ]
  },
  {
   "cell_type": "markdown",
   "id": "219c62d3-9217-4ecb-a171-91bcdac6c905",
   "metadata": {},
   "source": [
    "#### Llibreries mínimes per càrrega i anàlisi bàsic de les dades"
   ]
  },
  {
   "cell_type": "code",
   "execution_count": 1,
   "id": "5691d1c7-5030-4a1e-88b8-92073b9c0bd5",
   "metadata": {
    "tags": []
   },
   "outputs": [],
   "source": [
    "import numpy as np\n",
    "import pandas as pd"
   ]
  },
  {
   "cell_type": "markdown",
   "id": "15472ea2-b3d0-411d-9fea-d7c09eb9a10b",
   "metadata": {},
   "source": [
    "### 2. Realiza una limpieza no exhaustiva de los datos"
   ]
  },
  {
   "cell_type": "markdown",
   "id": "bdc9d00d-5f75-483f-a837-bbe9b6f46650",
   "metadata": {},
   "source": [
    "#### Carregam les dades"
   ]
  },
  {
   "cell_type": "code",
   "execution_count": 2,
   "id": "c959b610-7319-4f25-a063-82e53cdfac0d",
   "metadata": {},
   "outputs": [
    {
     "name": "stdout",
     "output_type": "stream",
     "text": [
      "Loading data/hotel_reviews_dataset_part_1.csv\n",
      "Loading data/hotel_reviews_dataset_part_2.csv\n",
      "Loading data/hotel_reviews_dataset_part_3.csv\n",
      "Loading data/hotel_reviews_dataset_part_4.csv\n"
     ]
    }
   ],
   "source": [
    "data_file_list = [\n",
    "    'data/hotel_reviews_dataset_part_1.csv',\n",
    "    'data/hotel_reviews_dataset_part_2.csv', \n",
    "    'data/hotel_reviews_dataset_part_3.csv',\n",
    "    'data/hotel_reviews_dataset_part_4.csv']\n",
    "\n",
    "df = pd.DataFrame()\n",
    "\n",
    "for file in data_file_list:\n",
    "    print(f\"Loading {file}\")\n",
    "    df = pd.concat([df, pd.read_csv(file)], ignore_index = True)"
   ]
  },
  {
   "cell_type": "code",
   "execution_count": 3,
   "id": "cd4b09be-10d7-409e-abd1-e9a6440253f3",
   "metadata": {
    "tags": []
   },
   "outputs": [
    {
     "data": {
      "text/html": [
       "<div>\n",
       "<style scoped>\n",
       "    .dataframe tbody tr th:only-of-type {\n",
       "        vertical-align: middle;\n",
       "    }\n",
       "\n",
       "    .dataframe tbody tr th {\n",
       "        vertical-align: top;\n",
       "    }\n",
       "\n",
       "    .dataframe thead th {\n",
       "        text-align: right;\n",
       "    }\n",
       "</style>\n",
       "<table border=\"1\" class=\"dataframe\">\n",
       "  <thead>\n",
       "    <tr style=\"text-align: right;\">\n",
       "      <th></th>\n",
       "      <th>Hotel_Address</th>\n",
       "      <th>Additional_Number_of_Scoring</th>\n",
       "      <th>Review_Date</th>\n",
       "      <th>Average_Score</th>\n",
       "      <th>Hotel_Name</th>\n",
       "      <th>Reviewer_Nationality</th>\n",
       "      <th>Negative_Review</th>\n",
       "      <th>Review_Total_Negative_Word_Counts</th>\n",
       "      <th>Total_Number_of_Reviews</th>\n",
       "      <th>Positive_Review</th>\n",
       "      <th>Review_Total_Positive_Word_Counts</th>\n",
       "      <th>Total_Number_of_Reviews_Reviewer_Has_Given</th>\n",
       "      <th>Reviewer_Score</th>\n",
       "      <th>Tags</th>\n",
       "      <th>days_since_review</th>\n",
       "      <th>lat</th>\n",
       "      <th>lng</th>\n",
       "    </tr>\n",
       "  </thead>\n",
       "  <tbody>\n",
       "    <tr>\n",
       "      <th>0</th>\n",
       "      <td>s Gravesandestraat 55 Oost 1092 AA Amsterdam ...</td>\n",
       "      <td>194</td>\n",
       "      <td>8/3/2017</td>\n",
       "      <td>7.7</td>\n",
       "      <td>Hotel Arena</td>\n",
       "      <td>Russia</td>\n",
       "      <td>I am so angry that i made this post available...</td>\n",
       "      <td>397</td>\n",
       "      <td>1403</td>\n",
       "      <td>Only the park outside of the hotel was beauti...</td>\n",
       "      <td>11</td>\n",
       "      <td>7</td>\n",
       "      <td>2.9</td>\n",
       "      <td>[' Leisure trip ', ' Couple ', ' Duplex Double...</td>\n",
       "      <td>0 days</td>\n",
       "      <td>52.360576</td>\n",
       "      <td>4.915968</td>\n",
       "    </tr>\n",
       "    <tr>\n",
       "      <th>1</th>\n",
       "      <td>s Gravesandestraat 55 Oost 1092 AA Amsterdam ...</td>\n",
       "      <td>194</td>\n",
       "      <td>8/3/2017</td>\n",
       "      <td>7.7</td>\n",
       "      <td>Hotel Arena</td>\n",
       "      <td>Ireland</td>\n",
       "      <td>No Negative</td>\n",
       "      <td>0</td>\n",
       "      <td>1403</td>\n",
       "      <td>No real complaints the hotel was great great ...</td>\n",
       "      <td>105</td>\n",
       "      <td>7</td>\n",
       "      <td>7.5</td>\n",
       "      <td>[' Leisure trip ', ' Couple ', ' Duplex Double...</td>\n",
       "      <td>0 days</td>\n",
       "      <td>52.360576</td>\n",
       "      <td>4.915968</td>\n",
       "    </tr>\n",
       "    <tr>\n",
       "      <th>2</th>\n",
       "      <td>s Gravesandestraat 55 Oost 1092 AA Amsterdam ...</td>\n",
       "      <td>194</td>\n",
       "      <td>7/31/2017</td>\n",
       "      <td>7.7</td>\n",
       "      <td>Hotel Arena</td>\n",
       "      <td>Australia</td>\n",
       "      <td>Rooms are nice but for elderly a bit difficul...</td>\n",
       "      <td>42</td>\n",
       "      <td>1403</td>\n",
       "      <td>Location was good and staff were ok It is cut...</td>\n",
       "      <td>21</td>\n",
       "      <td>9</td>\n",
       "      <td>7.1</td>\n",
       "      <td>[' Leisure trip ', ' Family with young childre...</td>\n",
       "      <td>3 days</td>\n",
       "      <td>52.360576</td>\n",
       "      <td>4.915968</td>\n",
       "    </tr>\n",
       "  </tbody>\n",
       "</table>\n",
       "</div>"
      ],
      "text/plain": [
       "                                       Hotel_Address  \\\n",
       "0   s Gravesandestraat 55 Oost 1092 AA Amsterdam ...   \n",
       "1   s Gravesandestraat 55 Oost 1092 AA Amsterdam ...   \n",
       "2   s Gravesandestraat 55 Oost 1092 AA Amsterdam ...   \n",
       "\n",
       "   Additional_Number_of_Scoring Review_Date  Average_Score   Hotel_Name  \\\n",
       "0                           194    8/3/2017            7.7  Hotel Arena   \n",
       "1                           194    8/3/2017            7.7  Hotel Arena   \n",
       "2                           194   7/31/2017            7.7  Hotel Arena   \n",
       "\n",
       "  Reviewer_Nationality                                    Negative_Review  \\\n",
       "0              Russia    I am so angry that i made this post available...   \n",
       "1             Ireland                                         No Negative   \n",
       "2           Australia    Rooms are nice but for elderly a bit difficul...   \n",
       "\n",
       "   Review_Total_Negative_Word_Counts  Total_Number_of_Reviews  \\\n",
       "0                                397                     1403   \n",
       "1                                  0                     1403   \n",
       "2                                 42                     1403   \n",
       "\n",
       "                                     Positive_Review  \\\n",
       "0   Only the park outside of the hotel was beauti...   \n",
       "1   No real complaints the hotel was great great ...   \n",
       "2   Location was good and staff were ok It is cut...   \n",
       "\n",
       "   Review_Total_Positive_Word_Counts  \\\n",
       "0                                 11   \n",
       "1                                105   \n",
       "2                                 21   \n",
       "\n",
       "   Total_Number_of_Reviews_Reviewer_Has_Given  Reviewer_Score  \\\n",
       "0                                           7             2.9   \n",
       "1                                           7             7.5   \n",
       "2                                           9             7.1   \n",
       "\n",
       "                                                Tags days_since_review  \\\n",
       "0  [' Leisure trip ', ' Couple ', ' Duplex Double...            0 days   \n",
       "1  [' Leisure trip ', ' Couple ', ' Duplex Double...            0 days   \n",
       "2  [' Leisure trip ', ' Family with young childre...            3 days   \n",
       "\n",
       "         lat       lng  \n",
       "0  52.360576  4.915968  \n",
       "1  52.360576  4.915968  \n",
       "2  52.360576  4.915968  "
      ]
     },
     "execution_count": 3,
     "metadata": {},
     "output_type": "execute_result"
    }
   ],
   "source": [
    "df.head(3)"
   ]
  },
  {
   "cell_type": "markdown",
   "id": "aa866f97-8f30-4fe6-8e73-95ca56355b5e",
   "metadata": {
    "tags": []
   },
   "source": [
    "#### Anàlisi estadístic bàsic"
   ]
  },
  {
   "cell_type": "code",
   "execution_count": 4,
   "id": "50f90d0a-a0c5-4f0a-b6e7-207e1ad78440",
   "metadata": {},
   "outputs": [
    {
     "data": {
      "text/html": [
       "<div>\n",
       "<style scoped>\n",
       "    .dataframe tbody tr th:only-of-type {\n",
       "        vertical-align: middle;\n",
       "    }\n",
       "\n",
       "    .dataframe tbody tr th {\n",
       "        vertical-align: top;\n",
       "    }\n",
       "\n",
       "    .dataframe thead th {\n",
       "        text-align: right;\n",
       "    }\n",
       "</style>\n",
       "<table border=\"1\" class=\"dataframe\">\n",
       "  <thead>\n",
       "    <tr style=\"text-align: right;\">\n",
       "      <th></th>\n",
       "      <th>Additional_Number_of_Scoring</th>\n",
       "      <th>Average_Score</th>\n",
       "      <th>Review_Total_Negative_Word_Counts</th>\n",
       "      <th>Total_Number_of_Reviews</th>\n",
       "      <th>Review_Total_Positive_Word_Counts</th>\n",
       "      <th>Total_Number_of_Reviews_Reviewer_Has_Given</th>\n",
       "      <th>Reviewer_Score</th>\n",
       "      <th>lat</th>\n",
       "      <th>lng</th>\n",
       "    </tr>\n",
       "  </thead>\n",
       "  <tbody>\n",
       "    <tr>\n",
       "      <th>count</th>\n",
       "      <td>515738.000000</td>\n",
       "      <td>515738.000000</td>\n",
       "      <td>515738.000000</td>\n",
       "      <td>515738.000000</td>\n",
       "      <td>515738.000000</td>\n",
       "      <td>515738.000000</td>\n",
       "      <td>515738.000000</td>\n",
       "      <td>512470.000000</td>\n",
       "      <td>512470.000000</td>\n",
       "    </tr>\n",
       "    <tr>\n",
       "      <th>mean</th>\n",
       "      <td>498.081836</td>\n",
       "      <td>8.397487</td>\n",
       "      <td>18.539450</td>\n",
       "      <td>2743.743944</td>\n",
       "      <td>17.776458</td>\n",
       "      <td>7.166001</td>\n",
       "      <td>8.395077</td>\n",
       "      <td>49.442439</td>\n",
       "      <td>2.823803</td>\n",
       "    </tr>\n",
       "    <tr>\n",
       "      <th>std</th>\n",
       "      <td>500.538467</td>\n",
       "      <td>0.548048</td>\n",
       "      <td>29.690831</td>\n",
       "      <td>2317.464868</td>\n",
       "      <td>21.804185</td>\n",
       "      <td>11.040228</td>\n",
       "      <td>1.637856</td>\n",
       "      <td>3.466325</td>\n",
       "      <td>4.579425</td>\n",
       "    </tr>\n",
       "    <tr>\n",
       "      <th>min</th>\n",
       "      <td>1.000000</td>\n",
       "      <td>5.200000</td>\n",
       "      <td>0.000000</td>\n",
       "      <td>43.000000</td>\n",
       "      <td>0.000000</td>\n",
       "      <td>1.000000</td>\n",
       "      <td>2.500000</td>\n",
       "      <td>41.328376</td>\n",
       "      <td>-0.369758</td>\n",
       "    </tr>\n",
       "    <tr>\n",
       "      <th>25%</th>\n",
       "      <td>169.000000</td>\n",
       "      <td>8.100000</td>\n",
       "      <td>2.000000</td>\n",
       "      <td>1161.000000</td>\n",
       "      <td>5.000000</td>\n",
       "      <td>1.000000</td>\n",
       "      <td>7.500000</td>\n",
       "      <td>48.214662</td>\n",
       "      <td>-0.143372</td>\n",
       "    </tr>\n",
       "    <tr>\n",
       "      <th>50%</th>\n",
       "      <td>341.000000</td>\n",
       "      <td>8.400000</td>\n",
       "      <td>9.000000</td>\n",
       "      <td>2134.000000</td>\n",
       "      <td>11.000000</td>\n",
       "      <td>3.000000</td>\n",
       "      <td>8.800000</td>\n",
       "      <td>51.499981</td>\n",
       "      <td>0.010607</td>\n",
       "    </tr>\n",
       "    <tr>\n",
       "      <th>75%</th>\n",
       "      <td>660.000000</td>\n",
       "      <td>8.800000</td>\n",
       "      <td>23.000000</td>\n",
       "      <td>3613.000000</td>\n",
       "      <td>22.000000</td>\n",
       "      <td>8.000000</td>\n",
       "      <td>9.600000</td>\n",
       "      <td>51.516288</td>\n",
       "      <td>4.834443</td>\n",
       "    </tr>\n",
       "    <tr>\n",
       "      <th>max</th>\n",
       "      <td>2682.000000</td>\n",
       "      <td>9.800000</td>\n",
       "      <td>408.000000</td>\n",
       "      <td>16670.000000</td>\n",
       "      <td>395.000000</td>\n",
       "      <td>355.000000</td>\n",
       "      <td>10.000000</td>\n",
       "      <td>52.400181</td>\n",
       "      <td>16.429233</td>\n",
       "    </tr>\n",
       "  </tbody>\n",
       "</table>\n",
       "</div>"
      ],
      "text/plain": [
       "       Additional_Number_of_Scoring  Average_Score  \\\n",
       "count                 515738.000000  515738.000000   \n",
       "mean                     498.081836       8.397487   \n",
       "std                      500.538467       0.548048   \n",
       "min                        1.000000       5.200000   \n",
       "25%                      169.000000       8.100000   \n",
       "50%                      341.000000       8.400000   \n",
       "75%                      660.000000       8.800000   \n",
       "max                     2682.000000       9.800000   \n",
       "\n",
       "       Review_Total_Negative_Word_Counts  Total_Number_of_Reviews  \\\n",
       "count                      515738.000000            515738.000000   \n",
       "mean                           18.539450              2743.743944   \n",
       "std                            29.690831              2317.464868   \n",
       "min                             0.000000                43.000000   \n",
       "25%                             2.000000              1161.000000   \n",
       "50%                             9.000000              2134.000000   \n",
       "75%                            23.000000              3613.000000   \n",
       "max                           408.000000             16670.000000   \n",
       "\n",
       "       Review_Total_Positive_Word_Counts  \\\n",
       "count                      515738.000000   \n",
       "mean                           17.776458   \n",
       "std                            21.804185   \n",
       "min                             0.000000   \n",
       "25%                             5.000000   \n",
       "50%                            11.000000   \n",
       "75%                            22.000000   \n",
       "max                           395.000000   \n",
       "\n",
       "       Total_Number_of_Reviews_Reviewer_Has_Given  Reviewer_Score  \\\n",
       "count                               515738.000000   515738.000000   \n",
       "mean                                     7.166001        8.395077   \n",
       "std                                     11.040228        1.637856   \n",
       "min                                      1.000000        2.500000   \n",
       "25%                                      1.000000        7.500000   \n",
       "50%                                      3.000000        8.800000   \n",
       "75%                                      8.000000        9.600000   \n",
       "max                                    355.000000       10.000000   \n",
       "\n",
       "                 lat            lng  \n",
       "count  512470.000000  512470.000000  \n",
       "mean       49.442439       2.823803  \n",
       "std         3.466325       4.579425  \n",
       "min        41.328376      -0.369758  \n",
       "25%        48.214662      -0.143372  \n",
       "50%        51.499981       0.010607  \n",
       "75%        51.516288       4.834443  \n",
       "max        52.400181      16.429233  "
      ]
     },
     "execution_count": 4,
     "metadata": {},
     "output_type": "execute_result"
    }
   ],
   "source": [
    "df.describe()"
   ]
  },
  {
   "cell_type": "markdown",
   "id": "0bbf16bd-0622-4c1c-bcc0-640cbe674d8b",
   "metadata": {},
   "source": [
    "Ens crida l'atenció que la latitud i la longitud tenguin un recorregut tan petit. \n",
    "Sembla com si tots els hotels que la tenen informada, siguin de la mateixa regió. \n",
    "També es pot veure que hi ha valors de latitud i longitud que no estan informats.\n",
    "\n",
    "La variable `days_since_review` no és numèrica (!). \n",
    "S'haurà d'analitzar el seu contingut per veure si pot ser \n",
    "transformada a numèrica entera."
   ]
  },
  {
   "cell_type": "markdown",
   "id": "dd50affe-8c59-463b-8601-f4bb9cbe14a6",
   "metadata": {
    "tags": []
   },
   "source": [
    "#### Valoració de la importància dels valors *nan*\n",
    "\n",
    "Miram si tenim valors *nan* a qualque columna ..."
   ]
  },
  {
   "cell_type": "code",
   "execution_count": 5,
   "id": "8e51249d-7e45-4e72-be8e-d37c4509774d",
   "metadata": {},
   "outputs": [
    {
     "name": "stdout",
     "output_type": "stream",
     "text": [
      "<class 'pandas.core.frame.DataFrame'>\n",
      "RangeIndex: 515738 entries, 0 to 515737\n",
      "Data columns (total 17 columns):\n",
      " #   Column                                      Non-Null Count   Dtype  \n",
      "---  ------                                      --------------   -----  \n",
      " 0   Hotel_Address                               515738 non-null  object \n",
      " 1   Additional_Number_of_Scoring                515738 non-null  int64  \n",
      " 2   Review_Date                                 515738 non-null  object \n",
      " 3   Average_Score                               515738 non-null  float64\n",
      " 4   Hotel_Name                                  515738 non-null  object \n",
      " 5   Reviewer_Nationality                        515738 non-null  object \n",
      " 6   Negative_Review                             515738 non-null  object \n",
      " 7   Review_Total_Negative_Word_Counts           515738 non-null  int64  \n",
      " 8   Total_Number_of_Reviews                     515738 non-null  int64  \n",
      " 9   Positive_Review                             515738 non-null  object \n",
      " 10  Review_Total_Positive_Word_Counts           515738 non-null  int64  \n",
      " 11  Total_Number_of_Reviews_Reviewer_Has_Given  515738 non-null  int64  \n",
      " 12  Reviewer_Score                              515738 non-null  float64\n",
      " 13  Tags                                        515738 non-null  object \n",
      " 14  days_since_review                           515738 non-null  object \n",
      " 15  lat                                         512470 non-null  float64\n",
      " 16  lng                                         512470 non-null  float64\n",
      "dtypes: float64(4), int64(5), object(8)\n",
      "memory usage: 66.9+ MB\n"
     ]
    }
   ],
   "source": [
    "df.info(show_counts=True)"
   ]
  },
  {
   "cell_type": "markdown",
   "id": "d329870c-637e-4ce3-9948-835d7376d638",
   "metadata": {},
   "source": [
    "Veim que **hi ha valors nuls** a les coordenades geogràfiques\n",
    "(camps `lat` i `lng`) d'alguns registres.\n",
    "Ho haurem de tenir en compte si volem classificar els hotels en categories\n",
    "que depenguin de la seva ubicació i la inferim de les coordenades geogràfiques."
   ]
  },
  {
   "cell_type": "markdown",
   "id": "de868425-9319-48b8-a4dd-7faf6c4ffd86",
   "metadata": {
    "tags": []
   },
   "source": [
    "#### Estudi de les variables predictores i creació de noves"
   ]
  },
  {
   "cell_type": "markdown",
   "id": "ea706703-acc7-481c-a876-9d094639fbd0",
   "metadata": {},
   "source": [
    "Per tal de mantenir aquest *notebook* compacte, \n",
    "s'ha optat per fer l'estudi de les variables en \n",
    "el quadern `hr_features_study.ipynb` \n",
    "que es subministra conjuntament amb aquest.\n",
    "\n",
    "Aquest estudi inclou també l'explicació del perquè \n",
    "de la creació de noves \n",
    "caràcterístiques."
   ]
  },
  {
   "cell_type": "markdown",
   "id": "d3a1c8f5-728b-4eea-a8cd-1f50654ff8ad",
   "metadata": {
    "tags": []
   },
   "source": [
    "#### Preparació de la nostra l'arquitectura de *pipelines* "
   ]
  },
  {
   "cell_type": "markdown",
   "id": "de2a6335-9479-43a3-85f0-237f358de5bd",
   "metadata": {},
   "source": [
    "Rescatam les classes SelectColumns i DropColumns del notebook `W5/ 5 - Intro to ML.ipynb`\n",
    "i afegim les noves que necessitam."
   ]
  },
  {
   "cell_type": "code",
   "execution_count": 6,
   "id": "11b5b4cd-ce04-4e51-ba03-e550d25d23ba",
   "metadata": {},
   "outputs": [],
   "source": [
    "from sklearn.base import TransformerMixin\n",
    "\n",
    "### aux functions\n",
    "\n",
    "class SelectColumns(TransformerMixin):\n",
    "    def __init__(self, columns: list) -> pd.DataFrame:\n",
    "        if not isinstance(columns, list):\n",
    "            raise ValueError('Specount the columns into a list')\n",
    "        self.columns = columns\n",
    "    def fit(self, X, y=None): # we do not need to specify the target in the transformer. We leave it as optional arg for consistency\n",
    "        return self\n",
    "    def transform(self, X):\n",
    "        return X[self.columns]\n",
    "    \n",
    "class DropColumns(TransformerMixin):\n",
    "    def __init__(self, columns: list) -> pd.DataFrame:\n",
    "        if not isinstance(columns, list):\n",
    "            raise ValueError('Specify the columns into a list')\n",
    "        self.columns = columns\n",
    "    def fit(self, X, y=None):\n",
    "        return self\n",
    "    def transform(self, X):\n",
    "        return X.drop(self.columns, axis=1)"
   ]
  },
  {
   "cell_type": "markdown",
   "id": "a15b2caf-1fdc-4d4b-b4c1-e9f991a498ac",
   "metadata": {},
   "source": [
    "Amb aquesta nova classe podrem extreure les dades numériques \n",
    "de columnes amb números, seguides de unitats, \n",
    "com per exemple la `days_since_review`"
   ]
  },
  {
   "cell_type": "code",
   "execution_count": 7,
   "id": "5c1003de-2d1a-4887-800e-396384325961",
   "metadata": {},
   "outputs": [],
   "source": [
    "class Extract2Num(TransformerMixin):\n",
    "    def __init__(self, columns: list) -> pd.DataFrame:\n",
    "        if not isinstance(columns, list):\n",
    "            raise ValueError('Specify the columns into a list')\n",
    "        self.columns = columns\n",
    "    def fit(self, X, y=None):\n",
    "        return self\n",
    "    def transform(self, X):\n",
    "        _X = pd.DataFrame()\n",
    "        for column in self.columns: \n",
    "            _X[column] = X[column].str.extract(r'(\\d+)')\n",
    "        return X.drop(self.columns, axis = 1).join(_X)"
   ]
  },
  {
   "cell_type": "markdown",
   "id": "9e5a20c7-3c7b-437a-8297-ccf228ebefb1",
   "metadata": {},
   "source": [
    "Separarem les variables en tres classes:\n",
    "- les numèriques que necessiten netejar valors *nan* i després escalar\n",
    "- les numèriques que necessiten ésser extretes des d'una cadena (`days_since_review`)\n",
    "- les variables categòriques, que necessiten una transformació (per exemple, codificar)"
   ]
  },
  {
   "cell_type": "code",
   "execution_count": 8,
   "id": "ca61858f-af2b-460e-97ae-dde107a25f83",
   "metadata": {},
   "outputs": [],
   "source": [
    "from sklearn.pipeline import Pipeline"
   ]
  },
  {
   "cell_type": "code",
   "execution_count": 9,
   "id": "9a8dd1bc-e3e5-4c0c-bb1c-c32a6afd17a1",
   "metadata": {},
   "outputs": [],
   "source": [
    "extract_cols_list = [\n",
    "    'days_since_review']\n",
    "\n",
    "cat_cols_list = [\n",
    "    'Hotel_Address', \n",
    "    'Hotel_Name',\n",
    "    'Review_Date',\n",
    "    'Reviewer_Nationality',\n",
    "    'Negative_Review',\n",
    "    'Positive_Review',\n",
    "    'Tags',\n",
    "    'lat', \n",
    "    'lng']"
   ]
  },
  {
   "cell_type": "code",
   "execution_count": 10,
   "id": "660d5748-a060-4901-b7ec-0e613c44bace",
   "metadata": {},
   "outputs": [],
   "source": [
    "from sklearn.preprocessing import MinMaxScaler\n",
    "\n",
    "drop_column_step = ('drop_column', DropColumns(cat_cols_list))\n",
    "\n",
    "extract_step = ('extract', Extract2Num(extract_cols_list))\n",
    "\n",
    "scaler_step = ('scaler', MinMaxScaler())\n",
    "\n",
    "num_pipe_steps = [drop_column_step, extract_step] #, scaler_step]\n",
    "\n",
    "num_pipe = Pipeline(num_pipe_steps)"
   ]
  },
  {
   "cell_type": "code",
   "execution_count": 11,
   "id": "7c949bfc-5165-4346-9e95-3b351d056ea4",
   "metadata": {},
   "outputs": [],
   "source": [
    "from sklearn.preprocessing import OneHotEncoder\n",
    "\n",
    "select_col_step = ('select', SelectColumns(cat_cols_list))  ##\n",
    "\n",
    "#one_hot_step = ('sex_one_hot', OneHotEncoder(sparse=False))\n",
    "\n",
    "cat_pipe_steps = [select_col_step] #, one_hot_step]\n",
    "\n",
    "cat_pipe = Pipeline(cat_pipe_steps)"
   ]
  },
  {
   "cell_type": "markdown",
   "id": "7cb71f11-f03d-4737-ab93-9296147271fe",
   "metadata": {},
   "source": [
    "Després les tornam a unir per a obtenir el conjunt de registres a processar"
   ]
  },
  {
   "cell_type": "code",
   "execution_count": 12,
   "id": "99e40ba6-b99a-4ea0-9e82-4607cd2ae53c",
   "metadata": {},
   "outputs": [],
   "source": [
    "from sklearn.pipeline import FeatureUnion\n",
    "\n",
    "transformer_list = [('num_pipe', num_pipe),\n",
    "                    ('cat_pipe', cat_pipe)]\n",
    "\n",
    "### Juntam els dos itineraris \n",
    "\n",
    "data_prep_pipe = FeatureUnion(transformer_list=transformer_list)\n",
    "\n",
    "data_prep_step = ('data_prep', data_prep_pipe)"
   ]
  },
  {
   "cell_type": "code",
   "execution_count": 13,
   "id": "6600469e-0101-4243-9bb1-9106ed448813",
   "metadata": {},
   "outputs": [],
   "source": [
    "from sklearn.ensemble import RandomForestClassifier\n",
    "\n",
    "### Ara ja podem aplicar el nostre classificador\n",
    "\n",
    "classifier_step = ('model', RandomForestClassifier())  ##\n",
    "\n",
    "pipe_steps = [data_prep_step, classifier_step]\n",
    "\n",
    "pipe = Pipeline(pipe_steps)"
   ]
  },
  {
   "cell_type": "markdown",
   "id": "1be1e422-cc9d-4546-bcbb-45a8ec228d49",
   "metadata": {},
   "source": [
    "Seguim preparant per fer la nostra classificació ..."
   ]
  },
  {
   "cell_type": "code",
   "execution_count": 15,
   "id": "a509e9d4-221a-4f30-b5ab-e610e125c2bb",
   "metadata": {},
   "outputs": [
    {
     "data": {
      "text/plain": [
       "True     428887\n",
       "False     86851\n",
       "Name: Reviewer_Score, dtype: int64"
      ]
     },
     "execution_count": 15,
     "metadata": {},
     "output_type": "execute_result"
    }
   ],
   "source": [
    "## Separam la variable dependent\n",
    "\n",
    "X = df.drop(['Reviewer_Score'], axis = 1)\n",
    "\n",
    "## Classificador: si la puntuació és més gran que goodScore, aleshores la consideram bona\n",
    "\n",
    "minGoodScore = 7.0\n",
    "\n",
    "y = df['Reviewer_Score'] >= minGoodScore\n",
    "\n",
    "## A veure que tenim ...\n",
    "y.value_counts(dropna = False)"
   ]
  },
  {
   "cell_type": "markdown",
   "id": "1a4fac51-57f1-4011-a1cb-255bf9cc1742",
   "metadata": {},
   "source": [
    "### 3. Separa los datos en train y test. \n",
    "OJO: no queremos filtrar información! Hay que pensar bien como queremos hacer la separación..."
   ]
  },
  {
   "cell_type": "code",
   "execution_count": 16,
   "id": "959b3138-05c7-413c-80d5-40a4fe20cba4",
   "metadata": {},
   "outputs": [],
   "source": [
    "from sklearn.model_selection import train_test_split\n",
    "\n",
    "## Ho feim reproduible per poder depurar millor\n",
    "\n",
    "np.random.seed(42)\n",
    "\n",
    "## Feim partició train | test\n",
    "\n",
    "X_train, X_test, y_train, y_test = train_test_split(X, y, test_size = 0.15)"
   ]
  },
  {
   "cell_type": "code",
   "execution_count": 17,
   "id": "5384714d-eb5c-4e3e-a1cd-fe290326df95",
   "metadata": {},
   "outputs": [],
   "source": [
    "# Com que les columnes de la transformada es desordenen, haurem de construir la llista de nou en l'ordre apropiat\n",
    "\n",
    "trans_columns = [element for element in X.columns if element not in cat_cols_list] + cat_cols_list"
   ]
  },
  {
   "cell_type": "code",
   "execution_count": null,
   "id": "668c0081-5a0b-47f8-9a77-ab2bddace84c",
   "metadata": {},
   "outputs": [],
   "source": [
    "X_train_trans = pd.DataFrame(\n",
    "    pipe.fit_transform(X_train),\n",
    "    columns = trans_columns)"
   ]
  },
  {
   "cell_type": "code",
   "execution_count": 23,
   "id": "c7df4d4d-4370-49b6-9fbe-7c696011eaba",
   "metadata": {},
   "outputs": [
    {
     "data": {
      "text/html": [
       "<div>\n",
       "<style scoped>\n",
       "    .dataframe tbody tr th:only-of-type {\n",
       "        vertical-align: middle;\n",
       "    }\n",
       "\n",
       "    .dataframe tbody tr th {\n",
       "        vertical-align: top;\n",
       "    }\n",
       "\n",
       "    .dataframe thead th {\n",
       "        text-align: right;\n",
       "    }\n",
       "</style>\n",
       "<table border=\"1\" class=\"dataframe\">\n",
       "  <thead>\n",
       "    <tr style=\"text-align: right;\">\n",
       "      <th></th>\n",
       "      <th>Hotel_Address</th>\n",
       "      <th>Additional_Number_of_Scoring</th>\n",
       "      <th>Review_Date</th>\n",
       "      <th>Average_Score</th>\n",
       "      <th>Hotel_Name</th>\n",
       "      <th>Reviewer_Nationality</th>\n",
       "      <th>Negative_Review</th>\n",
       "      <th>Review_Total_Negative_Word_Counts</th>\n",
       "      <th>Total_Number_of_Reviews</th>\n",
       "      <th>Positive_Review</th>\n",
       "      <th>Review_Total_Positive_Word_Counts</th>\n",
       "      <th>Total_Number_of_Reviews_Reviewer_Has_Given</th>\n",
       "      <th>Tags</th>\n",
       "      <th>days_since_review</th>\n",
       "      <th>lat</th>\n",
       "      <th>lng</th>\n",
       "    </tr>\n",
       "  </thead>\n",
       "  <tbody>\n",
       "    <tr>\n",
       "      <th>264651</th>\n",
       "      <td>97 Great Russell Street Bloomsbury Camden Lond...</td>\n",
       "      <td>406</td>\n",
       "      <td>8/8/2016</td>\n",
       "      <td>8.2</td>\n",
       "      <td>Radisson Blu Edwardian Kenilworth</td>\n",
       "      <td>Argentina</td>\n",
       "      <td>Very small room</td>\n",
       "      <td>4</td>\n",
       "      <td>2011</td>\n",
       "      <td>No Positive</td>\n",
       "      <td>0</td>\n",
       "      <td>15</td>\n",
       "      <td>[' Leisure trip ', ' Couple ', ' Standard Doub...</td>\n",
       "      <td>360 day</td>\n",
       "      <td>51.517972</td>\n",
       "      <td>-0.128050</td>\n",
       "    </tr>\n",
       "    <tr>\n",
       "      <th>150426</th>\n",
       "      <td>33 37 Hogarth Road Kensington and Chelsea Lond...</td>\n",
       "      <td>989</td>\n",
       "      <td>8/31/2016</td>\n",
       "      <td>8.4</td>\n",
       "      <td>Park Grand London Kensington</td>\n",
       "      <td>United Kingdom</td>\n",
       "      <td>The view from the window was pigeon nests and...</td>\n",
       "      <td>11</td>\n",
       "      <td>4660</td>\n",
       "      <td>The bedroom was clean and modern with good fa...</td>\n",
       "      <td>10</td>\n",
       "      <td>1</td>\n",
       "      <td>[' Leisure trip ', ' Solo traveler ', ' Superi...</td>\n",
       "      <td>337 day</td>\n",
       "      <td>51.493847</td>\n",
       "      <td>-0.191758</td>\n",
       "    </tr>\n",
       "    <tr>\n",
       "      <th>308128</th>\n",
       "      <td>Damrak 1 5 Amsterdam City Center 1012 LG Amste...</td>\n",
       "      <td>973</td>\n",
       "      <td>5/31/2016</td>\n",
       "      <td>8.0</td>\n",
       "      <td>Park Plaza Victoria Amsterdam</td>\n",
       "      <td>United Kingdom</td>\n",
       "      <td>Nothing</td>\n",
       "      <td>2</td>\n",
       "      <td>4820</td>\n",
       "      <td>Location perfect and customer service was exc...</td>\n",
       "      <td>9</td>\n",
       "      <td>2</td>\n",
       "      <td>[' Leisure trip ', ' Couple ', ' Double Room '...</td>\n",
       "      <td>429 day</td>\n",
       "      <td>52.377278</td>\n",
       "      <td>4.897818</td>\n",
       "    </tr>\n",
       "  </tbody>\n",
       "</table>\n",
       "</div>"
      ],
      "text/plain": [
       "                                            Hotel_Address  \\\n",
       "264651  97 Great Russell Street Bloomsbury Camden Lond...   \n",
       "150426  33 37 Hogarth Road Kensington and Chelsea Lond...   \n",
       "308128  Damrak 1 5 Amsterdam City Center 1012 LG Amste...   \n",
       "\n",
       "        Additional_Number_of_Scoring Review_Date  Average_Score  \\\n",
       "264651                           406    8/8/2016            8.2   \n",
       "150426                           989   8/31/2016            8.4   \n",
       "308128                           973   5/31/2016            8.0   \n",
       "\n",
       "                               Hotel_Name Reviewer_Nationality  \\\n",
       "264651  Radisson Blu Edwardian Kenilworth           Argentina    \n",
       "150426       Park Grand London Kensington      United Kingdom    \n",
       "308128      Park Plaza Victoria Amsterdam      United Kingdom    \n",
       "\n",
       "                                          Negative_Review  \\\n",
       "264651                                    Very small room   \n",
       "150426   The view from the window was pigeon nests and...   \n",
       "308128                                            Nothing   \n",
       "\n",
       "        Review_Total_Negative_Word_Counts  Total_Number_of_Reviews  \\\n",
       "264651                                  4                     2011   \n",
       "150426                                 11                     4660   \n",
       "308128                                  2                     4820   \n",
       "\n",
       "                                          Positive_Review  \\\n",
       "264651                                        No Positive   \n",
       "150426   The bedroom was clean and modern with good fa...   \n",
       "308128   Location perfect and customer service was exc...   \n",
       "\n",
       "        Review_Total_Positive_Word_Counts  \\\n",
       "264651                                  0   \n",
       "150426                                 10   \n",
       "308128                                  9   \n",
       "\n",
       "        Total_Number_of_Reviews_Reviewer_Has_Given  \\\n",
       "264651                                          15   \n",
       "150426                                           1   \n",
       "308128                                           2   \n",
       "\n",
       "                                                     Tags days_since_review  \\\n",
       "264651  [' Leisure trip ', ' Couple ', ' Standard Doub...           360 day   \n",
       "150426  [' Leisure trip ', ' Solo traveler ', ' Superi...           337 day   \n",
       "308128  [' Leisure trip ', ' Couple ', ' Double Room '...           429 day   \n",
       "\n",
       "              lat       lng  \n",
       "264651  51.517972 -0.128050  \n",
       "150426  51.493847 -0.191758  \n",
       "308128  52.377278  4.897818  "
      ]
     },
     "execution_count": 23,
     "metadata": {},
     "output_type": "execute_result"
    }
   ],
   "source": [
    "X_train.head(3)"
   ]
  },
  {
   "cell_type": "code",
   "execution_count": null,
   "id": "51d1538c-9fc7-4bd8-be13-b1c9f80ec3db",
   "metadata": {},
   "outputs": [],
   "source": [
    "X_train_trans.head(3)"
   ]
  },
  {
   "cell_type": "code",
   "execution_count": 138,
   "id": "c26e4c5d-d8e0-4498-89fa-13fa802c2fd0",
   "metadata": {},
   "outputs": [
    {
     "data": {
      "text/plain": [
       "264651     True\n",
       "150426    False\n",
       "308128     True\n",
       "Name: Reviewer_Score, dtype: bool"
      ]
     },
     "execution_count": 138,
     "metadata": {},
     "output_type": "execute_result"
    }
   ],
   "source": [
    "y_train.head(3)"
   ]
  },
  {
   "cell_type": "code",
   "execution_count": null,
   "id": "b634727f-cd51-40f2-948b-8a7bcea80d03",
   "metadata": {},
   "outputs": [],
   "source": [
    "## train all pipeline from raw data\n",
    "pipe.fit(X_train, y_train)"
   ]
  },
  {
   "cell_type": "code",
   "execution_count": null,
   "id": "deec47a3-090e-45fa-8355-d282e41ec3e0",
   "metadata": {},
   "outputs": [],
   "source": [
    "from sklearn.model_selection import train_test_split\n",
    "from sklearn.preprocessing import StandardScaler\n",
    "from sklearn.impute import SimpleImputer\n",
    "from sklearn.pipeline import Pipeline## Les passes de les *pipeline* són duples (\"nom2\", funció())\n",
    "\n",
    "imputation_step = ('imputer', SimpleImputer(strategy='mean'))\n",
    "scaling_step = ('scaler', StandardScaler())\n",
    "\n",
    "## Llista tractament numèric\n",
    "scalar_steps = [imputation_step, scaling_step]\n",
    "\n",
    "## Finalmente llamamos al creador de pipeline\n",
    "scalar_pipe = Pipeline(scalar_steps)\n",
    "\n",
    "X_train_transformed = scalar_pipe.fit_transform(X_train)\n",
    "X_test_transformed = scalar_pipe.transform(X_test)\n",
    "\n",
    "print('X_train: \\n')\n",
    "print('Mean before pipeline: \\n', X_train.mean())\n",
    "print('Mean after pipeline (imputer + scaler): \\n', X_train_transformed.mean(axis=0))\n",
    "\n",
    "print('\\n X_test: \\n')\n",
    "print('Mean before pipeline: \\n', X_test.mean())\n",
    "print('Mean after pipeline (imputer + scaler): \\n', X_test_transformed.mean(axis=0))"
   ]
  },
  {
   "cell_type": "markdown",
   "id": "5a402e5b-345e-4aee-b89d-e4cab88c5804",
   "metadata": {},
   "source": [
    "### 4. Plantea una primera aproximación utilizando un modelo lineal ... \n",
    "... y dibuja una arquitectura de cómo quedaría el `pipeline` de transformación + modelización tipo el mostrado en la clase práctiva de la W5"
   ]
  },
  {
   "cell_type": "markdown",
   "id": "82e4f284-cb48-414c-956e-3c4ba9ae0cc9",
   "metadata": {},
   "source": [
    "### 5. Entrena el modelo y revisa las variables/palabras que han sido más importantes."
   ]
  },
  {
   "cell_type": "markdown",
   "id": "660d8181-a044-420e-b84f-6712a38bf129",
   "metadata": {},
   "source": [
    "### 6. Cuéntale al cliente un mensaje clave ... \n",
    "... sobre que tipo de cosas tienen más en cuenta los clientes: `Si no quieres una mala review no sirvas comida fría`"
   ]
  },
  {
   "cell_type": "code",
   "execution_count": null,
   "id": "aebde0c7-c450-4da6-bb34-33b27c141eaa",
   "metadata": {},
   "outputs": [],
   "source": []
  }
 ],
 "metadata": {
  "kernelspec": {
   "display_name": "musi-aa",
   "language": "python",
   "name": "musi-aa"
  },
  "language_info": {
   "codemirror_mode": {
    "name": "ipython",
    "version": 3
   },
   "file_extension": ".py",
   "mimetype": "text/x-python",
   "name": "python",
   "nbconvert_exporter": "python",
   "pygments_lexer": "ipython3",
   "version": "3.7.11"
  },
  "varInspector": {
   "cols": {
    "lenName": 16,
    "lenType": 16,
    "lenVar": 40
   },
   "kernels_config": {
    "python": {
     "delete_cmd_postfix": "",
     "delete_cmd_prefix": "del ",
     "library": "var_list.py",
     "varRefreshCmd": "print(var_dic_list())"
    },
    "r": {
     "delete_cmd_postfix": ") ",
     "delete_cmd_prefix": "rm(",
     "library": "var_list.r",
     "varRefreshCmd": "cat(var_dic_list()) "
    }
   },
   "types_to_exclude": [
    "module",
    "function",
    "builtin_function_or_method",
    "instance",
    "_Feature"
   ],
   "window_display": false
  }
 },
 "nbformat": 4,
 "nbformat_minor": 5
}
