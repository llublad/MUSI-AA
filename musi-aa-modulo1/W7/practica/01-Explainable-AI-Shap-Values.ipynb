{
 "cells": [
  {
   "cell_type": "markdown",
   "metadata": {},
   "source": [
    "# Shap Values\n",
    "\n",
    "La interpretabilidad de los modelos es un \"tema caliente\", en muchas ocasiones no podremos entregar un modelo que sea una caja negra, donde no podamos explicar que está pasando realmente. \n",
    "\n",
    "En ciertas aréas es particularmente dificil adoptar modelos que sean cajas negras (medicina, banca, ... ), por lo tanto, cuanto mejor sea la interpretabilidad del modelo, mejor adopción tendremos.\n",
    "\n",
    "Para conseguir esta interpretabilidad de los modelos, podemos utilizar distintas herramientas: \n",
    "\n",
    "  - **Shap Values**\n",
    "  - Lime\n",
    "  - InterpretML\n",
    "  - ELI5\n",
    "  \n",
    "A lo largo de este tema nos vamos a centrar en la primera, los SHAP Values."
   ]
  },
  {
   "cell_type": "markdown",
   "metadata": {},
   "source": [
    "![](img/shap.svg)"
   ]
  },
  {
   "cell_type": "markdown",
   "metadata": {},
   "source": [
    "SHAP significa **SHapley Additive exPlanations**, de este modo, para entender que son los SHAP values tenemos que saber que es un Shapley value. \n",
    "\n",
    "Un SHapley value es la media de las contribuciones marginales de cada elemento en las diferentes permutaciones de estos [Definicion matemática](https://math.stackexchange.com/questions/111580/shapley-value-formula#:~:text=I%20understand%20Shapley%20value%20in,%E2%88%92v(s)).\n",
    "\n",
    "Una vez conocemos que es un SHapley value, vamos a ver que es SHAP:\n",
    "\n",
    "[Lundberg & Lee (2016)](https://papers.nips.cc/paper/2017/file/8a20a8621978632d76c43dfd28b67767-Paper.pdf) propusieron el SHAP value como una aproximación unida para explicar los resultados de cualquier modelo de machine learning, otorgandonos los siguientes beneficios: \n",
    "\n",
    "1. Interpretabilidad global. Los valores agregados de SHAP values nos indica cuanto contribuye cada predictor.\n",
    "1. Interpretabilidad local. Cada observacion tiene su conjunto de SHAP values, lo que nos da transparencia.\n",
    "1. Posibilidad de calcular SHAP para cualquier modelo basado en árboles.\n",
    "\n",
    "Dicho esto, vamos a ver como visualizar la explicabilidad de los modelos con SHAP en python."
   ]
  },
  {
   "cell_type": "markdown",
   "metadata": {},
   "source": [
    "## 1 - importamos las librerías de base"
   ]
  },
  {
   "cell_type": "code",
   "execution_count": 1,
   "metadata": {},
   "outputs": [
    {
     "ename": "ModuleNotFoundError",
     "evalue": "No module named 'seaborn'",
     "output_type": "error",
     "traceback": [
      "\u001b[0;31m---------------------------------------------------------------------------\u001b[0m",
      "\u001b[0;31mModuleNotFoundError\u001b[0m                       Traceback (most recent call last)",
      "\u001b[0;32m/tmp/ipykernel_120629/3588133451.py\u001b[0m in \u001b[0;36m<module>\u001b[0;34m\u001b[0m\n\u001b[1;32m      3\u001b[0m \u001b[0;32mimport\u001b[0m \u001b[0mnumpy\u001b[0m \u001b[0;32mas\u001b[0m \u001b[0mnp\u001b[0m\u001b[0;34m\u001b[0m\u001b[0;34m\u001b[0m\u001b[0m\n\u001b[1;32m      4\u001b[0m \u001b[0;32mimport\u001b[0m \u001b[0mmatplotlib\u001b[0m\u001b[0;34m.\u001b[0m\u001b[0mpyplot\u001b[0m \u001b[0;32mas\u001b[0m \u001b[0mplt\u001b[0m\u001b[0;34m\u001b[0m\u001b[0;34m\u001b[0m\u001b[0m\n\u001b[0;32m----> 5\u001b[0;31m \u001b[0;32mimport\u001b[0m \u001b[0mseaborn\u001b[0m \u001b[0;32mas\u001b[0m \u001b[0msns\u001b[0m\u001b[0;34m\u001b[0m\u001b[0;34m\u001b[0m\u001b[0m\n\u001b[0m\u001b[1;32m      6\u001b[0m \u001b[0;34m\u001b[0m\u001b[0m\n\u001b[1;32m      7\u001b[0m \u001b[0;31m## sklearn: train test split, RandomForestRegressor, y mean_squared_error\u001b[0m\u001b[0;34m\u001b[0m\u001b[0;34m\u001b[0m\u001b[0;34m\u001b[0m\u001b[0m\n",
      "\u001b[0;31mModuleNotFoundError\u001b[0m: No module named 'seaborn'"
     ]
    }
   ],
   "source": [
    "## common libraries for Data Wrangling and visualization\n",
    "import pandas as pd\n",
    "import numpy as np\n",
    "import matplotlib.pyplot as plt\n",
    "import seaborn as sns\n",
    "\n",
    "## sklearn: train test split, RandomForestRegressor, y mean_squared_error\n",
    "from sklearn.model_selection import train_test_split\n",
    "from sklearn.ensemble import RandomForestRegressor\n",
    "from sklearn.metrics import mean_squared_error\n",
    "\n",
    "## import shap\n",
    "import shap"
   ]
  },
  {
   "cell_type": "markdown",
   "metadata": {},
   "source": [
    "## Carga los datos en un df"
   ]
  },
  {
   "cell_type": "code",
   "execution_count": null,
   "metadata": {},
   "outputs": [],
   "source": [
    "df = pd.read_csv('data/winequality-red.csv', sep=';')"
   ]
  },
  {
   "cell_type": "code",
   "execution_count": null,
   "metadata": {},
   "outputs": [],
   "source": [
    "df.sample(10)"
   ]
  },
  {
   "cell_type": "markdown",
   "metadata": {},
   "source": [
    "## Separar los datos en train + test (80% - 20%)"
   ]
  },
  {
   "cell_type": "code",
   "execution_count": null,
   "metadata": {},
   "outputs": [],
   "source": [
    "X_train, X_test, y_train, y_test = train_test_split(df.drop(columns=[\"quality\"]),\n",
    "                                                    df['quality'],\n",
    "                                                    test_size = 0.20,\n",
    "                                                    random_state=0)"
   ]
  },
  {
   "cell_type": "markdown",
   "metadata": {},
   "source": [
    "## Entrerna un RandomForestRegressor como modelo para predecir la calidad del vino"
   ]
  },
  {
   "cell_type": "code",
   "execution_count": null,
   "metadata": {},
   "outputs": [],
   "source": [
    "model = RandomForestRegressor(n_estimators=100,\n",
    "                              max_depth=4,\n",
    "                              random_state=0)\n",
    "\n",
    "## fit model with train data\n",
    "model.fit(X_train, y_train)"
   ]
  },
  {
   "cell_type": "markdown",
   "metadata": {},
   "source": [
    "## Evalua in-sample y out-of-sample para comprobar que no estamos cometiendo overfitting"
   ]
  },
  {
   "cell_type": "code",
   "execution_count": null,
   "metadata": {},
   "outputs": [],
   "source": [
    "y_pred_train = model.predict(X_train)\n",
    "y_pred_test = model.predict(X_test)\n",
    "\n",
    "mae_in_sample = np.sqrt(mean_squared_error(y_true=y_train, y_pred=y_pred_train))\n",
    "mae_out_of_sample = np.sqrt(mean_squared_error(y_true=y_test, y_pred=y_pred_test))"
   ]
  },
  {
   "cell_type": "code",
   "execution_count": null,
   "metadata": {},
   "outputs": [],
   "source": [
    "print(f'In sample error: {mae_in_sample}')\n",
    "print(f'Out sample error: {mae_out_of_sample}')"
   ]
  },
  {
   "cell_type": "markdown",
   "metadata": {},
   "source": [
    "## Visualiza la importancia de las características que devuelve el `Random Forest`"
   ]
  },
  {
   "cell_type": "code",
   "execution_count": null,
   "metadata": {},
   "outputs": [],
   "source": [
    "importances = model.feature_importances_\n",
    "features = X_train.columns\n",
    "\n",
    "feat_importance = pd.DataFrame({'feature': features, 'importance': importances})"
   ]
  },
  {
   "cell_type": "code",
   "execution_count": null,
   "metadata": {},
   "outputs": [],
   "source": [
    "feat_importance.set_index('feature')['importance'].sort_values().plot(kind='barh')"
   ]
  },
  {
   "cell_type": "markdown",
   "metadata": {},
   "source": [
    "# Inspección de modelo usando SHAP"
   ]
  },
  {
   "cell_type": "markdown",
   "metadata": {},
   "source": [
    "Ahora vamos a ver lo que podemos obtener con SHAP, y si en primera instancia los valores son similares:"
   ]
  },
  {
   "cell_type": "code",
   "execution_count": null,
   "metadata": {},
   "outputs": [],
   "source": [
    "explainer = shap.Explainer(model=model)"
   ]
  },
  {
   "cell_type": "code",
   "execution_count": null,
   "metadata": {},
   "outputs": [],
   "source": [
    "shap_values = explainer(X_train)"
   ]
  },
  {
   "cell_type": "markdown",
   "metadata": {},
   "source": [
    "## Feature importance"
   ]
  },
  {
   "cell_type": "code",
   "execution_count": null,
   "metadata": {},
   "outputs": [],
   "source": [
    "shap.plots.bar(shap_values)"
   ]
  },
  {
   "cell_type": "markdown",
   "metadata": {},
   "source": [
    "Vemos algún cambio menor, pero en lineas generales los valores son similares, pero de momento, no estamos ganando nada con respecto a la importancia de las variables que nos otorga RandomForest.\n",
    "\n",
    "Una cosa que podemos hacer con SHAP es obtener el signo del impacto, es decir, saber si las variables tienen un impacto positivo o negativo en el resultado final, vamos a verlo: "
   ]
  },
  {
   "cell_type": "markdown",
   "metadata": {},
   "source": [
    "## Summary plot"
   ]
  },
  {
   "cell_type": "code",
   "execution_count": null,
   "metadata": {},
   "outputs": [],
   "source": [
    "shap.summary_plot(shap_values=shap_values)"
   ]
  },
  {
   "cell_type": "markdown",
   "metadata": {},
   "source": [
    "En este grafico podemos ver la siguiente información: \n",
    "\n",
    "- El eje vertical muestra la importancia de la variable \n",
    "- El eje horizontal muestra el efecto de cada punto para la predicción\n",
    "- El color muestra si el valor de la variable fue alto o bajo\n",
    "\n",
    "De este modo podemos empezar a entender nuestro modelo, sabiendo por ejemplo que un buen vino tiene: \n",
    "\n",
    "  - Alto contenido en alcohol\n",
    "  - Alto contenido en sulfatos\n",
    "  - Baja volatilidad con la acided\n",
    "  - Bajo ph\n",
    "  - ..."
   ]
  },
  {
   "cell_type": "markdown",
   "metadata": {},
   "source": [
    "Pero todavía podemos ir mas allá y entender los impactos directos de cada una de las features a una predicción.."
   ]
  },
  {
   "cell_type": "code",
   "execution_count": null,
   "metadata": {
    "scrolled": true
   },
   "outputs": [],
   "source": [
    "# Carrega codi JS per a poder representar el diagrama\n",
    "shap.initjs()"
   ]
  },
  {
   "cell_type": "code",
   "execution_count": null,
   "metadata": {},
   "outputs": [],
   "source": [
    "shap.plots.force(shap_values[0])  ## el índice es el número de línea del ejemplo del dataset"
   ]
  },
  {
   "cell_type": "code",
   "execution_count": null,
   "metadata": {},
   "outputs": [],
   "source": [
    "shap.plots.force(shap_values[3])  ## el índice es el número de línea del ejemplo del dataset"
   ]
  },
  {
   "cell_type": "code",
   "execution_count": null,
   "metadata": {},
   "outputs": [],
   "source": [
    "df.describe()"
   ]
  }
 ],
 "metadata": {
  "kernelspec": {
   "display_name": "musi-aa",
   "language": "python",
   "name": "musi-aa"
  },
  "language_info": {
   "codemirror_mode": {
    "name": "ipython",
    "version": 3
   },
   "file_extension": ".py",
   "mimetype": "text/x-python",
   "name": "python",
   "nbconvert_exporter": "python",
   "pygments_lexer": "ipython3",
   "version": "3.7.11"
  },
  "varInspector": {
   "cols": {
    "lenName": 16,
    "lenType": 16,
    "lenVar": 40
   },
   "kernels_config": {
    "python": {
     "delete_cmd_postfix": "",
     "delete_cmd_prefix": "del ",
     "library": "var_list.py",
     "varRefreshCmd": "print(var_dic_list())"
    },
    "r": {
     "delete_cmd_postfix": ") ",
     "delete_cmd_prefix": "rm(",
     "library": "var_list.r",
     "varRefreshCmd": "cat(var_dic_list()) "
    }
   },
   "types_to_exclude": [
    "module",
    "function",
    "builtin_function_or_method",
    "instance",
    "_Feature"
   ],
   "window_display": false
  }
 },
 "nbformat": 4,
 "nbformat_minor": 4
}
